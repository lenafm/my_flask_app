{
 "cells": [
  {
   "cell_type": "code",
   "execution_count": 8,
   "metadata": {},
   "outputs": [],
   "source": [
    "import pandas as pd\n",
    "import plotly.express as px\n",
    "\n",
    "# Load the CSV data\n",
    "df = pd.read_csv('/Users/miriam/Documents/GitHub/dsa_hw4/uk_data_202405051509.csv')\n",
    "\n",
    "# List of columns representing political party votes\n",
    "party_columns = [\n",
    "    'ConVote19', 'LabVote19', 'LDVote19', 'SNPVote19', 'PCVote19',\n",
    "    'UKIPVote19', 'GreenVote19', 'BrexitVote19'\n",
    "]\n",
    "\n",
    "# Including total votes for clarity\n",
    "df['TotalVote19'] = df[party_columns].sum(axis=1)\n",
    "\n"
   ]
  },
  {
   "cell_type": "code",
   "execution_count": 9,
   "metadata": {},
   "outputs": [
    {
     "data": {
      "application/vnd.plotly.v1+json": {
       "config": {
        "plotlyServerURL": "https://plot.ly"
       },
       "data": [
        {
         "alignmentgroup": "True",
         "hovertemplate": "index=%{x}<br>y=%{y}<extra></extra>",
         "legendgroup": "",
         "marker": {
          "color": "#636efa",
          "pattern": {
           "shape": ""
          }
         },
         "name": "",
         "offsetgroup": "",
         "orientation": "v",
         "showlegend": false,
         "textposition": "auto",
         "type": "bar",
         "x": [
          "ConVote19",
          "LabVote19",
          "LDVote19",
          "SNPVote19",
          "PCVote19",
          "UKIPVote19",
          "GreenVote19",
          "BrexitVote19",
          "TotalVote19"
         ],
         "xaxis": "x",
         "y": [
          557234,
          632035,
          92171,
          0,
          153265,
          0,
          15828,
          83908,
          1534441
         ],
         "yaxis": "y"
        }
       ],
       "layout": {
        "barmode": "relative",
        "legend": {
         "tracegroupgap": 0
        },
        "template": {
         "data": {
          "bar": [
           {
            "error_x": {
             "color": "#2a3f5f"
            },
            "error_y": {
             "color": "#2a3f5f"
            },
            "marker": {
             "line": {
              "color": "#E5ECF6",
              "width": 0.5
             },
             "pattern": {
              "fillmode": "overlay",
              "size": 10,
              "solidity": 0.2
             }
            },
            "type": "bar"
           }
          ],
          "barpolar": [
           {
            "marker": {
             "line": {
              "color": "#E5ECF6",
              "width": 0.5
             },
             "pattern": {
              "fillmode": "overlay",
              "size": 10,
              "solidity": 0.2
             }
            },
            "type": "barpolar"
           }
          ],
          "carpet": [
           {
            "aaxis": {
             "endlinecolor": "#2a3f5f",
             "gridcolor": "white",
             "linecolor": "white",
             "minorgridcolor": "white",
             "startlinecolor": "#2a3f5f"
            },
            "baxis": {
             "endlinecolor": "#2a3f5f",
             "gridcolor": "white",
             "linecolor": "white",
             "minorgridcolor": "white",
             "startlinecolor": "#2a3f5f"
            },
            "type": "carpet"
           }
          ],
          "choropleth": [
           {
            "colorbar": {
             "outlinewidth": 0,
             "ticks": ""
            },
            "type": "choropleth"
           }
          ],
          "contour": [
           {
            "colorbar": {
             "outlinewidth": 0,
             "ticks": ""
            },
            "colorscale": [
             [
              0,
              "#0d0887"
             ],
             [
              0.1111111111111111,
              "#46039f"
             ],
             [
              0.2222222222222222,
              "#7201a8"
             ],
             [
              0.3333333333333333,
              "#9c179e"
             ],
             [
              0.4444444444444444,
              "#bd3786"
             ],
             [
              0.5555555555555556,
              "#d8576b"
             ],
             [
              0.6666666666666666,
              "#ed7953"
             ],
             [
              0.7777777777777778,
              "#fb9f3a"
             ],
             [
              0.8888888888888888,
              "#fdca26"
             ],
             [
              1,
              "#f0f921"
             ]
            ],
            "type": "contour"
           }
          ],
          "contourcarpet": [
           {
            "colorbar": {
             "outlinewidth": 0,
             "ticks": ""
            },
            "type": "contourcarpet"
           }
          ],
          "heatmap": [
           {
            "colorbar": {
             "outlinewidth": 0,
             "ticks": ""
            },
            "colorscale": [
             [
              0,
              "#0d0887"
             ],
             [
              0.1111111111111111,
              "#46039f"
             ],
             [
              0.2222222222222222,
              "#7201a8"
             ],
             [
              0.3333333333333333,
              "#9c179e"
             ],
             [
              0.4444444444444444,
              "#bd3786"
             ],
             [
              0.5555555555555556,
              "#d8576b"
             ],
             [
              0.6666666666666666,
              "#ed7953"
             ],
             [
              0.7777777777777778,
              "#fb9f3a"
             ],
             [
              0.8888888888888888,
              "#fdca26"
             ],
             [
              1,
              "#f0f921"
             ]
            ],
            "type": "heatmap"
           }
          ],
          "heatmapgl": [
           {
            "colorbar": {
             "outlinewidth": 0,
             "ticks": ""
            },
            "colorscale": [
             [
              0,
              "#0d0887"
             ],
             [
              0.1111111111111111,
              "#46039f"
             ],
             [
              0.2222222222222222,
              "#7201a8"
             ],
             [
              0.3333333333333333,
              "#9c179e"
             ],
             [
              0.4444444444444444,
              "#bd3786"
             ],
             [
              0.5555555555555556,
              "#d8576b"
             ],
             [
              0.6666666666666666,
              "#ed7953"
             ],
             [
              0.7777777777777778,
              "#fb9f3a"
             ],
             [
              0.8888888888888888,
              "#fdca26"
             ],
             [
              1,
              "#f0f921"
             ]
            ],
            "type": "heatmapgl"
           }
          ],
          "histogram": [
           {
            "marker": {
             "pattern": {
              "fillmode": "overlay",
              "size": 10,
              "solidity": 0.2
             }
            },
            "type": "histogram"
           }
          ],
          "histogram2d": [
           {
            "colorbar": {
             "outlinewidth": 0,
             "ticks": ""
            },
            "colorscale": [
             [
              0,
              "#0d0887"
             ],
             [
              0.1111111111111111,
              "#46039f"
             ],
             [
              0.2222222222222222,
              "#7201a8"
             ],
             [
              0.3333333333333333,
              "#9c179e"
             ],
             [
              0.4444444444444444,
              "#bd3786"
             ],
             [
              0.5555555555555556,
              "#d8576b"
             ],
             [
              0.6666666666666666,
              "#ed7953"
             ],
             [
              0.7777777777777778,
              "#fb9f3a"
             ],
             [
              0.8888888888888888,
              "#fdca26"
             ],
             [
              1,
              "#f0f921"
             ]
            ],
            "type": "histogram2d"
           }
          ],
          "histogram2dcontour": [
           {
            "colorbar": {
             "outlinewidth": 0,
             "ticks": ""
            },
            "colorscale": [
             [
              0,
              "#0d0887"
             ],
             [
              0.1111111111111111,
              "#46039f"
             ],
             [
              0.2222222222222222,
              "#7201a8"
             ],
             [
              0.3333333333333333,
              "#9c179e"
             ],
             [
              0.4444444444444444,
              "#bd3786"
             ],
             [
              0.5555555555555556,
              "#d8576b"
             ],
             [
              0.6666666666666666,
              "#ed7953"
             ],
             [
              0.7777777777777778,
              "#fb9f3a"
             ],
             [
              0.8888888888888888,
              "#fdca26"
             ],
             [
              1,
              "#f0f921"
             ]
            ],
            "type": "histogram2dcontour"
           }
          ],
          "mesh3d": [
           {
            "colorbar": {
             "outlinewidth": 0,
             "ticks": ""
            },
            "type": "mesh3d"
           }
          ],
          "parcoords": [
           {
            "line": {
             "colorbar": {
              "outlinewidth": 0,
              "ticks": ""
             }
            },
            "type": "parcoords"
           }
          ],
          "pie": [
           {
            "automargin": true,
            "type": "pie"
           }
          ],
          "scatter": [
           {
            "fillpattern": {
             "fillmode": "overlay",
             "size": 10,
             "solidity": 0.2
            },
            "type": "scatter"
           }
          ],
          "scatter3d": [
           {
            "line": {
             "colorbar": {
              "outlinewidth": 0,
              "ticks": ""
             }
            },
            "marker": {
             "colorbar": {
              "outlinewidth": 0,
              "ticks": ""
             }
            },
            "type": "scatter3d"
           }
          ],
          "scattercarpet": [
           {
            "marker": {
             "colorbar": {
              "outlinewidth": 0,
              "ticks": ""
             }
            },
            "type": "scattercarpet"
           }
          ],
          "scattergeo": [
           {
            "marker": {
             "colorbar": {
              "outlinewidth": 0,
              "ticks": ""
             }
            },
            "type": "scattergeo"
           }
          ],
          "scattergl": [
           {
            "marker": {
             "colorbar": {
              "outlinewidth": 0,
              "ticks": ""
             }
            },
            "type": "scattergl"
           }
          ],
          "scattermapbox": [
           {
            "marker": {
             "colorbar": {
              "outlinewidth": 0,
              "ticks": ""
             }
            },
            "type": "scattermapbox"
           }
          ],
          "scatterpolar": [
           {
            "marker": {
             "colorbar": {
              "outlinewidth": 0,
              "ticks": ""
             }
            },
            "type": "scatterpolar"
           }
          ],
          "scatterpolargl": [
           {
            "marker": {
             "colorbar": {
              "outlinewidth": 0,
              "ticks": ""
             }
            },
            "type": "scatterpolargl"
           }
          ],
          "scatterternary": [
           {
            "marker": {
             "colorbar": {
              "outlinewidth": 0,
              "ticks": ""
             }
            },
            "type": "scatterternary"
           }
          ],
          "surface": [
           {
            "colorbar": {
             "outlinewidth": 0,
             "ticks": ""
            },
            "colorscale": [
             [
              0,
              "#0d0887"
             ],
             [
              0.1111111111111111,
              "#46039f"
             ],
             [
              0.2222222222222222,
              "#7201a8"
             ],
             [
              0.3333333333333333,
              "#9c179e"
             ],
             [
              0.4444444444444444,
              "#bd3786"
             ],
             [
              0.5555555555555556,
              "#d8576b"
             ],
             [
              0.6666666666666666,
              "#ed7953"
             ],
             [
              0.7777777777777778,
              "#fb9f3a"
             ],
             [
              0.8888888888888888,
              "#fdca26"
             ],
             [
              1,
              "#f0f921"
             ]
            ],
            "type": "surface"
           }
          ],
          "table": [
           {
            "cells": {
             "fill": {
              "color": "#EBF0F8"
             },
             "line": {
              "color": "white"
             }
            },
            "header": {
             "fill": {
              "color": "#C8D4E3"
             },
             "line": {
              "color": "white"
             }
            },
            "type": "table"
           }
          ]
         },
         "layout": {
          "annotationdefaults": {
           "arrowcolor": "#2a3f5f",
           "arrowhead": 0,
           "arrowwidth": 1
          },
          "autotypenumbers": "strict",
          "coloraxis": {
           "colorbar": {
            "outlinewidth": 0,
            "ticks": ""
           }
          },
          "colorscale": {
           "diverging": [
            [
             0,
             "#8e0152"
            ],
            [
             0.1,
             "#c51b7d"
            ],
            [
             0.2,
             "#de77ae"
            ],
            [
             0.3,
             "#f1b6da"
            ],
            [
             0.4,
             "#fde0ef"
            ],
            [
             0.5,
             "#f7f7f7"
            ],
            [
             0.6,
             "#e6f5d0"
            ],
            [
             0.7,
             "#b8e186"
            ],
            [
             0.8,
             "#7fbc41"
            ],
            [
             0.9,
             "#4d9221"
            ],
            [
             1,
             "#276419"
            ]
           ],
           "sequential": [
            [
             0,
             "#0d0887"
            ],
            [
             0.1111111111111111,
             "#46039f"
            ],
            [
             0.2222222222222222,
             "#7201a8"
            ],
            [
             0.3333333333333333,
             "#9c179e"
            ],
            [
             0.4444444444444444,
             "#bd3786"
            ],
            [
             0.5555555555555556,
             "#d8576b"
            ],
            [
             0.6666666666666666,
             "#ed7953"
            ],
            [
             0.7777777777777778,
             "#fb9f3a"
            ],
            [
             0.8888888888888888,
             "#fdca26"
            ],
            [
             1,
             "#f0f921"
            ]
           ],
           "sequentialminus": [
            [
             0,
             "#0d0887"
            ],
            [
             0.1111111111111111,
             "#46039f"
            ],
            [
             0.2222222222222222,
             "#7201a8"
            ],
            [
             0.3333333333333333,
             "#9c179e"
            ],
            [
             0.4444444444444444,
             "#bd3786"
            ],
            [
             0.5555555555555556,
             "#d8576b"
            ],
            [
             0.6666666666666666,
             "#ed7953"
            ],
            [
             0.7777777777777778,
             "#fb9f3a"
            ],
            [
             0.8888888888888888,
             "#fdca26"
            ],
            [
             1,
             "#f0f921"
            ]
           ]
          },
          "colorway": [
           "#636efa",
           "#EF553B",
           "#00cc96",
           "#ab63fa",
           "#FFA15A",
           "#19d3f3",
           "#FF6692",
           "#B6E880",
           "#FF97FF",
           "#FECB52"
          ],
          "font": {
           "color": "#2a3f5f"
          },
          "geo": {
           "bgcolor": "white",
           "lakecolor": "white",
           "landcolor": "#E5ECF6",
           "showlakes": true,
           "showland": true,
           "subunitcolor": "white"
          },
          "hoverlabel": {
           "align": "left"
          },
          "hovermode": "closest",
          "mapbox": {
           "style": "light"
          },
          "paper_bgcolor": "white",
          "plot_bgcolor": "#E5ECF6",
          "polar": {
           "angularaxis": {
            "gridcolor": "white",
            "linecolor": "white",
            "ticks": ""
           },
           "bgcolor": "#E5ECF6",
           "radialaxis": {
            "gridcolor": "white",
            "linecolor": "white",
            "ticks": ""
           }
          },
          "scene": {
           "xaxis": {
            "backgroundcolor": "#E5ECF6",
            "gridcolor": "white",
            "gridwidth": 2,
            "linecolor": "white",
            "showbackground": true,
            "ticks": "",
            "zerolinecolor": "white"
           },
           "yaxis": {
            "backgroundcolor": "#E5ECF6",
            "gridcolor": "white",
            "gridwidth": 2,
            "linecolor": "white",
            "showbackground": true,
            "ticks": "",
            "zerolinecolor": "white"
           },
           "zaxis": {
            "backgroundcolor": "#E5ECF6",
            "gridcolor": "white",
            "gridwidth": 2,
            "linecolor": "white",
            "showbackground": true,
            "ticks": "",
            "zerolinecolor": "white"
           }
          },
          "shapedefaults": {
           "line": {
            "color": "#2a3f5f"
           }
          },
          "ternary": {
           "aaxis": {
            "gridcolor": "white",
            "linecolor": "white",
            "ticks": ""
           },
           "baxis": {
            "gridcolor": "white",
            "linecolor": "white",
            "ticks": ""
           },
           "bgcolor": "#E5ECF6",
           "caxis": {
            "gridcolor": "white",
            "linecolor": "white",
            "ticks": ""
           }
          },
          "title": {
           "x": 0.05
          },
          "xaxis": {
           "automargin": true,
           "gridcolor": "white",
           "linecolor": "white",
           "ticks": "",
           "title": {
            "standoff": 15
           },
           "zerolinecolor": "white",
           "zerolinewidth": 2
          },
          "yaxis": {
           "automargin": true,
           "gridcolor": "white",
           "linecolor": "white",
           "ticks": "",
           "title": {
            "standoff": 15
           },
           "zerolinecolor": "white",
           "zerolinewidth": 2
          }
         }
        },
        "title": {
         "text": "Voter Turnout in Wales"
        },
        "xaxis": {
         "anchor": "y",
         "domain": [
          0,
          1
         ],
         "title": {
          "text": "index"
         }
        },
        "yaxis": {
         "anchor": "x",
         "domain": [
          0,
          1
         ],
         "title": {
          "text": "y"
         }
        }
       }
      }
     },
     "metadata": {},
     "output_type": "display_data"
    },
    {
     "data": {
      "application/vnd.plotly.v1+json": {
       "config": {
        "plotlyServerURL": "https://plot.ly"
       },
       "data": [
        {
         "alignmentgroup": "True",
         "hovertemplate": "index=%{x}<br>y=%{y}<extra></extra>",
         "legendgroup": "",
         "marker": {
          "color": "#636efa",
          "pattern": {
           "shape": ""
          }
         },
         "name": "",
         "offsetgroup": "",
         "orientation": "v",
         "showlegend": false,
         "textposition": "auto",
         "type": "bar",
         "x": [
          "ConVote19",
          "LabVote19",
          "LDVote19",
          "SNPVote19",
          "PCVote19",
          "UKIPVote19",
          "GreenVote19",
          "BrexitVote19",
          "TotalVote19"
         ],
         "xaxis": "x",
         "y": [
          692939,
          511838,
          263417,
          1242380,
          0,
          3303,
          28122,
          13243,
          2755242
         ],
         "yaxis": "y"
        }
       ],
       "layout": {
        "barmode": "relative",
        "legend": {
         "tracegroupgap": 0
        },
        "template": {
         "data": {
          "bar": [
           {
            "error_x": {
             "color": "#2a3f5f"
            },
            "error_y": {
             "color": "#2a3f5f"
            },
            "marker": {
             "line": {
              "color": "#E5ECF6",
              "width": 0.5
             },
             "pattern": {
              "fillmode": "overlay",
              "size": 10,
              "solidity": 0.2
             }
            },
            "type": "bar"
           }
          ],
          "barpolar": [
           {
            "marker": {
             "line": {
              "color": "#E5ECF6",
              "width": 0.5
             },
             "pattern": {
              "fillmode": "overlay",
              "size": 10,
              "solidity": 0.2
             }
            },
            "type": "barpolar"
           }
          ],
          "carpet": [
           {
            "aaxis": {
             "endlinecolor": "#2a3f5f",
             "gridcolor": "white",
             "linecolor": "white",
             "minorgridcolor": "white",
             "startlinecolor": "#2a3f5f"
            },
            "baxis": {
             "endlinecolor": "#2a3f5f",
             "gridcolor": "white",
             "linecolor": "white",
             "minorgridcolor": "white",
             "startlinecolor": "#2a3f5f"
            },
            "type": "carpet"
           }
          ],
          "choropleth": [
           {
            "colorbar": {
             "outlinewidth": 0,
             "ticks": ""
            },
            "type": "choropleth"
           }
          ],
          "contour": [
           {
            "colorbar": {
             "outlinewidth": 0,
             "ticks": ""
            },
            "colorscale": [
             [
              0,
              "#0d0887"
             ],
             [
              0.1111111111111111,
              "#46039f"
             ],
             [
              0.2222222222222222,
              "#7201a8"
             ],
             [
              0.3333333333333333,
              "#9c179e"
             ],
             [
              0.4444444444444444,
              "#bd3786"
             ],
             [
              0.5555555555555556,
              "#d8576b"
             ],
             [
              0.6666666666666666,
              "#ed7953"
             ],
             [
              0.7777777777777778,
              "#fb9f3a"
             ],
             [
              0.8888888888888888,
              "#fdca26"
             ],
             [
              1,
              "#f0f921"
             ]
            ],
            "type": "contour"
           }
          ],
          "contourcarpet": [
           {
            "colorbar": {
             "outlinewidth": 0,
             "ticks": ""
            },
            "type": "contourcarpet"
           }
          ],
          "heatmap": [
           {
            "colorbar": {
             "outlinewidth": 0,
             "ticks": ""
            },
            "colorscale": [
             [
              0,
              "#0d0887"
             ],
             [
              0.1111111111111111,
              "#46039f"
             ],
             [
              0.2222222222222222,
              "#7201a8"
             ],
             [
              0.3333333333333333,
              "#9c179e"
             ],
             [
              0.4444444444444444,
              "#bd3786"
             ],
             [
              0.5555555555555556,
              "#d8576b"
             ],
             [
              0.6666666666666666,
              "#ed7953"
             ],
             [
              0.7777777777777778,
              "#fb9f3a"
             ],
             [
              0.8888888888888888,
              "#fdca26"
             ],
             [
              1,
              "#f0f921"
             ]
            ],
            "type": "heatmap"
           }
          ],
          "heatmapgl": [
           {
            "colorbar": {
             "outlinewidth": 0,
             "ticks": ""
            },
            "colorscale": [
             [
              0,
              "#0d0887"
             ],
             [
              0.1111111111111111,
              "#46039f"
             ],
             [
              0.2222222222222222,
              "#7201a8"
             ],
             [
              0.3333333333333333,
              "#9c179e"
             ],
             [
              0.4444444444444444,
              "#bd3786"
             ],
             [
              0.5555555555555556,
              "#d8576b"
             ],
             [
              0.6666666666666666,
              "#ed7953"
             ],
             [
              0.7777777777777778,
              "#fb9f3a"
             ],
             [
              0.8888888888888888,
              "#fdca26"
             ],
             [
              1,
              "#f0f921"
             ]
            ],
            "type": "heatmapgl"
           }
          ],
          "histogram": [
           {
            "marker": {
             "pattern": {
              "fillmode": "overlay",
              "size": 10,
              "solidity": 0.2
             }
            },
            "type": "histogram"
           }
          ],
          "histogram2d": [
           {
            "colorbar": {
             "outlinewidth": 0,
             "ticks": ""
            },
            "colorscale": [
             [
              0,
              "#0d0887"
             ],
             [
              0.1111111111111111,
              "#46039f"
             ],
             [
              0.2222222222222222,
              "#7201a8"
             ],
             [
              0.3333333333333333,
              "#9c179e"
             ],
             [
              0.4444444444444444,
              "#bd3786"
             ],
             [
              0.5555555555555556,
              "#d8576b"
             ],
             [
              0.6666666666666666,
              "#ed7953"
             ],
             [
              0.7777777777777778,
              "#fb9f3a"
             ],
             [
              0.8888888888888888,
              "#fdca26"
             ],
             [
              1,
              "#f0f921"
             ]
            ],
            "type": "histogram2d"
           }
          ],
          "histogram2dcontour": [
           {
            "colorbar": {
             "outlinewidth": 0,
             "ticks": ""
            },
            "colorscale": [
             [
              0,
              "#0d0887"
             ],
             [
              0.1111111111111111,
              "#46039f"
             ],
             [
              0.2222222222222222,
              "#7201a8"
             ],
             [
              0.3333333333333333,
              "#9c179e"
             ],
             [
              0.4444444444444444,
              "#bd3786"
             ],
             [
              0.5555555555555556,
              "#d8576b"
             ],
             [
              0.6666666666666666,
              "#ed7953"
             ],
             [
              0.7777777777777778,
              "#fb9f3a"
             ],
             [
              0.8888888888888888,
              "#fdca26"
             ],
             [
              1,
              "#f0f921"
             ]
            ],
            "type": "histogram2dcontour"
           }
          ],
          "mesh3d": [
           {
            "colorbar": {
             "outlinewidth": 0,
             "ticks": ""
            },
            "type": "mesh3d"
           }
          ],
          "parcoords": [
           {
            "line": {
             "colorbar": {
              "outlinewidth": 0,
              "ticks": ""
             }
            },
            "type": "parcoords"
           }
          ],
          "pie": [
           {
            "automargin": true,
            "type": "pie"
           }
          ],
          "scatter": [
           {
            "fillpattern": {
             "fillmode": "overlay",
             "size": 10,
             "solidity": 0.2
            },
            "type": "scatter"
           }
          ],
          "scatter3d": [
           {
            "line": {
             "colorbar": {
              "outlinewidth": 0,
              "ticks": ""
             }
            },
            "marker": {
             "colorbar": {
              "outlinewidth": 0,
              "ticks": ""
             }
            },
            "type": "scatter3d"
           }
          ],
          "scattercarpet": [
           {
            "marker": {
             "colorbar": {
              "outlinewidth": 0,
              "ticks": ""
             }
            },
            "type": "scattercarpet"
           }
          ],
          "scattergeo": [
           {
            "marker": {
             "colorbar": {
              "outlinewidth": 0,
              "ticks": ""
             }
            },
            "type": "scattergeo"
           }
          ],
          "scattergl": [
           {
            "marker": {
             "colorbar": {
              "outlinewidth": 0,
              "ticks": ""
             }
            },
            "type": "scattergl"
           }
          ],
          "scattermapbox": [
           {
            "marker": {
             "colorbar": {
              "outlinewidth": 0,
              "ticks": ""
             }
            },
            "type": "scattermapbox"
           }
          ],
          "scatterpolar": [
           {
            "marker": {
             "colorbar": {
              "outlinewidth": 0,
              "ticks": ""
             }
            },
            "type": "scatterpolar"
           }
          ],
          "scatterpolargl": [
           {
            "marker": {
             "colorbar": {
              "outlinewidth": 0,
              "ticks": ""
             }
            },
            "type": "scatterpolargl"
           }
          ],
          "scatterternary": [
           {
            "marker": {
             "colorbar": {
              "outlinewidth": 0,
              "ticks": ""
             }
            },
            "type": "scatterternary"
           }
          ],
          "surface": [
           {
            "colorbar": {
             "outlinewidth": 0,
             "ticks": ""
            },
            "colorscale": [
             [
              0,
              "#0d0887"
             ],
             [
              0.1111111111111111,
              "#46039f"
             ],
             [
              0.2222222222222222,
              "#7201a8"
             ],
             [
              0.3333333333333333,
              "#9c179e"
             ],
             [
              0.4444444444444444,
              "#bd3786"
             ],
             [
              0.5555555555555556,
              "#d8576b"
             ],
             [
              0.6666666666666666,
              "#ed7953"
             ],
             [
              0.7777777777777778,
              "#fb9f3a"
             ],
             [
              0.8888888888888888,
              "#fdca26"
             ],
             [
              1,
              "#f0f921"
             ]
            ],
            "type": "surface"
           }
          ],
          "table": [
           {
            "cells": {
             "fill": {
              "color": "#EBF0F8"
             },
             "line": {
              "color": "white"
             }
            },
            "header": {
             "fill": {
              "color": "#C8D4E3"
             },
             "line": {
              "color": "white"
             }
            },
            "type": "table"
           }
          ]
         },
         "layout": {
          "annotationdefaults": {
           "arrowcolor": "#2a3f5f",
           "arrowhead": 0,
           "arrowwidth": 1
          },
          "autotypenumbers": "strict",
          "coloraxis": {
           "colorbar": {
            "outlinewidth": 0,
            "ticks": ""
           }
          },
          "colorscale": {
           "diverging": [
            [
             0,
             "#8e0152"
            ],
            [
             0.1,
             "#c51b7d"
            ],
            [
             0.2,
             "#de77ae"
            ],
            [
             0.3,
             "#f1b6da"
            ],
            [
             0.4,
             "#fde0ef"
            ],
            [
             0.5,
             "#f7f7f7"
            ],
            [
             0.6,
             "#e6f5d0"
            ],
            [
             0.7,
             "#b8e186"
            ],
            [
             0.8,
             "#7fbc41"
            ],
            [
             0.9,
             "#4d9221"
            ],
            [
             1,
             "#276419"
            ]
           ],
           "sequential": [
            [
             0,
             "#0d0887"
            ],
            [
             0.1111111111111111,
             "#46039f"
            ],
            [
             0.2222222222222222,
             "#7201a8"
            ],
            [
             0.3333333333333333,
             "#9c179e"
            ],
            [
             0.4444444444444444,
             "#bd3786"
            ],
            [
             0.5555555555555556,
             "#d8576b"
            ],
            [
             0.6666666666666666,
             "#ed7953"
            ],
            [
             0.7777777777777778,
             "#fb9f3a"
            ],
            [
             0.8888888888888888,
             "#fdca26"
            ],
            [
             1,
             "#f0f921"
            ]
           ],
           "sequentialminus": [
            [
             0,
             "#0d0887"
            ],
            [
             0.1111111111111111,
             "#46039f"
            ],
            [
             0.2222222222222222,
             "#7201a8"
            ],
            [
             0.3333333333333333,
             "#9c179e"
            ],
            [
             0.4444444444444444,
             "#bd3786"
            ],
            [
             0.5555555555555556,
             "#d8576b"
            ],
            [
             0.6666666666666666,
             "#ed7953"
            ],
            [
             0.7777777777777778,
             "#fb9f3a"
            ],
            [
             0.8888888888888888,
             "#fdca26"
            ],
            [
             1,
             "#f0f921"
            ]
           ]
          },
          "colorway": [
           "#636efa",
           "#EF553B",
           "#00cc96",
           "#ab63fa",
           "#FFA15A",
           "#19d3f3",
           "#FF6692",
           "#B6E880",
           "#FF97FF",
           "#FECB52"
          ],
          "font": {
           "color": "#2a3f5f"
          },
          "geo": {
           "bgcolor": "white",
           "lakecolor": "white",
           "landcolor": "#E5ECF6",
           "showlakes": true,
           "showland": true,
           "subunitcolor": "white"
          },
          "hoverlabel": {
           "align": "left"
          },
          "hovermode": "closest",
          "mapbox": {
           "style": "light"
          },
          "paper_bgcolor": "white",
          "plot_bgcolor": "#E5ECF6",
          "polar": {
           "angularaxis": {
            "gridcolor": "white",
            "linecolor": "white",
            "ticks": ""
           },
           "bgcolor": "#E5ECF6",
           "radialaxis": {
            "gridcolor": "white",
            "linecolor": "white",
            "ticks": ""
           }
          },
          "scene": {
           "xaxis": {
            "backgroundcolor": "#E5ECF6",
            "gridcolor": "white",
            "gridwidth": 2,
            "linecolor": "white",
            "showbackground": true,
            "ticks": "",
            "zerolinecolor": "white"
           },
           "yaxis": {
            "backgroundcolor": "#E5ECF6",
            "gridcolor": "white",
            "gridwidth": 2,
            "linecolor": "white",
            "showbackground": true,
            "ticks": "",
            "zerolinecolor": "white"
           },
           "zaxis": {
            "backgroundcolor": "#E5ECF6",
            "gridcolor": "white",
            "gridwidth": 2,
            "linecolor": "white",
            "showbackground": true,
            "ticks": "",
            "zerolinecolor": "white"
           }
          },
          "shapedefaults": {
           "line": {
            "color": "#2a3f5f"
           }
          },
          "ternary": {
           "aaxis": {
            "gridcolor": "white",
            "linecolor": "white",
            "ticks": ""
           },
           "baxis": {
            "gridcolor": "white",
            "linecolor": "white",
            "ticks": ""
           },
           "bgcolor": "#E5ECF6",
           "caxis": {
            "gridcolor": "white",
            "linecolor": "white",
            "ticks": ""
           }
          },
          "title": {
           "x": 0.05
          },
          "xaxis": {
           "automargin": true,
           "gridcolor": "white",
           "linecolor": "white",
           "ticks": "",
           "title": {
            "standoff": 15
           },
           "zerolinecolor": "white",
           "zerolinewidth": 2
          },
          "yaxis": {
           "automargin": true,
           "gridcolor": "white",
           "linecolor": "white",
           "ticks": "",
           "title": {
            "standoff": 15
           },
           "zerolinecolor": "white",
           "zerolinewidth": 2
          }
         }
        },
        "title": {
         "text": "Voter Turnout in Scotland"
        },
        "xaxis": {
         "anchor": "y",
         "domain": [
          0,
          1
         ],
         "title": {
          "text": "index"
         }
        },
        "yaxis": {
         "anchor": "x",
         "domain": [
          0,
          1
         ],
         "title": {
          "text": "y"
         }
        }
       }
      }
     },
     "metadata": {},
     "output_type": "display_data"
    },
    {
     "data": {
      "application/vnd.plotly.v1+json": {
       "config": {
        "plotlyServerURL": "https://plot.ly"
       },
       "data": [
        {
         "alignmentgroup": "True",
         "hovertemplate": "index=%{x}<br>y=%{y}<extra></extra>",
         "legendgroup": "",
         "marker": {
          "color": "#636efa",
          "pattern": {
           "shape": ""
          }
         },
         "name": "",
         "offsetgroup": "",
         "orientation": "v",
         "showlegend": false,
         "textposition": "auto",
         "type": "bar",
         "x": [
          "ConVote19",
          "LabVote19",
          "LDVote19",
          "SNPVote19",
          "PCVote19",
          "UKIPVote19",
          "GreenVote19",
          "BrexitVote19",
          "TotalVote19"
         ],
         "xaxis": "x",
         "y": [
          2512869,
          1029966,
          848382,
          0,
          0,
          7807,
          183724,
          12868,
          4595616
         ],
         "yaxis": "y"
        }
       ],
       "layout": {
        "barmode": "relative",
        "legend": {
         "tracegroupgap": 0
        },
        "template": {
         "data": {
          "bar": [
           {
            "error_x": {
             "color": "#2a3f5f"
            },
            "error_y": {
             "color": "#2a3f5f"
            },
            "marker": {
             "line": {
              "color": "#E5ECF6",
              "width": 0.5
             },
             "pattern": {
              "fillmode": "overlay",
              "size": 10,
              "solidity": 0.2
             }
            },
            "type": "bar"
           }
          ],
          "barpolar": [
           {
            "marker": {
             "line": {
              "color": "#E5ECF6",
              "width": 0.5
             },
             "pattern": {
              "fillmode": "overlay",
              "size": 10,
              "solidity": 0.2
             }
            },
            "type": "barpolar"
           }
          ],
          "carpet": [
           {
            "aaxis": {
             "endlinecolor": "#2a3f5f",
             "gridcolor": "white",
             "linecolor": "white",
             "minorgridcolor": "white",
             "startlinecolor": "#2a3f5f"
            },
            "baxis": {
             "endlinecolor": "#2a3f5f",
             "gridcolor": "white",
             "linecolor": "white",
             "minorgridcolor": "white",
             "startlinecolor": "#2a3f5f"
            },
            "type": "carpet"
           }
          ],
          "choropleth": [
           {
            "colorbar": {
             "outlinewidth": 0,
             "ticks": ""
            },
            "type": "choropleth"
           }
          ],
          "contour": [
           {
            "colorbar": {
             "outlinewidth": 0,
             "ticks": ""
            },
            "colorscale": [
             [
              0,
              "#0d0887"
             ],
             [
              0.1111111111111111,
              "#46039f"
             ],
             [
              0.2222222222222222,
              "#7201a8"
             ],
             [
              0.3333333333333333,
              "#9c179e"
             ],
             [
              0.4444444444444444,
              "#bd3786"
             ],
             [
              0.5555555555555556,
              "#d8576b"
             ],
             [
              0.6666666666666666,
              "#ed7953"
             ],
             [
              0.7777777777777778,
              "#fb9f3a"
             ],
             [
              0.8888888888888888,
              "#fdca26"
             ],
             [
              1,
              "#f0f921"
             ]
            ],
            "type": "contour"
           }
          ],
          "contourcarpet": [
           {
            "colorbar": {
             "outlinewidth": 0,
             "ticks": ""
            },
            "type": "contourcarpet"
           }
          ],
          "heatmap": [
           {
            "colorbar": {
             "outlinewidth": 0,
             "ticks": ""
            },
            "colorscale": [
             [
              0,
              "#0d0887"
             ],
             [
              0.1111111111111111,
              "#46039f"
             ],
             [
              0.2222222222222222,
              "#7201a8"
             ],
             [
              0.3333333333333333,
              "#9c179e"
             ],
             [
              0.4444444444444444,
              "#bd3786"
             ],
             [
              0.5555555555555556,
              "#d8576b"
             ],
             [
              0.6666666666666666,
              "#ed7953"
             ],
             [
              0.7777777777777778,
              "#fb9f3a"
             ],
             [
              0.8888888888888888,
              "#fdca26"
             ],
             [
              1,
              "#f0f921"
             ]
            ],
            "type": "heatmap"
           }
          ],
          "heatmapgl": [
           {
            "colorbar": {
             "outlinewidth": 0,
             "ticks": ""
            },
            "colorscale": [
             [
              0,
              "#0d0887"
             ],
             [
              0.1111111111111111,
              "#46039f"
             ],
             [
              0.2222222222222222,
              "#7201a8"
             ],
             [
              0.3333333333333333,
              "#9c179e"
             ],
             [
              0.4444444444444444,
              "#bd3786"
             ],
             [
              0.5555555555555556,
              "#d8576b"
             ],
             [
              0.6666666666666666,
              "#ed7953"
             ],
             [
              0.7777777777777778,
              "#fb9f3a"
             ],
             [
              0.8888888888888888,
              "#fdca26"
             ],
             [
              1,
              "#f0f921"
             ]
            ],
            "type": "heatmapgl"
           }
          ],
          "histogram": [
           {
            "marker": {
             "pattern": {
              "fillmode": "overlay",
              "size": 10,
              "solidity": 0.2
             }
            },
            "type": "histogram"
           }
          ],
          "histogram2d": [
           {
            "colorbar": {
             "outlinewidth": 0,
             "ticks": ""
            },
            "colorscale": [
             [
              0,
              "#0d0887"
             ],
             [
              0.1111111111111111,
              "#46039f"
             ],
             [
              0.2222222222222222,
              "#7201a8"
             ],
             [
              0.3333333333333333,
              "#9c179e"
             ],
             [
              0.4444444444444444,
              "#bd3786"
             ],
             [
              0.5555555555555556,
              "#d8576b"
             ],
             [
              0.6666666666666666,
              "#ed7953"
             ],
             [
              0.7777777777777778,
              "#fb9f3a"
             ],
             [
              0.8888888888888888,
              "#fdca26"
             ],
             [
              1,
              "#f0f921"
             ]
            ],
            "type": "histogram2d"
           }
          ],
          "histogram2dcontour": [
           {
            "colorbar": {
             "outlinewidth": 0,
             "ticks": ""
            },
            "colorscale": [
             [
              0,
              "#0d0887"
             ],
             [
              0.1111111111111111,
              "#46039f"
             ],
             [
              0.2222222222222222,
              "#7201a8"
             ],
             [
              0.3333333333333333,
              "#9c179e"
             ],
             [
              0.4444444444444444,
              "#bd3786"
             ],
             [
              0.5555555555555556,
              "#d8576b"
             ],
             [
              0.6666666666666666,
              "#ed7953"
             ],
             [
              0.7777777777777778,
              "#fb9f3a"
             ],
             [
              0.8888888888888888,
              "#fdca26"
             ],
             [
              1,
              "#f0f921"
             ]
            ],
            "type": "histogram2dcontour"
           }
          ],
          "mesh3d": [
           {
            "colorbar": {
             "outlinewidth": 0,
             "ticks": ""
            },
            "type": "mesh3d"
           }
          ],
          "parcoords": [
           {
            "line": {
             "colorbar": {
              "outlinewidth": 0,
              "ticks": ""
             }
            },
            "type": "parcoords"
           }
          ],
          "pie": [
           {
            "automargin": true,
            "type": "pie"
           }
          ],
          "scatter": [
           {
            "fillpattern": {
             "fillmode": "overlay",
             "size": 10,
             "solidity": 0.2
            },
            "type": "scatter"
           }
          ],
          "scatter3d": [
           {
            "line": {
             "colorbar": {
              "outlinewidth": 0,
              "ticks": ""
             }
            },
            "marker": {
             "colorbar": {
              "outlinewidth": 0,
              "ticks": ""
             }
            },
            "type": "scatter3d"
           }
          ],
          "scattercarpet": [
           {
            "marker": {
             "colorbar": {
              "outlinewidth": 0,
              "ticks": ""
             }
            },
            "type": "scattercarpet"
           }
          ],
          "scattergeo": [
           {
            "marker": {
             "colorbar": {
              "outlinewidth": 0,
              "ticks": ""
             }
            },
            "type": "scattergeo"
           }
          ],
          "scattergl": [
           {
            "marker": {
             "colorbar": {
              "outlinewidth": 0,
              "ticks": ""
             }
            },
            "type": "scattergl"
           }
          ],
          "scattermapbox": [
           {
            "marker": {
             "colorbar": {
              "outlinewidth": 0,
              "ticks": ""
             }
            },
            "type": "scattermapbox"
           }
          ],
          "scatterpolar": [
           {
            "marker": {
             "colorbar": {
              "outlinewidth": 0,
              "ticks": ""
             }
            },
            "type": "scatterpolar"
           }
          ],
          "scatterpolargl": [
           {
            "marker": {
             "colorbar": {
              "outlinewidth": 0,
              "ticks": ""
             }
            },
            "type": "scatterpolargl"
           }
          ],
          "scatterternary": [
           {
            "marker": {
             "colorbar": {
              "outlinewidth": 0,
              "ticks": ""
             }
            },
            "type": "scatterternary"
           }
          ],
          "surface": [
           {
            "colorbar": {
             "outlinewidth": 0,
             "ticks": ""
            },
            "colorscale": [
             [
              0,
              "#0d0887"
             ],
             [
              0.1111111111111111,
              "#46039f"
             ],
             [
              0.2222222222222222,
              "#7201a8"
             ],
             [
              0.3333333333333333,
              "#9c179e"
             ],
             [
              0.4444444444444444,
              "#bd3786"
             ],
             [
              0.5555555555555556,
              "#d8576b"
             ],
             [
              0.6666666666666666,
              "#ed7953"
             ],
             [
              0.7777777777777778,
              "#fb9f3a"
             ],
             [
              0.8888888888888888,
              "#fdca26"
             ],
             [
              1,
              "#f0f921"
             ]
            ],
            "type": "surface"
           }
          ],
          "table": [
           {
            "cells": {
             "fill": {
              "color": "#EBF0F8"
             },
             "line": {
              "color": "white"
             }
            },
            "header": {
             "fill": {
              "color": "#C8D4E3"
             },
             "line": {
              "color": "white"
             }
            },
            "type": "table"
           }
          ]
         },
         "layout": {
          "annotationdefaults": {
           "arrowcolor": "#2a3f5f",
           "arrowhead": 0,
           "arrowwidth": 1
          },
          "autotypenumbers": "strict",
          "coloraxis": {
           "colorbar": {
            "outlinewidth": 0,
            "ticks": ""
           }
          },
          "colorscale": {
           "diverging": [
            [
             0,
             "#8e0152"
            ],
            [
             0.1,
             "#c51b7d"
            ],
            [
             0.2,
             "#de77ae"
            ],
            [
             0.3,
             "#f1b6da"
            ],
            [
             0.4,
             "#fde0ef"
            ],
            [
             0.5,
             "#f7f7f7"
            ],
            [
             0.6,
             "#e6f5d0"
            ],
            [
             0.7,
             "#b8e186"
            ],
            [
             0.8,
             "#7fbc41"
            ],
            [
             0.9,
             "#4d9221"
            ],
            [
             1,
             "#276419"
            ]
           ],
           "sequential": [
            [
             0,
             "#0d0887"
            ],
            [
             0.1111111111111111,
             "#46039f"
            ],
            [
             0.2222222222222222,
             "#7201a8"
            ],
            [
             0.3333333333333333,
             "#9c179e"
            ],
            [
             0.4444444444444444,
             "#bd3786"
            ],
            [
             0.5555555555555556,
             "#d8576b"
            ],
            [
             0.6666666666666666,
             "#ed7953"
            ],
            [
             0.7777777777777778,
             "#fb9f3a"
            ],
            [
             0.8888888888888888,
             "#fdca26"
            ],
            [
             1,
             "#f0f921"
            ]
           ],
           "sequentialminus": [
            [
             0,
             "#0d0887"
            ],
            [
             0.1111111111111111,
             "#46039f"
            ],
            [
             0.2222222222222222,
             "#7201a8"
            ],
            [
             0.3333333333333333,
             "#9c179e"
            ],
            [
             0.4444444444444444,
             "#bd3786"
            ],
            [
             0.5555555555555556,
             "#d8576b"
            ],
            [
             0.6666666666666666,
             "#ed7953"
            ],
            [
             0.7777777777777778,
             "#fb9f3a"
            ],
            [
             0.8888888888888888,
             "#fdca26"
            ],
            [
             1,
             "#f0f921"
            ]
           ]
          },
          "colorway": [
           "#636efa",
           "#EF553B",
           "#00cc96",
           "#ab63fa",
           "#FFA15A",
           "#19d3f3",
           "#FF6692",
           "#B6E880",
           "#FF97FF",
           "#FECB52"
          ],
          "font": {
           "color": "#2a3f5f"
          },
          "geo": {
           "bgcolor": "white",
           "lakecolor": "white",
           "landcolor": "#E5ECF6",
           "showlakes": true,
           "showland": true,
           "subunitcolor": "white"
          },
          "hoverlabel": {
           "align": "left"
          },
          "hovermode": "closest",
          "mapbox": {
           "style": "light"
          },
          "paper_bgcolor": "white",
          "plot_bgcolor": "#E5ECF6",
          "polar": {
           "angularaxis": {
            "gridcolor": "white",
            "linecolor": "white",
            "ticks": ""
           },
           "bgcolor": "#E5ECF6",
           "radialaxis": {
            "gridcolor": "white",
            "linecolor": "white",
            "ticks": ""
           }
          },
          "scene": {
           "xaxis": {
            "backgroundcolor": "#E5ECF6",
            "gridcolor": "white",
            "gridwidth": 2,
            "linecolor": "white",
            "showbackground": true,
            "ticks": "",
            "zerolinecolor": "white"
           },
           "yaxis": {
            "backgroundcolor": "#E5ECF6",
            "gridcolor": "white",
            "gridwidth": 2,
            "linecolor": "white",
            "showbackground": true,
            "ticks": "",
            "zerolinecolor": "white"
           },
           "zaxis": {
            "backgroundcolor": "#E5ECF6",
            "gridcolor": "white",
            "gridwidth": 2,
            "linecolor": "white",
            "showbackground": true,
            "ticks": "",
            "zerolinecolor": "white"
           }
          },
          "shapedefaults": {
           "line": {
            "color": "#2a3f5f"
           }
          },
          "ternary": {
           "aaxis": {
            "gridcolor": "white",
            "linecolor": "white",
            "ticks": ""
           },
           "baxis": {
            "gridcolor": "white",
            "linecolor": "white",
            "ticks": ""
           },
           "bgcolor": "#E5ECF6",
           "caxis": {
            "gridcolor": "white",
            "linecolor": "white",
            "ticks": ""
           }
          },
          "title": {
           "x": 0.05
          },
          "xaxis": {
           "automargin": true,
           "gridcolor": "white",
           "linecolor": "white",
           "ticks": "",
           "title": {
            "standoff": 15
           },
           "zerolinecolor": "white",
           "zerolinewidth": 2
          },
          "yaxis": {
           "automargin": true,
           "gridcolor": "white",
           "linecolor": "white",
           "ticks": "",
           "title": {
            "standoff": 15
           },
           "zerolinecolor": "white",
           "zerolinewidth": 2
          }
         }
        },
        "title": {
         "text": "Voter Turnout in South East"
        },
        "xaxis": {
         "anchor": "y",
         "domain": [
          0,
          1
         ],
         "title": {
          "text": "index"
         }
        },
        "yaxis": {
         "anchor": "x",
         "domain": [
          0,
          1
         ],
         "title": {
          "text": "y"
         }
        }
       }
      }
     },
     "metadata": {},
     "output_type": "display_data"
    },
    {
     "data": {
      "application/vnd.plotly.v1+json": {
       "config": {
        "plotlyServerURL": "https://plot.ly"
       },
       "data": [
        {
         "alignmentgroup": "True",
         "hovertemplate": "index=%{x}<br>y=%{y}<extra></extra>",
         "legendgroup": "",
         "marker": {
          "color": "#636efa",
          "pattern": {
           "shape": ""
          }
         },
         "name": "",
         "offsetgroup": "",
         "orientation": "v",
         "showlegend": false,
         "textposition": "auto",
         "type": "bar",
         "x": [
          "ConVote19",
          "LabVote19",
          "LDVote19",
          "SNPVote19",
          "PCVote19",
          "UKIPVote19",
          "GreenVote19",
          "BrexitVote19",
          "TotalVote19"
         ],
         "xaxis": "x",
         "y": [
          1449289,
          918123,
          213903,
          0,
          0,
          1068,
          80556,
          36646,
          2699585
         ],
         "yaxis": "y"
        }
       ],
       "layout": {
        "barmode": "relative",
        "legend": {
         "tracegroupgap": 0
        },
        "template": {
         "data": {
          "bar": [
           {
            "error_x": {
             "color": "#2a3f5f"
            },
            "error_y": {
             "color": "#2a3f5f"
            },
            "marker": {
             "line": {
              "color": "#E5ECF6",
              "width": 0.5
             },
             "pattern": {
              "fillmode": "overlay",
              "size": 10,
              "solidity": 0.2
             }
            },
            "type": "bar"
           }
          ],
          "barpolar": [
           {
            "marker": {
             "line": {
              "color": "#E5ECF6",
              "width": 0.5
             },
             "pattern": {
              "fillmode": "overlay",
              "size": 10,
              "solidity": 0.2
             }
            },
            "type": "barpolar"
           }
          ],
          "carpet": [
           {
            "aaxis": {
             "endlinecolor": "#2a3f5f",
             "gridcolor": "white",
             "linecolor": "white",
             "minorgridcolor": "white",
             "startlinecolor": "#2a3f5f"
            },
            "baxis": {
             "endlinecolor": "#2a3f5f",
             "gridcolor": "white",
             "linecolor": "white",
             "minorgridcolor": "white",
             "startlinecolor": "#2a3f5f"
            },
            "type": "carpet"
           }
          ],
          "choropleth": [
           {
            "colorbar": {
             "outlinewidth": 0,
             "ticks": ""
            },
            "type": "choropleth"
           }
          ],
          "contour": [
           {
            "colorbar": {
             "outlinewidth": 0,
             "ticks": ""
            },
            "colorscale": [
             [
              0,
              "#0d0887"
             ],
             [
              0.1111111111111111,
              "#46039f"
             ],
             [
              0.2222222222222222,
              "#7201a8"
             ],
             [
              0.3333333333333333,
              "#9c179e"
             ],
             [
              0.4444444444444444,
              "#bd3786"
             ],
             [
              0.5555555555555556,
              "#d8576b"
             ],
             [
              0.6666666666666666,
              "#ed7953"
             ],
             [
              0.7777777777777778,
              "#fb9f3a"
             ],
             [
              0.8888888888888888,
              "#fdca26"
             ],
             [
              1,
              "#f0f921"
             ]
            ],
            "type": "contour"
           }
          ],
          "contourcarpet": [
           {
            "colorbar": {
             "outlinewidth": 0,
             "ticks": ""
            },
            "type": "contourcarpet"
           }
          ],
          "heatmap": [
           {
            "colorbar": {
             "outlinewidth": 0,
             "ticks": ""
            },
            "colorscale": [
             [
              0,
              "#0d0887"
             ],
             [
              0.1111111111111111,
              "#46039f"
             ],
             [
              0.2222222222222222,
              "#7201a8"
             ],
             [
              0.3333333333333333,
              "#9c179e"
             ],
             [
              0.4444444444444444,
              "#bd3786"
             ],
             [
              0.5555555555555556,
              "#d8576b"
             ],
             [
              0.6666666666666666,
              "#ed7953"
             ],
             [
              0.7777777777777778,
              "#fb9f3a"
             ],
             [
              0.8888888888888888,
              "#fdca26"
             ],
             [
              1,
              "#f0f921"
             ]
            ],
            "type": "heatmap"
           }
          ],
          "heatmapgl": [
           {
            "colorbar": {
             "outlinewidth": 0,
             "ticks": ""
            },
            "colorscale": [
             [
              0,
              "#0d0887"
             ],
             [
              0.1111111111111111,
              "#46039f"
             ],
             [
              0.2222222222222222,
              "#7201a8"
             ],
             [
              0.3333333333333333,
              "#9c179e"
             ],
             [
              0.4444444444444444,
              "#bd3786"
             ],
             [
              0.5555555555555556,
              "#d8576b"
             ],
             [
              0.6666666666666666,
              "#ed7953"
             ],
             [
              0.7777777777777778,
              "#fb9f3a"
             ],
             [
              0.8888888888888888,
              "#fdca26"
             ],
             [
              1,
              "#f0f921"
             ]
            ],
            "type": "heatmapgl"
           }
          ],
          "histogram": [
           {
            "marker": {
             "pattern": {
              "fillmode": "overlay",
              "size": 10,
              "solidity": 0.2
             }
            },
            "type": "histogram"
           }
          ],
          "histogram2d": [
           {
            "colorbar": {
             "outlinewidth": 0,
             "ticks": ""
            },
            "colorscale": [
             [
              0,
              "#0d0887"
             ],
             [
              0.1111111111111111,
              "#46039f"
             ],
             [
              0.2222222222222222,
              "#7201a8"
             ],
             [
              0.3333333333333333,
              "#9c179e"
             ],
             [
              0.4444444444444444,
              "#bd3786"
             ],
             [
              0.5555555555555556,
              "#d8576b"
             ],
             [
              0.6666666666666666,
              "#ed7953"
             ],
             [
              0.7777777777777778,
              "#fb9f3a"
             ],
             [
              0.8888888888888888,
              "#fdca26"
             ],
             [
              1,
              "#f0f921"
             ]
            ],
            "type": "histogram2d"
           }
          ],
          "histogram2dcontour": [
           {
            "colorbar": {
             "outlinewidth": 0,
             "ticks": ""
            },
            "colorscale": [
             [
              0,
              "#0d0887"
             ],
             [
              0.1111111111111111,
              "#46039f"
             ],
             [
              0.2222222222222222,
              "#7201a8"
             ],
             [
              0.3333333333333333,
              "#9c179e"
             ],
             [
              0.4444444444444444,
              "#bd3786"
             ],
             [
              0.5555555555555556,
              "#d8576b"
             ],
             [
              0.6666666666666666,
              "#ed7953"
             ],
             [
              0.7777777777777778,
              "#fb9f3a"
             ],
             [
              0.8888888888888888,
              "#fdca26"
             ],
             [
              1,
              "#f0f921"
             ]
            ],
            "type": "histogram2dcontour"
           }
          ],
          "mesh3d": [
           {
            "colorbar": {
             "outlinewidth": 0,
             "ticks": ""
            },
            "type": "mesh3d"
           }
          ],
          "parcoords": [
           {
            "line": {
             "colorbar": {
              "outlinewidth": 0,
              "ticks": ""
             }
            },
            "type": "parcoords"
           }
          ],
          "pie": [
           {
            "automargin": true,
            "type": "pie"
           }
          ],
          "scatter": [
           {
            "fillpattern": {
             "fillmode": "overlay",
             "size": 10,
             "solidity": 0.2
            },
            "type": "scatter"
           }
          ],
          "scatter3d": [
           {
            "line": {
             "colorbar": {
              "outlinewidth": 0,
              "ticks": ""
             }
            },
            "marker": {
             "colorbar": {
              "outlinewidth": 0,
              "ticks": ""
             }
            },
            "type": "scatter3d"
           }
          ],
          "scattercarpet": [
           {
            "marker": {
             "colorbar": {
              "outlinewidth": 0,
              "ticks": ""
             }
            },
            "type": "scattercarpet"
           }
          ],
          "scattergeo": [
           {
            "marker": {
             "colorbar": {
              "outlinewidth": 0,
              "ticks": ""
             }
            },
            "type": "scattergeo"
           }
          ],
          "scattergl": [
           {
            "marker": {
             "colorbar": {
              "outlinewidth": 0,
              "ticks": ""
             }
            },
            "type": "scattergl"
           }
          ],
          "scattermapbox": [
           {
            "marker": {
             "colorbar": {
              "outlinewidth": 0,
              "ticks": ""
             }
            },
            "type": "scattermapbox"
           }
          ],
          "scatterpolar": [
           {
            "marker": {
             "colorbar": {
              "outlinewidth": 0,
              "ticks": ""
             }
            },
            "type": "scatterpolar"
           }
          ],
          "scatterpolargl": [
           {
            "marker": {
             "colorbar": {
              "outlinewidth": 0,
              "ticks": ""
             }
            },
            "type": "scatterpolargl"
           }
          ],
          "scatterternary": [
           {
            "marker": {
             "colorbar": {
              "outlinewidth": 0,
              "ticks": ""
             }
            },
            "type": "scatterternary"
           }
          ],
          "surface": [
           {
            "colorbar": {
             "outlinewidth": 0,
             "ticks": ""
            },
            "colorscale": [
             [
              0,
              "#0d0887"
             ],
             [
              0.1111111111111111,
              "#46039f"
             ],
             [
              0.2222222222222222,
              "#7201a8"
             ],
             [
              0.3333333333333333,
              "#9c179e"
             ],
             [
              0.4444444444444444,
              "#bd3786"
             ],
             [
              0.5555555555555556,
              "#d8576b"
             ],
             [
              0.6666666666666666,
              "#ed7953"
             ],
             [
              0.7777777777777778,
              "#fb9f3a"
             ],
             [
              0.8888888888888888,
              "#fdca26"
             ],
             [
              1,
              "#f0f921"
             ]
            ],
            "type": "surface"
           }
          ],
          "table": [
           {
            "cells": {
             "fill": {
              "color": "#EBF0F8"
             },
             "line": {
              "color": "white"
             }
            },
            "header": {
             "fill": {
              "color": "#C8D4E3"
             },
             "line": {
              "color": "white"
             }
            },
            "type": "table"
           }
          ]
         },
         "layout": {
          "annotationdefaults": {
           "arrowcolor": "#2a3f5f",
           "arrowhead": 0,
           "arrowwidth": 1
          },
          "autotypenumbers": "strict",
          "coloraxis": {
           "colorbar": {
            "outlinewidth": 0,
            "ticks": ""
           }
          },
          "colorscale": {
           "diverging": [
            [
             0,
             "#8e0152"
            ],
            [
             0.1,
             "#c51b7d"
            ],
            [
             0.2,
             "#de77ae"
            ],
            [
             0.3,
             "#f1b6da"
            ],
            [
             0.4,
             "#fde0ef"
            ],
            [
             0.5,
             "#f7f7f7"
            ],
            [
             0.6,
             "#e6f5d0"
            ],
            [
             0.7,
             "#b8e186"
            ],
            [
             0.8,
             "#7fbc41"
            ],
            [
             0.9,
             "#4d9221"
            ],
            [
             1,
             "#276419"
            ]
           ],
           "sequential": [
            [
             0,
             "#0d0887"
            ],
            [
             0.1111111111111111,
             "#46039f"
            ],
            [
             0.2222222222222222,
             "#7201a8"
            ],
            [
             0.3333333333333333,
             "#9c179e"
            ],
            [
             0.4444444444444444,
             "#bd3786"
            ],
            [
             0.5555555555555556,
             "#d8576b"
            ],
            [
             0.6666666666666666,
             "#ed7953"
            ],
            [
             0.7777777777777778,
             "#fb9f3a"
            ],
            [
             0.8888888888888888,
             "#fdca26"
            ],
            [
             1,
             "#f0f921"
            ]
           ],
           "sequentialminus": [
            [
             0,
             "#0d0887"
            ],
            [
             0.1111111111111111,
             "#46039f"
            ],
            [
             0.2222222222222222,
             "#7201a8"
            ],
            [
             0.3333333333333333,
             "#9c179e"
            ],
            [
             0.4444444444444444,
             "#bd3786"
            ],
            [
             0.5555555555555556,
             "#d8576b"
            ],
            [
             0.6666666666666666,
             "#ed7953"
            ],
            [
             0.7777777777777778,
             "#fb9f3a"
            ],
            [
             0.8888888888888888,
             "#fdca26"
            ],
            [
             1,
             "#f0f921"
            ]
           ]
          },
          "colorway": [
           "#636efa",
           "#EF553B",
           "#00cc96",
           "#ab63fa",
           "#FFA15A",
           "#19d3f3",
           "#FF6692",
           "#B6E880",
           "#FF97FF",
           "#FECB52"
          ],
          "font": {
           "color": "#2a3f5f"
          },
          "geo": {
           "bgcolor": "white",
           "lakecolor": "white",
           "landcolor": "#E5ECF6",
           "showlakes": true,
           "showland": true,
           "subunitcolor": "white"
          },
          "hoverlabel": {
           "align": "left"
          },
          "hovermode": "closest",
          "mapbox": {
           "style": "light"
          },
          "paper_bgcolor": "white",
          "plot_bgcolor": "#E5ECF6",
          "polar": {
           "angularaxis": {
            "gridcolor": "white",
            "linecolor": "white",
            "ticks": ""
           },
           "bgcolor": "#E5ECF6",
           "radialaxis": {
            "gridcolor": "white",
            "linecolor": "white",
            "ticks": ""
           }
          },
          "scene": {
           "xaxis": {
            "backgroundcolor": "#E5ECF6",
            "gridcolor": "white",
            "gridwidth": 2,
            "linecolor": "white",
            "showbackground": true,
            "ticks": "",
            "zerolinecolor": "white"
           },
           "yaxis": {
            "backgroundcolor": "#E5ECF6",
            "gridcolor": "white",
            "gridwidth": 2,
            "linecolor": "white",
            "showbackground": true,
            "ticks": "",
            "zerolinecolor": "white"
           },
           "zaxis": {
            "backgroundcolor": "#E5ECF6",
            "gridcolor": "white",
            "gridwidth": 2,
            "linecolor": "white",
            "showbackground": true,
            "ticks": "",
            "zerolinecolor": "white"
           }
          },
          "shapedefaults": {
           "line": {
            "color": "#2a3f5f"
           }
          },
          "ternary": {
           "aaxis": {
            "gridcolor": "white",
            "linecolor": "white",
            "ticks": ""
           },
           "baxis": {
            "gridcolor": "white",
            "linecolor": "white",
            "ticks": ""
           },
           "bgcolor": "#E5ECF6",
           "caxis": {
            "gridcolor": "white",
            "linecolor": "white",
            "ticks": ""
           }
          },
          "title": {
           "x": 0.05
          },
          "xaxis": {
           "automargin": true,
           "gridcolor": "white",
           "linecolor": "white",
           "ticks": "",
           "title": {
            "standoff": 15
           },
           "zerolinecolor": "white",
           "zerolinewidth": 2
          },
          "yaxis": {
           "automargin": true,
           "gridcolor": "white",
           "linecolor": "white",
           "ticks": "",
           "title": {
            "standoff": 15
           },
           "zerolinecolor": "white",
           "zerolinewidth": 2
          }
         }
        },
        "title": {
         "text": "Voter Turnout in West Midlands"
        },
        "xaxis": {
         "anchor": "y",
         "domain": [
          0,
          1
         ],
         "title": {
          "text": "index"
         }
        },
        "yaxis": {
         "anchor": "x",
         "domain": [
          0,
          1
         ],
         "title": {
          "text": "y"
         }
        }
       }
      }
     },
     "metadata": {},
     "output_type": "display_data"
    },
    {
     "data": {
      "application/vnd.plotly.v1+json": {
       "config": {
        "plotlyServerURL": "https://plot.ly"
       },
       "data": [
        {
         "alignmentgroup": "True",
         "hovertemplate": "index=%{x}<br>y=%{y}<extra></extra>",
         "legendgroup": "",
         "marker": {
          "color": "#636efa",
          "pattern": {
           "shape": ""
          }
         },
         "name": "",
         "offsetgroup": "",
         "orientation": "v",
         "showlegend": false,
         "textposition": "auto",
         "type": "bar",
         "x": [
          "ConVote19",
          "LabVote19",
          "LDVote19",
          "SNPVote19",
          "PCVote19",
          "UKIPVote19",
          "GreenVote19",
          "BrexitVote19",
          "TotalVote19"
         ],
         "xaxis": "x",
         "y": [
          1321072,
          1665089,
          277505,
          0,
          0,
          2333,
          86815,
          136196,
          3489010
         ],
         "yaxis": "y"
        }
       ],
       "layout": {
        "barmode": "relative",
        "legend": {
         "tracegroupgap": 0
        },
        "template": {
         "data": {
          "bar": [
           {
            "error_x": {
             "color": "#2a3f5f"
            },
            "error_y": {
             "color": "#2a3f5f"
            },
            "marker": {
             "line": {
              "color": "#E5ECF6",
              "width": 0.5
             },
             "pattern": {
              "fillmode": "overlay",
              "size": 10,
              "solidity": 0.2
             }
            },
            "type": "bar"
           }
          ],
          "barpolar": [
           {
            "marker": {
             "line": {
              "color": "#E5ECF6",
              "width": 0.5
             },
             "pattern": {
              "fillmode": "overlay",
              "size": 10,
              "solidity": 0.2
             }
            },
            "type": "barpolar"
           }
          ],
          "carpet": [
           {
            "aaxis": {
             "endlinecolor": "#2a3f5f",
             "gridcolor": "white",
             "linecolor": "white",
             "minorgridcolor": "white",
             "startlinecolor": "#2a3f5f"
            },
            "baxis": {
             "endlinecolor": "#2a3f5f",
             "gridcolor": "white",
             "linecolor": "white",
             "minorgridcolor": "white",
             "startlinecolor": "#2a3f5f"
            },
            "type": "carpet"
           }
          ],
          "choropleth": [
           {
            "colorbar": {
             "outlinewidth": 0,
             "ticks": ""
            },
            "type": "choropleth"
           }
          ],
          "contour": [
           {
            "colorbar": {
             "outlinewidth": 0,
             "ticks": ""
            },
            "colorscale": [
             [
              0,
              "#0d0887"
             ],
             [
              0.1111111111111111,
              "#46039f"
             ],
             [
              0.2222222222222222,
              "#7201a8"
             ],
             [
              0.3333333333333333,
              "#9c179e"
             ],
             [
              0.4444444444444444,
              "#bd3786"
             ],
             [
              0.5555555555555556,
              "#d8576b"
             ],
             [
              0.6666666666666666,
              "#ed7953"
             ],
             [
              0.7777777777777778,
              "#fb9f3a"
             ],
             [
              0.8888888888888888,
              "#fdca26"
             ],
             [
              1,
              "#f0f921"
             ]
            ],
            "type": "contour"
           }
          ],
          "contourcarpet": [
           {
            "colorbar": {
             "outlinewidth": 0,
             "ticks": ""
            },
            "type": "contourcarpet"
           }
          ],
          "heatmap": [
           {
            "colorbar": {
             "outlinewidth": 0,
             "ticks": ""
            },
            "colorscale": [
             [
              0,
              "#0d0887"
             ],
             [
              0.1111111111111111,
              "#46039f"
             ],
             [
              0.2222222222222222,
              "#7201a8"
             ],
             [
              0.3333333333333333,
              "#9c179e"
             ],
             [
              0.4444444444444444,
              "#bd3786"
             ],
             [
              0.5555555555555556,
              "#d8576b"
             ],
             [
              0.6666666666666666,
              "#ed7953"
             ],
             [
              0.7777777777777778,
              "#fb9f3a"
             ],
             [
              0.8888888888888888,
              "#fdca26"
             ],
             [
              1,
              "#f0f921"
             ]
            ],
            "type": "heatmap"
           }
          ],
          "heatmapgl": [
           {
            "colorbar": {
             "outlinewidth": 0,
             "ticks": ""
            },
            "colorscale": [
             [
              0,
              "#0d0887"
             ],
             [
              0.1111111111111111,
              "#46039f"
             ],
             [
              0.2222222222222222,
              "#7201a8"
             ],
             [
              0.3333333333333333,
              "#9c179e"
             ],
             [
              0.4444444444444444,
              "#bd3786"
             ],
             [
              0.5555555555555556,
              "#d8576b"
             ],
             [
              0.6666666666666666,
              "#ed7953"
             ],
             [
              0.7777777777777778,
              "#fb9f3a"
             ],
             [
              0.8888888888888888,
              "#fdca26"
             ],
             [
              1,
              "#f0f921"
             ]
            ],
            "type": "heatmapgl"
           }
          ],
          "histogram": [
           {
            "marker": {
             "pattern": {
              "fillmode": "overlay",
              "size": 10,
              "solidity": 0.2
             }
            },
            "type": "histogram"
           }
          ],
          "histogram2d": [
           {
            "colorbar": {
             "outlinewidth": 0,
             "ticks": ""
            },
            "colorscale": [
             [
              0,
              "#0d0887"
             ],
             [
              0.1111111111111111,
              "#46039f"
             ],
             [
              0.2222222222222222,
              "#7201a8"
             ],
             [
              0.3333333333333333,
              "#9c179e"
             ],
             [
              0.4444444444444444,
              "#bd3786"
             ],
             [
              0.5555555555555556,
              "#d8576b"
             ],
             [
              0.6666666666666666,
              "#ed7953"
             ],
             [
              0.7777777777777778,
              "#fb9f3a"
             ],
             [
              0.8888888888888888,
              "#fdca26"
             ],
             [
              1,
              "#f0f921"
             ]
            ],
            "type": "histogram2d"
           }
          ],
          "histogram2dcontour": [
           {
            "colorbar": {
             "outlinewidth": 0,
             "ticks": ""
            },
            "colorscale": [
             [
              0,
              "#0d0887"
             ],
             [
              0.1111111111111111,
              "#46039f"
             ],
             [
              0.2222222222222222,
              "#7201a8"
             ],
             [
              0.3333333333333333,
              "#9c179e"
             ],
             [
              0.4444444444444444,
              "#bd3786"
             ],
             [
              0.5555555555555556,
              "#d8576b"
             ],
             [
              0.6666666666666666,
              "#ed7953"
             ],
             [
              0.7777777777777778,
              "#fb9f3a"
             ],
             [
              0.8888888888888888,
              "#fdca26"
             ],
             [
              1,
              "#f0f921"
             ]
            ],
            "type": "histogram2dcontour"
           }
          ],
          "mesh3d": [
           {
            "colorbar": {
             "outlinewidth": 0,
             "ticks": ""
            },
            "type": "mesh3d"
           }
          ],
          "parcoords": [
           {
            "line": {
             "colorbar": {
              "outlinewidth": 0,
              "ticks": ""
             }
            },
            "type": "parcoords"
           }
          ],
          "pie": [
           {
            "automargin": true,
            "type": "pie"
           }
          ],
          "scatter": [
           {
            "fillpattern": {
             "fillmode": "overlay",
             "size": 10,
             "solidity": 0.2
            },
            "type": "scatter"
           }
          ],
          "scatter3d": [
           {
            "line": {
             "colorbar": {
              "outlinewidth": 0,
              "ticks": ""
             }
            },
            "marker": {
             "colorbar": {
              "outlinewidth": 0,
              "ticks": ""
             }
            },
            "type": "scatter3d"
           }
          ],
          "scattercarpet": [
           {
            "marker": {
             "colorbar": {
              "outlinewidth": 0,
              "ticks": ""
             }
            },
            "type": "scattercarpet"
           }
          ],
          "scattergeo": [
           {
            "marker": {
             "colorbar": {
              "outlinewidth": 0,
              "ticks": ""
             }
            },
            "type": "scattergeo"
           }
          ],
          "scattergl": [
           {
            "marker": {
             "colorbar": {
              "outlinewidth": 0,
              "ticks": ""
             }
            },
            "type": "scattergl"
           }
          ],
          "scattermapbox": [
           {
            "marker": {
             "colorbar": {
              "outlinewidth": 0,
              "ticks": ""
             }
            },
            "type": "scattermapbox"
           }
          ],
          "scatterpolar": [
           {
            "marker": {
             "colorbar": {
              "outlinewidth": 0,
              "ticks": ""
             }
            },
            "type": "scatterpolar"
           }
          ],
          "scatterpolargl": [
           {
            "marker": {
             "colorbar": {
              "outlinewidth": 0,
              "ticks": ""
             }
            },
            "type": "scatterpolargl"
           }
          ],
          "scatterternary": [
           {
            "marker": {
             "colorbar": {
              "outlinewidth": 0,
              "ticks": ""
             }
            },
            "type": "scatterternary"
           }
          ],
          "surface": [
           {
            "colorbar": {
             "outlinewidth": 0,
             "ticks": ""
            },
            "colorscale": [
             [
              0,
              "#0d0887"
             ],
             [
              0.1111111111111111,
              "#46039f"
             ],
             [
              0.2222222222222222,
              "#7201a8"
             ],
             [
              0.3333333333333333,
              "#9c179e"
             ],
             [
              0.4444444444444444,
              "#bd3786"
             ],
             [
              0.5555555555555556,
              "#d8576b"
             ],
             [
              0.6666666666666666,
              "#ed7953"
             ],
             [
              0.7777777777777778,
              "#fb9f3a"
             ],
             [
              0.8888888888888888,
              "#fdca26"
             ],
             [
              1,
              "#f0f921"
             ]
            ],
            "type": "surface"
           }
          ],
          "table": [
           {
            "cells": {
             "fill": {
              "color": "#EBF0F8"
             },
             "line": {
              "color": "white"
             }
            },
            "header": {
             "fill": {
              "color": "#C8D4E3"
             },
             "line": {
              "color": "white"
             }
            },
            "type": "table"
           }
          ]
         },
         "layout": {
          "annotationdefaults": {
           "arrowcolor": "#2a3f5f",
           "arrowhead": 0,
           "arrowwidth": 1
          },
          "autotypenumbers": "strict",
          "coloraxis": {
           "colorbar": {
            "outlinewidth": 0,
            "ticks": ""
           }
          },
          "colorscale": {
           "diverging": [
            [
             0,
             "#8e0152"
            ],
            [
             0.1,
             "#c51b7d"
            ],
            [
             0.2,
             "#de77ae"
            ],
            [
             0.3,
             "#f1b6da"
            ],
            [
             0.4,
             "#fde0ef"
            ],
            [
             0.5,
             "#f7f7f7"
            ],
            [
             0.6,
             "#e6f5d0"
            ],
            [
             0.7,
             "#b8e186"
            ],
            [
             0.8,
             "#7fbc41"
            ],
            [
             0.9,
             "#4d9221"
            ],
            [
             1,
             "#276419"
            ]
           ],
           "sequential": [
            [
             0,
             "#0d0887"
            ],
            [
             0.1111111111111111,
             "#46039f"
            ],
            [
             0.2222222222222222,
             "#7201a8"
            ],
            [
             0.3333333333333333,
             "#9c179e"
            ],
            [
             0.4444444444444444,
             "#bd3786"
            ],
            [
             0.5555555555555556,
             "#d8576b"
            ],
            [
             0.6666666666666666,
             "#ed7953"
            ],
            [
             0.7777777777777778,
             "#fb9f3a"
            ],
            [
             0.8888888888888888,
             "#fdca26"
            ],
            [
             1,
             "#f0f921"
            ]
           ],
           "sequentialminus": [
            [
             0,
             "#0d0887"
            ],
            [
             0.1111111111111111,
             "#46039f"
            ],
            [
             0.2222222222222222,
             "#7201a8"
            ],
            [
             0.3333333333333333,
             "#9c179e"
            ],
            [
             0.4444444444444444,
             "#bd3786"
            ],
            [
             0.5555555555555556,
             "#d8576b"
            ],
            [
             0.6666666666666666,
             "#ed7953"
            ],
            [
             0.7777777777777778,
             "#fb9f3a"
            ],
            [
             0.8888888888888888,
             "#fdca26"
            ],
            [
             1,
             "#f0f921"
            ]
           ]
          },
          "colorway": [
           "#636efa",
           "#EF553B",
           "#00cc96",
           "#ab63fa",
           "#FFA15A",
           "#19d3f3",
           "#FF6692",
           "#B6E880",
           "#FF97FF",
           "#FECB52"
          ],
          "font": {
           "color": "#2a3f5f"
          },
          "geo": {
           "bgcolor": "white",
           "lakecolor": "white",
           "landcolor": "#E5ECF6",
           "showlakes": true,
           "showland": true,
           "subunitcolor": "white"
          },
          "hoverlabel": {
           "align": "left"
          },
          "hovermode": "closest",
          "mapbox": {
           "style": "light"
          },
          "paper_bgcolor": "white",
          "plot_bgcolor": "#E5ECF6",
          "polar": {
           "angularaxis": {
            "gridcolor": "white",
            "linecolor": "white",
            "ticks": ""
           },
           "bgcolor": "#E5ECF6",
           "radialaxis": {
            "gridcolor": "white",
            "linecolor": "white",
            "ticks": ""
           }
          },
          "scene": {
           "xaxis": {
            "backgroundcolor": "#E5ECF6",
            "gridcolor": "white",
            "gridwidth": 2,
            "linecolor": "white",
            "showbackground": true,
            "ticks": "",
            "zerolinecolor": "white"
           },
           "yaxis": {
            "backgroundcolor": "#E5ECF6",
            "gridcolor": "white",
            "gridwidth": 2,
            "linecolor": "white",
            "showbackground": true,
            "ticks": "",
            "zerolinecolor": "white"
           },
           "zaxis": {
            "backgroundcolor": "#E5ECF6",
            "gridcolor": "white",
            "gridwidth": 2,
            "linecolor": "white",
            "showbackground": true,
            "ticks": "",
            "zerolinecolor": "white"
           }
          },
          "shapedefaults": {
           "line": {
            "color": "#2a3f5f"
           }
          },
          "ternary": {
           "aaxis": {
            "gridcolor": "white",
            "linecolor": "white",
            "ticks": ""
           },
           "baxis": {
            "gridcolor": "white",
            "linecolor": "white",
            "ticks": ""
           },
           "bgcolor": "#E5ECF6",
           "caxis": {
            "gridcolor": "white",
            "linecolor": "white",
            "ticks": ""
           }
          },
          "title": {
           "x": 0.05
          },
          "xaxis": {
           "automargin": true,
           "gridcolor": "white",
           "linecolor": "white",
           "ticks": "",
           "title": {
            "standoff": 15
           },
           "zerolinecolor": "white",
           "zerolinewidth": 2
          },
          "yaxis": {
           "automargin": true,
           "gridcolor": "white",
           "linecolor": "white",
           "ticks": "",
           "title": {
            "standoff": 15
           },
           "zerolinecolor": "white",
           "zerolinewidth": 2
          }
         }
        },
        "title": {
         "text": "Voter Turnout in North West"
        },
        "xaxis": {
         "anchor": "y",
         "domain": [
          0,
          1
         ],
         "title": {
          "text": "index"
         }
        },
        "yaxis": {
         "anchor": "x",
         "domain": [
          0,
          1
         ],
         "title": {
          "text": "y"
         }
        }
       }
      }
     },
     "metadata": {},
     "output_type": "display_data"
    },
    {
     "data": {
      "application/vnd.plotly.v1+json": {
       "config": {
        "plotlyServerURL": "https://plot.ly"
       },
       "data": [
        {
         "alignmentgroup": "True",
         "hovertemplate": "index=%{x}<br>y=%{y}<extra></extra>",
         "legendgroup": "",
         "marker": {
          "color": "#636efa",
          "pattern": {
           "shape": ""
          }
         },
         "name": "",
         "offsetgroup": "",
         "orientation": "v",
         "showlegend": false,
         "textposition": "auto",
         "type": "bar",
         "x": [
          "ConVote19",
          "LabVote19",
          "LDVote19",
          "SNPVote19",
          "PCVote19",
          "UKIPVote19",
          "GreenVote19",
          "BrexitVote19",
          "TotalVote19"
         ],
         "xaxis": "x",
         "y": [
          1280724,
          740975,
          182656,
          0,
          0,
          1508,
          60067,
          35344,
          2301274
         ],
         "yaxis": "y"
        }
       ],
       "layout": {
        "barmode": "relative",
        "legend": {
         "tracegroupgap": 0
        },
        "template": {
         "data": {
          "bar": [
           {
            "error_x": {
             "color": "#2a3f5f"
            },
            "error_y": {
             "color": "#2a3f5f"
            },
            "marker": {
             "line": {
              "color": "#E5ECF6",
              "width": 0.5
             },
             "pattern": {
              "fillmode": "overlay",
              "size": 10,
              "solidity": 0.2
             }
            },
            "type": "bar"
           }
          ],
          "barpolar": [
           {
            "marker": {
             "line": {
              "color": "#E5ECF6",
              "width": 0.5
             },
             "pattern": {
              "fillmode": "overlay",
              "size": 10,
              "solidity": 0.2
             }
            },
            "type": "barpolar"
           }
          ],
          "carpet": [
           {
            "aaxis": {
             "endlinecolor": "#2a3f5f",
             "gridcolor": "white",
             "linecolor": "white",
             "minorgridcolor": "white",
             "startlinecolor": "#2a3f5f"
            },
            "baxis": {
             "endlinecolor": "#2a3f5f",
             "gridcolor": "white",
             "linecolor": "white",
             "minorgridcolor": "white",
             "startlinecolor": "#2a3f5f"
            },
            "type": "carpet"
           }
          ],
          "choropleth": [
           {
            "colorbar": {
             "outlinewidth": 0,
             "ticks": ""
            },
            "type": "choropleth"
           }
          ],
          "contour": [
           {
            "colorbar": {
             "outlinewidth": 0,
             "ticks": ""
            },
            "colorscale": [
             [
              0,
              "#0d0887"
             ],
             [
              0.1111111111111111,
              "#46039f"
             ],
             [
              0.2222222222222222,
              "#7201a8"
             ],
             [
              0.3333333333333333,
              "#9c179e"
             ],
             [
              0.4444444444444444,
              "#bd3786"
             ],
             [
              0.5555555555555556,
              "#d8576b"
             ],
             [
              0.6666666666666666,
              "#ed7953"
             ],
             [
              0.7777777777777778,
              "#fb9f3a"
             ],
             [
              0.8888888888888888,
              "#fdca26"
             ],
             [
              1,
              "#f0f921"
             ]
            ],
            "type": "contour"
           }
          ],
          "contourcarpet": [
           {
            "colorbar": {
             "outlinewidth": 0,
             "ticks": ""
            },
            "type": "contourcarpet"
           }
          ],
          "heatmap": [
           {
            "colorbar": {
             "outlinewidth": 0,
             "ticks": ""
            },
            "colorscale": [
             [
              0,
              "#0d0887"
             ],
             [
              0.1111111111111111,
              "#46039f"
             ],
             [
              0.2222222222222222,
              "#7201a8"
             ],
             [
              0.3333333333333333,
              "#9c179e"
             ],
             [
              0.4444444444444444,
              "#bd3786"
             ],
             [
              0.5555555555555556,
              "#d8576b"
             ],
             [
              0.6666666666666666,
              "#ed7953"
             ],
             [
              0.7777777777777778,
              "#fb9f3a"
             ],
             [
              0.8888888888888888,
              "#fdca26"
             ],
             [
              1,
              "#f0f921"
             ]
            ],
            "type": "heatmap"
           }
          ],
          "heatmapgl": [
           {
            "colorbar": {
             "outlinewidth": 0,
             "ticks": ""
            },
            "colorscale": [
             [
              0,
              "#0d0887"
             ],
             [
              0.1111111111111111,
              "#46039f"
             ],
             [
              0.2222222222222222,
              "#7201a8"
             ],
             [
              0.3333333333333333,
              "#9c179e"
             ],
             [
              0.4444444444444444,
              "#bd3786"
             ],
             [
              0.5555555555555556,
              "#d8576b"
             ],
             [
              0.6666666666666666,
              "#ed7953"
             ],
             [
              0.7777777777777778,
              "#fb9f3a"
             ],
             [
              0.8888888888888888,
              "#fdca26"
             ],
             [
              1,
              "#f0f921"
             ]
            ],
            "type": "heatmapgl"
           }
          ],
          "histogram": [
           {
            "marker": {
             "pattern": {
              "fillmode": "overlay",
              "size": 10,
              "solidity": 0.2
             }
            },
            "type": "histogram"
           }
          ],
          "histogram2d": [
           {
            "colorbar": {
             "outlinewidth": 0,
             "ticks": ""
            },
            "colorscale": [
             [
              0,
              "#0d0887"
             ],
             [
              0.1111111111111111,
              "#46039f"
             ],
             [
              0.2222222222222222,
              "#7201a8"
             ],
             [
              0.3333333333333333,
              "#9c179e"
             ],
             [
              0.4444444444444444,
              "#bd3786"
             ],
             [
              0.5555555555555556,
              "#d8576b"
             ],
             [
              0.6666666666666666,
              "#ed7953"
             ],
             [
              0.7777777777777778,
              "#fb9f3a"
             ],
             [
              0.8888888888888888,
              "#fdca26"
             ],
             [
              1,
              "#f0f921"
             ]
            ],
            "type": "histogram2d"
           }
          ],
          "histogram2dcontour": [
           {
            "colorbar": {
             "outlinewidth": 0,
             "ticks": ""
            },
            "colorscale": [
             [
              0,
              "#0d0887"
             ],
             [
              0.1111111111111111,
              "#46039f"
             ],
             [
              0.2222222222222222,
              "#7201a8"
             ],
             [
              0.3333333333333333,
              "#9c179e"
             ],
             [
              0.4444444444444444,
              "#bd3786"
             ],
             [
              0.5555555555555556,
              "#d8576b"
             ],
             [
              0.6666666666666666,
              "#ed7953"
             ],
             [
              0.7777777777777778,
              "#fb9f3a"
             ],
             [
              0.8888888888888888,
              "#fdca26"
             ],
             [
              1,
              "#f0f921"
             ]
            ],
            "type": "histogram2dcontour"
           }
          ],
          "mesh3d": [
           {
            "colorbar": {
             "outlinewidth": 0,
             "ticks": ""
            },
            "type": "mesh3d"
           }
          ],
          "parcoords": [
           {
            "line": {
             "colorbar": {
              "outlinewidth": 0,
              "ticks": ""
             }
            },
            "type": "parcoords"
           }
          ],
          "pie": [
           {
            "automargin": true,
            "type": "pie"
           }
          ],
          "scatter": [
           {
            "fillpattern": {
             "fillmode": "overlay",
             "size": 10,
             "solidity": 0.2
            },
            "type": "scatter"
           }
          ],
          "scatter3d": [
           {
            "line": {
             "colorbar": {
              "outlinewidth": 0,
              "ticks": ""
             }
            },
            "marker": {
             "colorbar": {
              "outlinewidth": 0,
              "ticks": ""
             }
            },
            "type": "scatter3d"
           }
          ],
          "scattercarpet": [
           {
            "marker": {
             "colorbar": {
              "outlinewidth": 0,
              "ticks": ""
             }
            },
            "type": "scattercarpet"
           }
          ],
          "scattergeo": [
           {
            "marker": {
             "colorbar": {
              "outlinewidth": 0,
              "ticks": ""
             }
            },
            "type": "scattergeo"
           }
          ],
          "scattergl": [
           {
            "marker": {
             "colorbar": {
              "outlinewidth": 0,
              "ticks": ""
             }
            },
            "type": "scattergl"
           }
          ],
          "scattermapbox": [
           {
            "marker": {
             "colorbar": {
              "outlinewidth": 0,
              "ticks": ""
             }
            },
            "type": "scattermapbox"
           }
          ],
          "scatterpolar": [
           {
            "marker": {
             "colorbar": {
              "outlinewidth": 0,
              "ticks": ""
             }
            },
            "type": "scatterpolar"
           }
          ],
          "scatterpolargl": [
           {
            "marker": {
             "colorbar": {
              "outlinewidth": 0,
              "ticks": ""
             }
            },
            "type": "scatterpolargl"
           }
          ],
          "scatterternary": [
           {
            "marker": {
             "colorbar": {
              "outlinewidth": 0,
              "ticks": ""
             }
            },
            "type": "scatterternary"
           }
          ],
          "surface": [
           {
            "colorbar": {
             "outlinewidth": 0,
             "ticks": ""
            },
            "colorscale": [
             [
              0,
              "#0d0887"
             ],
             [
              0.1111111111111111,
              "#46039f"
             ],
             [
              0.2222222222222222,
              "#7201a8"
             ],
             [
              0.3333333333333333,
              "#9c179e"
             ],
             [
              0.4444444444444444,
              "#bd3786"
             ],
             [
              0.5555555555555556,
              "#d8576b"
             ],
             [
              0.6666666666666666,
              "#ed7953"
             ],
             [
              0.7777777777777778,
              "#fb9f3a"
             ],
             [
              0.8888888888888888,
              "#fdca26"
             ],
             [
              1,
              "#f0f921"
             ]
            ],
            "type": "surface"
           }
          ],
          "table": [
           {
            "cells": {
             "fill": {
              "color": "#EBF0F8"
             },
             "line": {
              "color": "white"
             }
            },
            "header": {
             "fill": {
              "color": "#C8D4E3"
             },
             "line": {
              "color": "white"
             }
            },
            "type": "table"
           }
          ]
         },
         "layout": {
          "annotationdefaults": {
           "arrowcolor": "#2a3f5f",
           "arrowhead": 0,
           "arrowwidth": 1
          },
          "autotypenumbers": "strict",
          "coloraxis": {
           "colorbar": {
            "outlinewidth": 0,
            "ticks": ""
           }
          },
          "colorscale": {
           "diverging": [
            [
             0,
             "#8e0152"
            ],
            [
             0.1,
             "#c51b7d"
            ],
            [
             0.2,
             "#de77ae"
            ],
            [
             0.3,
             "#f1b6da"
            ],
            [
             0.4,
             "#fde0ef"
            ],
            [
             0.5,
             "#f7f7f7"
            ],
            [
             0.6,
             "#e6f5d0"
            ],
            [
             0.7,
             "#b8e186"
            ],
            [
             0.8,
             "#7fbc41"
            ],
            [
             0.9,
             "#4d9221"
            ],
            [
             1,
             "#276419"
            ]
           ],
           "sequential": [
            [
             0,
             "#0d0887"
            ],
            [
             0.1111111111111111,
             "#46039f"
            ],
            [
             0.2222222222222222,
             "#7201a8"
            ],
            [
             0.3333333333333333,
             "#9c179e"
            ],
            [
             0.4444444444444444,
             "#bd3786"
            ],
            [
             0.5555555555555556,
             "#d8576b"
            ],
            [
             0.6666666666666666,
             "#ed7953"
            ],
            [
             0.7777777777777778,
             "#fb9f3a"
            ],
            [
             0.8888888888888888,
             "#fdca26"
            ],
            [
             1,
             "#f0f921"
            ]
           ],
           "sequentialminus": [
            [
             0,
             "#0d0887"
            ],
            [
             0.1111111111111111,
             "#46039f"
            ],
            [
             0.2222222222222222,
             "#7201a8"
            ],
            [
             0.3333333333333333,
             "#9c179e"
            ],
            [
             0.4444444444444444,
             "#bd3786"
            ],
            [
             0.5555555555555556,
             "#d8576b"
            ],
            [
             0.6666666666666666,
             "#ed7953"
            ],
            [
             0.7777777777777778,
             "#fb9f3a"
            ],
            [
             0.8888888888888888,
             "#fdca26"
            ],
            [
             1,
             "#f0f921"
            ]
           ]
          },
          "colorway": [
           "#636efa",
           "#EF553B",
           "#00cc96",
           "#ab63fa",
           "#FFA15A",
           "#19d3f3",
           "#FF6692",
           "#B6E880",
           "#FF97FF",
           "#FECB52"
          ],
          "font": {
           "color": "#2a3f5f"
          },
          "geo": {
           "bgcolor": "white",
           "lakecolor": "white",
           "landcolor": "#E5ECF6",
           "showlakes": true,
           "showland": true,
           "subunitcolor": "white"
          },
          "hoverlabel": {
           "align": "left"
          },
          "hovermode": "closest",
          "mapbox": {
           "style": "light"
          },
          "paper_bgcolor": "white",
          "plot_bgcolor": "#E5ECF6",
          "polar": {
           "angularaxis": {
            "gridcolor": "white",
            "linecolor": "white",
            "ticks": ""
           },
           "bgcolor": "#E5ECF6",
           "radialaxis": {
            "gridcolor": "white",
            "linecolor": "white",
            "ticks": ""
           }
          },
          "scene": {
           "xaxis": {
            "backgroundcolor": "#E5ECF6",
            "gridcolor": "white",
            "gridwidth": 2,
            "linecolor": "white",
            "showbackground": true,
            "ticks": "",
            "zerolinecolor": "white"
           },
           "yaxis": {
            "backgroundcolor": "#E5ECF6",
            "gridcolor": "white",
            "gridwidth": 2,
            "linecolor": "white",
            "showbackground": true,
            "ticks": "",
            "zerolinecolor": "white"
           },
           "zaxis": {
            "backgroundcolor": "#E5ECF6",
            "gridcolor": "white",
            "gridwidth": 2,
            "linecolor": "white",
            "showbackground": true,
            "ticks": "",
            "zerolinecolor": "white"
           }
          },
          "shapedefaults": {
           "line": {
            "color": "#2a3f5f"
           }
          },
          "ternary": {
           "aaxis": {
            "gridcolor": "white",
            "linecolor": "white",
            "ticks": ""
           },
           "baxis": {
            "gridcolor": "white",
            "linecolor": "white",
            "ticks": ""
           },
           "bgcolor": "#E5ECF6",
           "caxis": {
            "gridcolor": "white",
            "linecolor": "white",
            "ticks": ""
           }
          },
          "title": {
           "x": 0.05
          },
          "xaxis": {
           "automargin": true,
           "gridcolor": "white",
           "linecolor": "white",
           "ticks": "",
           "title": {
            "standoff": 15
           },
           "zerolinecolor": "white",
           "zerolinewidth": 2
          },
          "yaxis": {
           "automargin": true,
           "gridcolor": "white",
           "linecolor": "white",
           "ticks": "",
           "title": {
            "standoff": 15
           },
           "zerolinecolor": "white",
           "zerolinewidth": 2
          }
         }
        },
        "title": {
         "text": "Voter Turnout in East Midlands"
        },
        "xaxis": {
         "anchor": "y",
         "domain": [
          0,
          1
         ],
         "title": {
          "text": "index"
         }
        },
        "yaxis": {
         "anchor": "x",
         "domain": [
          0,
          1
         ],
         "title": {
          "text": "y"
         }
        }
       }
      }
     },
     "metadata": {},
     "output_type": "display_data"
    },
    {
     "data": {
      "application/vnd.plotly.v1+json": {
       "config": {
        "plotlyServerURL": "https://plot.ly"
       },
       "data": [
        {
         "alignmentgroup": "True",
         "hovertemplate": "index=%{x}<br>y=%{y}<extra></extra>",
         "legendgroup": "",
         "marker": {
          "color": "#636efa",
          "pattern": {
           "shape": ""
          }
         },
         "name": "",
         "offsetgroup": "",
         "orientation": "v",
         "showlegend": false,
         "textposition": "auto",
         "type": "bar",
         "x": [
          "ConVote19",
          "LabVote19",
          "LDVote19",
          "SNPVote19",
          "PCVote19",
          "UKIPVote19",
          "GreenVote19",
          "BrexitVote19",
          "TotalVote19"
         ],
         "xaxis": "x",
         "y": [
          1205129,
          1812810,
          562564,
          0,
          0,
          1060,
          115527,
          51735,
          3748825
         ],
         "yaxis": "y"
        }
       ],
       "layout": {
        "barmode": "relative",
        "legend": {
         "tracegroupgap": 0
        },
        "template": {
         "data": {
          "bar": [
           {
            "error_x": {
             "color": "#2a3f5f"
            },
            "error_y": {
             "color": "#2a3f5f"
            },
            "marker": {
             "line": {
              "color": "#E5ECF6",
              "width": 0.5
             },
             "pattern": {
              "fillmode": "overlay",
              "size": 10,
              "solidity": 0.2
             }
            },
            "type": "bar"
           }
          ],
          "barpolar": [
           {
            "marker": {
             "line": {
              "color": "#E5ECF6",
              "width": 0.5
             },
             "pattern": {
              "fillmode": "overlay",
              "size": 10,
              "solidity": 0.2
             }
            },
            "type": "barpolar"
           }
          ],
          "carpet": [
           {
            "aaxis": {
             "endlinecolor": "#2a3f5f",
             "gridcolor": "white",
             "linecolor": "white",
             "minorgridcolor": "white",
             "startlinecolor": "#2a3f5f"
            },
            "baxis": {
             "endlinecolor": "#2a3f5f",
             "gridcolor": "white",
             "linecolor": "white",
             "minorgridcolor": "white",
             "startlinecolor": "#2a3f5f"
            },
            "type": "carpet"
           }
          ],
          "choropleth": [
           {
            "colorbar": {
             "outlinewidth": 0,
             "ticks": ""
            },
            "type": "choropleth"
           }
          ],
          "contour": [
           {
            "colorbar": {
             "outlinewidth": 0,
             "ticks": ""
            },
            "colorscale": [
             [
              0,
              "#0d0887"
             ],
             [
              0.1111111111111111,
              "#46039f"
             ],
             [
              0.2222222222222222,
              "#7201a8"
             ],
             [
              0.3333333333333333,
              "#9c179e"
             ],
             [
              0.4444444444444444,
              "#bd3786"
             ],
             [
              0.5555555555555556,
              "#d8576b"
             ],
             [
              0.6666666666666666,
              "#ed7953"
             ],
             [
              0.7777777777777778,
              "#fb9f3a"
             ],
             [
              0.8888888888888888,
              "#fdca26"
             ],
             [
              1,
              "#f0f921"
             ]
            ],
            "type": "contour"
           }
          ],
          "contourcarpet": [
           {
            "colorbar": {
             "outlinewidth": 0,
             "ticks": ""
            },
            "type": "contourcarpet"
           }
          ],
          "heatmap": [
           {
            "colorbar": {
             "outlinewidth": 0,
             "ticks": ""
            },
            "colorscale": [
             [
              0,
              "#0d0887"
             ],
             [
              0.1111111111111111,
              "#46039f"
             ],
             [
              0.2222222222222222,
              "#7201a8"
             ],
             [
              0.3333333333333333,
              "#9c179e"
             ],
             [
              0.4444444444444444,
              "#bd3786"
             ],
             [
              0.5555555555555556,
              "#d8576b"
             ],
             [
              0.6666666666666666,
              "#ed7953"
             ],
             [
              0.7777777777777778,
              "#fb9f3a"
             ],
             [
              0.8888888888888888,
              "#fdca26"
             ],
             [
              1,
              "#f0f921"
             ]
            ],
            "type": "heatmap"
           }
          ],
          "heatmapgl": [
           {
            "colorbar": {
             "outlinewidth": 0,
             "ticks": ""
            },
            "colorscale": [
             [
              0,
              "#0d0887"
             ],
             [
              0.1111111111111111,
              "#46039f"
             ],
             [
              0.2222222222222222,
              "#7201a8"
             ],
             [
              0.3333333333333333,
              "#9c179e"
             ],
             [
              0.4444444444444444,
              "#bd3786"
             ],
             [
              0.5555555555555556,
              "#d8576b"
             ],
             [
              0.6666666666666666,
              "#ed7953"
             ],
             [
              0.7777777777777778,
              "#fb9f3a"
             ],
             [
              0.8888888888888888,
              "#fdca26"
             ],
             [
              1,
              "#f0f921"
             ]
            ],
            "type": "heatmapgl"
           }
          ],
          "histogram": [
           {
            "marker": {
             "pattern": {
              "fillmode": "overlay",
              "size": 10,
              "solidity": 0.2
             }
            },
            "type": "histogram"
           }
          ],
          "histogram2d": [
           {
            "colorbar": {
             "outlinewidth": 0,
             "ticks": ""
            },
            "colorscale": [
             [
              0,
              "#0d0887"
             ],
             [
              0.1111111111111111,
              "#46039f"
             ],
             [
              0.2222222222222222,
              "#7201a8"
             ],
             [
              0.3333333333333333,
              "#9c179e"
             ],
             [
              0.4444444444444444,
              "#bd3786"
             ],
             [
              0.5555555555555556,
              "#d8576b"
             ],
             [
              0.6666666666666666,
              "#ed7953"
             ],
             [
              0.7777777777777778,
              "#fb9f3a"
             ],
             [
              0.8888888888888888,
              "#fdca26"
             ],
             [
              1,
              "#f0f921"
             ]
            ],
            "type": "histogram2d"
           }
          ],
          "histogram2dcontour": [
           {
            "colorbar": {
             "outlinewidth": 0,
             "ticks": ""
            },
            "colorscale": [
             [
              0,
              "#0d0887"
             ],
             [
              0.1111111111111111,
              "#46039f"
             ],
             [
              0.2222222222222222,
              "#7201a8"
             ],
             [
              0.3333333333333333,
              "#9c179e"
             ],
             [
              0.4444444444444444,
              "#bd3786"
             ],
             [
              0.5555555555555556,
              "#d8576b"
             ],
             [
              0.6666666666666666,
              "#ed7953"
             ],
             [
              0.7777777777777778,
              "#fb9f3a"
             ],
             [
              0.8888888888888888,
              "#fdca26"
             ],
             [
              1,
              "#f0f921"
             ]
            ],
            "type": "histogram2dcontour"
           }
          ],
          "mesh3d": [
           {
            "colorbar": {
             "outlinewidth": 0,
             "ticks": ""
            },
            "type": "mesh3d"
           }
          ],
          "parcoords": [
           {
            "line": {
             "colorbar": {
              "outlinewidth": 0,
              "ticks": ""
             }
            },
            "type": "parcoords"
           }
          ],
          "pie": [
           {
            "automargin": true,
            "type": "pie"
           }
          ],
          "scatter": [
           {
            "fillpattern": {
             "fillmode": "overlay",
             "size": 10,
             "solidity": 0.2
            },
            "type": "scatter"
           }
          ],
          "scatter3d": [
           {
            "line": {
             "colorbar": {
              "outlinewidth": 0,
              "ticks": ""
             }
            },
            "marker": {
             "colorbar": {
              "outlinewidth": 0,
              "ticks": ""
             }
            },
            "type": "scatter3d"
           }
          ],
          "scattercarpet": [
           {
            "marker": {
             "colorbar": {
              "outlinewidth": 0,
              "ticks": ""
             }
            },
            "type": "scattercarpet"
           }
          ],
          "scattergeo": [
           {
            "marker": {
             "colorbar": {
              "outlinewidth": 0,
              "ticks": ""
             }
            },
            "type": "scattergeo"
           }
          ],
          "scattergl": [
           {
            "marker": {
             "colorbar": {
              "outlinewidth": 0,
              "ticks": ""
             }
            },
            "type": "scattergl"
           }
          ],
          "scattermapbox": [
           {
            "marker": {
             "colorbar": {
              "outlinewidth": 0,
              "ticks": ""
             }
            },
            "type": "scattermapbox"
           }
          ],
          "scatterpolar": [
           {
            "marker": {
             "colorbar": {
              "outlinewidth": 0,
              "ticks": ""
             }
            },
            "type": "scatterpolar"
           }
          ],
          "scatterpolargl": [
           {
            "marker": {
             "colorbar": {
              "outlinewidth": 0,
              "ticks": ""
             }
            },
            "type": "scatterpolargl"
           }
          ],
          "scatterternary": [
           {
            "marker": {
             "colorbar": {
              "outlinewidth": 0,
              "ticks": ""
             }
            },
            "type": "scatterternary"
           }
          ],
          "surface": [
           {
            "colorbar": {
             "outlinewidth": 0,
             "ticks": ""
            },
            "colorscale": [
             [
              0,
              "#0d0887"
             ],
             [
              0.1111111111111111,
              "#46039f"
             ],
             [
              0.2222222222222222,
              "#7201a8"
             ],
             [
              0.3333333333333333,
              "#9c179e"
             ],
             [
              0.4444444444444444,
              "#bd3786"
             ],
             [
              0.5555555555555556,
              "#d8576b"
             ],
             [
              0.6666666666666666,
              "#ed7953"
             ],
             [
              0.7777777777777778,
              "#fb9f3a"
             ],
             [
              0.8888888888888888,
              "#fdca26"
             ],
             [
              1,
              "#f0f921"
             ]
            ],
            "type": "surface"
           }
          ],
          "table": [
           {
            "cells": {
             "fill": {
              "color": "#EBF0F8"
             },
             "line": {
              "color": "white"
             }
            },
            "header": {
             "fill": {
              "color": "#C8D4E3"
             },
             "line": {
              "color": "white"
             }
            },
            "type": "table"
           }
          ]
         },
         "layout": {
          "annotationdefaults": {
           "arrowcolor": "#2a3f5f",
           "arrowhead": 0,
           "arrowwidth": 1
          },
          "autotypenumbers": "strict",
          "coloraxis": {
           "colorbar": {
            "outlinewidth": 0,
            "ticks": ""
           }
          },
          "colorscale": {
           "diverging": [
            [
             0,
             "#8e0152"
            ],
            [
             0.1,
             "#c51b7d"
            ],
            [
             0.2,
             "#de77ae"
            ],
            [
             0.3,
             "#f1b6da"
            ],
            [
             0.4,
             "#fde0ef"
            ],
            [
             0.5,
             "#f7f7f7"
            ],
            [
             0.6,
             "#e6f5d0"
            ],
            [
             0.7,
             "#b8e186"
            ],
            [
             0.8,
             "#7fbc41"
            ],
            [
             0.9,
             "#4d9221"
            ],
            [
             1,
             "#276419"
            ]
           ],
           "sequential": [
            [
             0,
             "#0d0887"
            ],
            [
             0.1111111111111111,
             "#46039f"
            ],
            [
             0.2222222222222222,
             "#7201a8"
            ],
            [
             0.3333333333333333,
             "#9c179e"
            ],
            [
             0.4444444444444444,
             "#bd3786"
            ],
            [
             0.5555555555555556,
             "#d8576b"
            ],
            [
             0.6666666666666666,
             "#ed7953"
            ],
            [
             0.7777777777777778,
             "#fb9f3a"
            ],
            [
             0.8888888888888888,
             "#fdca26"
            ],
            [
             1,
             "#f0f921"
            ]
           ],
           "sequentialminus": [
            [
             0,
             "#0d0887"
            ],
            [
             0.1111111111111111,
             "#46039f"
            ],
            [
             0.2222222222222222,
             "#7201a8"
            ],
            [
             0.3333333333333333,
             "#9c179e"
            ],
            [
             0.4444444444444444,
             "#bd3786"
            ],
            [
             0.5555555555555556,
             "#d8576b"
            ],
            [
             0.6666666666666666,
             "#ed7953"
            ],
            [
             0.7777777777777778,
             "#fb9f3a"
            ],
            [
             0.8888888888888888,
             "#fdca26"
            ],
            [
             1,
             "#f0f921"
            ]
           ]
          },
          "colorway": [
           "#636efa",
           "#EF553B",
           "#00cc96",
           "#ab63fa",
           "#FFA15A",
           "#19d3f3",
           "#FF6692",
           "#B6E880",
           "#FF97FF",
           "#FECB52"
          ],
          "font": {
           "color": "#2a3f5f"
          },
          "geo": {
           "bgcolor": "white",
           "lakecolor": "white",
           "landcolor": "#E5ECF6",
           "showlakes": true,
           "showland": true,
           "subunitcolor": "white"
          },
          "hoverlabel": {
           "align": "left"
          },
          "hovermode": "closest",
          "mapbox": {
           "style": "light"
          },
          "paper_bgcolor": "white",
          "plot_bgcolor": "#E5ECF6",
          "polar": {
           "angularaxis": {
            "gridcolor": "white",
            "linecolor": "white",
            "ticks": ""
           },
           "bgcolor": "#E5ECF6",
           "radialaxis": {
            "gridcolor": "white",
            "linecolor": "white",
            "ticks": ""
           }
          },
          "scene": {
           "xaxis": {
            "backgroundcolor": "#E5ECF6",
            "gridcolor": "white",
            "gridwidth": 2,
            "linecolor": "white",
            "showbackground": true,
            "ticks": "",
            "zerolinecolor": "white"
           },
           "yaxis": {
            "backgroundcolor": "#E5ECF6",
            "gridcolor": "white",
            "gridwidth": 2,
            "linecolor": "white",
            "showbackground": true,
            "ticks": "",
            "zerolinecolor": "white"
           },
           "zaxis": {
            "backgroundcolor": "#E5ECF6",
            "gridcolor": "white",
            "gridwidth": 2,
            "linecolor": "white",
            "showbackground": true,
            "ticks": "",
            "zerolinecolor": "white"
           }
          },
          "shapedefaults": {
           "line": {
            "color": "#2a3f5f"
           }
          },
          "ternary": {
           "aaxis": {
            "gridcolor": "white",
            "linecolor": "white",
            "ticks": ""
           },
           "baxis": {
            "gridcolor": "white",
            "linecolor": "white",
            "ticks": ""
           },
           "bgcolor": "#E5ECF6",
           "caxis": {
            "gridcolor": "white",
            "linecolor": "white",
            "ticks": ""
           }
          },
          "title": {
           "x": 0.05
          },
          "xaxis": {
           "automargin": true,
           "gridcolor": "white",
           "linecolor": "white",
           "ticks": "",
           "title": {
            "standoff": 15
           },
           "zerolinecolor": "white",
           "zerolinewidth": 2
          },
          "yaxis": {
           "automargin": true,
           "gridcolor": "white",
           "linecolor": "white",
           "ticks": "",
           "title": {
            "standoff": 15
           },
           "zerolinecolor": "white",
           "zerolinewidth": 2
          }
         }
        },
        "title": {
         "text": "Voter Turnout in London"
        },
        "xaxis": {
         "anchor": "y",
         "domain": [
          0,
          1
         ],
         "title": {
          "text": "index"
         }
        },
        "yaxis": {
         "anchor": "x",
         "domain": [
          0,
          1
         ],
         "title": {
          "text": "y"
         }
        }
       }
      }
     },
     "metadata": {},
     "output_type": "display_data"
    },
    {
     "data": {
      "application/vnd.plotly.v1+json": {
       "config": {
        "plotlyServerURL": "https://plot.ly"
       },
       "data": [
        {
         "alignmentgroup": "True",
         "hovertemplate": "index=%{x}<br>y=%{y}<extra></extra>",
         "legendgroup": "",
         "marker": {
          "color": "#636efa",
          "pattern": {
           "shape": ""
          }
         },
         "name": "",
         "offsetgroup": "",
         "orientation": "v",
         "showlegend": false,
         "textposition": "auto",
         "type": "bar",
         "x": [
          "ConVote19",
          "LabVote19",
          "LDVote19",
          "SNPVote19",
          "PCVote19",
          "UKIPVote19",
          "GreenVote19",
          "BrexitVote19",
          "TotalVote19"
         ],
         "xaxis": "x",
         "y": [
          1097376,
          989787,
          205225,
          0,
          0,
          983,
          57362,
          150561,
          2501294
         ],
         "yaxis": "y"
        }
       ],
       "layout": {
        "barmode": "relative",
        "legend": {
         "tracegroupgap": 0
        },
        "template": {
         "data": {
          "bar": [
           {
            "error_x": {
             "color": "#2a3f5f"
            },
            "error_y": {
             "color": "#2a3f5f"
            },
            "marker": {
             "line": {
              "color": "#E5ECF6",
              "width": 0.5
             },
             "pattern": {
              "fillmode": "overlay",
              "size": 10,
              "solidity": 0.2
             }
            },
            "type": "bar"
           }
          ],
          "barpolar": [
           {
            "marker": {
             "line": {
              "color": "#E5ECF6",
              "width": 0.5
             },
             "pattern": {
              "fillmode": "overlay",
              "size": 10,
              "solidity": 0.2
             }
            },
            "type": "barpolar"
           }
          ],
          "carpet": [
           {
            "aaxis": {
             "endlinecolor": "#2a3f5f",
             "gridcolor": "white",
             "linecolor": "white",
             "minorgridcolor": "white",
             "startlinecolor": "#2a3f5f"
            },
            "baxis": {
             "endlinecolor": "#2a3f5f",
             "gridcolor": "white",
             "linecolor": "white",
             "minorgridcolor": "white",
             "startlinecolor": "#2a3f5f"
            },
            "type": "carpet"
           }
          ],
          "choropleth": [
           {
            "colorbar": {
             "outlinewidth": 0,
             "ticks": ""
            },
            "type": "choropleth"
           }
          ],
          "contour": [
           {
            "colorbar": {
             "outlinewidth": 0,
             "ticks": ""
            },
            "colorscale": [
             [
              0,
              "#0d0887"
             ],
             [
              0.1111111111111111,
              "#46039f"
             ],
             [
              0.2222222222222222,
              "#7201a8"
             ],
             [
              0.3333333333333333,
              "#9c179e"
             ],
             [
              0.4444444444444444,
              "#bd3786"
             ],
             [
              0.5555555555555556,
              "#d8576b"
             ],
             [
              0.6666666666666666,
              "#ed7953"
             ],
             [
              0.7777777777777778,
              "#fb9f3a"
             ],
             [
              0.8888888888888888,
              "#fdca26"
             ],
             [
              1,
              "#f0f921"
             ]
            ],
            "type": "contour"
           }
          ],
          "contourcarpet": [
           {
            "colorbar": {
             "outlinewidth": 0,
             "ticks": ""
            },
            "type": "contourcarpet"
           }
          ],
          "heatmap": [
           {
            "colorbar": {
             "outlinewidth": 0,
             "ticks": ""
            },
            "colorscale": [
             [
              0,
              "#0d0887"
             ],
             [
              0.1111111111111111,
              "#46039f"
             ],
             [
              0.2222222222222222,
              "#7201a8"
             ],
             [
              0.3333333333333333,
              "#9c179e"
             ],
             [
              0.4444444444444444,
              "#bd3786"
             ],
             [
              0.5555555555555556,
              "#d8576b"
             ],
             [
              0.6666666666666666,
              "#ed7953"
             ],
             [
              0.7777777777777778,
              "#fb9f3a"
             ],
             [
              0.8888888888888888,
              "#fdca26"
             ],
             [
              1,
              "#f0f921"
             ]
            ],
            "type": "heatmap"
           }
          ],
          "heatmapgl": [
           {
            "colorbar": {
             "outlinewidth": 0,
             "ticks": ""
            },
            "colorscale": [
             [
              0,
              "#0d0887"
             ],
             [
              0.1111111111111111,
              "#46039f"
             ],
             [
              0.2222222222222222,
              "#7201a8"
             ],
             [
              0.3333333333333333,
              "#9c179e"
             ],
             [
              0.4444444444444444,
              "#bd3786"
             ],
             [
              0.5555555555555556,
              "#d8576b"
             ],
             [
              0.6666666666666666,
              "#ed7953"
             ],
             [
              0.7777777777777778,
              "#fb9f3a"
             ],
             [
              0.8888888888888888,
              "#fdca26"
             ],
             [
              1,
              "#f0f921"
             ]
            ],
            "type": "heatmapgl"
           }
          ],
          "histogram": [
           {
            "marker": {
             "pattern": {
              "fillmode": "overlay",
              "size": 10,
              "solidity": 0.2
             }
            },
            "type": "histogram"
           }
          ],
          "histogram2d": [
           {
            "colorbar": {
             "outlinewidth": 0,
             "ticks": ""
            },
            "colorscale": [
             [
              0,
              "#0d0887"
             ],
             [
              0.1111111111111111,
              "#46039f"
             ],
             [
              0.2222222222222222,
              "#7201a8"
             ],
             [
              0.3333333333333333,
              "#9c179e"
             ],
             [
              0.4444444444444444,
              "#bd3786"
             ],
             [
              0.5555555555555556,
              "#d8576b"
             ],
             [
              0.6666666666666666,
              "#ed7953"
             ],
             [
              0.7777777777777778,
              "#fb9f3a"
             ],
             [
              0.8888888888888888,
              "#fdca26"
             ],
             [
              1,
              "#f0f921"
             ]
            ],
            "type": "histogram2d"
           }
          ],
          "histogram2dcontour": [
           {
            "colorbar": {
             "outlinewidth": 0,
             "ticks": ""
            },
            "colorscale": [
             [
              0,
              "#0d0887"
             ],
             [
              0.1111111111111111,
              "#46039f"
             ],
             [
              0.2222222222222222,
              "#7201a8"
             ],
             [
              0.3333333333333333,
              "#9c179e"
             ],
             [
              0.4444444444444444,
              "#bd3786"
             ],
             [
              0.5555555555555556,
              "#d8576b"
             ],
             [
              0.6666666666666666,
              "#ed7953"
             ],
             [
              0.7777777777777778,
              "#fb9f3a"
             ],
             [
              0.8888888888888888,
              "#fdca26"
             ],
             [
              1,
              "#f0f921"
             ]
            ],
            "type": "histogram2dcontour"
           }
          ],
          "mesh3d": [
           {
            "colorbar": {
             "outlinewidth": 0,
             "ticks": ""
            },
            "type": "mesh3d"
           }
          ],
          "parcoords": [
           {
            "line": {
             "colorbar": {
              "outlinewidth": 0,
              "ticks": ""
             }
            },
            "type": "parcoords"
           }
          ],
          "pie": [
           {
            "automargin": true,
            "type": "pie"
           }
          ],
          "scatter": [
           {
            "fillpattern": {
             "fillmode": "overlay",
             "size": 10,
             "solidity": 0.2
            },
            "type": "scatter"
           }
          ],
          "scatter3d": [
           {
            "line": {
             "colorbar": {
              "outlinewidth": 0,
              "ticks": ""
             }
            },
            "marker": {
             "colorbar": {
              "outlinewidth": 0,
              "ticks": ""
             }
            },
            "type": "scatter3d"
           }
          ],
          "scattercarpet": [
           {
            "marker": {
             "colorbar": {
              "outlinewidth": 0,
              "ticks": ""
             }
            },
            "type": "scattercarpet"
           }
          ],
          "scattergeo": [
           {
            "marker": {
             "colorbar": {
              "outlinewidth": 0,
              "ticks": ""
             }
            },
            "type": "scattergeo"
           }
          ],
          "scattergl": [
           {
            "marker": {
             "colorbar": {
              "outlinewidth": 0,
              "ticks": ""
             }
            },
            "type": "scattergl"
           }
          ],
          "scattermapbox": [
           {
            "marker": {
             "colorbar": {
              "outlinewidth": 0,
              "ticks": ""
             }
            },
            "type": "scattermapbox"
           }
          ],
          "scatterpolar": [
           {
            "marker": {
             "colorbar": {
              "outlinewidth": 0,
              "ticks": ""
             }
            },
            "type": "scatterpolar"
           }
          ],
          "scatterpolargl": [
           {
            "marker": {
             "colorbar": {
              "outlinewidth": 0,
              "ticks": ""
             }
            },
            "type": "scatterpolargl"
           }
          ],
          "scatterternary": [
           {
            "marker": {
             "colorbar": {
              "outlinewidth": 0,
              "ticks": ""
             }
            },
            "type": "scatterternary"
           }
          ],
          "surface": [
           {
            "colorbar": {
             "outlinewidth": 0,
             "ticks": ""
            },
            "colorscale": [
             [
              0,
              "#0d0887"
             ],
             [
              0.1111111111111111,
              "#46039f"
             ],
             [
              0.2222222222222222,
              "#7201a8"
             ],
             [
              0.3333333333333333,
              "#9c179e"
             ],
             [
              0.4444444444444444,
              "#bd3786"
             ],
             [
              0.5555555555555556,
              "#d8576b"
             ],
             [
              0.6666666666666666,
              "#ed7953"
             ],
             [
              0.7777777777777778,
              "#fb9f3a"
             ],
             [
              0.8888888888888888,
              "#fdca26"
             ],
             [
              1,
              "#f0f921"
             ]
            ],
            "type": "surface"
           }
          ],
          "table": [
           {
            "cells": {
             "fill": {
              "color": "#EBF0F8"
             },
             "line": {
              "color": "white"
             }
            },
            "header": {
             "fill": {
              "color": "#C8D4E3"
             },
             "line": {
              "color": "white"
             }
            },
            "type": "table"
           }
          ]
         },
         "layout": {
          "annotationdefaults": {
           "arrowcolor": "#2a3f5f",
           "arrowhead": 0,
           "arrowwidth": 1
          },
          "autotypenumbers": "strict",
          "coloraxis": {
           "colorbar": {
            "outlinewidth": 0,
            "ticks": ""
           }
          },
          "colorscale": {
           "diverging": [
            [
             0,
             "#8e0152"
            ],
            [
             0.1,
             "#c51b7d"
            ],
            [
             0.2,
             "#de77ae"
            ],
            [
             0.3,
             "#f1b6da"
            ],
            [
             0.4,
             "#fde0ef"
            ],
            [
             0.5,
             "#f7f7f7"
            ],
            [
             0.6,
             "#e6f5d0"
            ],
            [
             0.7,
             "#b8e186"
            ],
            [
             0.8,
             "#7fbc41"
            ],
            [
             0.9,
             "#4d9221"
            ],
            [
             1,
             "#276419"
            ]
           ],
           "sequential": [
            [
             0,
             "#0d0887"
            ],
            [
             0.1111111111111111,
             "#46039f"
            ],
            [
             0.2222222222222222,
             "#7201a8"
            ],
            [
             0.3333333333333333,
             "#9c179e"
            ],
            [
             0.4444444444444444,
             "#bd3786"
            ],
            [
             0.5555555555555556,
             "#d8576b"
            ],
            [
             0.6666666666666666,
             "#ed7953"
            ],
            [
             0.7777777777777778,
             "#fb9f3a"
            ],
            [
             0.8888888888888888,
             "#fdca26"
            ],
            [
             1,
             "#f0f921"
            ]
           ],
           "sequentialminus": [
            [
             0,
             "#0d0887"
            ],
            [
             0.1111111111111111,
             "#46039f"
            ],
            [
             0.2222222222222222,
             "#7201a8"
            ],
            [
             0.3333333333333333,
             "#9c179e"
            ],
            [
             0.4444444444444444,
             "#bd3786"
            ],
            [
             0.5555555555555556,
             "#d8576b"
            ],
            [
             0.6666666666666666,
             "#ed7953"
            ],
            [
             0.7777777777777778,
             "#fb9f3a"
            ],
            [
             0.8888888888888888,
             "#fdca26"
            ],
            [
             1,
             "#f0f921"
            ]
           ]
          },
          "colorway": [
           "#636efa",
           "#EF553B",
           "#00cc96",
           "#ab63fa",
           "#FFA15A",
           "#19d3f3",
           "#FF6692",
           "#B6E880",
           "#FF97FF",
           "#FECB52"
          ],
          "font": {
           "color": "#2a3f5f"
          },
          "geo": {
           "bgcolor": "white",
           "lakecolor": "white",
           "landcolor": "#E5ECF6",
           "showlakes": true,
           "showland": true,
           "subunitcolor": "white"
          },
          "hoverlabel": {
           "align": "left"
          },
          "hovermode": "closest",
          "mapbox": {
           "style": "light"
          },
          "paper_bgcolor": "white",
          "plot_bgcolor": "#E5ECF6",
          "polar": {
           "angularaxis": {
            "gridcolor": "white",
            "linecolor": "white",
            "ticks": ""
           },
           "bgcolor": "#E5ECF6",
           "radialaxis": {
            "gridcolor": "white",
            "linecolor": "white",
            "ticks": ""
           }
          },
          "scene": {
           "xaxis": {
            "backgroundcolor": "#E5ECF6",
            "gridcolor": "white",
            "gridwidth": 2,
            "linecolor": "white",
            "showbackground": true,
            "ticks": "",
            "zerolinecolor": "white"
           },
           "yaxis": {
            "backgroundcolor": "#E5ECF6",
            "gridcolor": "white",
            "gridwidth": 2,
            "linecolor": "white",
            "showbackground": true,
            "ticks": "",
            "zerolinecolor": "white"
           },
           "zaxis": {
            "backgroundcolor": "#E5ECF6",
            "gridcolor": "white",
            "gridwidth": 2,
            "linecolor": "white",
            "showbackground": true,
            "ticks": "",
            "zerolinecolor": "white"
           }
          },
          "shapedefaults": {
           "line": {
            "color": "#2a3f5f"
           }
          },
          "ternary": {
           "aaxis": {
            "gridcolor": "white",
            "linecolor": "white",
            "ticks": ""
           },
           "baxis": {
            "gridcolor": "white",
            "linecolor": "white",
            "ticks": ""
           },
           "bgcolor": "#E5ECF6",
           "caxis": {
            "gridcolor": "white",
            "linecolor": "white",
            "ticks": ""
           }
          },
          "title": {
           "x": 0.05
          },
          "xaxis": {
           "automargin": true,
           "gridcolor": "white",
           "linecolor": "white",
           "ticks": "",
           "title": {
            "standoff": 15
           },
           "zerolinecolor": "white",
           "zerolinewidth": 2
          },
          "yaxis": {
           "automargin": true,
           "gridcolor": "white",
           "linecolor": "white",
           "ticks": "",
           "title": {
            "standoff": 15
           },
           "zerolinecolor": "white",
           "zerolinewidth": 2
          }
         }
        },
        "title": {
         "text": "Voter Turnout in Yorkshire and The Humber"
        },
        "xaxis": {
         "anchor": "y",
         "domain": [
          0,
          1
         ],
         "title": {
          "text": "index"
         }
        },
        "yaxis": {
         "anchor": "x",
         "domain": [
          0,
          1
         ],
         "title": {
          "text": "y"
         }
        }
       }
      }
     },
     "metadata": {},
     "output_type": "display_data"
    },
    {
     "data": {
      "application/vnd.plotly.v1+json": {
       "config": {
        "plotlyServerURL": "https://plot.ly"
       },
       "data": [
        {
         "alignmentgroup": "True",
         "hovertemplate": "index=%{x}<br>y=%{y}<extra></extra>",
         "legendgroup": "",
         "marker": {
          "color": "#636efa",
          "pattern": {
           "shape": ""
          }
         },
         "name": "",
         "offsetgroup": "",
         "orientation": "v",
         "showlegend": false,
         "textposition": "auto",
         "type": "bar",
         "x": [
          "ConVote19",
          "LabVote19",
          "LDVote19",
          "SNPVote19",
          "PCVote19",
          "UKIPVote19",
          "GreenVote19",
          "BrexitVote19",
          "TotalVote19"
         ],
         "xaxis": "x",
         "y": [
          1754091,
          749906,
          410849,
          0,
          0,
          1169,
          90965,
          11707,
          3018687
         ],
         "yaxis": "y"
        }
       ],
       "layout": {
        "barmode": "relative",
        "legend": {
         "tracegroupgap": 0
        },
        "template": {
         "data": {
          "bar": [
           {
            "error_x": {
             "color": "#2a3f5f"
            },
            "error_y": {
             "color": "#2a3f5f"
            },
            "marker": {
             "line": {
              "color": "#E5ECF6",
              "width": 0.5
             },
             "pattern": {
              "fillmode": "overlay",
              "size": 10,
              "solidity": 0.2
             }
            },
            "type": "bar"
           }
          ],
          "barpolar": [
           {
            "marker": {
             "line": {
              "color": "#E5ECF6",
              "width": 0.5
             },
             "pattern": {
              "fillmode": "overlay",
              "size": 10,
              "solidity": 0.2
             }
            },
            "type": "barpolar"
           }
          ],
          "carpet": [
           {
            "aaxis": {
             "endlinecolor": "#2a3f5f",
             "gridcolor": "white",
             "linecolor": "white",
             "minorgridcolor": "white",
             "startlinecolor": "#2a3f5f"
            },
            "baxis": {
             "endlinecolor": "#2a3f5f",
             "gridcolor": "white",
             "linecolor": "white",
             "minorgridcolor": "white",
             "startlinecolor": "#2a3f5f"
            },
            "type": "carpet"
           }
          ],
          "choropleth": [
           {
            "colorbar": {
             "outlinewidth": 0,
             "ticks": ""
            },
            "type": "choropleth"
           }
          ],
          "contour": [
           {
            "colorbar": {
             "outlinewidth": 0,
             "ticks": ""
            },
            "colorscale": [
             [
              0,
              "#0d0887"
             ],
             [
              0.1111111111111111,
              "#46039f"
             ],
             [
              0.2222222222222222,
              "#7201a8"
             ],
             [
              0.3333333333333333,
              "#9c179e"
             ],
             [
              0.4444444444444444,
              "#bd3786"
             ],
             [
              0.5555555555555556,
              "#d8576b"
             ],
             [
              0.6666666666666666,
              "#ed7953"
             ],
             [
              0.7777777777777778,
              "#fb9f3a"
             ],
             [
              0.8888888888888888,
              "#fdca26"
             ],
             [
              1,
              "#f0f921"
             ]
            ],
            "type": "contour"
           }
          ],
          "contourcarpet": [
           {
            "colorbar": {
             "outlinewidth": 0,
             "ticks": ""
            },
            "type": "contourcarpet"
           }
          ],
          "heatmap": [
           {
            "colorbar": {
             "outlinewidth": 0,
             "ticks": ""
            },
            "colorscale": [
             [
              0,
              "#0d0887"
             ],
             [
              0.1111111111111111,
              "#46039f"
             ],
             [
              0.2222222222222222,
              "#7201a8"
             ],
             [
              0.3333333333333333,
              "#9c179e"
             ],
             [
              0.4444444444444444,
              "#bd3786"
             ],
             [
              0.5555555555555556,
              "#d8576b"
             ],
             [
              0.6666666666666666,
              "#ed7953"
             ],
             [
              0.7777777777777778,
              "#fb9f3a"
             ],
             [
              0.8888888888888888,
              "#fdca26"
             ],
             [
              1,
              "#f0f921"
             ]
            ],
            "type": "heatmap"
           }
          ],
          "heatmapgl": [
           {
            "colorbar": {
             "outlinewidth": 0,
             "ticks": ""
            },
            "colorscale": [
             [
              0,
              "#0d0887"
             ],
             [
              0.1111111111111111,
              "#46039f"
             ],
             [
              0.2222222222222222,
              "#7201a8"
             ],
             [
              0.3333333333333333,
              "#9c179e"
             ],
             [
              0.4444444444444444,
              "#bd3786"
             ],
             [
              0.5555555555555556,
              "#d8576b"
             ],
             [
              0.6666666666666666,
              "#ed7953"
             ],
             [
              0.7777777777777778,
              "#fb9f3a"
             ],
             [
              0.8888888888888888,
              "#fdca26"
             ],
             [
              1,
              "#f0f921"
             ]
            ],
            "type": "heatmapgl"
           }
          ],
          "histogram": [
           {
            "marker": {
             "pattern": {
              "fillmode": "overlay",
              "size": 10,
              "solidity": 0.2
             }
            },
            "type": "histogram"
           }
          ],
          "histogram2d": [
           {
            "colorbar": {
             "outlinewidth": 0,
             "ticks": ""
            },
            "colorscale": [
             [
              0,
              "#0d0887"
             ],
             [
              0.1111111111111111,
              "#46039f"
             ],
             [
              0.2222222222222222,
              "#7201a8"
             ],
             [
              0.3333333333333333,
              "#9c179e"
             ],
             [
              0.4444444444444444,
              "#bd3786"
             ],
             [
              0.5555555555555556,
              "#d8576b"
             ],
             [
              0.6666666666666666,
              "#ed7953"
             ],
             [
              0.7777777777777778,
              "#fb9f3a"
             ],
             [
              0.8888888888888888,
              "#fdca26"
             ],
             [
              1,
              "#f0f921"
             ]
            ],
            "type": "histogram2d"
           }
          ],
          "histogram2dcontour": [
           {
            "colorbar": {
             "outlinewidth": 0,
             "ticks": ""
            },
            "colorscale": [
             [
              0,
              "#0d0887"
             ],
             [
              0.1111111111111111,
              "#46039f"
             ],
             [
              0.2222222222222222,
              "#7201a8"
             ],
             [
              0.3333333333333333,
              "#9c179e"
             ],
             [
              0.4444444444444444,
              "#bd3786"
             ],
             [
              0.5555555555555556,
              "#d8576b"
             ],
             [
              0.6666666666666666,
              "#ed7953"
             ],
             [
              0.7777777777777778,
              "#fb9f3a"
             ],
             [
              0.8888888888888888,
              "#fdca26"
             ],
             [
              1,
              "#f0f921"
             ]
            ],
            "type": "histogram2dcontour"
           }
          ],
          "mesh3d": [
           {
            "colorbar": {
             "outlinewidth": 0,
             "ticks": ""
            },
            "type": "mesh3d"
           }
          ],
          "parcoords": [
           {
            "line": {
             "colorbar": {
              "outlinewidth": 0,
              "ticks": ""
             }
            },
            "type": "parcoords"
           }
          ],
          "pie": [
           {
            "automargin": true,
            "type": "pie"
           }
          ],
          "scatter": [
           {
            "fillpattern": {
             "fillmode": "overlay",
             "size": 10,
             "solidity": 0.2
            },
            "type": "scatter"
           }
          ],
          "scatter3d": [
           {
            "line": {
             "colorbar": {
              "outlinewidth": 0,
              "ticks": ""
             }
            },
            "marker": {
             "colorbar": {
              "outlinewidth": 0,
              "ticks": ""
             }
            },
            "type": "scatter3d"
           }
          ],
          "scattercarpet": [
           {
            "marker": {
             "colorbar": {
              "outlinewidth": 0,
              "ticks": ""
             }
            },
            "type": "scattercarpet"
           }
          ],
          "scattergeo": [
           {
            "marker": {
             "colorbar": {
              "outlinewidth": 0,
              "ticks": ""
             }
            },
            "type": "scattergeo"
           }
          ],
          "scattergl": [
           {
            "marker": {
             "colorbar": {
              "outlinewidth": 0,
              "ticks": ""
             }
            },
            "type": "scattergl"
           }
          ],
          "scattermapbox": [
           {
            "marker": {
             "colorbar": {
              "outlinewidth": 0,
              "ticks": ""
             }
            },
            "type": "scattermapbox"
           }
          ],
          "scatterpolar": [
           {
            "marker": {
             "colorbar": {
              "outlinewidth": 0,
              "ticks": ""
             }
            },
            "type": "scatterpolar"
           }
          ],
          "scatterpolargl": [
           {
            "marker": {
             "colorbar": {
              "outlinewidth": 0,
              "ticks": ""
             }
            },
            "type": "scatterpolargl"
           }
          ],
          "scatterternary": [
           {
            "marker": {
             "colorbar": {
              "outlinewidth": 0,
              "ticks": ""
             }
            },
            "type": "scatterternary"
           }
          ],
          "surface": [
           {
            "colorbar": {
             "outlinewidth": 0,
             "ticks": ""
            },
            "colorscale": [
             [
              0,
              "#0d0887"
             ],
             [
              0.1111111111111111,
              "#46039f"
             ],
             [
              0.2222222222222222,
              "#7201a8"
             ],
             [
              0.3333333333333333,
              "#9c179e"
             ],
             [
              0.4444444444444444,
              "#bd3786"
             ],
             [
              0.5555555555555556,
              "#d8576b"
             ],
             [
              0.6666666666666666,
              "#ed7953"
             ],
             [
              0.7777777777777778,
              "#fb9f3a"
             ],
             [
              0.8888888888888888,
              "#fdca26"
             ],
             [
              1,
              "#f0f921"
             ]
            ],
            "type": "surface"
           }
          ],
          "table": [
           {
            "cells": {
             "fill": {
              "color": "#EBF0F8"
             },
             "line": {
              "color": "white"
             }
            },
            "header": {
             "fill": {
              "color": "#C8D4E3"
             },
             "line": {
              "color": "white"
             }
            },
            "type": "table"
           }
          ]
         },
         "layout": {
          "annotationdefaults": {
           "arrowcolor": "#2a3f5f",
           "arrowhead": 0,
           "arrowwidth": 1
          },
          "autotypenumbers": "strict",
          "coloraxis": {
           "colorbar": {
            "outlinewidth": 0,
            "ticks": ""
           }
          },
          "colorscale": {
           "diverging": [
            [
             0,
             "#8e0152"
            ],
            [
             0.1,
             "#c51b7d"
            ],
            [
             0.2,
             "#de77ae"
            ],
            [
             0.3,
             "#f1b6da"
            ],
            [
             0.4,
             "#fde0ef"
            ],
            [
             0.5,
             "#f7f7f7"
            ],
            [
             0.6,
             "#e6f5d0"
            ],
            [
             0.7,
             "#b8e186"
            ],
            [
             0.8,
             "#7fbc41"
            ],
            [
             0.9,
             "#4d9221"
            ],
            [
             1,
             "#276419"
            ]
           ],
           "sequential": [
            [
             0,
             "#0d0887"
            ],
            [
             0.1111111111111111,
             "#46039f"
            ],
            [
             0.2222222222222222,
             "#7201a8"
            ],
            [
             0.3333333333333333,
             "#9c179e"
            ],
            [
             0.4444444444444444,
             "#bd3786"
            ],
            [
             0.5555555555555556,
             "#d8576b"
            ],
            [
             0.6666666666666666,
             "#ed7953"
            ],
            [
             0.7777777777777778,
             "#fb9f3a"
            ],
            [
             0.8888888888888888,
             "#fdca26"
            ],
            [
             1,
             "#f0f921"
            ]
           ],
           "sequentialminus": [
            [
             0,
             "#0d0887"
            ],
            [
             0.1111111111111111,
             "#46039f"
            ],
            [
             0.2222222222222222,
             "#7201a8"
            ],
            [
             0.3333333333333333,
             "#9c179e"
            ],
            [
             0.4444444444444444,
             "#bd3786"
            ],
            [
             0.5555555555555556,
             "#d8576b"
            ],
            [
             0.6666666666666666,
             "#ed7953"
            ],
            [
             0.7777777777777778,
             "#fb9f3a"
            ],
            [
             0.8888888888888888,
             "#fdca26"
            ],
            [
             1,
             "#f0f921"
            ]
           ]
          },
          "colorway": [
           "#636efa",
           "#EF553B",
           "#00cc96",
           "#ab63fa",
           "#FFA15A",
           "#19d3f3",
           "#FF6692",
           "#B6E880",
           "#FF97FF",
           "#FECB52"
          ],
          "font": {
           "color": "#2a3f5f"
          },
          "geo": {
           "bgcolor": "white",
           "lakecolor": "white",
           "landcolor": "#E5ECF6",
           "showlakes": true,
           "showland": true,
           "subunitcolor": "white"
          },
          "hoverlabel": {
           "align": "left"
          },
          "hovermode": "closest",
          "mapbox": {
           "style": "light"
          },
          "paper_bgcolor": "white",
          "plot_bgcolor": "#E5ECF6",
          "polar": {
           "angularaxis": {
            "gridcolor": "white",
            "linecolor": "white",
            "ticks": ""
           },
           "bgcolor": "#E5ECF6",
           "radialaxis": {
            "gridcolor": "white",
            "linecolor": "white",
            "ticks": ""
           }
          },
          "scene": {
           "xaxis": {
            "backgroundcolor": "#E5ECF6",
            "gridcolor": "white",
            "gridwidth": 2,
            "linecolor": "white",
            "showbackground": true,
            "ticks": "",
            "zerolinecolor": "white"
           },
           "yaxis": {
            "backgroundcolor": "#E5ECF6",
            "gridcolor": "white",
            "gridwidth": 2,
            "linecolor": "white",
            "showbackground": true,
            "ticks": "",
            "zerolinecolor": "white"
           },
           "zaxis": {
            "backgroundcolor": "#E5ECF6",
            "gridcolor": "white",
            "gridwidth": 2,
            "linecolor": "white",
            "showbackground": true,
            "ticks": "",
            "zerolinecolor": "white"
           }
          },
          "shapedefaults": {
           "line": {
            "color": "#2a3f5f"
           }
          },
          "ternary": {
           "aaxis": {
            "gridcolor": "white",
            "linecolor": "white",
            "ticks": ""
           },
           "baxis": {
            "gridcolor": "white",
            "linecolor": "white",
            "ticks": ""
           },
           "bgcolor": "#E5ECF6",
           "caxis": {
            "gridcolor": "white",
            "linecolor": "white",
            "ticks": ""
           }
          },
          "title": {
           "x": 0.05
          },
          "xaxis": {
           "automargin": true,
           "gridcolor": "white",
           "linecolor": "white",
           "ticks": "",
           "title": {
            "standoff": 15
           },
           "zerolinecolor": "white",
           "zerolinewidth": 2
          },
          "yaxis": {
           "automargin": true,
           "gridcolor": "white",
           "linecolor": "white",
           "ticks": "",
           "title": {
            "standoff": 15
           },
           "zerolinecolor": "white",
           "zerolinewidth": 2
          }
         }
        },
        "title": {
         "text": "Voter Turnout in East of England"
        },
        "xaxis": {
         "anchor": "y",
         "domain": [
          0,
          1
         ],
         "title": {
          "text": "index"
         }
        },
        "yaxis": {
         "anchor": "x",
         "domain": [
          0,
          1
         ],
         "title": {
          "text": "y"
         }
        }
       }
      }
     },
     "metadata": {},
     "output_type": "display_data"
    },
    {
     "data": {
      "application/vnd.plotly.v1+json": {
       "config": {
        "plotlyServerURL": "https://plot.ly"
       },
       "data": [
        {
         "alignmentgroup": "True",
         "hovertemplate": "index=%{x}<br>y=%{y}<extra></extra>",
         "legendgroup": "",
         "marker": {
          "color": "#636efa",
          "pattern": {
           "shape": ""
          }
         },
         "name": "",
         "offsetgroup": "",
         "orientation": "v",
         "showlegend": false,
         "textposition": "auto",
         "type": "bar",
         "x": [
          "ConVote19",
          "LabVote19",
          "LDVote19",
          "SNPVote19",
          "PCVote19",
          "UKIPVote19",
          "GreenVote19",
          "BrexitVote19",
          "TotalVote19"
         ],
         "xaxis": "x",
         "y": [
          1612090,
          713226,
          554504,
          0,
          0,
          1227,
          115021,
          11139,
          3007207
         ],
         "yaxis": "y"
        }
       ],
       "layout": {
        "barmode": "relative",
        "legend": {
         "tracegroupgap": 0
        },
        "template": {
         "data": {
          "bar": [
           {
            "error_x": {
             "color": "#2a3f5f"
            },
            "error_y": {
             "color": "#2a3f5f"
            },
            "marker": {
             "line": {
              "color": "#E5ECF6",
              "width": 0.5
             },
             "pattern": {
              "fillmode": "overlay",
              "size": 10,
              "solidity": 0.2
             }
            },
            "type": "bar"
           }
          ],
          "barpolar": [
           {
            "marker": {
             "line": {
              "color": "#E5ECF6",
              "width": 0.5
             },
             "pattern": {
              "fillmode": "overlay",
              "size": 10,
              "solidity": 0.2
             }
            },
            "type": "barpolar"
           }
          ],
          "carpet": [
           {
            "aaxis": {
             "endlinecolor": "#2a3f5f",
             "gridcolor": "white",
             "linecolor": "white",
             "minorgridcolor": "white",
             "startlinecolor": "#2a3f5f"
            },
            "baxis": {
             "endlinecolor": "#2a3f5f",
             "gridcolor": "white",
             "linecolor": "white",
             "minorgridcolor": "white",
             "startlinecolor": "#2a3f5f"
            },
            "type": "carpet"
           }
          ],
          "choropleth": [
           {
            "colorbar": {
             "outlinewidth": 0,
             "ticks": ""
            },
            "type": "choropleth"
           }
          ],
          "contour": [
           {
            "colorbar": {
             "outlinewidth": 0,
             "ticks": ""
            },
            "colorscale": [
             [
              0,
              "#0d0887"
             ],
             [
              0.1111111111111111,
              "#46039f"
             ],
             [
              0.2222222222222222,
              "#7201a8"
             ],
             [
              0.3333333333333333,
              "#9c179e"
             ],
             [
              0.4444444444444444,
              "#bd3786"
             ],
             [
              0.5555555555555556,
              "#d8576b"
             ],
             [
              0.6666666666666666,
              "#ed7953"
             ],
             [
              0.7777777777777778,
              "#fb9f3a"
             ],
             [
              0.8888888888888888,
              "#fdca26"
             ],
             [
              1,
              "#f0f921"
             ]
            ],
            "type": "contour"
           }
          ],
          "contourcarpet": [
           {
            "colorbar": {
             "outlinewidth": 0,
             "ticks": ""
            },
            "type": "contourcarpet"
           }
          ],
          "heatmap": [
           {
            "colorbar": {
             "outlinewidth": 0,
             "ticks": ""
            },
            "colorscale": [
             [
              0,
              "#0d0887"
             ],
             [
              0.1111111111111111,
              "#46039f"
             ],
             [
              0.2222222222222222,
              "#7201a8"
             ],
             [
              0.3333333333333333,
              "#9c179e"
             ],
             [
              0.4444444444444444,
              "#bd3786"
             ],
             [
              0.5555555555555556,
              "#d8576b"
             ],
             [
              0.6666666666666666,
              "#ed7953"
             ],
             [
              0.7777777777777778,
              "#fb9f3a"
             ],
             [
              0.8888888888888888,
              "#fdca26"
             ],
             [
              1,
              "#f0f921"
             ]
            ],
            "type": "heatmap"
           }
          ],
          "heatmapgl": [
           {
            "colorbar": {
             "outlinewidth": 0,
             "ticks": ""
            },
            "colorscale": [
             [
              0,
              "#0d0887"
             ],
             [
              0.1111111111111111,
              "#46039f"
             ],
             [
              0.2222222222222222,
              "#7201a8"
             ],
             [
              0.3333333333333333,
              "#9c179e"
             ],
             [
              0.4444444444444444,
              "#bd3786"
             ],
             [
              0.5555555555555556,
              "#d8576b"
             ],
             [
              0.6666666666666666,
              "#ed7953"
             ],
             [
              0.7777777777777778,
              "#fb9f3a"
             ],
             [
              0.8888888888888888,
              "#fdca26"
             ],
             [
              1,
              "#f0f921"
             ]
            ],
            "type": "heatmapgl"
           }
          ],
          "histogram": [
           {
            "marker": {
             "pattern": {
              "fillmode": "overlay",
              "size": 10,
              "solidity": 0.2
             }
            },
            "type": "histogram"
           }
          ],
          "histogram2d": [
           {
            "colorbar": {
             "outlinewidth": 0,
             "ticks": ""
            },
            "colorscale": [
             [
              0,
              "#0d0887"
             ],
             [
              0.1111111111111111,
              "#46039f"
             ],
             [
              0.2222222222222222,
              "#7201a8"
             ],
             [
              0.3333333333333333,
              "#9c179e"
             ],
             [
              0.4444444444444444,
              "#bd3786"
             ],
             [
              0.5555555555555556,
              "#d8576b"
             ],
             [
              0.6666666666666666,
              "#ed7953"
             ],
             [
              0.7777777777777778,
              "#fb9f3a"
             ],
             [
              0.8888888888888888,
              "#fdca26"
             ],
             [
              1,
              "#f0f921"
             ]
            ],
            "type": "histogram2d"
           }
          ],
          "histogram2dcontour": [
           {
            "colorbar": {
             "outlinewidth": 0,
             "ticks": ""
            },
            "colorscale": [
             [
              0,
              "#0d0887"
             ],
             [
              0.1111111111111111,
              "#46039f"
             ],
             [
              0.2222222222222222,
              "#7201a8"
             ],
             [
              0.3333333333333333,
              "#9c179e"
             ],
             [
              0.4444444444444444,
              "#bd3786"
             ],
             [
              0.5555555555555556,
              "#d8576b"
             ],
             [
              0.6666666666666666,
              "#ed7953"
             ],
             [
              0.7777777777777778,
              "#fb9f3a"
             ],
             [
              0.8888888888888888,
              "#fdca26"
             ],
             [
              1,
              "#f0f921"
             ]
            ],
            "type": "histogram2dcontour"
           }
          ],
          "mesh3d": [
           {
            "colorbar": {
             "outlinewidth": 0,
             "ticks": ""
            },
            "type": "mesh3d"
           }
          ],
          "parcoords": [
           {
            "line": {
             "colorbar": {
              "outlinewidth": 0,
              "ticks": ""
             }
            },
            "type": "parcoords"
           }
          ],
          "pie": [
           {
            "automargin": true,
            "type": "pie"
           }
          ],
          "scatter": [
           {
            "fillpattern": {
             "fillmode": "overlay",
             "size": 10,
             "solidity": 0.2
            },
            "type": "scatter"
           }
          ],
          "scatter3d": [
           {
            "line": {
             "colorbar": {
              "outlinewidth": 0,
              "ticks": ""
             }
            },
            "marker": {
             "colorbar": {
              "outlinewidth": 0,
              "ticks": ""
             }
            },
            "type": "scatter3d"
           }
          ],
          "scattercarpet": [
           {
            "marker": {
             "colorbar": {
              "outlinewidth": 0,
              "ticks": ""
             }
            },
            "type": "scattercarpet"
           }
          ],
          "scattergeo": [
           {
            "marker": {
             "colorbar": {
              "outlinewidth": 0,
              "ticks": ""
             }
            },
            "type": "scattergeo"
           }
          ],
          "scattergl": [
           {
            "marker": {
             "colorbar": {
              "outlinewidth": 0,
              "ticks": ""
             }
            },
            "type": "scattergl"
           }
          ],
          "scattermapbox": [
           {
            "marker": {
             "colorbar": {
              "outlinewidth": 0,
              "ticks": ""
             }
            },
            "type": "scattermapbox"
           }
          ],
          "scatterpolar": [
           {
            "marker": {
             "colorbar": {
              "outlinewidth": 0,
              "ticks": ""
             }
            },
            "type": "scatterpolar"
           }
          ],
          "scatterpolargl": [
           {
            "marker": {
             "colorbar": {
              "outlinewidth": 0,
              "ticks": ""
             }
            },
            "type": "scatterpolargl"
           }
          ],
          "scatterternary": [
           {
            "marker": {
             "colorbar": {
              "outlinewidth": 0,
              "ticks": ""
             }
            },
            "type": "scatterternary"
           }
          ],
          "surface": [
           {
            "colorbar": {
             "outlinewidth": 0,
             "ticks": ""
            },
            "colorscale": [
             [
              0,
              "#0d0887"
             ],
             [
              0.1111111111111111,
              "#46039f"
             ],
             [
              0.2222222222222222,
              "#7201a8"
             ],
             [
              0.3333333333333333,
              "#9c179e"
             ],
             [
              0.4444444444444444,
              "#bd3786"
             ],
             [
              0.5555555555555556,
              "#d8576b"
             ],
             [
              0.6666666666666666,
              "#ed7953"
             ],
             [
              0.7777777777777778,
              "#fb9f3a"
             ],
             [
              0.8888888888888888,
              "#fdca26"
             ],
             [
              1,
              "#f0f921"
             ]
            ],
            "type": "surface"
           }
          ],
          "table": [
           {
            "cells": {
             "fill": {
              "color": "#EBF0F8"
             },
             "line": {
              "color": "white"
             }
            },
            "header": {
             "fill": {
              "color": "#C8D4E3"
             },
             "line": {
              "color": "white"
             }
            },
            "type": "table"
           }
          ]
         },
         "layout": {
          "annotationdefaults": {
           "arrowcolor": "#2a3f5f",
           "arrowhead": 0,
           "arrowwidth": 1
          },
          "autotypenumbers": "strict",
          "coloraxis": {
           "colorbar": {
            "outlinewidth": 0,
            "ticks": ""
           }
          },
          "colorscale": {
           "diverging": [
            [
             0,
             "#8e0152"
            ],
            [
             0.1,
             "#c51b7d"
            ],
            [
             0.2,
             "#de77ae"
            ],
            [
             0.3,
             "#f1b6da"
            ],
            [
             0.4,
             "#fde0ef"
            ],
            [
             0.5,
             "#f7f7f7"
            ],
            [
             0.6,
             "#e6f5d0"
            ],
            [
             0.7,
             "#b8e186"
            ],
            [
             0.8,
             "#7fbc41"
            ],
            [
             0.9,
             "#4d9221"
            ],
            [
             1,
             "#276419"
            ]
           ],
           "sequential": [
            [
             0,
             "#0d0887"
            ],
            [
             0.1111111111111111,
             "#46039f"
            ],
            [
             0.2222222222222222,
             "#7201a8"
            ],
            [
             0.3333333333333333,
             "#9c179e"
            ],
            [
             0.4444444444444444,
             "#bd3786"
            ],
            [
             0.5555555555555556,
             "#d8576b"
            ],
            [
             0.6666666666666666,
             "#ed7953"
            ],
            [
             0.7777777777777778,
             "#fb9f3a"
            ],
            [
             0.8888888888888888,
             "#fdca26"
            ],
            [
             1,
             "#f0f921"
            ]
           ],
           "sequentialminus": [
            [
             0,
             "#0d0887"
            ],
            [
             0.1111111111111111,
             "#46039f"
            ],
            [
             0.2222222222222222,
             "#7201a8"
            ],
            [
             0.3333333333333333,
             "#9c179e"
            ],
            [
             0.4444444444444444,
             "#bd3786"
            ],
            [
             0.5555555555555556,
             "#d8576b"
            ],
            [
             0.6666666666666666,
             "#ed7953"
            ],
            [
             0.7777777777777778,
             "#fb9f3a"
            ],
            [
             0.8888888888888888,
             "#fdca26"
            ],
            [
             1,
             "#f0f921"
            ]
           ]
          },
          "colorway": [
           "#636efa",
           "#EF553B",
           "#00cc96",
           "#ab63fa",
           "#FFA15A",
           "#19d3f3",
           "#FF6692",
           "#B6E880",
           "#FF97FF",
           "#FECB52"
          ],
          "font": {
           "color": "#2a3f5f"
          },
          "geo": {
           "bgcolor": "white",
           "lakecolor": "white",
           "landcolor": "#E5ECF6",
           "showlakes": true,
           "showland": true,
           "subunitcolor": "white"
          },
          "hoverlabel": {
           "align": "left"
          },
          "hovermode": "closest",
          "mapbox": {
           "style": "light"
          },
          "paper_bgcolor": "white",
          "plot_bgcolor": "#E5ECF6",
          "polar": {
           "angularaxis": {
            "gridcolor": "white",
            "linecolor": "white",
            "ticks": ""
           },
           "bgcolor": "#E5ECF6",
           "radialaxis": {
            "gridcolor": "white",
            "linecolor": "white",
            "ticks": ""
           }
          },
          "scene": {
           "xaxis": {
            "backgroundcolor": "#E5ECF6",
            "gridcolor": "white",
            "gridwidth": 2,
            "linecolor": "white",
            "showbackground": true,
            "ticks": "",
            "zerolinecolor": "white"
           },
           "yaxis": {
            "backgroundcolor": "#E5ECF6",
            "gridcolor": "white",
            "gridwidth": 2,
            "linecolor": "white",
            "showbackground": true,
            "ticks": "",
            "zerolinecolor": "white"
           },
           "zaxis": {
            "backgroundcolor": "#E5ECF6",
            "gridcolor": "white",
            "gridwidth": 2,
            "linecolor": "white",
            "showbackground": true,
            "ticks": "",
            "zerolinecolor": "white"
           }
          },
          "shapedefaults": {
           "line": {
            "color": "#2a3f5f"
           }
          },
          "ternary": {
           "aaxis": {
            "gridcolor": "white",
            "linecolor": "white",
            "ticks": ""
           },
           "baxis": {
            "gridcolor": "white",
            "linecolor": "white",
            "ticks": ""
           },
           "bgcolor": "#E5ECF6",
           "caxis": {
            "gridcolor": "white",
            "linecolor": "white",
            "ticks": ""
           }
          },
          "title": {
           "x": 0.05
          },
          "xaxis": {
           "automargin": true,
           "gridcolor": "white",
           "linecolor": "white",
           "ticks": "",
           "title": {
            "standoff": 15
           },
           "zerolinecolor": "white",
           "zerolinewidth": 2
          },
          "yaxis": {
           "automargin": true,
           "gridcolor": "white",
           "linecolor": "white",
           "ticks": "",
           "title": {
            "standoff": 15
           },
           "zerolinecolor": "white",
           "zerolinewidth": 2
          }
         }
        },
        "title": {
         "text": "Voter Turnout in South West"
        },
        "xaxis": {
         "anchor": "y",
         "domain": [
          0,
          1
         ],
         "title": {
          "text": "index"
         }
        },
        "yaxis": {
         "anchor": "x",
         "domain": [
          0,
          1
         ],
         "title": {
          "text": "y"
         }
        }
       }
      }
     },
     "metadata": {},
     "output_type": "display_data"
    },
    {
     "data": {
      "application/vnd.plotly.v1+json": {
       "config": {
        "plotlyServerURL": "https://plot.ly"
       },
       "data": [
        {
         "alignmentgroup": "True",
         "hovertemplate": "index=%{x}<br>y=%{y}<extra></extra>",
         "legendgroup": "",
         "marker": {
          "color": "#636efa",
          "pattern": {
           "shape": ""
          }
         },
         "name": "",
         "offsetgroup": "",
         "orientation": "v",
         "showlegend": false,
         "textposition": "auto",
         "type": "bar",
         "x": [
          "ConVote19",
          "LabVote19",
          "LDVote19",
          "SNPVote19",
          "PCVote19",
          "UKIPVote19",
          "GreenVote19",
          "BrexitVote19",
          "TotalVote19"
         ],
         "xaxis": "x",
         "y": [
          478208,
          532127,
          85243,
          0,
          0,
          1736,
          29732,
          100910,
          1227956
         ],
         "yaxis": "y"
        }
       ],
       "layout": {
        "barmode": "relative",
        "legend": {
         "tracegroupgap": 0
        },
        "template": {
         "data": {
          "bar": [
           {
            "error_x": {
             "color": "#2a3f5f"
            },
            "error_y": {
             "color": "#2a3f5f"
            },
            "marker": {
             "line": {
              "color": "#E5ECF6",
              "width": 0.5
             },
             "pattern": {
              "fillmode": "overlay",
              "size": 10,
              "solidity": 0.2
             }
            },
            "type": "bar"
           }
          ],
          "barpolar": [
           {
            "marker": {
             "line": {
              "color": "#E5ECF6",
              "width": 0.5
             },
             "pattern": {
              "fillmode": "overlay",
              "size": 10,
              "solidity": 0.2
             }
            },
            "type": "barpolar"
           }
          ],
          "carpet": [
           {
            "aaxis": {
             "endlinecolor": "#2a3f5f",
             "gridcolor": "white",
             "linecolor": "white",
             "minorgridcolor": "white",
             "startlinecolor": "#2a3f5f"
            },
            "baxis": {
             "endlinecolor": "#2a3f5f",
             "gridcolor": "white",
             "linecolor": "white",
             "minorgridcolor": "white",
             "startlinecolor": "#2a3f5f"
            },
            "type": "carpet"
           }
          ],
          "choropleth": [
           {
            "colorbar": {
             "outlinewidth": 0,
             "ticks": ""
            },
            "type": "choropleth"
           }
          ],
          "contour": [
           {
            "colorbar": {
             "outlinewidth": 0,
             "ticks": ""
            },
            "colorscale": [
             [
              0,
              "#0d0887"
             ],
             [
              0.1111111111111111,
              "#46039f"
             ],
             [
              0.2222222222222222,
              "#7201a8"
             ],
             [
              0.3333333333333333,
              "#9c179e"
             ],
             [
              0.4444444444444444,
              "#bd3786"
             ],
             [
              0.5555555555555556,
              "#d8576b"
             ],
             [
              0.6666666666666666,
              "#ed7953"
             ],
             [
              0.7777777777777778,
              "#fb9f3a"
             ],
             [
              0.8888888888888888,
              "#fdca26"
             ],
             [
              1,
              "#f0f921"
             ]
            ],
            "type": "contour"
           }
          ],
          "contourcarpet": [
           {
            "colorbar": {
             "outlinewidth": 0,
             "ticks": ""
            },
            "type": "contourcarpet"
           }
          ],
          "heatmap": [
           {
            "colorbar": {
             "outlinewidth": 0,
             "ticks": ""
            },
            "colorscale": [
             [
              0,
              "#0d0887"
             ],
             [
              0.1111111111111111,
              "#46039f"
             ],
             [
              0.2222222222222222,
              "#7201a8"
             ],
             [
              0.3333333333333333,
              "#9c179e"
             ],
             [
              0.4444444444444444,
              "#bd3786"
             ],
             [
              0.5555555555555556,
              "#d8576b"
             ],
             [
              0.6666666666666666,
              "#ed7953"
             ],
             [
              0.7777777777777778,
              "#fb9f3a"
             ],
             [
              0.8888888888888888,
              "#fdca26"
             ],
             [
              1,
              "#f0f921"
             ]
            ],
            "type": "heatmap"
           }
          ],
          "heatmapgl": [
           {
            "colorbar": {
             "outlinewidth": 0,
             "ticks": ""
            },
            "colorscale": [
             [
              0,
              "#0d0887"
             ],
             [
              0.1111111111111111,
              "#46039f"
             ],
             [
              0.2222222222222222,
              "#7201a8"
             ],
             [
              0.3333333333333333,
              "#9c179e"
             ],
             [
              0.4444444444444444,
              "#bd3786"
             ],
             [
              0.5555555555555556,
              "#d8576b"
             ],
             [
              0.6666666666666666,
              "#ed7953"
             ],
             [
              0.7777777777777778,
              "#fb9f3a"
             ],
             [
              0.8888888888888888,
              "#fdca26"
             ],
             [
              1,
              "#f0f921"
             ]
            ],
            "type": "heatmapgl"
           }
          ],
          "histogram": [
           {
            "marker": {
             "pattern": {
              "fillmode": "overlay",
              "size": 10,
              "solidity": 0.2
             }
            },
            "type": "histogram"
           }
          ],
          "histogram2d": [
           {
            "colorbar": {
             "outlinewidth": 0,
             "ticks": ""
            },
            "colorscale": [
             [
              0,
              "#0d0887"
             ],
             [
              0.1111111111111111,
              "#46039f"
             ],
             [
              0.2222222222222222,
              "#7201a8"
             ],
             [
              0.3333333333333333,
              "#9c179e"
             ],
             [
              0.4444444444444444,
              "#bd3786"
             ],
             [
              0.5555555555555556,
              "#d8576b"
             ],
             [
              0.6666666666666666,
              "#ed7953"
             ],
             [
              0.7777777777777778,
              "#fb9f3a"
             ],
             [
              0.8888888888888888,
              "#fdca26"
             ],
             [
              1,
              "#f0f921"
             ]
            ],
            "type": "histogram2d"
           }
          ],
          "histogram2dcontour": [
           {
            "colorbar": {
             "outlinewidth": 0,
             "ticks": ""
            },
            "colorscale": [
             [
              0,
              "#0d0887"
             ],
             [
              0.1111111111111111,
              "#46039f"
             ],
             [
              0.2222222222222222,
              "#7201a8"
             ],
             [
              0.3333333333333333,
              "#9c179e"
             ],
             [
              0.4444444444444444,
              "#bd3786"
             ],
             [
              0.5555555555555556,
              "#d8576b"
             ],
             [
              0.6666666666666666,
              "#ed7953"
             ],
             [
              0.7777777777777778,
              "#fb9f3a"
             ],
             [
              0.8888888888888888,
              "#fdca26"
             ],
             [
              1,
              "#f0f921"
             ]
            ],
            "type": "histogram2dcontour"
           }
          ],
          "mesh3d": [
           {
            "colorbar": {
             "outlinewidth": 0,
             "ticks": ""
            },
            "type": "mesh3d"
           }
          ],
          "parcoords": [
           {
            "line": {
             "colorbar": {
              "outlinewidth": 0,
              "ticks": ""
             }
            },
            "type": "parcoords"
           }
          ],
          "pie": [
           {
            "automargin": true,
            "type": "pie"
           }
          ],
          "scatter": [
           {
            "fillpattern": {
             "fillmode": "overlay",
             "size": 10,
             "solidity": 0.2
            },
            "type": "scatter"
           }
          ],
          "scatter3d": [
           {
            "line": {
             "colorbar": {
              "outlinewidth": 0,
              "ticks": ""
             }
            },
            "marker": {
             "colorbar": {
              "outlinewidth": 0,
              "ticks": ""
             }
            },
            "type": "scatter3d"
           }
          ],
          "scattercarpet": [
           {
            "marker": {
             "colorbar": {
              "outlinewidth": 0,
              "ticks": ""
             }
            },
            "type": "scattercarpet"
           }
          ],
          "scattergeo": [
           {
            "marker": {
             "colorbar": {
              "outlinewidth": 0,
              "ticks": ""
             }
            },
            "type": "scattergeo"
           }
          ],
          "scattergl": [
           {
            "marker": {
             "colorbar": {
              "outlinewidth": 0,
              "ticks": ""
             }
            },
            "type": "scattergl"
           }
          ],
          "scattermapbox": [
           {
            "marker": {
             "colorbar": {
              "outlinewidth": 0,
              "ticks": ""
             }
            },
            "type": "scattermapbox"
           }
          ],
          "scatterpolar": [
           {
            "marker": {
             "colorbar": {
              "outlinewidth": 0,
              "ticks": ""
             }
            },
            "type": "scatterpolar"
           }
          ],
          "scatterpolargl": [
           {
            "marker": {
             "colorbar": {
              "outlinewidth": 0,
              "ticks": ""
             }
            },
            "type": "scatterpolargl"
           }
          ],
          "scatterternary": [
           {
            "marker": {
             "colorbar": {
              "outlinewidth": 0,
              "ticks": ""
             }
            },
            "type": "scatterternary"
           }
          ],
          "surface": [
           {
            "colorbar": {
             "outlinewidth": 0,
             "ticks": ""
            },
            "colorscale": [
             [
              0,
              "#0d0887"
             ],
             [
              0.1111111111111111,
              "#46039f"
             ],
             [
              0.2222222222222222,
              "#7201a8"
             ],
             [
              0.3333333333333333,
              "#9c179e"
             ],
             [
              0.4444444444444444,
              "#bd3786"
             ],
             [
              0.5555555555555556,
              "#d8576b"
             ],
             [
              0.6666666666666666,
              "#ed7953"
             ],
             [
              0.7777777777777778,
              "#fb9f3a"
             ],
             [
              0.8888888888888888,
              "#fdca26"
             ],
             [
              1,
              "#f0f921"
             ]
            ],
            "type": "surface"
           }
          ],
          "table": [
           {
            "cells": {
             "fill": {
              "color": "#EBF0F8"
             },
             "line": {
              "color": "white"
             }
            },
            "header": {
             "fill": {
              "color": "#C8D4E3"
             },
             "line": {
              "color": "white"
             }
            },
            "type": "table"
           }
          ]
         },
         "layout": {
          "annotationdefaults": {
           "arrowcolor": "#2a3f5f",
           "arrowhead": 0,
           "arrowwidth": 1
          },
          "autotypenumbers": "strict",
          "coloraxis": {
           "colorbar": {
            "outlinewidth": 0,
            "ticks": ""
           }
          },
          "colorscale": {
           "diverging": [
            [
             0,
             "#8e0152"
            ],
            [
             0.1,
             "#c51b7d"
            ],
            [
             0.2,
             "#de77ae"
            ],
            [
             0.3,
             "#f1b6da"
            ],
            [
             0.4,
             "#fde0ef"
            ],
            [
             0.5,
             "#f7f7f7"
            ],
            [
             0.6,
             "#e6f5d0"
            ],
            [
             0.7,
             "#b8e186"
            ],
            [
             0.8,
             "#7fbc41"
            ],
            [
             0.9,
             "#4d9221"
            ],
            [
             1,
             "#276419"
            ]
           ],
           "sequential": [
            [
             0,
             "#0d0887"
            ],
            [
             0.1111111111111111,
             "#46039f"
            ],
            [
             0.2222222222222222,
             "#7201a8"
            ],
            [
             0.3333333333333333,
             "#9c179e"
            ],
            [
             0.4444444444444444,
             "#bd3786"
            ],
            [
             0.5555555555555556,
             "#d8576b"
            ],
            [
             0.6666666666666666,
             "#ed7953"
            ],
            [
             0.7777777777777778,
             "#fb9f3a"
            ],
            [
             0.8888888888888888,
             "#fdca26"
            ],
            [
             1,
             "#f0f921"
            ]
           ],
           "sequentialminus": [
            [
             0,
             "#0d0887"
            ],
            [
             0.1111111111111111,
             "#46039f"
            ],
            [
             0.2222222222222222,
             "#7201a8"
            ],
            [
             0.3333333333333333,
             "#9c179e"
            ],
            [
             0.4444444444444444,
             "#bd3786"
            ],
            [
             0.5555555555555556,
             "#d8576b"
            ],
            [
             0.6666666666666666,
             "#ed7953"
            ],
            [
             0.7777777777777778,
             "#fb9f3a"
            ],
            [
             0.8888888888888888,
             "#fdca26"
            ],
            [
             1,
             "#f0f921"
            ]
           ]
          },
          "colorway": [
           "#636efa",
           "#EF553B",
           "#00cc96",
           "#ab63fa",
           "#FFA15A",
           "#19d3f3",
           "#FF6692",
           "#B6E880",
           "#FF97FF",
           "#FECB52"
          ],
          "font": {
           "color": "#2a3f5f"
          },
          "geo": {
           "bgcolor": "white",
           "lakecolor": "white",
           "landcolor": "#E5ECF6",
           "showlakes": true,
           "showland": true,
           "subunitcolor": "white"
          },
          "hoverlabel": {
           "align": "left"
          },
          "hovermode": "closest",
          "mapbox": {
           "style": "light"
          },
          "paper_bgcolor": "white",
          "plot_bgcolor": "#E5ECF6",
          "polar": {
           "angularaxis": {
            "gridcolor": "white",
            "linecolor": "white",
            "ticks": ""
           },
           "bgcolor": "#E5ECF6",
           "radialaxis": {
            "gridcolor": "white",
            "linecolor": "white",
            "ticks": ""
           }
          },
          "scene": {
           "xaxis": {
            "backgroundcolor": "#E5ECF6",
            "gridcolor": "white",
            "gridwidth": 2,
            "linecolor": "white",
            "showbackground": true,
            "ticks": "",
            "zerolinecolor": "white"
           },
           "yaxis": {
            "backgroundcolor": "#E5ECF6",
            "gridcolor": "white",
            "gridwidth": 2,
            "linecolor": "white",
            "showbackground": true,
            "ticks": "",
            "zerolinecolor": "white"
           },
           "zaxis": {
            "backgroundcolor": "#E5ECF6",
            "gridcolor": "white",
            "gridwidth": 2,
            "linecolor": "white",
            "showbackground": true,
            "ticks": "",
            "zerolinecolor": "white"
           }
          },
          "shapedefaults": {
           "line": {
            "color": "#2a3f5f"
           }
          },
          "ternary": {
           "aaxis": {
            "gridcolor": "white",
            "linecolor": "white",
            "ticks": ""
           },
           "baxis": {
            "gridcolor": "white",
            "linecolor": "white",
            "ticks": ""
           },
           "bgcolor": "#E5ECF6",
           "caxis": {
            "gridcolor": "white",
            "linecolor": "white",
            "ticks": ""
           }
          },
          "title": {
           "x": 0.05
          },
          "xaxis": {
           "automargin": true,
           "gridcolor": "white",
           "linecolor": "white",
           "ticks": "",
           "title": {
            "standoff": 15
           },
           "zerolinecolor": "white",
           "zerolinewidth": 2
          },
          "yaxis": {
           "automargin": true,
           "gridcolor": "white",
           "linecolor": "white",
           "ticks": "",
           "title": {
            "standoff": 15
           },
           "zerolinecolor": "white",
           "zerolinewidth": 2
          }
         }
        },
        "title": {
         "text": "Voter Turnout in North East"
        },
        "xaxis": {
         "anchor": "y",
         "domain": [
          0,
          1
         ],
         "title": {
          "text": "index"
         }
        },
        "yaxis": {
         "anchor": "x",
         "domain": [
          0,
          1
         ],
         "title": {
          "text": "y"
         }
        }
       }
      }
     },
     "metadata": {},
     "output_type": "display_data"
    }
   ],
   "source": [
    "regions = df['region'].unique()\n",
    "\n",
    "# Create and save a bar plot for each region\n",
    "for region in regions:\n",
    "    region_data = df[df['region'] == region]\n",
    "    # Sum up all votes for each category\n",
    "    summed_data = region_data[party_columns + ['TotalVote19']].sum()\n",
    "    fig = px.bar(summed_data, x=summed_data.index, y=summed_data.values, title=f'Voter Turnout in {region}')\n",
    "\n",
    "    # Show the plot (in development) or save it to file\n",
    "\n",
    "    fig.show()  # Uncomment this during development to see the plot\n",
    "\n"
   ]
  },
  {
   "cell_type": "code",
   "execution_count": 10,
   "metadata": {},
   "outputs": [
    {
     "name": "stdout",
     "output_type": "stream",
     "text": [
      "     region      Party    Votes\n",
      "0     Wales  ConVote19   6518.0\n",
      "1     Wales  ConVote19  14687.0\n",
      "2  Scotland  ConVote19   7535.0\n",
      "3  Scotland  ConVote19  16398.0\n",
      "4  Scotland  ConVote19  22752.0\n"
     ]
    }
   ],
   "source": [
    "\n",
    "\n",
    "# List of party columns\n",
    "party_columns = [\n",
    "    'ConVote19', 'LabVote19', 'LDVote19', 'SNPVote19', 'PCVote19',\n",
    "    'UKIPVote19', 'GreenVote19', 'BrexitVote19'\n",
    "]\n",
    "\n",
    "# Melt the DataFrame to long format\n",
    "df_long = df.melt(id_vars=['region'], value_vars=party_columns, var_name='Party', value_name='Votes')\n",
    "\n",
    "# Display the head of the reshaped DataFrame to confirm\n",
    "print(df_long.head())\n"
   ]
  },
  {
   "cell_type": "code",
   "execution_count": 11,
   "metadata": {},
   "outputs": [
    {
     "data": {
      "application/vnd.plotly.v1+json": {
       "config": {
        "plotlyServerURL": "https://plot.ly"
       },
       "data": [
        {
         "alignmentgroup": "True",
         "hovertemplate": "region=Wales<br>Party=%{x}<br>Total Votes=%{y}<extra></extra>",
         "legendgroup": "Wales",
         "marker": {
          "color": "#636efa",
          "pattern": {
           "shape": ""
          }
         },
         "name": "Wales",
         "offsetgroup": "Wales",
         "orientation": "v",
         "showlegend": true,
         "textposition": "auto",
         "type": "bar",
         "x": [
          "ConVote19",
          "ConVote19",
          "ConVote19",
          "ConVote19",
          "ConVote19",
          "ConVote19",
          "ConVote19",
          "ConVote19",
          "ConVote19",
          "ConVote19",
          "ConVote19",
          "ConVote19",
          "ConVote19",
          "ConVote19",
          "ConVote19",
          "ConVote19",
          "ConVote19",
          "ConVote19",
          "ConVote19",
          "ConVote19",
          "ConVote19",
          "ConVote19",
          "ConVote19",
          "ConVote19",
          "ConVote19",
          "ConVote19",
          "ConVote19",
          "ConVote19",
          "ConVote19",
          "ConVote19",
          "ConVote19",
          "ConVote19",
          "ConVote19",
          "ConVote19",
          "ConVote19",
          "ConVote19",
          "ConVote19",
          "ConVote19",
          "ConVote19",
          "ConVote19",
          "LabVote19",
          "LabVote19",
          "LabVote19",
          "LabVote19",
          "LabVote19",
          "LabVote19",
          "LabVote19",
          "LabVote19",
          "LabVote19",
          "LabVote19",
          "LabVote19",
          "LabVote19",
          "LabVote19",
          "LabVote19",
          "LabVote19",
          "LabVote19",
          "LabVote19",
          "LabVote19",
          "LabVote19",
          "LabVote19",
          "LabVote19",
          "LabVote19",
          "LabVote19",
          "LabVote19",
          "LabVote19",
          "LabVote19",
          "LabVote19",
          "LabVote19",
          "LabVote19",
          "LabVote19",
          "LabVote19",
          "LabVote19",
          "LabVote19",
          "LabVote19",
          "LabVote19",
          "LabVote19",
          "LabVote19",
          "LabVote19",
          "LabVote19",
          "LabVote19",
          "LDVote19",
          "LDVote19",
          "LDVote19",
          "LDVote19",
          "LDVote19",
          "LDVote19",
          "LDVote19",
          "LDVote19",
          "LDVote19",
          "LDVote19",
          "LDVote19",
          "LDVote19",
          "LDVote19",
          "LDVote19",
          "LDVote19",
          "LDVote19",
          "LDVote19",
          "LDVote19",
          "LDVote19",
          "LDVote19",
          "LDVote19",
          "LDVote19",
          "LDVote19",
          "LDVote19",
          "LDVote19",
          "LDVote19",
          "LDVote19",
          "LDVote19",
          "LDVote19",
          "LDVote19",
          "LDVote19",
          "LDVote19",
          "LDVote19",
          "LDVote19",
          "LDVote19",
          "LDVote19",
          "LDVote19",
          "LDVote19",
          "LDVote19",
          "LDVote19",
          "SNPVote19",
          "SNPVote19",
          "SNPVote19",
          "SNPVote19",
          "SNPVote19",
          "SNPVote19",
          "SNPVote19",
          "SNPVote19",
          "SNPVote19",
          "SNPVote19",
          "SNPVote19",
          "SNPVote19",
          "SNPVote19",
          "SNPVote19",
          "SNPVote19",
          "SNPVote19",
          "SNPVote19",
          "SNPVote19",
          "SNPVote19",
          "SNPVote19",
          "SNPVote19",
          "SNPVote19",
          "SNPVote19",
          "SNPVote19",
          "SNPVote19",
          "SNPVote19",
          "SNPVote19",
          "SNPVote19",
          "SNPVote19",
          "SNPVote19",
          "SNPVote19",
          "SNPVote19",
          "SNPVote19",
          "SNPVote19",
          "SNPVote19",
          "SNPVote19",
          "SNPVote19",
          "SNPVote19",
          "SNPVote19",
          "SNPVote19",
          "PCVote19",
          "PCVote19",
          "PCVote19",
          "PCVote19",
          "PCVote19",
          "PCVote19",
          "PCVote19",
          "PCVote19",
          "PCVote19",
          "PCVote19",
          "PCVote19",
          "PCVote19",
          "PCVote19",
          "PCVote19",
          "PCVote19",
          "PCVote19",
          "PCVote19",
          "PCVote19",
          "PCVote19",
          "PCVote19",
          "PCVote19",
          "PCVote19",
          "PCVote19",
          "PCVote19",
          "PCVote19",
          "PCVote19",
          "PCVote19",
          "PCVote19",
          "PCVote19",
          "PCVote19",
          "PCVote19",
          "PCVote19",
          "PCVote19",
          "PCVote19",
          "PCVote19",
          "PCVote19",
          "PCVote19",
          "PCVote19",
          "PCVote19",
          "PCVote19",
          "UKIPVote19",
          "UKIPVote19",
          "UKIPVote19",
          "UKIPVote19",
          "UKIPVote19",
          "UKIPVote19",
          "UKIPVote19",
          "UKIPVote19",
          "UKIPVote19",
          "UKIPVote19",
          "UKIPVote19",
          "UKIPVote19",
          "UKIPVote19",
          "UKIPVote19",
          "UKIPVote19",
          "UKIPVote19",
          "UKIPVote19",
          "UKIPVote19",
          "UKIPVote19",
          "UKIPVote19",
          "UKIPVote19",
          "UKIPVote19",
          "UKIPVote19",
          "UKIPVote19",
          "UKIPVote19",
          "UKIPVote19",
          "UKIPVote19",
          "UKIPVote19",
          "UKIPVote19",
          "UKIPVote19",
          "UKIPVote19",
          "UKIPVote19",
          "UKIPVote19",
          "UKIPVote19",
          "UKIPVote19",
          "UKIPVote19",
          "UKIPVote19",
          "UKIPVote19",
          "UKIPVote19",
          "UKIPVote19",
          "GreenVote19",
          "GreenVote19",
          "GreenVote19",
          "GreenVote19",
          "GreenVote19",
          "GreenVote19",
          "GreenVote19",
          "GreenVote19",
          "GreenVote19",
          "GreenVote19",
          "GreenVote19",
          "GreenVote19",
          "GreenVote19",
          "GreenVote19",
          "GreenVote19",
          "GreenVote19",
          "GreenVote19",
          "GreenVote19",
          "GreenVote19",
          "GreenVote19",
          "GreenVote19",
          "GreenVote19",
          "GreenVote19",
          "GreenVote19",
          "GreenVote19",
          "GreenVote19",
          "GreenVote19",
          "GreenVote19",
          "GreenVote19",
          "GreenVote19",
          "GreenVote19",
          "GreenVote19",
          "GreenVote19",
          "GreenVote19",
          "GreenVote19",
          "GreenVote19",
          "GreenVote19",
          "GreenVote19",
          "GreenVote19",
          "GreenVote19",
          "BrexitVote19",
          "BrexitVote19",
          "BrexitVote19",
          "BrexitVote19",
          "BrexitVote19",
          "BrexitVote19",
          "BrexitVote19",
          "BrexitVote19",
          "BrexitVote19",
          "BrexitVote19",
          "BrexitVote19",
          "BrexitVote19",
          "BrexitVote19",
          "BrexitVote19",
          "BrexitVote19",
          "BrexitVote19",
          "BrexitVote19",
          "BrexitVote19",
          "BrexitVote19",
          "BrexitVote19",
          "BrexitVote19",
          "BrexitVote19",
          "BrexitVote19",
          "BrexitVote19",
          "BrexitVote19",
          "BrexitVote19",
          "BrexitVote19",
          "BrexitVote19",
          "BrexitVote19",
          "BrexitVote19",
          "BrexitVote19",
          "BrexitVote19",
          "BrexitVote19",
          "BrexitVote19",
          "BrexitVote19",
          "BrexitVote19",
          "BrexitVote19",
          "BrexitVote19",
          "BrexitVote19",
          "BrexitVote19"
         ],
         "xaxis": "x",
         "y": [
          6518,
          14687,
          18058,
          4428,
          5749,
          21958,
          18193,
          11185,
          8426,
          19082,
          14645,
          12922,
          14130,
          22183,
          8879,
          16222,
          20403,
          6711,
          16756,
          9707,
          18371,
          9892,
          11455,
          6307,
          26160,
          20020,
          10283,
          14133,
          18075,
          9797,
          11494,
          21381,
          4675,
          9435,
          10377,
          11804,
          17270,
          27305,
          15199,
          12959,
          17008,
          12653,
          18271,
          10353,
          14862,
          3944,
          17036,
          18018,
          25605,
          26064,
          27382,
          23908,
          8622,
          14438,
          6317,
          14983,
          13656,
          15533,
          15891,
          3998,
          20208,
          15356,
          16125,
          16913,
          16178,
          5585,
          15920,
          16125,
          18977,
          17602,
          17381,
          16319,
          16115,
          17405,
          18493,
          15546,
          15443,
          23743,
          13068,
          10991,
          1072,
          1821,
          2548,
          null,
          1285,
          14827,
          2368,
          null,
          6298,
          3580,
          2985,
          2731,
          null,
          1860,
          6975,
          1496,
          2237,
          949,
          2346,
          null,
          2236,
          1313,
          null,
          1116,
          4909,
          7882,
          1485,
          2121,
          2565,
          1460,
          null,
          1943,
          612,
          1409,
          2993,
          1831,
          1471,
          null,
          1447,
          null,
          null,
          null,
          null,
          null,
          null,
          null,
          null,
          null,
          null,
          null,
          null,
          null,
          null,
          null,
          null,
          null,
          null,
          null,
          null,
          null,
          null,
          null,
          null,
          null,
          null,
          null,
          null,
          null,
          null,
          null,
          null,
          null,
          null,
          null,
          null,
          null,
          null,
          null,
          null,
          null,
          2711,
          2704,
          1453,
          13134,
          1722,
          null,
          2013,
          6424,
          null,
          1606,
          2386,
          3864,
          15939,
          3633,
          15208,
          2137,
          3907,
          2562,
          1406,
          14447,
          2288,
          2286,
          7048,
          2446,
          1182,
          null,
          4495,
          872,
          1187,
          2919,
          4990,
          2776,
          4069,
          1905,
          1984,
          1441,
          1552,
          null,
          2151,
          10418,
          null,
          null,
          null,
          null,
          null,
          null,
          null,
          null,
          null,
          null,
          null,
          null,
          null,
          null,
          null,
          null,
          null,
          null,
          null,
          null,
          null,
          null,
          null,
          null,
          null,
          null,
          null,
          null,
          null,
          null,
          null,
          null,
          null,
          null,
          null,
          null,
          null,
          null,
          null,
          null,
          450,
          null,
          null,
          null,
          386,
          null,
          815,
          null,
          null,
          820,
          1182,
          1133,
          null,
          null,
          663,
          null,
          null,
          null,
          null,
          null,
          null,
          669,
          null,
          null,
          1353,
          null,
          728,
          577,
          902,
          621,
          null,
          null,
          438,
          583,
          null,
          812,
          null,
          3251,
          445,
          null,
          3108,
          null,
          2678,
          1159,
          6215,
          null,
          1811,
          4490,
          1006,
          1311,
          1999,
          1619,
          2311,
          null,
          2063,
          1468,
          null,
          3045,
          1971,
          1776,
          1379,
          4834,
          3605,
          3604,
          null,
          null,
          3184,
          2454,
          1727,
          2991,
          2917,
          null,
          3733,
          2842,
          1983,
          5742,
          1477,
          null,
          1222,
          2184
         ],
         "yaxis": "y"
        },
        {
         "alignmentgroup": "True",
         "hovertemplate": "region=Scotland<br>Party=%{x}<br>Total Votes=%{y}<extra></extra>",
         "legendgroup": "Scotland",
         "marker": {
          "color": "#EF553B",
          "pattern": {
           "shape": ""
          }
         },
         "name": "Scotland",
         "offsetgroup": "Scotland",
         "orientation": "v",
         "showlegend": true,
         "textposition": "auto",
         "type": "bar",
         "x": [
          "ConVote19",
          "ConVote19",
          "ConVote19",
          "ConVote19",
          "ConVote19",
          "ConVote19",
          "ConVote19",
          "ConVote19",
          "ConVote19",
          "ConVote19",
          "ConVote19",
          "ConVote19",
          "ConVote19",
          "ConVote19",
          "ConVote19",
          "ConVote19",
          "ConVote19",
          "ConVote19",
          "ConVote19",
          "ConVote19",
          "ConVote19",
          "ConVote19",
          "ConVote19",
          "ConVote19",
          "ConVote19",
          "ConVote19",
          "ConVote19",
          "ConVote19",
          "ConVote19",
          "ConVote19",
          "ConVote19",
          "ConVote19",
          "ConVote19",
          "ConVote19",
          "ConVote19",
          "ConVote19",
          "ConVote19",
          "ConVote19",
          "ConVote19",
          "ConVote19",
          "ConVote19",
          "ConVote19",
          "ConVote19",
          "ConVote19",
          "ConVote19",
          "ConVote19",
          "ConVote19",
          "ConVote19",
          "ConVote19",
          "ConVote19",
          "ConVote19",
          "ConVote19",
          "ConVote19",
          "ConVote19",
          "ConVote19",
          "ConVote19",
          "ConVote19",
          "ConVote19",
          "ConVote19",
          "LabVote19",
          "LabVote19",
          "LabVote19",
          "LabVote19",
          "LabVote19",
          "LabVote19",
          "LabVote19",
          "LabVote19",
          "LabVote19",
          "LabVote19",
          "LabVote19",
          "LabVote19",
          "LabVote19",
          "LabVote19",
          "LabVote19",
          "LabVote19",
          "LabVote19",
          "LabVote19",
          "LabVote19",
          "LabVote19",
          "LabVote19",
          "LabVote19",
          "LabVote19",
          "LabVote19",
          "LabVote19",
          "LabVote19",
          "LabVote19",
          "LabVote19",
          "LabVote19",
          "LabVote19",
          "LabVote19",
          "LabVote19",
          "LabVote19",
          "LabVote19",
          "LabVote19",
          "LabVote19",
          "LabVote19",
          "LabVote19",
          "LabVote19",
          "LabVote19",
          "LabVote19",
          "LabVote19",
          "LabVote19",
          "LabVote19",
          "LabVote19",
          "LabVote19",
          "LabVote19",
          "LabVote19",
          "LabVote19",
          "LabVote19",
          "LabVote19",
          "LabVote19",
          "LabVote19",
          "LabVote19",
          "LabVote19",
          "LabVote19",
          "LabVote19",
          "LabVote19",
          "LabVote19",
          "LDVote19",
          "LDVote19",
          "LDVote19",
          "LDVote19",
          "LDVote19",
          "LDVote19",
          "LDVote19",
          "LDVote19",
          "LDVote19",
          "LDVote19",
          "LDVote19",
          "LDVote19",
          "LDVote19",
          "LDVote19",
          "LDVote19",
          "LDVote19",
          "LDVote19",
          "LDVote19",
          "LDVote19",
          "LDVote19",
          "LDVote19",
          "LDVote19",
          "LDVote19",
          "LDVote19",
          "LDVote19",
          "LDVote19",
          "LDVote19",
          "LDVote19",
          "LDVote19",
          "LDVote19",
          "LDVote19",
          "LDVote19",
          "LDVote19",
          "LDVote19",
          "LDVote19",
          "LDVote19",
          "LDVote19",
          "LDVote19",
          "LDVote19",
          "LDVote19",
          "LDVote19",
          "LDVote19",
          "LDVote19",
          "LDVote19",
          "LDVote19",
          "LDVote19",
          "LDVote19",
          "LDVote19",
          "LDVote19",
          "LDVote19",
          "LDVote19",
          "LDVote19",
          "LDVote19",
          "LDVote19",
          "LDVote19",
          "LDVote19",
          "LDVote19",
          "LDVote19",
          "LDVote19",
          "SNPVote19",
          "SNPVote19",
          "SNPVote19",
          "SNPVote19",
          "SNPVote19",
          "SNPVote19",
          "SNPVote19",
          "SNPVote19",
          "SNPVote19",
          "SNPVote19",
          "SNPVote19",
          "SNPVote19",
          "SNPVote19",
          "SNPVote19",
          "SNPVote19",
          "SNPVote19",
          "SNPVote19",
          "SNPVote19",
          "SNPVote19",
          "SNPVote19",
          "SNPVote19",
          "SNPVote19",
          "SNPVote19",
          "SNPVote19",
          "SNPVote19",
          "SNPVote19",
          "SNPVote19",
          "SNPVote19",
          "SNPVote19",
          "SNPVote19",
          "SNPVote19",
          "SNPVote19",
          "SNPVote19",
          "SNPVote19",
          "SNPVote19",
          "SNPVote19",
          "SNPVote19",
          "SNPVote19",
          "SNPVote19",
          "SNPVote19",
          "SNPVote19",
          "SNPVote19",
          "SNPVote19",
          "SNPVote19",
          "SNPVote19",
          "SNPVote19",
          "SNPVote19",
          "SNPVote19",
          "SNPVote19",
          "SNPVote19",
          "SNPVote19",
          "SNPVote19",
          "SNPVote19",
          "SNPVote19",
          "SNPVote19",
          "SNPVote19",
          "SNPVote19",
          "SNPVote19",
          "SNPVote19",
          "PCVote19",
          "PCVote19",
          "PCVote19",
          "PCVote19",
          "PCVote19",
          "PCVote19",
          "PCVote19",
          "PCVote19",
          "PCVote19",
          "PCVote19",
          "PCVote19",
          "PCVote19",
          "PCVote19",
          "PCVote19",
          "PCVote19",
          "PCVote19",
          "PCVote19",
          "PCVote19",
          "PCVote19",
          "PCVote19",
          "PCVote19",
          "PCVote19",
          "PCVote19",
          "PCVote19",
          "PCVote19",
          "PCVote19",
          "PCVote19",
          "PCVote19",
          "PCVote19",
          "PCVote19",
          "PCVote19",
          "PCVote19",
          "PCVote19",
          "PCVote19",
          "PCVote19",
          "PCVote19",
          "PCVote19",
          "PCVote19",
          "PCVote19",
          "PCVote19",
          "PCVote19",
          "PCVote19",
          "PCVote19",
          "PCVote19",
          "PCVote19",
          "PCVote19",
          "PCVote19",
          "PCVote19",
          "PCVote19",
          "PCVote19",
          "PCVote19",
          "PCVote19",
          "PCVote19",
          "PCVote19",
          "PCVote19",
          "PCVote19",
          "PCVote19",
          "PCVote19",
          "PCVote19",
          "UKIPVote19",
          "UKIPVote19",
          "UKIPVote19",
          "UKIPVote19",
          "UKIPVote19",
          "UKIPVote19",
          "UKIPVote19",
          "UKIPVote19",
          "UKIPVote19",
          "UKIPVote19",
          "UKIPVote19",
          "UKIPVote19",
          "UKIPVote19",
          "UKIPVote19",
          "UKIPVote19",
          "UKIPVote19",
          "UKIPVote19",
          "UKIPVote19",
          "UKIPVote19",
          "UKIPVote19",
          "UKIPVote19",
          "UKIPVote19",
          "UKIPVote19",
          "UKIPVote19",
          "UKIPVote19",
          "UKIPVote19",
          "UKIPVote19",
          "UKIPVote19",
          "UKIPVote19",
          "UKIPVote19",
          "UKIPVote19",
          "UKIPVote19",
          "UKIPVote19",
          "UKIPVote19",
          "UKIPVote19",
          "UKIPVote19",
          "UKIPVote19",
          "UKIPVote19",
          "UKIPVote19",
          "UKIPVote19",
          "UKIPVote19",
          "UKIPVote19",
          "UKIPVote19",
          "UKIPVote19",
          "UKIPVote19",
          "UKIPVote19",
          "UKIPVote19",
          "UKIPVote19",
          "UKIPVote19",
          "UKIPVote19",
          "UKIPVote19",
          "UKIPVote19",
          "UKIPVote19",
          "UKIPVote19",
          "UKIPVote19",
          "UKIPVote19",
          "UKIPVote19",
          "UKIPVote19",
          "UKIPVote19",
          "GreenVote19",
          "GreenVote19",
          "GreenVote19",
          "GreenVote19",
          "GreenVote19",
          "GreenVote19",
          "GreenVote19",
          "GreenVote19",
          "GreenVote19",
          "GreenVote19",
          "GreenVote19",
          "GreenVote19",
          "GreenVote19",
          "GreenVote19",
          "GreenVote19",
          "GreenVote19",
          "GreenVote19",
          "GreenVote19",
          "GreenVote19",
          "GreenVote19",
          "GreenVote19",
          "GreenVote19",
          "GreenVote19",
          "GreenVote19",
          "GreenVote19",
          "GreenVote19",
          "GreenVote19",
          "GreenVote19",
          "GreenVote19",
          "GreenVote19",
          "GreenVote19",
          "GreenVote19",
          "GreenVote19",
          "GreenVote19",
          "GreenVote19",
          "GreenVote19",
          "GreenVote19",
          "GreenVote19",
          "GreenVote19",
          "GreenVote19",
          "GreenVote19",
          "GreenVote19",
          "GreenVote19",
          "GreenVote19",
          "GreenVote19",
          "GreenVote19",
          "GreenVote19",
          "GreenVote19",
          "GreenVote19",
          "GreenVote19",
          "GreenVote19",
          "GreenVote19",
          "GreenVote19",
          "GreenVote19",
          "GreenVote19",
          "GreenVote19",
          "GreenVote19",
          "GreenVote19",
          "GreenVote19",
          "BrexitVote19",
          "BrexitVote19",
          "BrexitVote19",
          "BrexitVote19",
          "BrexitVote19",
          "BrexitVote19",
          "BrexitVote19",
          "BrexitVote19",
          "BrexitVote19",
          "BrexitVote19",
          "BrexitVote19",
          "BrexitVote19",
          "BrexitVote19",
          "BrexitVote19",
          "BrexitVote19",
          "BrexitVote19",
          "BrexitVote19",
          "BrexitVote19",
          "BrexitVote19",
          "BrexitVote19",
          "BrexitVote19",
          "BrexitVote19",
          "BrexitVote19",
          "BrexitVote19",
          "BrexitVote19",
          "BrexitVote19",
          "BrexitVote19",
          "BrexitVote19",
          "BrexitVote19",
          "BrexitVote19",
          "BrexitVote19",
          "BrexitVote19",
          "BrexitVote19",
          "BrexitVote19",
          "BrexitVote19",
          "BrexitVote19",
          "BrexitVote19",
          "BrexitVote19",
          "BrexitVote19",
          "BrexitVote19",
          "BrexitVote19",
          "BrexitVote19",
          "BrexitVote19",
          "BrexitVote19",
          "BrexitVote19",
          "BrexitVote19",
          "BrexitVote19",
          "BrexitVote19",
          "BrexitVote19",
          "BrexitVote19",
          "BrexitVote19",
          "BrexitVote19",
          "BrexitVote19",
          "BrexitVote19",
          "BrexitVote19",
          "BrexitVote19",
          "BrexitVote19",
          "BrexitVote19",
          "BrexitVote19"
         ],
         "xaxis": "x",
         "y": [
          7535,
          16398,
          22752,
          7011,
          17421,
          16930,
          17943,
          16182,
          14855,
          21182,
          25747,
          5176,
          6113,
          7380,
          22678,
          22611,
          7455,
          6436,
          10986,
          5149,
          11207,
          11961,
          15523,
          6549,
          11000,
          8161,
          12848,
          9283,
          14403,
          5961,
          3698,
          5709,
          3806,
          3558,
          6022,
          6237,
          4224,
          6920,
          23066,
          6265,
          15807,
          11557,
          9449,
          17056,
          14285,
          12182,
          10467,
          22112,
          7150,
          3216,
          22384,
          2287,
          11217,
          7571,
          19812,
          19451,
          6900,
          8054,
          17641,
          4939,
          3834,
          2431,
          12728,
          2051,
          3248,
          6219,
          6583,
          6702,
          1734,
          2513,
          1936,
          17056,
          11182,
          4745,
          4172,
          4839,
          12843,
          6045,
          10096,
          13028,
          12791,
          17270,
          12748,
          13117,
          23745,
          7478,
          4460,
          6243,
          1707,
          13276,
          12791,
          11381,
          13363,
          11319,
          13824,
          12743,
          9477,
          3052,
          11783,
          4123,
          9009,
          15325,
          10736,
          10517,
          11915,
          14328,
          2432,
          14354,
          4093,
          4961,
          1550,
          11451,
          10958,
          2471,
          6855,
          2448,
          18545,
          4275,
          2846,
          5018,
          6253,
          1419,
          2482,
          6832,
          2158,
          2283,
          2107,
          2280,
          4287,
          11705,
          1564,
          2966,
          3133,
          3540,
          19523,
          1890,
          3573,
          2468,
          4262,
          3760,
          4071,
          3289,
          6635,
          3819,
          4971,
          21766,
          3990,
          19763,
          1952,
          1626,
          2394,
          1093,
          2716,
          2786,
          1435,
          2639,
          5913,
          2560,
          5846,
          2444,
          2903,
          3037,
          4393,
          3457,
          3393,
          2269,
          1675,
          637,
          3204,
          10381,
          3661,
          2918,
          3780,
          4174,
          9820,
          2791,
          2867,
          20205,
          20388,
          21909,
          17929,
          21216,
          21040,
          20272,
          21486,
          23376,
          17064,
          20599,
          11501,
          22680,
          24158,
          20873,
          18830,
          19672,
          22396,
          24361,
          22355,
          23727,
          26113,
          21156,
          23165,
          25925,
          12650,
          24830,
          17997,
          29351,
          18447,
          19750,
          18357,
          16982,
          15911,
          19678,
          22829,
          17643,
          21234,
          23885,
          19295,
          26247,
          24216,
          16568,
          22243,
          25551,
          25617,
          20033,
          21599,
          20622,
          6531,
          26882,
          7874,
          23353,
          21637,
          27362,
          24877,
          19263,
          23775,
          26895,
          null,
          null,
          null,
          null,
          null,
          null,
          null,
          null,
          null,
          null,
          null,
          null,
          null,
          null,
          null,
          null,
          null,
          null,
          null,
          null,
          null,
          null,
          null,
          null,
          null,
          null,
          null,
          null,
          null,
          null,
          null,
          null,
          null,
          null,
          null,
          null,
          null,
          null,
          null,
          null,
          null,
          null,
          null,
          null,
          null,
          null,
          null,
          null,
          null,
          null,
          null,
          null,
          null,
          null,
          null,
          null,
          null,
          null,
          null,
          null,
          null,
          null,
          null,
          null,
          null,
          null,
          null,
          null,
          null,
          null,
          null,
          null,
          null,
          null,
          null,
          208,
          null,
          null,
          null,
          null,
          559,
          493,
          null,
          null,
          null,
          null,
          null,
          null,
          null,
          null,
          null,
          null,
          null,
          null,
          null,
          null,
          null,
          null,
          null,
          null,
          null,
          null,
          null,
          null,
          null,
          null,
          413,
          619,
          null,
          382,
          null,
          null,
          null,
          null,
          null,
          null,
          629,
          null,
          880,
          null,
          null,
          685,
          null,
          null,
          null,
          null,
          1114,
          null,
          null,
          null,
          808,
          null,
          null,
          null,
          916,
          867,
          null,
          null,
          1258,
          1153,
          null,
          2064,
          1971,
          1357,
          1265,
          1027,
          1885,
          null,
          1429,
          null,
          1308,
          null,
          null,
          1251,
          null,
          null,
          null,
          null,
          1709,
          null,
          1628,
          null,
          1184,
          1421,
          null,
          null,
          null,
          null,
          null,
          null,
          null,
          null,
          null,
          null,
          null,
          null,
          942,
          1008,
          null,
          null,
          null,
          null,
          null,
          null,
          null,
          null,
          null,
          null,
          1139,
          null,
          null,
          null,
          null,
          null,
          null,
          null,
          1271,
          null,
          null,
          null,
          null,
          558,
          null,
          625,
          null,
          null,
          null,
          null,
          null,
          320,
          null,
          null,
          516,
          802,
          1276,
          null,
          null,
          1078,
          null,
          1132,
          null,
          1257,
          null,
          null,
          null,
          null,
          null,
          null,
          900,
          null,
          null,
          651,
          null,
          710,
          null,
          null
         ],
         "yaxis": "y"
        },
        {
         "alignmentgroup": "True",
         "hovertemplate": "region=South East<br>Party=%{x}<br>Total Votes=%{y}<extra></extra>",
         "legendgroup": "South East",
         "marker": {
          "color": "#00cc96",
          "pattern": {
           "shape": ""
          }
         },
         "name": "South East",
         "offsetgroup": "South East",
         "orientation": "v",
         "showlegend": true,
         "textposition": "auto",
         "type": "bar",
         "x": [
          "ConVote19",
          "ConVote19",
          "ConVote19",
          "ConVote19",
          "ConVote19",
          "ConVote19",
          "ConVote19",
          "ConVote19",
          "ConVote19",
          "ConVote19",
          "ConVote19",
          "ConVote19",
          "ConVote19",
          "ConVote19",
          "ConVote19",
          "ConVote19",
          "ConVote19",
          "ConVote19",
          "ConVote19",
          "ConVote19",
          "ConVote19",
          "ConVote19",
          "ConVote19",
          "ConVote19",
          "ConVote19",
          "ConVote19",
          "ConVote19",
          "ConVote19",
          "ConVote19",
          "ConVote19",
          "ConVote19",
          "ConVote19",
          "ConVote19",
          "ConVote19",
          "ConVote19",
          "ConVote19",
          "ConVote19",
          "ConVote19",
          "ConVote19",
          "ConVote19",
          "ConVote19",
          "ConVote19",
          "ConVote19",
          "ConVote19",
          "ConVote19",
          "ConVote19",
          "ConVote19",
          "ConVote19",
          "ConVote19",
          "ConVote19",
          "ConVote19",
          "ConVote19",
          "ConVote19",
          "ConVote19",
          "ConVote19",
          "ConVote19",
          "ConVote19",
          "ConVote19",
          "ConVote19",
          "ConVote19",
          "ConVote19",
          "ConVote19",
          "ConVote19",
          "ConVote19",
          "ConVote19",
          "ConVote19",
          "ConVote19",
          "ConVote19",
          "ConVote19",
          "ConVote19",
          "ConVote19",
          "ConVote19",
          "ConVote19",
          "ConVote19",
          "ConVote19",
          "ConVote19",
          "ConVote19",
          "ConVote19",
          "ConVote19",
          "ConVote19",
          "ConVote19",
          "ConVote19",
          "ConVote19",
          "ConVote19",
          "LabVote19",
          "LabVote19",
          "LabVote19",
          "LabVote19",
          "LabVote19",
          "LabVote19",
          "LabVote19",
          "LabVote19",
          "LabVote19",
          "LabVote19",
          "LabVote19",
          "LabVote19",
          "LabVote19",
          "LabVote19",
          "LabVote19",
          "LabVote19",
          "LabVote19",
          "LabVote19",
          "LabVote19",
          "LabVote19",
          "LabVote19",
          "LabVote19",
          "LabVote19",
          "LabVote19",
          "LabVote19",
          "LabVote19",
          "LabVote19",
          "LabVote19",
          "LabVote19",
          "LabVote19",
          "LabVote19",
          "LabVote19",
          "LabVote19",
          "LabVote19",
          "LabVote19",
          "LabVote19",
          "LabVote19",
          "LabVote19",
          "LabVote19",
          "LabVote19",
          "LabVote19",
          "LabVote19",
          "LabVote19",
          "LabVote19",
          "LabVote19",
          "LabVote19",
          "LabVote19",
          "LabVote19",
          "LabVote19",
          "LabVote19",
          "LabVote19",
          "LabVote19",
          "LabVote19",
          "LabVote19",
          "LabVote19",
          "LabVote19",
          "LabVote19",
          "LabVote19",
          "LabVote19",
          "LabVote19",
          "LabVote19",
          "LabVote19",
          "LabVote19",
          "LabVote19",
          "LabVote19",
          "LabVote19",
          "LabVote19",
          "LabVote19",
          "LabVote19",
          "LabVote19",
          "LabVote19",
          "LabVote19",
          "LabVote19",
          "LabVote19",
          "LabVote19",
          "LabVote19",
          "LabVote19",
          "LabVote19",
          "LabVote19",
          "LabVote19",
          "LabVote19",
          "LabVote19",
          "LabVote19",
          "LabVote19",
          "LDVote19",
          "LDVote19",
          "LDVote19",
          "LDVote19",
          "LDVote19",
          "LDVote19",
          "LDVote19",
          "LDVote19",
          "LDVote19",
          "LDVote19",
          "LDVote19",
          "LDVote19",
          "LDVote19",
          "LDVote19",
          "LDVote19",
          "LDVote19",
          "LDVote19",
          "LDVote19",
          "LDVote19",
          "LDVote19",
          "LDVote19",
          "LDVote19",
          "LDVote19",
          "LDVote19",
          "LDVote19",
          "LDVote19",
          "LDVote19",
          "LDVote19",
          "LDVote19",
          "LDVote19",
          "LDVote19",
          "LDVote19",
          "LDVote19",
          "LDVote19",
          "LDVote19",
          "LDVote19",
          "LDVote19",
          "LDVote19",
          "LDVote19",
          "LDVote19",
          "LDVote19",
          "LDVote19",
          "LDVote19",
          "LDVote19",
          "LDVote19",
          "LDVote19",
          "LDVote19",
          "LDVote19",
          "LDVote19",
          "LDVote19",
          "LDVote19",
          "LDVote19",
          "LDVote19",
          "LDVote19",
          "LDVote19",
          "LDVote19",
          "LDVote19",
          "LDVote19",
          "LDVote19",
          "LDVote19",
          "LDVote19",
          "LDVote19",
          "LDVote19",
          "LDVote19",
          "LDVote19",
          "LDVote19",
          "LDVote19",
          "LDVote19",
          "LDVote19",
          "LDVote19",
          "LDVote19",
          "LDVote19",
          "LDVote19",
          "LDVote19",
          "LDVote19",
          "LDVote19",
          "LDVote19",
          "LDVote19",
          "LDVote19",
          "LDVote19",
          "LDVote19",
          "LDVote19",
          "LDVote19",
          "LDVote19",
          "SNPVote19",
          "SNPVote19",
          "SNPVote19",
          "SNPVote19",
          "SNPVote19",
          "SNPVote19",
          "SNPVote19",
          "SNPVote19",
          "SNPVote19",
          "SNPVote19",
          "SNPVote19",
          "SNPVote19",
          "SNPVote19",
          "SNPVote19",
          "SNPVote19",
          "SNPVote19",
          "SNPVote19",
          "SNPVote19",
          "SNPVote19",
          "SNPVote19",
          "SNPVote19",
          "SNPVote19",
          "SNPVote19",
          "SNPVote19",
          "SNPVote19",
          "SNPVote19",
          "SNPVote19",
          "SNPVote19",
          "SNPVote19",
          "SNPVote19",
          "SNPVote19",
          "SNPVote19",
          "SNPVote19",
          "SNPVote19",
          "SNPVote19",
          "SNPVote19",
          "SNPVote19",
          "SNPVote19",
          "SNPVote19",
          "SNPVote19",
          "SNPVote19",
          "SNPVote19",
          "SNPVote19",
          "SNPVote19",
          "SNPVote19",
          "SNPVote19",
          "SNPVote19",
          "SNPVote19",
          "SNPVote19",
          "SNPVote19",
          "SNPVote19",
          "SNPVote19",
          "SNPVote19",
          "SNPVote19",
          "SNPVote19",
          "SNPVote19",
          "SNPVote19",
          "SNPVote19",
          "SNPVote19",
          "SNPVote19",
          "SNPVote19",
          "SNPVote19",
          "SNPVote19",
          "SNPVote19",
          "SNPVote19",
          "SNPVote19",
          "SNPVote19",
          "SNPVote19",
          "SNPVote19",
          "SNPVote19",
          "SNPVote19",
          "SNPVote19",
          "SNPVote19",
          "SNPVote19",
          "SNPVote19",
          "SNPVote19",
          "SNPVote19",
          "SNPVote19",
          "SNPVote19",
          "SNPVote19",
          "SNPVote19",
          "SNPVote19",
          "SNPVote19",
          "SNPVote19",
          "PCVote19",
          "PCVote19",
          "PCVote19",
          "PCVote19",
          "PCVote19",
          "PCVote19",
          "PCVote19",
          "PCVote19",
          "PCVote19",
          "PCVote19",
          "PCVote19",
          "PCVote19",
          "PCVote19",
          "PCVote19",
          "PCVote19",
          "PCVote19",
          "PCVote19",
          "PCVote19",
          "PCVote19",
          "PCVote19",
          "PCVote19",
          "PCVote19",
          "PCVote19",
          "PCVote19",
          "PCVote19",
          "PCVote19",
          "PCVote19",
          "PCVote19",
          "PCVote19",
          "PCVote19",
          "PCVote19",
          "PCVote19",
          "PCVote19",
          "PCVote19",
          "PCVote19",
          "PCVote19",
          "PCVote19",
          "PCVote19",
          "PCVote19",
          "PCVote19",
          "PCVote19",
          "PCVote19",
          "PCVote19",
          "PCVote19",
          "PCVote19",
          "PCVote19",
          "PCVote19",
          "PCVote19",
          "PCVote19",
          "PCVote19",
          "PCVote19",
          "PCVote19",
          "PCVote19",
          "PCVote19",
          "PCVote19",
          "PCVote19",
          "PCVote19",
          "PCVote19",
          "PCVote19",
          "PCVote19",
          "PCVote19",
          "PCVote19",
          "PCVote19",
          "PCVote19",
          "PCVote19",
          "PCVote19",
          "PCVote19",
          "PCVote19",
          "PCVote19",
          "PCVote19",
          "PCVote19",
          "PCVote19",
          "PCVote19",
          "PCVote19",
          "PCVote19",
          "PCVote19",
          "PCVote19",
          "PCVote19",
          "PCVote19",
          "PCVote19",
          "PCVote19",
          "PCVote19",
          "PCVote19",
          "PCVote19",
          "UKIPVote19",
          "UKIPVote19",
          "UKIPVote19",
          "UKIPVote19",
          "UKIPVote19",
          "UKIPVote19",
          "UKIPVote19",
          "UKIPVote19",
          "UKIPVote19",
          "UKIPVote19",
          "UKIPVote19",
          "UKIPVote19",
          "UKIPVote19",
          "UKIPVote19",
          "UKIPVote19",
          "UKIPVote19",
          "UKIPVote19",
          "UKIPVote19",
          "UKIPVote19",
          "UKIPVote19",
          "UKIPVote19",
          "UKIPVote19",
          "UKIPVote19",
          "UKIPVote19",
          "UKIPVote19",
          "UKIPVote19",
          "UKIPVote19",
          "UKIPVote19",
          "UKIPVote19",
          "UKIPVote19",
          "UKIPVote19",
          "UKIPVote19",
          "UKIPVote19",
          "UKIPVote19",
          "UKIPVote19",
          "UKIPVote19",
          "UKIPVote19",
          "UKIPVote19",
          "UKIPVote19",
          "UKIPVote19",
          "UKIPVote19",
          "UKIPVote19",
          "UKIPVote19",
          "UKIPVote19",
          "UKIPVote19",
          "UKIPVote19",
          "UKIPVote19",
          "UKIPVote19",
          "UKIPVote19",
          "UKIPVote19",
          "UKIPVote19",
          "UKIPVote19",
          "UKIPVote19",
          "UKIPVote19",
          "UKIPVote19",
          "UKIPVote19",
          "UKIPVote19",
          "UKIPVote19",
          "UKIPVote19",
          "UKIPVote19",
          "UKIPVote19",
          "UKIPVote19",
          "UKIPVote19",
          "UKIPVote19",
          "UKIPVote19",
          "UKIPVote19",
          "UKIPVote19",
          "UKIPVote19",
          "UKIPVote19",
          "UKIPVote19",
          "UKIPVote19",
          "UKIPVote19",
          "UKIPVote19",
          "UKIPVote19",
          "UKIPVote19",
          "UKIPVote19",
          "UKIPVote19",
          "UKIPVote19",
          "UKIPVote19",
          "UKIPVote19",
          "UKIPVote19",
          "UKIPVote19",
          "UKIPVote19",
          "UKIPVote19",
          "GreenVote19",
          "GreenVote19",
          "GreenVote19",
          "GreenVote19",
          "GreenVote19",
          "GreenVote19",
          "GreenVote19",
          "GreenVote19",
          "GreenVote19",
          "GreenVote19",
          "GreenVote19",
          "GreenVote19",
          "GreenVote19",
          "GreenVote19",
          "GreenVote19",
          "GreenVote19",
          "GreenVote19",
          "GreenVote19",
          "GreenVote19",
          "GreenVote19",
          "GreenVote19",
          "GreenVote19",
          "GreenVote19",
          "GreenVote19",
          "GreenVote19",
          "GreenVote19",
          "GreenVote19",
          "GreenVote19",
          "GreenVote19",
          "GreenVote19",
          "GreenVote19",
          "GreenVote19",
          "GreenVote19",
          "GreenVote19",
          "GreenVote19",
          "GreenVote19",
          "GreenVote19",
          "GreenVote19",
          "GreenVote19",
          "GreenVote19",
          "GreenVote19",
          "GreenVote19",
          "GreenVote19",
          "GreenVote19",
          "GreenVote19",
          "GreenVote19",
          "GreenVote19",
          "GreenVote19",
          "GreenVote19",
          "GreenVote19",
          "GreenVote19",
          "GreenVote19",
          "GreenVote19",
          "GreenVote19",
          "GreenVote19",
          "GreenVote19",
          "GreenVote19",
          "GreenVote19",
          "GreenVote19",
          "GreenVote19",
          "GreenVote19",
          "GreenVote19",
          "GreenVote19",
          "GreenVote19",
          "GreenVote19",
          "GreenVote19",
          "GreenVote19",
          "GreenVote19",
          "GreenVote19",
          "GreenVote19",
          "GreenVote19",
          "GreenVote19",
          "GreenVote19",
          "GreenVote19",
          "GreenVote19",
          "GreenVote19",
          "GreenVote19",
          "GreenVote19",
          "GreenVote19",
          "GreenVote19",
          "GreenVote19",
          "GreenVote19",
          "GreenVote19",
          "GreenVote19",
          "BrexitVote19",
          "BrexitVote19",
          "BrexitVote19",
          "BrexitVote19",
          "BrexitVote19",
          "BrexitVote19",
          "BrexitVote19",
          "BrexitVote19",
          "BrexitVote19",
          "BrexitVote19",
          "BrexitVote19",
          "BrexitVote19",
          "BrexitVote19",
          "BrexitVote19",
          "BrexitVote19",
          "BrexitVote19",
          "BrexitVote19",
          "BrexitVote19",
          "BrexitVote19",
          "BrexitVote19",
          "BrexitVote19",
          "BrexitVote19",
          "BrexitVote19",
          "BrexitVote19",
          "BrexitVote19",
          "BrexitVote19",
          "BrexitVote19",
          "BrexitVote19",
          "BrexitVote19",
          "BrexitVote19",
          "BrexitVote19",
          "BrexitVote19",
          "BrexitVote19",
          "BrexitVote19",
          "BrexitVote19",
          "BrexitVote19",
          "BrexitVote19",
          "BrexitVote19",
          "BrexitVote19",
          "BrexitVote19",
          "BrexitVote19",
          "BrexitVote19",
          "BrexitVote19",
          "BrexitVote19",
          "BrexitVote19",
          "BrexitVote19",
          "BrexitVote19",
          "BrexitVote19",
          "BrexitVote19",
          "BrexitVote19",
          "BrexitVote19",
          "BrexitVote19",
          "BrexitVote19",
          "BrexitVote19",
          "BrexitVote19",
          "BrexitVote19",
          "BrexitVote19",
          "BrexitVote19",
          "BrexitVote19",
          "BrexitVote19",
          "BrexitVote19",
          "BrexitVote19",
          "BrexitVote19",
          "BrexitVote19",
          "BrexitVote19",
          "BrexitVote19",
          "BrexitVote19",
          "BrexitVote19",
          "BrexitVote19",
          "BrexitVote19",
          "BrexitVote19",
          "BrexitVote19",
          "BrexitVote19",
          "BrexitVote19",
          "BrexitVote19",
          "BrexitVote19",
          "BrexitVote19",
          "BrexitVote19",
          "BrexitVote19",
          "BrexitVote19",
          "BrexitVote19",
          "BrexitVote19",
          "BrexitVote19",
          "BrexitVote19"
         ],
         "xaxis": "x",
         "y": [
          27980,
          35566,
          37270,
          32737,
          34148,
          29593,
          32477,
          37590,
          32521,
          31894,
          16972,
          10176,
          37035,
          27182,
          28856,
          30850,
          35402,
          27040,
          34006,
          28830,
          26951,
          32690,
          31819,
          31132,
          36459,
          31864,
          35483,
          28173,
          32226,
          29580,
          26317,
          33446,
          35280,
          36591,
          26896,
          30051,
          32189,
          35900,
          15832,
          41815,
          26268,
          32620,
          31220,
          35271,
          30938,
          32011,
          31656,
          32769,
          32113,
          34431,
          10303,
          22397,
          28172,
          17705,
          21178,
          24393,
          28665,
          31151,
          27862,
          29262,
          30932,
          34742,
          15781,
          23952,
          16043,
          29141,
          35624,
          34358,
          32191,
          33455,
          30066,
          27084,
          35784,
          30119,
          34085,
          37043,
          28430,
          31501,
          33856,
          26396,
          30734,
          27107,
          30475,
          24766,
          11282,
          9722,
          13241,
          15364,
          17335,
          15395,
          5756,
          11531,
          10018,
          12065,
          25033,
          13211,
          7638,
          29018,
          10316,
          7166,
          9069,
          18680,
          14846,
          16552,
          3848,
          7559,
          10226,
          2838,
          10373,
          9888,
          14146,
          13054,
          8948,
          13999,
          4515,
          6287,
          5760,
          9327,
          22853,
          8259,
          5698,
          9424,
          32876,
          18078,
          3206,
          7882,
          9448,
          5644,
          24683,
          25067,
          2965,
          7518,
          6595,
          4404,
          28135,
          4258,
          12392,
          23068,
          27102,
          20276,
          10355,
          14079,
          5898,
          10992,
          6946,
          10263,
          29421,
          19454,
          22256,
          10748,
          8247,
          5407,
          4775,
          11218,
          12877,
          16497,
          8286,
          8098,
          10181,
          9377,
          2723,
          8147,
          8770,
          8827,
          6450,
          19633,
          15652,
          20552,
          6920,
          13045,
          6048,
          10081,
          8831,
          6841,
          null,
          7280,
          5645,
          7749,
          2964,
          null,
          16624,
          3408,
          2866,
          14627,
          13912,
          2728,
          3736,
          2895,
          22620,
          17083,
          13946,
          28389,
          8006,
          6170,
          5755,
          2503,
          5473,
          2584,
          22980,
          13750,
          15069,
          10283,
          3960,
          5708,
          18136,
          14773,
          3731,
          null,
          23811,
          13774,
          8482,
          11716,
          4991,
          4688,
          19615,
          7390,
          7710,
          18384,
          6884,
          31340,
          3419,
          5418,
          5035,
          4460,
          10320,
          3717,
          16990,
          9236,
          10114,
          3213,
          3357,
          2503,
          3449,
          7499,
          11584,
          16009,
          23374,
          15258,
          3439,
          2727,
          8843,
          15474,
          21432,
          11388,
          27445,
          11422,
          18679,
          16629,
          23351,
          4127,
          6024,
          6543,
          null,
          null,
          null,
          null,
          null,
          null,
          null,
          null,
          null,
          null,
          null,
          null,
          null,
          null,
          null,
          null,
          null,
          null,
          null,
          null,
          null,
          null,
          null,
          null,
          null,
          null,
          null,
          null,
          null,
          null,
          null,
          null,
          null,
          null,
          null,
          null,
          null,
          null,
          null,
          null,
          null,
          null,
          null,
          null,
          null,
          null,
          null,
          null,
          null,
          null,
          null,
          null,
          null,
          null,
          null,
          null,
          null,
          null,
          null,
          null,
          null,
          null,
          null,
          null,
          null,
          null,
          null,
          null,
          null,
          null,
          null,
          null,
          null,
          null,
          null,
          null,
          null,
          null,
          null,
          null,
          null,
          null,
          null,
          null,
          null,
          null,
          null,
          null,
          null,
          null,
          null,
          null,
          null,
          null,
          null,
          null,
          null,
          null,
          null,
          null,
          null,
          null,
          null,
          null,
          null,
          null,
          null,
          null,
          null,
          null,
          null,
          null,
          null,
          null,
          null,
          null,
          null,
          null,
          null,
          null,
          null,
          null,
          null,
          null,
          null,
          null,
          null,
          null,
          null,
          null,
          null,
          null,
          null,
          null,
          null,
          null,
          null,
          null,
          null,
          null,
          null,
          null,
          null,
          null,
          null,
          null,
          null,
          null,
          null,
          null,
          null,
          null,
          null,
          null,
          null,
          null,
          null,
          null,
          null,
          null,
          null,
          null,
          null,
          null,
          null,
          null,
          null,
          null,
          null,
          null,
          null,
          null,
          null,
          null,
          null,
          null,
          846,
          null,
          null,
          177,
          null,
          null,
          null,
          null,
          null,
          null,
          null,
          null,
          null,
          null,
          null,
          null,
          null,
          null,
          null,
          837,
          null,
          null,
          null,
          616,
          null,
          null,
          null,
          null,
          null,
          null,
          null,
          null,
          null,
          null,
          null,
          null,
          null,
          null,
          464,
          null,
          null,
          null,
          null,
          null,
          null,
          null,
          null,
          null,
          647,
          1080,
          640,
          476,
          null,
          null,
          null,
          472,
          null,
          null,
          null,
          628,
          null,
          null,
          null,
          null,
          null,
          null,
          null,
          null,
          null,
          null,
          null,
          600,
          null,
          null,
          null,
          324,
          1750,
          2519,
          2638,
          2394,
          2607,
          2138,
          2033,
          2692,
          1826,
          2089,
          2237,
          33151,
          null,
          null,
          1090,
          3042,
          2527,
          1451,
          1435,
          1371,
          null,
          1639,
          2047,
          null,
          2412,
          2103,
          2706,
          1043,
          1806,
          1397,
          null,
          2600,
          1754,
          2717,
          null,
          1597,
          2736,
          2668,
          2496,
          11338,
          1453,
          2216,
          2172,
          2198,
          1931,
          1495,
          1874,
          2434,
          3888,
          2454,
          2392,
          null,
          1304,
          null,
          1549,
          1263,
          3169,
          1312,
          null,
          1876,
          1974,
          1188,
          1047,
          1040,
          1433,
          2122,
          2340,
          2252,
          null,
          2234,
          1796,
          1949,
          4090,
          null,
          null,
          3099,
          null,
          1796,
          null,
          1485,
          1382,
          2006,
          2008,
          1454,
          null,
          null,
          null,
          null,
          null,
          null,
          null,
          null,
          null,
          null,
          1327,
          770,
          1286,
          null,
          null,
          null,
          null,
          null,
          null,
          null,
          1530,
          null,
          null,
          null,
          null,
          null,
          null,
          null,
          null,
          null,
          null,
          null,
          null,
          null,
          null,
          null,
          null,
          null,
          1111,
          null,
          null,
          null,
          null,
          null,
          null,
          null,
          null,
          null,
          null,
          null,
          1146,
          829,
          null,
          994,
          852,
          null,
          null,
          null,
          null,
          null,
          null,
          null,
          1432,
          null,
          1591,
          null,
          null,
          null,
          null,
          null,
          null,
          null,
          null,
          null,
          null,
          null,
          null,
          null,
          null,
          null,
          null,
          null,
          null,
          null
         ],
         "yaxis": "y"
        },
        {
         "alignmentgroup": "True",
         "hovertemplate": "region=West Midlands<br>Party=%{x}<br>Total Votes=%{y}<extra></extra>",
         "legendgroup": "West Midlands",
         "marker": {
          "color": "#ab63fa",
          "pattern": {
           "shape": ""
          }
         },
         "name": "West Midlands",
         "offsetgroup": "West Midlands",
         "orientation": "v",
         "showlegend": true,
         "textposition": "auto",
         "type": "bar",
         "x": [
          "ConVote19",
          "ConVote19",
          "ConVote19",
          "ConVote19",
          "ConVote19",
          "ConVote19",
          "ConVote19",
          "ConVote19",
          "ConVote19",
          "ConVote19",
          "ConVote19",
          "ConVote19",
          "ConVote19",
          "ConVote19",
          "ConVote19",
          "ConVote19",
          "ConVote19",
          "ConVote19",
          "ConVote19",
          "ConVote19",
          "ConVote19",
          "ConVote19",
          "ConVote19",
          "ConVote19",
          "ConVote19",
          "ConVote19",
          "ConVote19",
          "ConVote19",
          "ConVote19",
          "ConVote19",
          "ConVote19",
          "ConVote19",
          "ConVote19",
          "ConVote19",
          "ConVote19",
          "ConVote19",
          "ConVote19",
          "ConVote19",
          "ConVote19",
          "ConVote19",
          "ConVote19",
          "ConVote19",
          "ConVote19",
          "ConVote19",
          "ConVote19",
          "ConVote19",
          "ConVote19",
          "ConVote19",
          "ConVote19",
          "ConVote19",
          "ConVote19",
          "ConVote19",
          "ConVote19",
          "ConVote19",
          "ConVote19",
          "ConVote19",
          "ConVote19",
          "ConVote19",
          "ConVote19",
          "LabVote19",
          "LabVote19",
          "LabVote19",
          "LabVote19",
          "LabVote19",
          "LabVote19",
          "LabVote19",
          "LabVote19",
          "LabVote19",
          "LabVote19",
          "LabVote19",
          "LabVote19",
          "LabVote19",
          "LabVote19",
          "LabVote19",
          "LabVote19",
          "LabVote19",
          "LabVote19",
          "LabVote19",
          "LabVote19",
          "LabVote19",
          "LabVote19",
          "LabVote19",
          "LabVote19",
          "LabVote19",
          "LabVote19",
          "LabVote19",
          "LabVote19",
          "LabVote19",
          "LabVote19",
          "LabVote19",
          "LabVote19",
          "LabVote19",
          "LabVote19",
          "LabVote19",
          "LabVote19",
          "LabVote19",
          "LabVote19",
          "LabVote19",
          "LabVote19",
          "LabVote19",
          "LabVote19",
          "LabVote19",
          "LabVote19",
          "LabVote19",
          "LabVote19",
          "LabVote19",
          "LabVote19",
          "LabVote19",
          "LabVote19",
          "LabVote19",
          "LabVote19",
          "LabVote19",
          "LabVote19",
          "LabVote19",
          "LabVote19",
          "LabVote19",
          "LabVote19",
          "LabVote19",
          "LDVote19",
          "LDVote19",
          "LDVote19",
          "LDVote19",
          "LDVote19",
          "LDVote19",
          "LDVote19",
          "LDVote19",
          "LDVote19",
          "LDVote19",
          "LDVote19",
          "LDVote19",
          "LDVote19",
          "LDVote19",
          "LDVote19",
          "LDVote19",
          "LDVote19",
          "LDVote19",
          "LDVote19",
          "LDVote19",
          "LDVote19",
          "LDVote19",
          "LDVote19",
          "LDVote19",
          "LDVote19",
          "LDVote19",
          "LDVote19",
          "LDVote19",
          "LDVote19",
          "LDVote19",
          "LDVote19",
          "LDVote19",
          "LDVote19",
          "LDVote19",
          "LDVote19",
          "LDVote19",
          "LDVote19",
          "LDVote19",
          "LDVote19",
          "LDVote19",
          "LDVote19",
          "LDVote19",
          "LDVote19",
          "LDVote19",
          "LDVote19",
          "LDVote19",
          "LDVote19",
          "LDVote19",
          "LDVote19",
          "LDVote19",
          "LDVote19",
          "LDVote19",
          "LDVote19",
          "LDVote19",
          "LDVote19",
          "LDVote19",
          "LDVote19",
          "LDVote19",
          "LDVote19",
          "SNPVote19",
          "SNPVote19",
          "SNPVote19",
          "SNPVote19",
          "SNPVote19",
          "SNPVote19",
          "SNPVote19",
          "SNPVote19",
          "SNPVote19",
          "SNPVote19",
          "SNPVote19",
          "SNPVote19",
          "SNPVote19",
          "SNPVote19",
          "SNPVote19",
          "SNPVote19",
          "SNPVote19",
          "SNPVote19",
          "SNPVote19",
          "SNPVote19",
          "SNPVote19",
          "SNPVote19",
          "SNPVote19",
          "SNPVote19",
          "SNPVote19",
          "SNPVote19",
          "SNPVote19",
          "SNPVote19",
          "SNPVote19",
          "SNPVote19",
          "SNPVote19",
          "SNPVote19",
          "SNPVote19",
          "SNPVote19",
          "SNPVote19",
          "SNPVote19",
          "SNPVote19",
          "SNPVote19",
          "SNPVote19",
          "SNPVote19",
          "SNPVote19",
          "SNPVote19",
          "SNPVote19",
          "SNPVote19",
          "SNPVote19",
          "SNPVote19",
          "SNPVote19",
          "SNPVote19",
          "SNPVote19",
          "SNPVote19",
          "SNPVote19",
          "SNPVote19",
          "SNPVote19",
          "SNPVote19",
          "SNPVote19",
          "SNPVote19",
          "SNPVote19",
          "SNPVote19",
          "SNPVote19",
          "PCVote19",
          "PCVote19",
          "PCVote19",
          "PCVote19",
          "PCVote19",
          "PCVote19",
          "PCVote19",
          "PCVote19",
          "PCVote19",
          "PCVote19",
          "PCVote19",
          "PCVote19",
          "PCVote19",
          "PCVote19",
          "PCVote19",
          "PCVote19",
          "PCVote19",
          "PCVote19",
          "PCVote19",
          "PCVote19",
          "PCVote19",
          "PCVote19",
          "PCVote19",
          "PCVote19",
          "PCVote19",
          "PCVote19",
          "PCVote19",
          "PCVote19",
          "PCVote19",
          "PCVote19",
          "PCVote19",
          "PCVote19",
          "PCVote19",
          "PCVote19",
          "PCVote19",
          "PCVote19",
          "PCVote19",
          "PCVote19",
          "PCVote19",
          "PCVote19",
          "PCVote19",
          "PCVote19",
          "PCVote19",
          "PCVote19",
          "PCVote19",
          "PCVote19",
          "PCVote19",
          "PCVote19",
          "PCVote19",
          "PCVote19",
          "PCVote19",
          "PCVote19",
          "PCVote19",
          "PCVote19",
          "PCVote19",
          "PCVote19",
          "PCVote19",
          "PCVote19",
          "PCVote19",
          "UKIPVote19",
          "UKIPVote19",
          "UKIPVote19",
          "UKIPVote19",
          "UKIPVote19",
          "UKIPVote19",
          "UKIPVote19",
          "UKIPVote19",
          "UKIPVote19",
          "UKIPVote19",
          "UKIPVote19",
          "UKIPVote19",
          "UKIPVote19",
          "UKIPVote19",
          "UKIPVote19",
          "UKIPVote19",
          "UKIPVote19",
          "UKIPVote19",
          "UKIPVote19",
          "UKIPVote19",
          "UKIPVote19",
          "UKIPVote19",
          "UKIPVote19",
          "UKIPVote19",
          "UKIPVote19",
          "UKIPVote19",
          "UKIPVote19",
          "UKIPVote19",
          "UKIPVote19",
          "UKIPVote19",
          "UKIPVote19",
          "UKIPVote19",
          "UKIPVote19",
          "UKIPVote19",
          "UKIPVote19",
          "UKIPVote19",
          "UKIPVote19",
          "UKIPVote19",
          "UKIPVote19",
          "UKIPVote19",
          "UKIPVote19",
          "UKIPVote19",
          "UKIPVote19",
          "UKIPVote19",
          "UKIPVote19",
          "UKIPVote19",
          "UKIPVote19",
          "UKIPVote19",
          "UKIPVote19",
          "UKIPVote19",
          "UKIPVote19",
          "UKIPVote19",
          "UKIPVote19",
          "UKIPVote19",
          "UKIPVote19",
          "UKIPVote19",
          "UKIPVote19",
          "UKIPVote19",
          "UKIPVote19",
          "GreenVote19",
          "GreenVote19",
          "GreenVote19",
          "GreenVote19",
          "GreenVote19",
          "GreenVote19",
          "GreenVote19",
          "GreenVote19",
          "GreenVote19",
          "GreenVote19",
          "GreenVote19",
          "GreenVote19",
          "GreenVote19",
          "GreenVote19",
          "GreenVote19",
          "GreenVote19",
          "GreenVote19",
          "GreenVote19",
          "GreenVote19",
          "GreenVote19",
          "GreenVote19",
          "GreenVote19",
          "GreenVote19",
          "GreenVote19",
          "GreenVote19",
          "GreenVote19",
          "GreenVote19",
          "GreenVote19",
          "GreenVote19",
          "GreenVote19",
          "GreenVote19",
          "GreenVote19",
          "GreenVote19",
          "GreenVote19",
          "GreenVote19",
          "GreenVote19",
          "GreenVote19",
          "GreenVote19",
          "GreenVote19",
          "GreenVote19",
          "GreenVote19",
          "GreenVote19",
          "GreenVote19",
          "GreenVote19",
          "GreenVote19",
          "GreenVote19",
          "GreenVote19",
          "GreenVote19",
          "GreenVote19",
          "GreenVote19",
          "GreenVote19",
          "GreenVote19",
          "GreenVote19",
          "GreenVote19",
          "GreenVote19",
          "GreenVote19",
          "GreenVote19",
          "GreenVote19",
          "GreenVote19",
          "BrexitVote19",
          "BrexitVote19",
          "BrexitVote19",
          "BrexitVote19",
          "BrexitVote19",
          "BrexitVote19",
          "BrexitVote19",
          "BrexitVote19",
          "BrexitVote19",
          "BrexitVote19",
          "BrexitVote19",
          "BrexitVote19",
          "BrexitVote19",
          "BrexitVote19",
          "BrexitVote19",
          "BrexitVote19",
          "BrexitVote19",
          "BrexitVote19",
          "BrexitVote19",
          "BrexitVote19",
          "BrexitVote19",
          "BrexitVote19",
          "BrexitVote19",
          "BrexitVote19",
          "BrexitVote19",
          "BrexitVote19",
          "BrexitVote19",
          "BrexitVote19",
          "BrexitVote19",
          "BrexitVote19",
          "BrexitVote19",
          "BrexitVote19",
          "BrexitVote19",
          "BrexitVote19",
          "BrexitVote19",
          "BrexitVote19",
          "BrexitVote19",
          "BrexitVote19",
          "BrexitVote19",
          "BrexitVote19",
          "BrexitVote19",
          "BrexitVote19",
          "BrexitVote19",
          "BrexitVote19",
          "BrexitVote19",
          "BrexitVote19",
          "BrexitVote19",
          "BrexitVote19",
          "BrexitVote19",
          "BrexitVote19",
          "BrexitVote19",
          "BrexitVote19",
          "BrexitVote19",
          "BrexitVote19",
          "BrexitVote19",
          "BrexitVote19",
          "BrexitVote19",
          "BrexitVote19",
          "BrexitVote19"
         ],
         "xaxis": "x",
         "y": [
          27850,
          15603,
          14119,
          7381,
          6742,
          4773,
          19957,
          11277,
          15300,
          12720,
          34408,
          29560,
          31636,
          15720,
          20710,
          19143,
          23134,
          24835,
          25607,
          30390,
          32158,
          30351,
          34844,
          32185,
          34358,
          23485,
          27390,
          27907,
          29255,
          31021,
          35444,
          32309,
          29992,
          28192,
          36520,
          14557,
          20974,
          24632,
          31687,
          27534,
          33343,
          31604,
          30542,
          25546,
          23334,
          17416,
          10390,
          22929,
          30249,
          16804,
          17419,
          17722,
          14287,
          19864,
          25856,
          37426,
          34909,
          31029,
          32960,
          8014,
          21217,
          17720,
          35889,
          35397,
          33355,
          18317,
          26594,
          27714,
          23379,
          11302,
          15064,
          11757,
          23412,
          20918,
          19544,
          11601,
          9270,
          13533,
          10704,
          6804,
          9440,
          11206,
          7591,
          11522,
          16039,
          14246,
          11871,
          15808,
          19804,
          12495,
          11036,
          15615,
          11764,
          8270,
          13887,
          14688,
          13361,
          11742,
          13963,
          6222,
          12332,
          10908,
          14605,
          11369,
          20872,
          21901,
          23718,
          12293,
          15211,
          13620,
          13642,
          15522,
          18203,
          19098,
          9408,
          9496,
          12303,
          11547,
          2371,
          3349,
          1301,
          3673,
          760,
          2228,
          1961,
          1901,
          3169,
          3754,
          6779,
          2681,
          null,
          2061,
          2717,
          3398,
          1210,
          1608,
          1738,
          6181,
          7302,
          9998,
          5632,
          8537,
          5614,
          2361,
          1862,
          2905,
          4207,
          5906,
          5643,
          9977,
          3175,
          2469,
          3280,
          1116,
          1268,
          1611,
          4412,
          2523,
          13371,
          6358,
          2426,
          2674,
          1236,
          1602,
          1588,
          4995,
          2069,
          1313,
          915,
          960,
          1019,
          2041,
          3666,
          6474,
          10410,
          4067,
          4081,
          null,
          null,
          null,
          null,
          null,
          null,
          null,
          null,
          null,
          null,
          null,
          null,
          null,
          null,
          null,
          null,
          null,
          null,
          null,
          null,
          null,
          null,
          null,
          null,
          null,
          null,
          null,
          null,
          null,
          null,
          null,
          null,
          null,
          null,
          null,
          null,
          null,
          null,
          null,
          null,
          null,
          null,
          null,
          null,
          null,
          null,
          null,
          null,
          null,
          null,
          null,
          null,
          null,
          null,
          null,
          null,
          null,
          null,
          null,
          null,
          null,
          null,
          null,
          null,
          null,
          null,
          null,
          null,
          null,
          null,
          null,
          null,
          null,
          null,
          null,
          null,
          null,
          null,
          null,
          null,
          null,
          null,
          null,
          null,
          null,
          null,
          null,
          null,
          null,
          null,
          null,
          null,
          null,
          null,
          null,
          null,
          null,
          null,
          null,
          null,
          null,
          null,
          null,
          null,
          null,
          null,
          null,
          null,
          null,
          null,
          null,
          null,
          null,
          null,
          null,
          null,
          null,
          null,
          null,
          null,
          null,
          null,
          null,
          null,
          254,
          null,
          null,
          null,
          null,
          null,
          null,
          null,
          null,
          null,
          null,
          null,
          null,
          null,
          null,
          null,
          null,
          null,
          null,
          null,
          null,
          null,
          null,
          null,
          null,
          null,
          null,
          null,
          null,
          null,
          null,
          null,
          null,
          null,
          null,
          null,
          814,
          null,
          null,
          null,
          null,
          null,
          null,
          null,
          null,
          null,
          null,
          null,
          null,
          null,
          null,
          null,
          null,
          771,
          1112,
          648,
          818,
          328,
          931,
          954,
          845,
          1848,
          579,
          1783,
          1433,
          2920,
          1141,
          1443,
          1092,
          739,
          863,
          934,
          2371,
          4769,
          2351,
          1743,
          1912,
          2667,
          933,
          1692,
          1384,
          1544,
          1762,
          1790,
          2022,
          2367,
          1231,
          1935,
          819,
          508,
          null,
          2002,
          1048,
          2112,
          2031,
          935,
          null,
          617,
          634,
          891,
          1536,
          1303,
          627,
          664,
          603,
          521,
          null,
          1694,
          2177,
          2715,
          1491,
          1973,
          null,
          1047,
          1441,
          877,
          1519,
          831,
          1655,
          1382,
          1436,
          2246,
          null,
          null,
          null,
          2110,
          1956,
          1432,
          null,
          null,
          null,
          null,
          null,
          null,
          null,
          null,
          null,
          1921,
          null,
          null,
          null,
          null,
          null,
          null,
          null,
          null,
          null,
          1691,
          2374,
          null,
          null,
          null,
          null,
          null,
          null,
          null,
          null,
          1660,
          2469,
          807,
          null,
          1475,
          1841,
          1354,
          2094,
          1028,
          null,
          null,
          null,
          null,
          null
         ],
         "yaxis": "y"
        },
        {
         "alignmentgroup": "True",
         "hovertemplate": "region=North West<br>Party=%{x}<br>Total Votes=%{y}<extra></extra>",
         "legendgroup": "North West",
         "marker": {
          "color": "#FFA15A",
          "pattern": {
           "shape": ""
          }
         },
         "name": "North West",
         "offsetgroup": "North West",
         "orientation": "v",
         "showlegend": true,
         "textposition": "auto",
         "type": "bar",
         "x": [
          "ConVote19",
          "ConVote19",
          "ConVote19",
          "ConVote19",
          "ConVote19",
          "ConVote19",
          "ConVote19",
          "ConVote19",
          "ConVote19",
          "ConVote19",
          "ConVote19",
          "ConVote19",
          "ConVote19",
          "ConVote19",
          "ConVote19",
          "ConVote19",
          "ConVote19",
          "ConVote19",
          "ConVote19",
          "ConVote19",
          "ConVote19",
          "ConVote19",
          "ConVote19",
          "ConVote19",
          "ConVote19",
          "ConVote19",
          "ConVote19",
          "ConVote19",
          "ConVote19",
          "ConVote19",
          "ConVote19",
          "ConVote19",
          "ConVote19",
          "ConVote19",
          "ConVote19",
          "ConVote19",
          "ConVote19",
          "ConVote19",
          "ConVote19",
          "ConVote19",
          "ConVote19",
          "ConVote19",
          "ConVote19",
          "ConVote19",
          "ConVote19",
          "ConVote19",
          "ConVote19",
          "ConVote19",
          "ConVote19",
          "ConVote19",
          "ConVote19",
          "ConVote19",
          "ConVote19",
          "ConVote19",
          "ConVote19",
          "ConVote19",
          "ConVote19",
          "ConVote19",
          "ConVote19",
          "ConVote19",
          "ConVote19",
          "ConVote19",
          "ConVote19",
          "ConVote19",
          "ConVote19",
          "ConVote19",
          "ConVote19",
          "ConVote19",
          "ConVote19",
          "ConVote19",
          "ConVote19",
          "ConVote19",
          "ConVote19",
          "ConVote19",
          "ConVote19",
          "LabVote19",
          "LabVote19",
          "LabVote19",
          "LabVote19",
          "LabVote19",
          "LabVote19",
          "LabVote19",
          "LabVote19",
          "LabVote19",
          "LabVote19",
          "LabVote19",
          "LabVote19",
          "LabVote19",
          "LabVote19",
          "LabVote19",
          "LabVote19",
          "LabVote19",
          "LabVote19",
          "LabVote19",
          "LabVote19",
          "LabVote19",
          "LabVote19",
          "LabVote19",
          "LabVote19",
          "LabVote19",
          "LabVote19",
          "LabVote19",
          "LabVote19",
          "LabVote19",
          "LabVote19",
          "LabVote19",
          "LabVote19",
          "LabVote19",
          "LabVote19",
          "LabVote19",
          "LabVote19",
          "LabVote19",
          "LabVote19",
          "LabVote19",
          "LabVote19",
          "LabVote19",
          "LabVote19",
          "LabVote19",
          "LabVote19",
          "LabVote19",
          "LabVote19",
          "LabVote19",
          "LabVote19",
          "LabVote19",
          "LabVote19",
          "LabVote19",
          "LabVote19",
          "LabVote19",
          "LabVote19",
          "LabVote19",
          "LabVote19",
          "LabVote19",
          "LabVote19",
          "LabVote19",
          "LabVote19",
          "LabVote19",
          "LabVote19",
          "LabVote19",
          "LabVote19",
          "LabVote19",
          "LabVote19",
          "LabVote19",
          "LabVote19",
          "LabVote19",
          "LabVote19",
          "LabVote19",
          "LabVote19",
          "LabVote19",
          "LabVote19",
          "LabVote19",
          "LDVote19",
          "LDVote19",
          "LDVote19",
          "LDVote19",
          "LDVote19",
          "LDVote19",
          "LDVote19",
          "LDVote19",
          "LDVote19",
          "LDVote19",
          "LDVote19",
          "LDVote19",
          "LDVote19",
          "LDVote19",
          "LDVote19",
          "LDVote19",
          "LDVote19",
          "LDVote19",
          "LDVote19",
          "LDVote19",
          "LDVote19",
          "LDVote19",
          "LDVote19",
          "LDVote19",
          "LDVote19",
          "LDVote19",
          "LDVote19",
          "LDVote19",
          "LDVote19",
          "LDVote19",
          "LDVote19",
          "LDVote19",
          "LDVote19",
          "LDVote19",
          "LDVote19",
          "LDVote19",
          "LDVote19",
          "LDVote19",
          "LDVote19",
          "LDVote19",
          "LDVote19",
          "LDVote19",
          "LDVote19",
          "LDVote19",
          "LDVote19",
          "LDVote19",
          "LDVote19",
          "LDVote19",
          "LDVote19",
          "LDVote19",
          "LDVote19",
          "LDVote19",
          "LDVote19",
          "LDVote19",
          "LDVote19",
          "LDVote19",
          "LDVote19",
          "LDVote19",
          "LDVote19",
          "LDVote19",
          "LDVote19",
          "LDVote19",
          "LDVote19",
          "LDVote19",
          "LDVote19",
          "LDVote19",
          "LDVote19",
          "LDVote19",
          "LDVote19",
          "LDVote19",
          "LDVote19",
          "LDVote19",
          "LDVote19",
          "LDVote19",
          "LDVote19",
          "SNPVote19",
          "SNPVote19",
          "SNPVote19",
          "SNPVote19",
          "SNPVote19",
          "SNPVote19",
          "SNPVote19",
          "SNPVote19",
          "SNPVote19",
          "SNPVote19",
          "SNPVote19",
          "SNPVote19",
          "SNPVote19",
          "SNPVote19",
          "SNPVote19",
          "SNPVote19",
          "SNPVote19",
          "SNPVote19",
          "SNPVote19",
          "SNPVote19",
          "SNPVote19",
          "SNPVote19",
          "SNPVote19",
          "SNPVote19",
          "SNPVote19",
          "SNPVote19",
          "SNPVote19",
          "SNPVote19",
          "SNPVote19",
          "SNPVote19",
          "SNPVote19",
          "SNPVote19",
          "SNPVote19",
          "SNPVote19",
          "SNPVote19",
          "SNPVote19",
          "SNPVote19",
          "SNPVote19",
          "SNPVote19",
          "SNPVote19",
          "SNPVote19",
          "SNPVote19",
          "SNPVote19",
          "SNPVote19",
          "SNPVote19",
          "SNPVote19",
          "SNPVote19",
          "SNPVote19",
          "SNPVote19",
          "SNPVote19",
          "SNPVote19",
          "SNPVote19",
          "SNPVote19",
          "SNPVote19",
          "SNPVote19",
          "SNPVote19",
          "SNPVote19",
          "SNPVote19",
          "SNPVote19",
          "SNPVote19",
          "SNPVote19",
          "SNPVote19",
          "SNPVote19",
          "SNPVote19",
          "SNPVote19",
          "SNPVote19",
          "SNPVote19",
          "SNPVote19",
          "SNPVote19",
          "SNPVote19",
          "SNPVote19",
          "SNPVote19",
          "SNPVote19",
          "SNPVote19",
          "SNPVote19",
          "PCVote19",
          "PCVote19",
          "PCVote19",
          "PCVote19",
          "PCVote19",
          "PCVote19",
          "PCVote19",
          "PCVote19",
          "PCVote19",
          "PCVote19",
          "PCVote19",
          "PCVote19",
          "PCVote19",
          "PCVote19",
          "PCVote19",
          "PCVote19",
          "PCVote19",
          "PCVote19",
          "PCVote19",
          "PCVote19",
          "PCVote19",
          "PCVote19",
          "PCVote19",
          "PCVote19",
          "PCVote19",
          "PCVote19",
          "PCVote19",
          "PCVote19",
          "PCVote19",
          "PCVote19",
          "PCVote19",
          "PCVote19",
          "PCVote19",
          "PCVote19",
          "PCVote19",
          "PCVote19",
          "PCVote19",
          "PCVote19",
          "PCVote19",
          "PCVote19",
          "PCVote19",
          "PCVote19",
          "PCVote19",
          "PCVote19",
          "PCVote19",
          "PCVote19",
          "PCVote19",
          "PCVote19",
          "PCVote19",
          "PCVote19",
          "PCVote19",
          "PCVote19",
          "PCVote19",
          "PCVote19",
          "PCVote19",
          "PCVote19",
          "PCVote19",
          "PCVote19",
          "PCVote19",
          "PCVote19",
          "PCVote19",
          "PCVote19",
          "PCVote19",
          "PCVote19",
          "PCVote19",
          "PCVote19",
          "PCVote19",
          "PCVote19",
          "PCVote19",
          "PCVote19",
          "PCVote19",
          "PCVote19",
          "PCVote19",
          "PCVote19",
          "PCVote19",
          "UKIPVote19",
          "UKIPVote19",
          "UKIPVote19",
          "UKIPVote19",
          "UKIPVote19",
          "UKIPVote19",
          "UKIPVote19",
          "UKIPVote19",
          "UKIPVote19",
          "UKIPVote19",
          "UKIPVote19",
          "UKIPVote19",
          "UKIPVote19",
          "UKIPVote19",
          "UKIPVote19",
          "UKIPVote19",
          "UKIPVote19",
          "UKIPVote19",
          "UKIPVote19",
          "UKIPVote19",
          "UKIPVote19",
          "UKIPVote19",
          "UKIPVote19",
          "UKIPVote19",
          "UKIPVote19",
          "UKIPVote19",
          "UKIPVote19",
          "UKIPVote19",
          "UKIPVote19",
          "UKIPVote19",
          "UKIPVote19",
          "UKIPVote19",
          "UKIPVote19",
          "UKIPVote19",
          "UKIPVote19",
          "UKIPVote19",
          "UKIPVote19",
          "UKIPVote19",
          "UKIPVote19",
          "UKIPVote19",
          "UKIPVote19",
          "UKIPVote19",
          "UKIPVote19",
          "UKIPVote19",
          "UKIPVote19",
          "UKIPVote19",
          "UKIPVote19",
          "UKIPVote19",
          "UKIPVote19",
          "UKIPVote19",
          "UKIPVote19",
          "UKIPVote19",
          "UKIPVote19",
          "UKIPVote19",
          "UKIPVote19",
          "UKIPVote19",
          "UKIPVote19",
          "UKIPVote19",
          "UKIPVote19",
          "UKIPVote19",
          "UKIPVote19",
          "UKIPVote19",
          "UKIPVote19",
          "UKIPVote19",
          "UKIPVote19",
          "UKIPVote19",
          "UKIPVote19",
          "UKIPVote19",
          "UKIPVote19",
          "UKIPVote19",
          "UKIPVote19",
          "UKIPVote19",
          "UKIPVote19",
          "UKIPVote19",
          "UKIPVote19",
          "GreenVote19",
          "GreenVote19",
          "GreenVote19",
          "GreenVote19",
          "GreenVote19",
          "GreenVote19",
          "GreenVote19",
          "GreenVote19",
          "GreenVote19",
          "GreenVote19",
          "GreenVote19",
          "GreenVote19",
          "GreenVote19",
          "GreenVote19",
          "GreenVote19",
          "GreenVote19",
          "GreenVote19",
          "GreenVote19",
          "GreenVote19",
          "GreenVote19",
          "GreenVote19",
          "GreenVote19",
          "GreenVote19",
          "GreenVote19",
          "GreenVote19",
          "GreenVote19",
          "GreenVote19",
          "GreenVote19",
          "GreenVote19",
          "GreenVote19",
          "GreenVote19",
          "GreenVote19",
          "GreenVote19",
          "GreenVote19",
          "GreenVote19",
          "GreenVote19",
          "GreenVote19",
          "GreenVote19",
          "GreenVote19",
          "GreenVote19",
          "GreenVote19",
          "GreenVote19",
          "GreenVote19",
          "GreenVote19",
          "GreenVote19",
          "GreenVote19",
          "GreenVote19",
          "GreenVote19",
          "GreenVote19",
          "GreenVote19",
          "GreenVote19",
          "GreenVote19",
          "GreenVote19",
          "GreenVote19",
          "GreenVote19",
          "GreenVote19",
          "GreenVote19",
          "GreenVote19",
          "GreenVote19",
          "GreenVote19",
          "GreenVote19",
          "GreenVote19",
          "GreenVote19",
          "GreenVote19",
          "GreenVote19",
          "GreenVote19",
          "GreenVote19",
          "GreenVote19",
          "GreenVote19",
          "GreenVote19",
          "GreenVote19",
          "GreenVote19",
          "GreenVote19",
          "GreenVote19",
          "GreenVote19",
          "BrexitVote19",
          "BrexitVote19",
          "BrexitVote19",
          "BrexitVote19",
          "BrexitVote19",
          "BrexitVote19",
          "BrexitVote19",
          "BrexitVote19",
          "BrexitVote19",
          "BrexitVote19",
          "BrexitVote19",
          "BrexitVote19",
          "BrexitVote19",
          "BrexitVote19",
          "BrexitVote19",
          "BrexitVote19",
          "BrexitVote19",
          "BrexitVote19",
          "BrexitVote19",
          "BrexitVote19",
          "BrexitVote19",
          "BrexitVote19",
          "BrexitVote19",
          "BrexitVote19",
          "BrexitVote19",
          "BrexitVote19",
          "BrexitVote19",
          "BrexitVote19",
          "BrexitVote19",
          "BrexitVote19",
          "BrexitVote19",
          "BrexitVote19",
          "BrexitVote19",
          "BrexitVote19",
          "BrexitVote19",
          "BrexitVote19",
          "BrexitVote19",
          "BrexitVote19",
          "BrexitVote19",
          "BrexitVote19",
          "BrexitVote19",
          "BrexitVote19",
          "BrexitVote19",
          "BrexitVote19",
          "BrexitVote19",
          "BrexitVote19",
          "BrexitVote19",
          "BrexitVote19",
          "BrexitVote19",
          "BrexitVote19",
          "BrexitVote19",
          "BrexitVote19",
          "BrexitVote19",
          "BrexitVote19",
          "BrexitVote19",
          "BrexitVote19",
          "BrexitVote19",
          "BrexitVote19",
          "BrexitVote19",
          "BrexitVote19",
          "BrexitVote19",
          "BrexitVote19",
          "BrexitVote19",
          "BrexitVote19",
          "BrexitVote19",
          "BrexitVote19",
          "BrexitVote19",
          "BrexitVote19",
          "BrexitVote19",
          "BrexitVote19",
          "BrexitVote19",
          "BrexitVote19",
          "BrexitVote19",
          "BrexitVote19",
          "BrexitVote19"
         ],
         "xaxis": "x",
         "y": [
          26311,
          14281,
          23876,
          5540,
          10736,
          9485,
          22364,
          16247,
          19759,
          13918,
          27255,
          4510,
          15720,
          21660,
          22034,
          23659,
          25694,
          20918,
          null,
          33747,
          22856,
          28704,
          13142,
          30095,
          17237,
          28432,
          6954,
          10358,
          21592,
          20453,
          20565,
          4432,
          19122,
          18804,
          21266,
          4127,
          4018,
          4225,
          4133,
          28292,
          15214,
          7734,
          4244,
          5820,
          23925,
          18589,
          13452,
          24076,
          28875,
          8724,
          33346,
          14807,
          27570,
          12661,
          10335,
          12428,
          14132,
          30028,
          22914,
          16079,
          11656,
          13778,
          28277,
          11579,
          19102,
          28187,
          22210,
          23861,
          14314,
          16179,
          17692,
          20488,
          17227,
          31589,
          13459,
          20172,
          18544,
          18087,
          24990,
          29040,
          23887,
          13768,
          12557,
          19381,
          21516,
          18400,
          39066,
          14368,
          21555,
          21632,
          15340,
          6851,
          27082,
          26831,
          15186,
          17014,
          20196,
          19317,
          11652,
          26001,
          11821,
          38578,
          29333,
          5508,
          19790,
          17614,
          44374,
          27458,
          21184,
          19301,
          41170,
          34538,
          31310,
          34117,
          17581,
          19954,
          36823,
          34583,
          35902,
          17571,
          20088,
          24579,
          17890,
          10356,
          20870,
          14907,
          24475,
          18048,
          24870,
          29457,
          28755,
          29254,
          18829,
          18767,
          19025,
          21695,
          30195,
          10890,
          29901,
          20611,
          26177,
          22772,
          2293,
          21042,
          22284,
          20695,
          16312,
          20446,
          14808,
          23855,
          6036,
          1395,
          2025,
          1620,
          1130,
          1590,
          1494,
          1008,
          1847,
          1411,
          2704,
          1822,
          3501,
          1584,
          2315,
          2829,
          23358,
          3734,
          null,
          6026,
          1888,
          2618,
          1642,
          9582,
          2406,
          3748,
          3324,
          1800,
          17169,
          2073,
          1226,
          1117,
          2560,
          2018,
          2252,
          2696,
          756,
          4055,
          1296,
          5684,
          2108,
          3420,
          2448,
          7997,
          2328,
          2423,
          1484,
          1548,
          5364,
          1737,
          4776,
          3312,
          2011,
          2668,
          2886,
          3099,
          3386,
          3720,
          6499,
          1827,
          5043,
          2969,
          7712,
          1843,
          3071,
          5732,
          3300,
          25795,
          2428,
          2917,
          2706,
          1525,
          2510,
          4463,
          3111,
          null,
          null,
          null,
          null,
          null,
          null,
          null,
          null,
          null,
          null,
          null,
          null,
          null,
          null,
          null,
          null,
          null,
          null,
          null,
          null,
          null,
          null,
          null,
          null,
          null,
          null,
          null,
          null,
          null,
          null,
          null,
          null,
          null,
          null,
          null,
          null,
          null,
          null,
          null,
          null,
          null,
          null,
          null,
          null,
          null,
          null,
          null,
          null,
          null,
          null,
          null,
          null,
          null,
          null,
          null,
          null,
          null,
          null,
          null,
          null,
          null,
          null,
          null,
          null,
          null,
          null,
          null,
          null,
          null,
          null,
          null,
          null,
          null,
          null,
          null,
          null,
          null,
          null,
          null,
          null,
          null,
          null,
          null,
          null,
          null,
          null,
          null,
          null,
          null,
          null,
          null,
          null,
          null,
          null,
          null,
          null,
          null,
          null,
          null,
          null,
          null,
          null,
          null,
          null,
          null,
          null,
          null,
          null,
          null,
          null,
          null,
          null,
          null,
          null,
          null,
          null,
          null,
          null,
          null,
          null,
          null,
          null,
          null,
          null,
          null,
          null,
          null,
          null,
          null,
          null,
          null,
          null,
          null,
          null,
          null,
          null,
          null,
          null,
          null,
          null,
          null,
          null,
          null,
          null,
          null,
          null,
          null,
          null,
          null,
          null,
          null,
          null,
          null,
          null,
          null,
          null,
          null,
          null,
          null,
          null,
          null,
          null,
          null,
          null,
          null,
          1045,
          null,
          null,
          null,
          null,
          null,
          null,
          null,
          451,
          null,
          null,
          null,
          null,
          null,
          null,
          null,
          null,
          null,
          null,
          448,
          null,
          null,
          null,
          null,
          null,
          null,
          null,
          null,
          null,
          null,
          null,
          389,
          null,
          null,
          null,
          null,
          null,
          null,
          null,
          null,
          null,
          null,
          null,
          null,
          null,
          null,
          null,
          null,
          null,
          null,
          null,
          null,
          null,
          null,
          null,
          null,
          null,
          null,
          null,
          null,
          1566,
          1208,
          703,
          1405,
          741,
          920,
          735,
          563,
          689,
          791,
          939,
          1166,
          739,
          802,
          848,
          null,
          null,
          1438,
          3600,
          1616,
          765,
          975,
          1124,
          1191,
          964,
          1731,
          1183,
          982,
          null,
          1220,
          845,
          1262,
          1248,
          1396,
          null,
          3017,
          814,
          1365,
          605,
          2310,
          1166,
          1870,
          1697,
          1968,
          938,
          778,
          681,
          678,
          2159,
          660,
          1704,
          986,
          1193,
          1966,
          2282,
          2060,
          1261,
          1207,
          null,
          1411,
          1403,
          1357,
          2088,
          1132,
          1257,
          null,
          1051,
          null,
          1299,
          948,
          965,
          596,
          1300,
          1729,
          1559,
          null,
          3151,
          1355,
          1489,
          2770,
          2736,
          null,
          2009,
          1880,
          2968,
          null,
          2610,
          3362,
          1240,
          1672,
          null,
          null,
          1388,
          null,
          null,
          null,
          1390,
          3039,
          null,
          2138,
          null,
          2943,
          3730,
          null,
          3952,
          2156,
          3348,
          2275,
          1817,
          3161,
          1779,
          null,
          1921,
          2012,
          null,
          5817,
          2335,
          1573,
          1308,
          null,
          2980,
          3316,
          null,
          null,
          1799,
          null,
          3867,
          null,
          5396,
          5353,
          4290,
          2425,
          null,
          null,
          3591,
          1918,
          1768,
          null,
          2037,
          2626,
          1635,
          1380,
          763,
          5959,
          1219,
          860,
          1749,
          3224,
          null,
          2717
         ],
         "yaxis": "y"
        },
        {
         "alignmentgroup": "True",
         "hovertemplate": "region=East Midlands<br>Party=%{x}<br>Total Votes=%{y}<extra></extra>",
         "legendgroup": "East Midlands",
         "marker": {
          "color": "#19d3f3",
          "pattern": {
           "shape": ""
          }
         },
         "name": "East Midlands",
         "offsetgroup": "East Midlands",
         "orientation": "v",
         "showlegend": true,
         "textposition": "auto",
         "type": "bar",
         "x": [
          "ConVote19",
          "ConVote19",
          "ConVote19",
          "ConVote19",
          "ConVote19",
          "ConVote19",
          "ConVote19",
          "ConVote19",
          "ConVote19",
          "ConVote19",
          "ConVote19",
          "ConVote19",
          "ConVote19",
          "ConVote19",
          "ConVote19",
          "ConVote19",
          "ConVote19",
          "ConVote19",
          "ConVote19",
          "ConVote19",
          "ConVote19",
          "ConVote19",
          "ConVote19",
          "ConVote19",
          "ConVote19",
          "ConVote19",
          "ConVote19",
          "ConVote19",
          "ConVote19",
          "ConVote19",
          "ConVote19",
          "ConVote19",
          "ConVote19",
          "ConVote19",
          "ConVote19",
          "ConVote19",
          "ConVote19",
          "ConVote19",
          "ConVote19",
          "ConVote19",
          "ConVote19",
          "ConVote19",
          "ConVote19",
          "ConVote19",
          "ConVote19",
          "ConVote19",
          "LabVote19",
          "LabVote19",
          "LabVote19",
          "LabVote19",
          "LabVote19",
          "LabVote19",
          "LabVote19",
          "LabVote19",
          "LabVote19",
          "LabVote19",
          "LabVote19",
          "LabVote19",
          "LabVote19",
          "LabVote19",
          "LabVote19",
          "LabVote19",
          "LabVote19",
          "LabVote19",
          "LabVote19",
          "LabVote19",
          "LabVote19",
          "LabVote19",
          "LabVote19",
          "LabVote19",
          "LabVote19",
          "LabVote19",
          "LabVote19",
          "LabVote19",
          "LabVote19",
          "LabVote19",
          "LabVote19",
          "LabVote19",
          "LabVote19",
          "LabVote19",
          "LabVote19",
          "LabVote19",
          "LabVote19",
          "LabVote19",
          "LabVote19",
          "LabVote19",
          "LabVote19",
          "LabVote19",
          "LabVote19",
          "LabVote19",
          "LabVote19",
          "LabVote19",
          "LDVote19",
          "LDVote19",
          "LDVote19",
          "LDVote19",
          "LDVote19",
          "LDVote19",
          "LDVote19",
          "LDVote19",
          "LDVote19",
          "LDVote19",
          "LDVote19",
          "LDVote19",
          "LDVote19",
          "LDVote19",
          "LDVote19",
          "LDVote19",
          "LDVote19",
          "LDVote19",
          "LDVote19",
          "LDVote19",
          "LDVote19",
          "LDVote19",
          "LDVote19",
          "LDVote19",
          "LDVote19",
          "LDVote19",
          "LDVote19",
          "LDVote19",
          "LDVote19",
          "LDVote19",
          "LDVote19",
          "LDVote19",
          "LDVote19",
          "LDVote19",
          "LDVote19",
          "LDVote19",
          "LDVote19",
          "LDVote19",
          "LDVote19",
          "LDVote19",
          "LDVote19",
          "LDVote19",
          "LDVote19",
          "LDVote19",
          "LDVote19",
          "LDVote19",
          "SNPVote19",
          "SNPVote19",
          "SNPVote19",
          "SNPVote19",
          "SNPVote19",
          "SNPVote19",
          "SNPVote19",
          "SNPVote19",
          "SNPVote19",
          "SNPVote19",
          "SNPVote19",
          "SNPVote19",
          "SNPVote19",
          "SNPVote19",
          "SNPVote19",
          "SNPVote19",
          "SNPVote19",
          "SNPVote19",
          "SNPVote19",
          "SNPVote19",
          "SNPVote19",
          "SNPVote19",
          "SNPVote19",
          "SNPVote19",
          "SNPVote19",
          "SNPVote19",
          "SNPVote19",
          "SNPVote19",
          "SNPVote19",
          "SNPVote19",
          "SNPVote19",
          "SNPVote19",
          "SNPVote19",
          "SNPVote19",
          "SNPVote19",
          "SNPVote19",
          "SNPVote19",
          "SNPVote19",
          "SNPVote19",
          "SNPVote19",
          "SNPVote19",
          "SNPVote19",
          "SNPVote19",
          "SNPVote19",
          "SNPVote19",
          "SNPVote19",
          "PCVote19",
          "PCVote19",
          "PCVote19",
          "PCVote19",
          "PCVote19",
          "PCVote19",
          "PCVote19",
          "PCVote19",
          "PCVote19",
          "PCVote19",
          "PCVote19",
          "PCVote19",
          "PCVote19",
          "PCVote19",
          "PCVote19",
          "PCVote19",
          "PCVote19",
          "PCVote19",
          "PCVote19",
          "PCVote19",
          "PCVote19",
          "PCVote19",
          "PCVote19",
          "PCVote19",
          "PCVote19",
          "PCVote19",
          "PCVote19",
          "PCVote19",
          "PCVote19",
          "PCVote19",
          "PCVote19",
          "PCVote19",
          "PCVote19",
          "PCVote19",
          "PCVote19",
          "PCVote19",
          "PCVote19",
          "PCVote19",
          "PCVote19",
          "PCVote19",
          "PCVote19",
          "PCVote19",
          "PCVote19",
          "PCVote19",
          "PCVote19",
          "PCVote19",
          "UKIPVote19",
          "UKIPVote19",
          "UKIPVote19",
          "UKIPVote19",
          "UKIPVote19",
          "UKIPVote19",
          "UKIPVote19",
          "UKIPVote19",
          "UKIPVote19",
          "UKIPVote19",
          "UKIPVote19",
          "UKIPVote19",
          "UKIPVote19",
          "UKIPVote19",
          "UKIPVote19",
          "UKIPVote19",
          "UKIPVote19",
          "UKIPVote19",
          "UKIPVote19",
          "UKIPVote19",
          "UKIPVote19",
          "UKIPVote19",
          "UKIPVote19",
          "UKIPVote19",
          "UKIPVote19",
          "UKIPVote19",
          "UKIPVote19",
          "UKIPVote19",
          "UKIPVote19",
          "UKIPVote19",
          "UKIPVote19",
          "UKIPVote19",
          "UKIPVote19",
          "UKIPVote19",
          "UKIPVote19",
          "UKIPVote19",
          "UKIPVote19",
          "UKIPVote19",
          "UKIPVote19",
          "UKIPVote19",
          "UKIPVote19",
          "UKIPVote19",
          "UKIPVote19",
          "UKIPVote19",
          "UKIPVote19",
          "UKIPVote19",
          "GreenVote19",
          "GreenVote19",
          "GreenVote19",
          "GreenVote19",
          "GreenVote19",
          "GreenVote19",
          "GreenVote19",
          "GreenVote19",
          "GreenVote19",
          "GreenVote19",
          "GreenVote19",
          "GreenVote19",
          "GreenVote19",
          "GreenVote19",
          "GreenVote19",
          "GreenVote19",
          "GreenVote19",
          "GreenVote19",
          "GreenVote19",
          "GreenVote19",
          "GreenVote19",
          "GreenVote19",
          "GreenVote19",
          "GreenVote19",
          "GreenVote19",
          "GreenVote19",
          "GreenVote19",
          "GreenVote19",
          "GreenVote19",
          "GreenVote19",
          "GreenVote19",
          "GreenVote19",
          "GreenVote19",
          "GreenVote19",
          "GreenVote19",
          "GreenVote19",
          "GreenVote19",
          "GreenVote19",
          "GreenVote19",
          "GreenVote19",
          "GreenVote19",
          "GreenVote19",
          "GreenVote19",
          "GreenVote19",
          "GreenVote19",
          "GreenVote19",
          "BrexitVote19",
          "BrexitVote19",
          "BrexitVote19",
          "BrexitVote19",
          "BrexitVote19",
          "BrexitVote19",
          "BrexitVote19",
          "BrexitVote19",
          "BrexitVote19",
          "BrexitVote19",
          "BrexitVote19",
          "BrexitVote19",
          "BrexitVote19",
          "BrexitVote19",
          "BrexitVote19",
          "BrexitVote19",
          "BrexitVote19",
          "BrexitVote19",
          "BrexitVote19",
          "BrexitVote19",
          "BrexitVote19",
          "BrexitVote19",
          "BrexitVote19",
          "BrexitVote19",
          "BrexitVote19",
          "BrexitVote19",
          "BrexitVote19",
          "BrexitVote19",
          "BrexitVote19",
          "BrexitVote19",
          "BrexitVote19",
          "BrexitVote19",
          "BrexitVote19",
          "BrexitVote19",
          "BrexitVote19",
          "BrexitVote19",
          "BrexitVote19",
          "BrexitVote19",
          "BrexitVote19",
          "BrexitVote19",
          "BrexitVote19",
          "BrexitVote19",
          "BrexitVote19",
          "BrexitVote19",
          "BrexitVote19",
          "BrexitVote19"
         ],
         "xaxis": "x",
         "y": [
          29096,
          19231,
          28078,
          21791,
          31963,
          36056,
          26602,
          35121,
          16720,
          33410,
          37055,
          21259,
          15671,
          29356,
          29027,
          28897,
          33502,
          27560,
          33893,
          22718,
          36794,
          31698,
          24844,
          29787,
          19071,
          10931,
          13079,
          33811,
          36791,
          24267,
          27954,
          38021,
          31484,
          34660,
          21031,
          20914,
          41755,
          8342,
          12847,
          14018,
          28765,
          36507,
          32049,
          44683,
          37338,
          32277,
          12210,
          11971,
          14065,
          16492,
          6342,
          9778,
          21271,
          12724,
          18171,
          23142,
          10975,
          18719,
          21690,
          11975,
          13642,
          16021,
          14167,
          16954,
          10926,
          22039,
          10791,
          14420,
          24254,
          13022,
          25090,
          33606,
          17291,
          13411,
          12787,
          20753,
          20785,
          9153,
          15178,
          12844,
          15524,
          16217,
          13994,
          25735,
          17337,
          26586,
          21122,
          9583,
          15863,
          12118,
          6500,
          13737,
          2873,
          1105,
          3332,
          1759,
          1963,
          9096,
          null,
          4856,
          3985,
          3923,
          7032,
          3450,
          2621,
          6627,
          4756,
          3021,
          3924,
          2487,
          5157,
          2279,
          6153,
          9103,
          2750,
          3367,
          2800,
          2754,
          1808,
          3614,
          5452,
          2422,
          4153,
          4114,
          1626,
          5308,
          2031,
          2482,
          7891,
          1954,
          1582,
          3935,
          9600,
          7970,
          2883,
          5355,
          3225,
          4078,
          null,
          null,
          null,
          null,
          null,
          null,
          null,
          null,
          null,
          null,
          null,
          null,
          null,
          null,
          null,
          null,
          null,
          null,
          null,
          null,
          null,
          null,
          null,
          null,
          null,
          null,
          null,
          null,
          null,
          null,
          null,
          null,
          null,
          null,
          null,
          null,
          null,
          null,
          null,
          null,
          null,
          null,
          null,
          null,
          null,
          null,
          null,
          null,
          null,
          null,
          null,
          null,
          null,
          null,
          null,
          null,
          null,
          null,
          null,
          null,
          null,
          null,
          null,
          null,
          null,
          null,
          null,
          null,
          null,
          null,
          null,
          null,
          null,
          null,
          null,
          null,
          null,
          null,
          null,
          null,
          null,
          null,
          null,
          null,
          null,
          null,
          null,
          null,
          null,
          null,
          null,
          null,
          null,
          null,
          null,
          null,
          null,
          null,
          null,
          null,
          null,
          null,
          null,
          null,
          null,
          null,
          null,
          null,
          null,
          null,
          null,
          null,
          null,
          null,
          null,
          null,
          null,
          null,
          null,
          null,
          null,
          null,
          null,
          null,
          null,
          null,
          null,
          null,
          null,
          null,
          null,
          null,
          591,
          917,
          null,
          null,
          null,
          null,
          1388,
          674,
          null,
          758,
          null,
          1502,
          1806,
          2664,
          1148,
          null,
          2341,
          1046,
          null,
          2058,
          1931,
          1278,
          1788,
          1115,
          null,
          1097,
          2265,
          1709,
          1148,
          1543,
          888,
          1669,
          977,
          2478,
          2439,
          1195,
          1504,
          null,
          null,
          1950,
          953,
          1222,
          2634,
          1183,
          868,
          1583,
          null,
          2875,
          1214,
          1742,
          1613,
          1821,
          null,
          2501,
          5366,
          4151,
          null,
          null,
          null,
          null,
          4771,
          null,
          null,
          1908,
          2480,
          null,
          null,
          null,
          null,
          null,
          null,
          1820,
          null,
          null,
          1177,
          null,
          1243,
          1187,
          1620,
          null,
          null,
          1079,
          null,
          null,
          null,
          null,
          null,
          null,
          null,
          1343,
          2686,
          2012,
          null,
          null,
          null,
          null,
          null,
          null
         ],
         "yaxis": "y"
        },
        {
         "alignmentgroup": "True",
         "hovertemplate": "region=London<br>Party=%{x}<br>Total Votes=%{y}<extra></extra>",
         "legendgroup": "London",
         "marker": {
          "color": "#FF6692",
          "pattern": {
           "shape": ""
          }
         },
         "name": "London",
         "offsetgroup": "London",
         "orientation": "v",
         "showlegend": true,
         "textposition": "auto",
         "type": "bar",
         "x": [
          "ConVote19",
          "ConVote19",
          "ConVote19",
          "ConVote19",
          "ConVote19",
          "ConVote19",
          "ConVote19",
          "ConVote19",
          "ConVote19",
          "ConVote19",
          "ConVote19",
          "ConVote19",
          "ConVote19",
          "ConVote19",
          "ConVote19",
          "ConVote19",
          "ConVote19",
          "ConVote19",
          "ConVote19",
          "ConVote19",
          "ConVote19",
          "ConVote19",
          "ConVote19",
          "ConVote19",
          "ConVote19",
          "ConVote19",
          "ConVote19",
          "ConVote19",
          "ConVote19",
          "ConVote19",
          "ConVote19",
          "ConVote19",
          "ConVote19",
          "ConVote19",
          "ConVote19",
          "ConVote19",
          "ConVote19",
          "ConVote19",
          "ConVote19",
          "ConVote19",
          "ConVote19",
          "ConVote19",
          "ConVote19",
          "ConVote19",
          "ConVote19",
          "ConVote19",
          "ConVote19",
          "ConVote19",
          "ConVote19",
          "ConVote19",
          "ConVote19",
          "ConVote19",
          "ConVote19",
          "ConVote19",
          "ConVote19",
          "ConVote19",
          "ConVote19",
          "ConVote19",
          "ConVote19",
          "ConVote19",
          "ConVote19",
          "ConVote19",
          "ConVote19",
          "ConVote19",
          "ConVote19",
          "ConVote19",
          "ConVote19",
          "ConVote19",
          "ConVote19",
          "ConVote19",
          "ConVote19",
          "ConVote19",
          "ConVote19",
          "LabVote19",
          "LabVote19",
          "LabVote19",
          "LabVote19",
          "LabVote19",
          "LabVote19",
          "LabVote19",
          "LabVote19",
          "LabVote19",
          "LabVote19",
          "LabVote19",
          "LabVote19",
          "LabVote19",
          "LabVote19",
          "LabVote19",
          "LabVote19",
          "LabVote19",
          "LabVote19",
          "LabVote19",
          "LabVote19",
          "LabVote19",
          "LabVote19",
          "LabVote19",
          "LabVote19",
          "LabVote19",
          "LabVote19",
          "LabVote19",
          "LabVote19",
          "LabVote19",
          "LabVote19",
          "LabVote19",
          "LabVote19",
          "LabVote19",
          "LabVote19",
          "LabVote19",
          "LabVote19",
          "LabVote19",
          "LabVote19",
          "LabVote19",
          "LabVote19",
          "LabVote19",
          "LabVote19",
          "LabVote19",
          "LabVote19",
          "LabVote19",
          "LabVote19",
          "LabVote19",
          "LabVote19",
          "LabVote19",
          "LabVote19",
          "LabVote19",
          "LabVote19",
          "LabVote19",
          "LabVote19",
          "LabVote19",
          "LabVote19",
          "LabVote19",
          "LabVote19",
          "LabVote19",
          "LabVote19",
          "LabVote19",
          "LabVote19",
          "LabVote19",
          "LabVote19",
          "LabVote19",
          "LabVote19",
          "LabVote19",
          "LabVote19",
          "LabVote19",
          "LabVote19",
          "LabVote19",
          "LabVote19",
          "LabVote19",
          "LDVote19",
          "LDVote19",
          "LDVote19",
          "LDVote19",
          "LDVote19",
          "LDVote19",
          "LDVote19",
          "LDVote19",
          "LDVote19",
          "LDVote19",
          "LDVote19",
          "LDVote19",
          "LDVote19",
          "LDVote19",
          "LDVote19",
          "LDVote19",
          "LDVote19",
          "LDVote19",
          "LDVote19",
          "LDVote19",
          "LDVote19",
          "LDVote19",
          "LDVote19",
          "LDVote19",
          "LDVote19",
          "LDVote19",
          "LDVote19",
          "LDVote19",
          "LDVote19",
          "LDVote19",
          "LDVote19",
          "LDVote19",
          "LDVote19",
          "LDVote19",
          "LDVote19",
          "LDVote19",
          "LDVote19",
          "LDVote19",
          "LDVote19",
          "LDVote19",
          "LDVote19",
          "LDVote19",
          "LDVote19",
          "LDVote19",
          "LDVote19",
          "LDVote19",
          "LDVote19",
          "LDVote19",
          "LDVote19",
          "LDVote19",
          "LDVote19",
          "LDVote19",
          "LDVote19",
          "LDVote19",
          "LDVote19",
          "LDVote19",
          "LDVote19",
          "LDVote19",
          "LDVote19",
          "LDVote19",
          "LDVote19",
          "LDVote19",
          "LDVote19",
          "LDVote19",
          "LDVote19",
          "LDVote19",
          "LDVote19",
          "LDVote19",
          "LDVote19",
          "LDVote19",
          "LDVote19",
          "LDVote19",
          "LDVote19",
          "SNPVote19",
          "SNPVote19",
          "SNPVote19",
          "SNPVote19",
          "SNPVote19",
          "SNPVote19",
          "SNPVote19",
          "SNPVote19",
          "SNPVote19",
          "SNPVote19",
          "SNPVote19",
          "SNPVote19",
          "SNPVote19",
          "SNPVote19",
          "SNPVote19",
          "SNPVote19",
          "SNPVote19",
          "SNPVote19",
          "SNPVote19",
          "SNPVote19",
          "SNPVote19",
          "SNPVote19",
          "SNPVote19",
          "SNPVote19",
          "SNPVote19",
          "SNPVote19",
          "SNPVote19",
          "SNPVote19",
          "SNPVote19",
          "SNPVote19",
          "SNPVote19",
          "SNPVote19",
          "SNPVote19",
          "SNPVote19",
          "SNPVote19",
          "SNPVote19",
          "SNPVote19",
          "SNPVote19",
          "SNPVote19",
          "SNPVote19",
          "SNPVote19",
          "SNPVote19",
          "SNPVote19",
          "SNPVote19",
          "SNPVote19",
          "SNPVote19",
          "SNPVote19",
          "SNPVote19",
          "SNPVote19",
          "SNPVote19",
          "SNPVote19",
          "SNPVote19",
          "SNPVote19",
          "SNPVote19",
          "SNPVote19",
          "SNPVote19",
          "SNPVote19",
          "SNPVote19",
          "SNPVote19",
          "SNPVote19",
          "SNPVote19",
          "SNPVote19",
          "SNPVote19",
          "SNPVote19",
          "SNPVote19",
          "SNPVote19",
          "SNPVote19",
          "SNPVote19",
          "SNPVote19",
          "SNPVote19",
          "SNPVote19",
          "SNPVote19",
          "SNPVote19",
          "PCVote19",
          "PCVote19",
          "PCVote19",
          "PCVote19",
          "PCVote19",
          "PCVote19",
          "PCVote19",
          "PCVote19",
          "PCVote19",
          "PCVote19",
          "PCVote19",
          "PCVote19",
          "PCVote19",
          "PCVote19",
          "PCVote19",
          "PCVote19",
          "PCVote19",
          "PCVote19",
          "PCVote19",
          "PCVote19",
          "PCVote19",
          "PCVote19",
          "PCVote19",
          "PCVote19",
          "PCVote19",
          "PCVote19",
          "PCVote19",
          "PCVote19",
          "PCVote19",
          "PCVote19",
          "PCVote19",
          "PCVote19",
          "PCVote19",
          "PCVote19",
          "PCVote19",
          "PCVote19",
          "PCVote19",
          "PCVote19",
          "PCVote19",
          "PCVote19",
          "PCVote19",
          "PCVote19",
          "PCVote19",
          "PCVote19",
          "PCVote19",
          "PCVote19",
          "PCVote19",
          "PCVote19",
          "PCVote19",
          "PCVote19",
          "PCVote19",
          "PCVote19",
          "PCVote19",
          "PCVote19",
          "PCVote19",
          "PCVote19",
          "PCVote19",
          "PCVote19",
          "PCVote19",
          "PCVote19",
          "PCVote19",
          "PCVote19",
          "PCVote19",
          "PCVote19",
          "PCVote19",
          "PCVote19",
          "PCVote19",
          "PCVote19",
          "PCVote19",
          "PCVote19",
          "PCVote19",
          "PCVote19",
          "PCVote19",
          "UKIPVote19",
          "UKIPVote19",
          "UKIPVote19",
          "UKIPVote19",
          "UKIPVote19",
          "UKIPVote19",
          "UKIPVote19",
          "UKIPVote19",
          "UKIPVote19",
          "UKIPVote19",
          "UKIPVote19",
          "UKIPVote19",
          "UKIPVote19",
          "UKIPVote19",
          "UKIPVote19",
          "UKIPVote19",
          "UKIPVote19",
          "UKIPVote19",
          "UKIPVote19",
          "UKIPVote19",
          "UKIPVote19",
          "UKIPVote19",
          "UKIPVote19",
          "UKIPVote19",
          "UKIPVote19",
          "UKIPVote19",
          "UKIPVote19",
          "UKIPVote19",
          "UKIPVote19",
          "UKIPVote19",
          "UKIPVote19",
          "UKIPVote19",
          "UKIPVote19",
          "UKIPVote19",
          "UKIPVote19",
          "UKIPVote19",
          "UKIPVote19",
          "UKIPVote19",
          "UKIPVote19",
          "UKIPVote19",
          "UKIPVote19",
          "UKIPVote19",
          "UKIPVote19",
          "UKIPVote19",
          "UKIPVote19",
          "UKIPVote19",
          "UKIPVote19",
          "UKIPVote19",
          "UKIPVote19",
          "UKIPVote19",
          "UKIPVote19",
          "UKIPVote19",
          "UKIPVote19",
          "UKIPVote19",
          "UKIPVote19",
          "UKIPVote19",
          "UKIPVote19",
          "UKIPVote19",
          "UKIPVote19",
          "UKIPVote19",
          "UKIPVote19",
          "UKIPVote19",
          "UKIPVote19",
          "UKIPVote19",
          "UKIPVote19",
          "UKIPVote19",
          "UKIPVote19",
          "UKIPVote19",
          "UKIPVote19",
          "UKIPVote19",
          "UKIPVote19",
          "UKIPVote19",
          "UKIPVote19",
          "GreenVote19",
          "GreenVote19",
          "GreenVote19",
          "GreenVote19",
          "GreenVote19",
          "GreenVote19",
          "GreenVote19",
          "GreenVote19",
          "GreenVote19",
          "GreenVote19",
          "GreenVote19",
          "GreenVote19",
          "GreenVote19",
          "GreenVote19",
          "GreenVote19",
          "GreenVote19",
          "GreenVote19",
          "GreenVote19",
          "GreenVote19",
          "GreenVote19",
          "GreenVote19",
          "GreenVote19",
          "GreenVote19",
          "GreenVote19",
          "GreenVote19",
          "GreenVote19",
          "GreenVote19",
          "GreenVote19",
          "GreenVote19",
          "GreenVote19",
          "GreenVote19",
          "GreenVote19",
          "GreenVote19",
          "GreenVote19",
          "GreenVote19",
          "GreenVote19",
          "GreenVote19",
          "GreenVote19",
          "GreenVote19",
          "GreenVote19",
          "GreenVote19",
          "GreenVote19",
          "GreenVote19",
          "GreenVote19",
          "GreenVote19",
          "GreenVote19",
          "GreenVote19",
          "GreenVote19",
          "GreenVote19",
          "GreenVote19",
          "GreenVote19",
          "GreenVote19",
          "GreenVote19",
          "GreenVote19",
          "GreenVote19",
          "GreenVote19",
          "GreenVote19",
          "GreenVote19",
          "GreenVote19",
          "GreenVote19",
          "GreenVote19",
          "GreenVote19",
          "GreenVote19",
          "GreenVote19",
          "GreenVote19",
          "GreenVote19",
          "GreenVote19",
          "GreenVote19",
          "GreenVote19",
          "GreenVote19",
          "GreenVote19",
          "GreenVote19",
          "GreenVote19",
          "BrexitVote19",
          "BrexitVote19",
          "BrexitVote19",
          "BrexitVote19",
          "BrexitVote19",
          "BrexitVote19",
          "BrexitVote19",
          "BrexitVote19",
          "BrexitVote19",
          "BrexitVote19",
          "BrexitVote19",
          "BrexitVote19",
          "BrexitVote19",
          "BrexitVote19",
          "BrexitVote19",
          "BrexitVote19",
          "BrexitVote19",
          "BrexitVote19",
          "BrexitVote19",
          "BrexitVote19",
          "BrexitVote19",
          "BrexitVote19",
          "BrexitVote19",
          "BrexitVote19",
          "BrexitVote19",
          "BrexitVote19",
          "BrexitVote19",
          "BrexitVote19",
          "BrexitVote19",
          "BrexitVote19",
          "BrexitVote19",
          "BrexitVote19",
          "BrexitVote19",
          "BrexitVote19",
          "BrexitVote19",
          "BrexitVote19",
          "BrexitVote19",
          "BrexitVote19",
          "BrexitVote19",
          "BrexitVote19",
          "BrexitVote19",
          "BrexitVote19",
          "BrexitVote19",
          "BrexitVote19",
          "BrexitVote19",
          "BrexitVote19",
          "BrexitVote19",
          "BrexitVote19",
          "BrexitVote19",
          "BrexitVote19",
          "BrexitVote19",
          "BrexitVote19",
          "BrexitVote19",
          "BrexitVote19",
          "BrexitVote19",
          "BrexitVote19",
          "BrexitVote19",
          "BrexitVote19",
          "BrexitVote19",
          "BrexitVote19",
          "BrexitVote19",
          "BrexitVote19",
          "BrexitVote19",
          "BrexitVote19",
          "BrexitVote19",
          "BrexitVote19",
          "BrexitVote19",
          "BrexitVote19",
          "BrexitVote19",
          "BrexitVote19",
          "BrexitVote19",
          "BrexitVote19",
          "BrexitVote19"
         ],
         "xaxis": "x",
         "y": [
          11792,
          21622,
          27282,
          9678,
          6528,
          25856,
          10909,
          18832,
          18752,
          23958,
          6478,
          20822,
          23345,
          23481,
          25745,
          17049,
          21175,
          11822,
          30985,
          19175,
          9160,
          14832,
          15767,
          9594,
          8527,
          10202,
          17353,
          16848,
          18473,
          16124,
          17017,
          24162,
          11721,
          6784,
          5899,
          12227,
          13892,
          26935,
          16440,
          15284,
          26878,
          8878,
          35495,
          6829,
          20105,
          10984,
          5483,
          8045,
          16768,
          20614,
          6303,
          9653,
          10317,
          8028,
          11482,
          29786,
          30882,
          9756,
          18006,
          26793,
          30494,
          29391,
          9060,
          25235,
          16504,
          5446,
          22045,
          25351,
          9422,
          5922,
          9793,
          12481,
          20373,
          27219,
          27290,
          13024,
          31723,
          44052,
          12753,
          31779,
          26911,
          29266,
          13067,
          40258,
          6081,
          10872,
          22219,
          24533,
          11624,
          27124,
          36495,
          18646,
          19468,
          36521,
          28132,
          28036,
          25678,
          41703,
          26217,
          20550,
          23340,
          22923,
          19882,
          24876,
          13347,
          30185,
          39972,
          39884,
          30074,
          28080,
          18765,
          25132,
          24545,
          22648,
          36641,
          12187,
          35126,
          25323,
          35085,
          34603,
          26897,
          16618,
          6528,
          39216,
          26661,
          31860,
          28836,
          27964,
          10834,
          8504,
          38660,
          22780,
          3407,
          12601,
          12997,
          30976,
          7200,
          30811,
          35621,
          5476,
          18141,
          31615,
          36784,
          42181,
          23240,
          12543,
          1482,
          9150,
          8194,
          15597,
          5892,
          2819,
          4844,
          4065,
          7314,
          6621,
          5087,
          20193,
          12104,
          2744,
          5932,
          13096,
          3532,
          4476,
          7503,
          1182,
          null,
          9444,
          4370,
          3933,
          2158,
          2145,
          2941,
          2950,
          4344,
          1984,
          3127,
          17600,
          7253,
          4283,
          4853,
          6947,
          13121,
          3791,
          4310,
          1947,
          4628,
          7314,
          3862,
          15884,
          2680,
          1795,
          8415,
          9569,
          9312,
          31103,
          5774,
          5039,
          6260,
          4666,
          3717,
          3822,
          7552,
          8832,
          8548,
          34559,
          2708,
          7986,
          13286,
          16884,
          8305,
          3168,
          36166,
          3026,
          12003,
          2874,
          4161,
          5593,
          19745,
          null,
          null,
          null,
          null,
          null,
          null,
          null,
          null,
          null,
          null,
          null,
          null,
          null,
          null,
          null,
          null,
          null,
          null,
          null,
          null,
          null,
          null,
          null,
          null,
          null,
          null,
          null,
          null,
          null,
          null,
          null,
          null,
          null,
          null,
          null,
          null,
          null,
          null,
          null,
          null,
          null,
          null,
          null,
          null,
          null,
          null,
          null,
          null,
          null,
          null,
          null,
          null,
          null,
          null,
          null,
          null,
          null,
          null,
          null,
          null,
          null,
          null,
          null,
          null,
          null,
          null,
          null,
          null,
          null,
          null,
          null,
          null,
          null,
          null,
          null,
          null,
          null,
          null,
          null,
          null,
          null,
          null,
          null,
          null,
          null,
          null,
          null,
          null,
          null,
          null,
          null,
          null,
          null,
          null,
          null,
          null,
          null,
          null,
          null,
          null,
          null,
          null,
          null,
          null,
          null,
          null,
          null,
          null,
          null,
          null,
          null,
          null,
          null,
          null,
          null,
          null,
          null,
          null,
          null,
          null,
          null,
          null,
          null,
          null,
          null,
          null,
          null,
          null,
          null,
          null,
          null,
          null,
          null,
          null,
          null,
          null,
          null,
          null,
          null,
          null,
          null,
          null,
          null,
          null,
          null,
          null,
          null,
          null,
          null,
          null,
          null,
          null,
          null,
          null,
          null,
          null,
          null,
          null,
          null,
          null,
          null,
          null,
          null,
          null,
          442,
          null,
          73,
          null,
          null,
          null,
          null,
          null,
          null,
          null,
          null,
          null,
          null,
          null,
          null,
          null,
          null,
          null,
          null,
          null,
          null,
          null,
          null,
          138,
          null,
          null,
          null,
          null,
          null,
          null,
          null,
          124,
          null,
          null,
          null,
          null,
          null,
          null,
          null,
          null,
          null,
          null,
          null,
          null,
          null,
          null,
          null,
          null,
          null,
          283,
          null,
          null,
          null,
          null,
          null,
          820,
          1529,
          2055,
          null,
          2570,
          1298,
          1600,
          850,
          1829,
          1546,
          3501,
          759,
          null,
          null,
          1288,
          728,
          1215,
          1629,
          1782,
          602,
          9211,
          1735,
          1458,
          1688,
          883,
          862,
          1322,
          1115,
          1042,
          876,
          1133,
          null,
          2363,
          4989,
          2948,
          1744,
          1608,
          null,
          1109,
          739,
          921,
          2746,
          1920,
          2192,
          845,
          714,
          4326,
          1987,
          535,
          1038,
          3085,
          1706,
          2390,
          1805,
          1160,
          1477,
          1783,
          2159,
          1133,
          null,
          1428,
          1646,
          2567,
          1168,
          2314,
          1873,
          null,
          1090,
          2516,
          1733,
          1780,
          1064,
          null,
          3186,
          386,
          null,
          1617,
          1081,
          null,
          null,
          951,
          1165,
          null,
          1041,
          1043,
          null,
          null,
          null,
          null,
          999,
          839,
          null,
          2887,
          571,
          664,
          null,
          867,
          1107,
          840,
          1523,
          797,
          494,
          2246,
          1658,
          null,
          1228,
          609,
          744,
          974,
          684,
          null,
          931,
          1292,
          null,
          1032,
          null,
          763,
          960,
          1008,
          742,
          1136,
          384,
          788,
          789,
          1234,
          1060,
          785,
          1202,
          null,
          null,
          1493,
          null,
          null,
          null,
          null,
          624,
          null,
          462,
          527,
          816,
          null,
          641,
          768,
          1679,
          418,
          null
         ],
         "yaxis": "y"
        },
        {
         "alignmentgroup": "True",
         "hovertemplate": "region=Yorkshire and The Humber<br>Party=%{x}<br>Total Votes=%{y}<extra></extra>",
         "legendgroup": "Yorkshire and The Humber",
         "marker": {
          "color": "#B6E880",
          "pattern": {
           "shape": ""
          }
         },
         "name": "Yorkshire and The Humber",
         "offsetgroup": "Yorkshire and The Humber",
         "orientation": "v",
         "showlegend": true,
         "textposition": "auto",
         "type": "bar",
         "x": [
          "ConVote19",
          "ConVote19",
          "ConVote19",
          "ConVote19",
          "ConVote19",
          "ConVote19",
          "ConVote19",
          "ConVote19",
          "ConVote19",
          "ConVote19",
          "ConVote19",
          "ConVote19",
          "ConVote19",
          "ConVote19",
          "ConVote19",
          "ConVote19",
          "ConVote19",
          "ConVote19",
          "ConVote19",
          "ConVote19",
          "ConVote19",
          "ConVote19",
          "ConVote19",
          "ConVote19",
          "ConVote19",
          "ConVote19",
          "ConVote19",
          "ConVote19",
          "ConVote19",
          "ConVote19",
          "ConVote19",
          "ConVote19",
          "ConVote19",
          "ConVote19",
          "ConVote19",
          "ConVote19",
          "ConVote19",
          "ConVote19",
          "ConVote19",
          "ConVote19",
          "ConVote19",
          "ConVote19",
          "ConVote19",
          "ConVote19",
          "ConVote19",
          "ConVote19",
          "ConVote19",
          "ConVote19",
          "ConVote19",
          "ConVote19",
          "ConVote19",
          "ConVote19",
          "ConVote19",
          "ConVote19",
          "LabVote19",
          "LabVote19",
          "LabVote19",
          "LabVote19",
          "LabVote19",
          "LabVote19",
          "LabVote19",
          "LabVote19",
          "LabVote19",
          "LabVote19",
          "LabVote19",
          "LabVote19",
          "LabVote19",
          "LabVote19",
          "LabVote19",
          "LabVote19",
          "LabVote19",
          "LabVote19",
          "LabVote19",
          "LabVote19",
          "LabVote19",
          "LabVote19",
          "LabVote19",
          "LabVote19",
          "LabVote19",
          "LabVote19",
          "LabVote19",
          "LabVote19",
          "LabVote19",
          "LabVote19",
          "LabVote19",
          "LabVote19",
          "LabVote19",
          "LabVote19",
          "LabVote19",
          "LabVote19",
          "LabVote19",
          "LabVote19",
          "LabVote19",
          "LabVote19",
          "LabVote19",
          "LabVote19",
          "LabVote19",
          "LabVote19",
          "LabVote19",
          "LabVote19",
          "LabVote19",
          "LabVote19",
          "LabVote19",
          "LabVote19",
          "LabVote19",
          "LabVote19",
          "LabVote19",
          "LabVote19",
          "LDVote19",
          "LDVote19",
          "LDVote19",
          "LDVote19",
          "LDVote19",
          "LDVote19",
          "LDVote19",
          "LDVote19",
          "LDVote19",
          "LDVote19",
          "LDVote19",
          "LDVote19",
          "LDVote19",
          "LDVote19",
          "LDVote19",
          "LDVote19",
          "LDVote19",
          "LDVote19",
          "LDVote19",
          "LDVote19",
          "LDVote19",
          "LDVote19",
          "LDVote19",
          "LDVote19",
          "LDVote19",
          "LDVote19",
          "LDVote19",
          "LDVote19",
          "LDVote19",
          "LDVote19",
          "LDVote19",
          "LDVote19",
          "LDVote19",
          "LDVote19",
          "LDVote19",
          "LDVote19",
          "LDVote19",
          "LDVote19",
          "LDVote19",
          "LDVote19",
          "LDVote19",
          "LDVote19",
          "LDVote19",
          "LDVote19",
          "LDVote19",
          "LDVote19",
          "LDVote19",
          "LDVote19",
          "LDVote19",
          "LDVote19",
          "LDVote19",
          "LDVote19",
          "LDVote19",
          "LDVote19",
          "SNPVote19",
          "SNPVote19",
          "SNPVote19",
          "SNPVote19",
          "SNPVote19",
          "SNPVote19",
          "SNPVote19",
          "SNPVote19",
          "SNPVote19",
          "SNPVote19",
          "SNPVote19",
          "SNPVote19",
          "SNPVote19",
          "SNPVote19",
          "SNPVote19",
          "SNPVote19",
          "SNPVote19",
          "SNPVote19",
          "SNPVote19",
          "SNPVote19",
          "SNPVote19",
          "SNPVote19",
          "SNPVote19",
          "SNPVote19",
          "SNPVote19",
          "SNPVote19",
          "SNPVote19",
          "SNPVote19",
          "SNPVote19",
          "SNPVote19",
          "SNPVote19",
          "SNPVote19",
          "SNPVote19",
          "SNPVote19",
          "SNPVote19",
          "SNPVote19",
          "SNPVote19",
          "SNPVote19",
          "SNPVote19",
          "SNPVote19",
          "SNPVote19",
          "SNPVote19",
          "SNPVote19",
          "SNPVote19",
          "SNPVote19",
          "SNPVote19",
          "SNPVote19",
          "SNPVote19",
          "SNPVote19",
          "SNPVote19",
          "SNPVote19",
          "SNPVote19",
          "SNPVote19",
          "SNPVote19",
          "PCVote19",
          "PCVote19",
          "PCVote19",
          "PCVote19",
          "PCVote19",
          "PCVote19",
          "PCVote19",
          "PCVote19",
          "PCVote19",
          "PCVote19",
          "PCVote19",
          "PCVote19",
          "PCVote19",
          "PCVote19",
          "PCVote19",
          "PCVote19",
          "PCVote19",
          "PCVote19",
          "PCVote19",
          "PCVote19",
          "PCVote19",
          "PCVote19",
          "PCVote19",
          "PCVote19",
          "PCVote19",
          "PCVote19",
          "PCVote19",
          "PCVote19",
          "PCVote19",
          "PCVote19",
          "PCVote19",
          "PCVote19",
          "PCVote19",
          "PCVote19",
          "PCVote19",
          "PCVote19",
          "PCVote19",
          "PCVote19",
          "PCVote19",
          "PCVote19",
          "PCVote19",
          "PCVote19",
          "PCVote19",
          "PCVote19",
          "PCVote19",
          "PCVote19",
          "PCVote19",
          "PCVote19",
          "PCVote19",
          "PCVote19",
          "PCVote19",
          "PCVote19",
          "PCVote19",
          "PCVote19",
          "UKIPVote19",
          "UKIPVote19",
          "UKIPVote19",
          "UKIPVote19",
          "UKIPVote19",
          "UKIPVote19",
          "UKIPVote19",
          "UKIPVote19",
          "UKIPVote19",
          "UKIPVote19",
          "UKIPVote19",
          "UKIPVote19",
          "UKIPVote19",
          "UKIPVote19",
          "UKIPVote19",
          "UKIPVote19",
          "UKIPVote19",
          "UKIPVote19",
          "UKIPVote19",
          "UKIPVote19",
          "UKIPVote19",
          "UKIPVote19",
          "UKIPVote19",
          "UKIPVote19",
          "UKIPVote19",
          "UKIPVote19",
          "UKIPVote19",
          "UKIPVote19",
          "UKIPVote19",
          "UKIPVote19",
          "UKIPVote19",
          "UKIPVote19",
          "UKIPVote19",
          "UKIPVote19",
          "UKIPVote19",
          "UKIPVote19",
          "UKIPVote19",
          "UKIPVote19",
          "UKIPVote19",
          "UKIPVote19",
          "UKIPVote19",
          "UKIPVote19",
          "UKIPVote19",
          "UKIPVote19",
          "UKIPVote19",
          "UKIPVote19",
          "UKIPVote19",
          "UKIPVote19",
          "UKIPVote19",
          "UKIPVote19",
          "UKIPVote19",
          "UKIPVote19",
          "UKIPVote19",
          "UKIPVote19",
          "GreenVote19",
          "GreenVote19",
          "GreenVote19",
          "GreenVote19",
          "GreenVote19",
          "GreenVote19",
          "GreenVote19",
          "GreenVote19",
          "GreenVote19",
          "GreenVote19",
          "GreenVote19",
          "GreenVote19",
          "GreenVote19",
          "GreenVote19",
          "GreenVote19",
          "GreenVote19",
          "GreenVote19",
          "GreenVote19",
          "GreenVote19",
          "GreenVote19",
          "GreenVote19",
          "GreenVote19",
          "GreenVote19",
          "GreenVote19",
          "GreenVote19",
          "GreenVote19",
          "GreenVote19",
          "GreenVote19",
          "GreenVote19",
          "GreenVote19",
          "GreenVote19",
          "GreenVote19",
          "GreenVote19",
          "GreenVote19",
          "GreenVote19",
          "GreenVote19",
          "GreenVote19",
          "GreenVote19",
          "GreenVote19",
          "GreenVote19",
          "GreenVote19",
          "GreenVote19",
          "GreenVote19",
          "GreenVote19",
          "GreenVote19",
          "GreenVote19",
          "GreenVote19",
          "GreenVote19",
          "GreenVote19",
          "GreenVote19",
          "GreenVote19",
          "GreenVote19",
          "GreenVote19",
          "GreenVote19",
          "BrexitVote19",
          "BrexitVote19",
          "BrexitVote19",
          "BrexitVote19",
          "BrexitVote19",
          "BrexitVote19",
          "BrexitVote19",
          "BrexitVote19",
          "BrexitVote19",
          "BrexitVote19",
          "BrexitVote19",
          "BrexitVote19",
          "BrexitVote19",
          "BrexitVote19",
          "BrexitVote19",
          "BrexitVote19",
          "BrexitVote19",
          "BrexitVote19",
          "BrexitVote19",
          "BrexitVote19",
          "BrexitVote19",
          "BrexitVote19",
          "BrexitVote19",
          "BrexitVote19",
          "BrexitVote19",
          "BrexitVote19",
          "BrexitVote19",
          "BrexitVote19",
          "BrexitVote19",
          "BrexitVote19",
          "BrexitVote19",
          "BrexitVote19",
          "BrexitVote19",
          "BrexitVote19",
          "BrexitVote19",
          "BrexitVote19",
          "BrexitVote19",
          "BrexitVote19",
          "BrexitVote19",
          "BrexitVote19",
          "BrexitVote19",
          "BrexitVote19",
          "BrexitVote19",
          "BrexitVote19",
          "BrexitVote19",
          "BrexitVote19",
          "BrexitVote19",
          "BrexitVote19",
          "BrexitVote19",
          "BrexitVote19",
          "BrexitVote19",
          "BrexitVote19",
          "BrexitVote19",
          "BrexitVote19"
         ],
         "xaxis": "x",
         "y": [
          7892,
          10377,
          19069,
          33250,
          9681,
          16044,
          6717,
          30941,
          29981,
          31969,
          29482,
          26179,
          19609,
          14360,
          13370,
          33726,
          18150,
          18927,
          31045,
          29962,
          15280,
          15572,
          11474,
          9440,
          10528,
          25298,
          11143,
          13933,
          11935,
          13222,
          11622,
          29424,
          17021,
          23688,
          26453,
          36693,
          21970,
          11615,
          27593,
          20306,
          33995,
          10095,
          6695,
          14696,
          12955,
          15070,
          27437,
          34919,
          35634,
          21283,
          14577,
          13767,
          27324,
          33988,
          14804,
          14329,
          22594,
          12802,
          27825,
          18390,
          33736,
          9000,
          24207,
          10551,
          24379,
          24618,
          15979,
          16638,
          15740,
          16373,
          10819,
          21496,
          10716,
          5480,
          16460,
          20509,
          12713,
          17033,
          13384,
          23080,
          30413,
          19464,
          29024,
          23971,
          22186,
          18157,
          18297,
          16478,
          22936,
          9483,
          15652,
          14736,
          17323,
          13855,
          13858,
          22369,
          33968,
          19709,
          21475,
          19359,
          21195,
          11225,
          10480,
          17925,
          16742,
          27312,
          17339,
          11201,
          1176,
          1330,
          2462,
          4671,
          3316,
          1505,
          1349,
          2180,
          2884,
          2535,
          3815,
          2406,
          1907,
          1748,
          1476,
          5155,
          1070,
          2276,
          5215,
          20287,
          1734,
          2367,
          1707,
          2084,
          1756,
          2573,
          2343,
          1796,
          5665,
          9397,
          1787,
          2285,
          3147,
          5054,
          3088,
          6989,
          2553,
          2090,
          3038,
          875,
          4842,
          1517,
          3237,
          18997,
          2916,
          2125,
          3188,
          8701,
          6774,
          1772,
          1705,
          4149,
          9992,
          4219,
          null,
          null,
          null,
          null,
          null,
          null,
          null,
          null,
          null,
          null,
          null,
          null,
          null,
          null,
          null,
          null,
          null,
          null,
          null,
          null,
          null,
          null,
          null,
          null,
          null,
          null,
          null,
          null,
          null,
          null,
          null,
          null,
          null,
          null,
          null,
          null,
          null,
          null,
          null,
          null,
          null,
          null,
          null,
          null,
          null,
          null,
          null,
          null,
          null,
          null,
          null,
          null,
          null,
          null,
          null,
          null,
          null,
          null,
          null,
          null,
          null,
          null,
          null,
          null,
          null,
          null,
          null,
          null,
          null,
          null,
          null,
          null,
          null,
          null,
          null,
          null,
          null,
          null,
          null,
          null,
          null,
          null,
          null,
          null,
          null,
          null,
          null,
          null,
          null,
          null,
          null,
          null,
          null,
          null,
          null,
          null,
          null,
          null,
          null,
          null,
          null,
          null,
          null,
          null,
          null,
          null,
          null,
          null,
          null,
          null,
          null,
          null,
          null,
          null,
          null,
          null,
          null,
          null,
          230,
          null,
          null,
          null,
          null,
          null,
          null,
          null,
          null,
          null,
          null,
          null,
          null,
          null,
          null,
          null,
          null,
          null,
          null,
          null,
          null,
          null,
          null,
          null,
          null,
          null,
          null,
          null,
          null,
          null,
          null,
          585,
          null,
          168,
          null,
          null,
          null,
          null,
          null,
          null,
          null,
          null,
          null,
          null,
          900,
          922,
          692,
          1378,
          662,
          983,
          813,
          1281,
          null,
          1284,
          1068,
          1060,
          872,
          981,
          null,
          1775,
          514,
          946,
          1764,
          null,
          916,
          1768,
          784,
          875,
          50,
          null,
          2105,
          878,
          1931,
          1389,
          1274,
          1107,
          null,
          null,
          894,
          2500,
          1219,
          null,
          null,
          670,
          1823,
          1179,
          4570,
          1630,
          1811,
          null,
          1301,
          2748,
          2263,
          null,
          null,
          2107,
          null,
          1675,
          11233,
          11112,
          1678,
          null,
          2700,
          2819,
          1556,
          null,
          null,
          null,
          1268,
          1874,
          6247,
          6842,
          8294,
          null,
          2378,
          2813,
          null,
          null,
          5930,
          1666,
          5764,
          4771,
          5638,
          850,
          2999,
          2981,
          1769,
          1304,
          2685,
          null,
          8032,
          4300,
          null,
          null,
          6264,
          6125,
          null,
          2044,
          null,
          3855,
          1969,
          1562,
          3538,
          4478,
          null,
          null,
          null,
          2725,
          7019,
          1479,
          null,
          null
         ],
         "yaxis": "y"
        },
        {
         "alignmentgroup": "True",
         "hovertemplate": "region=East of England<br>Party=%{x}<br>Total Votes=%{y}<extra></extra>",
         "legendgroup": "East of England",
         "marker": {
          "color": "#FF97FF",
          "pattern": {
           "shape": ""
          }
         },
         "name": "East of England",
         "offsetgroup": "East of England",
         "orientation": "v",
         "showlegend": true,
         "textposition": "auto",
         "type": "bar",
         "x": [
          "ConVote19",
          "ConVote19",
          "ConVote19",
          "ConVote19",
          "ConVote19",
          "ConVote19",
          "ConVote19",
          "ConVote19",
          "ConVote19",
          "ConVote19",
          "ConVote19",
          "ConVote19",
          "ConVote19",
          "ConVote19",
          "ConVote19",
          "ConVote19",
          "ConVote19",
          "ConVote19",
          "ConVote19",
          "ConVote19",
          "ConVote19",
          "ConVote19",
          "ConVote19",
          "ConVote19",
          "ConVote19",
          "ConVote19",
          "ConVote19",
          "ConVote19",
          "ConVote19",
          "ConVote19",
          "ConVote19",
          "ConVote19",
          "ConVote19",
          "ConVote19",
          "ConVote19",
          "ConVote19",
          "ConVote19",
          "ConVote19",
          "ConVote19",
          "ConVote19",
          "ConVote19",
          "ConVote19",
          "ConVote19",
          "ConVote19",
          "ConVote19",
          "ConVote19",
          "ConVote19",
          "ConVote19",
          "ConVote19",
          "ConVote19",
          "ConVote19",
          "ConVote19",
          "ConVote19",
          "ConVote19",
          "ConVote19",
          "ConVote19",
          "ConVote19",
          "ConVote19",
          "LabVote19",
          "LabVote19",
          "LabVote19",
          "LabVote19",
          "LabVote19",
          "LabVote19",
          "LabVote19",
          "LabVote19",
          "LabVote19",
          "LabVote19",
          "LabVote19",
          "LabVote19",
          "LabVote19",
          "LabVote19",
          "LabVote19",
          "LabVote19",
          "LabVote19",
          "LabVote19",
          "LabVote19",
          "LabVote19",
          "LabVote19",
          "LabVote19",
          "LabVote19",
          "LabVote19",
          "LabVote19",
          "LabVote19",
          "LabVote19",
          "LabVote19",
          "LabVote19",
          "LabVote19",
          "LabVote19",
          "LabVote19",
          "LabVote19",
          "LabVote19",
          "LabVote19",
          "LabVote19",
          "LabVote19",
          "LabVote19",
          "LabVote19",
          "LabVote19",
          "LabVote19",
          "LabVote19",
          "LabVote19",
          "LabVote19",
          "LabVote19",
          "LabVote19",
          "LabVote19",
          "LabVote19",
          "LabVote19",
          "LabVote19",
          "LabVote19",
          "LabVote19",
          "LabVote19",
          "LabVote19",
          "LabVote19",
          "LabVote19",
          "LabVote19",
          "LabVote19",
          "LDVote19",
          "LDVote19",
          "LDVote19",
          "LDVote19",
          "LDVote19",
          "LDVote19",
          "LDVote19",
          "LDVote19",
          "LDVote19",
          "LDVote19",
          "LDVote19",
          "LDVote19",
          "LDVote19",
          "LDVote19",
          "LDVote19",
          "LDVote19",
          "LDVote19",
          "LDVote19",
          "LDVote19",
          "LDVote19",
          "LDVote19",
          "LDVote19",
          "LDVote19",
          "LDVote19",
          "LDVote19",
          "LDVote19",
          "LDVote19",
          "LDVote19",
          "LDVote19",
          "LDVote19",
          "LDVote19",
          "LDVote19",
          "LDVote19",
          "LDVote19",
          "LDVote19",
          "LDVote19",
          "LDVote19",
          "LDVote19",
          "LDVote19",
          "LDVote19",
          "LDVote19",
          "LDVote19",
          "LDVote19",
          "LDVote19",
          "LDVote19",
          "LDVote19",
          "LDVote19",
          "LDVote19",
          "LDVote19",
          "LDVote19",
          "LDVote19",
          "LDVote19",
          "LDVote19",
          "LDVote19",
          "LDVote19",
          "LDVote19",
          "LDVote19",
          "LDVote19",
          "SNPVote19",
          "SNPVote19",
          "SNPVote19",
          "SNPVote19",
          "SNPVote19",
          "SNPVote19",
          "SNPVote19",
          "SNPVote19",
          "SNPVote19",
          "SNPVote19",
          "SNPVote19",
          "SNPVote19",
          "SNPVote19",
          "SNPVote19",
          "SNPVote19",
          "SNPVote19",
          "SNPVote19",
          "SNPVote19",
          "SNPVote19",
          "SNPVote19",
          "SNPVote19",
          "SNPVote19",
          "SNPVote19",
          "SNPVote19",
          "SNPVote19",
          "SNPVote19",
          "SNPVote19",
          "SNPVote19",
          "SNPVote19",
          "SNPVote19",
          "SNPVote19",
          "SNPVote19",
          "SNPVote19",
          "SNPVote19",
          "SNPVote19",
          "SNPVote19",
          "SNPVote19",
          "SNPVote19",
          "SNPVote19",
          "SNPVote19",
          "SNPVote19",
          "SNPVote19",
          "SNPVote19",
          "SNPVote19",
          "SNPVote19",
          "SNPVote19",
          "SNPVote19",
          "SNPVote19",
          "SNPVote19",
          "SNPVote19",
          "SNPVote19",
          "SNPVote19",
          "SNPVote19",
          "SNPVote19",
          "SNPVote19",
          "SNPVote19",
          "SNPVote19",
          "SNPVote19",
          "PCVote19",
          "PCVote19",
          "PCVote19",
          "PCVote19",
          "PCVote19",
          "PCVote19",
          "PCVote19",
          "PCVote19",
          "PCVote19",
          "PCVote19",
          "PCVote19",
          "PCVote19",
          "PCVote19",
          "PCVote19",
          "PCVote19",
          "PCVote19",
          "PCVote19",
          "PCVote19",
          "PCVote19",
          "PCVote19",
          "PCVote19",
          "PCVote19",
          "PCVote19",
          "PCVote19",
          "PCVote19",
          "PCVote19",
          "PCVote19",
          "PCVote19",
          "PCVote19",
          "PCVote19",
          "PCVote19",
          "PCVote19",
          "PCVote19",
          "PCVote19",
          "PCVote19",
          "PCVote19",
          "PCVote19",
          "PCVote19",
          "PCVote19",
          "PCVote19",
          "PCVote19",
          "PCVote19",
          "PCVote19",
          "PCVote19",
          "PCVote19",
          "PCVote19",
          "PCVote19",
          "PCVote19",
          "PCVote19",
          "PCVote19",
          "PCVote19",
          "PCVote19",
          "PCVote19",
          "PCVote19",
          "PCVote19",
          "PCVote19",
          "PCVote19",
          "PCVote19",
          "UKIPVote19",
          "UKIPVote19",
          "UKIPVote19",
          "UKIPVote19",
          "UKIPVote19",
          "UKIPVote19",
          "UKIPVote19",
          "UKIPVote19",
          "UKIPVote19",
          "UKIPVote19",
          "UKIPVote19",
          "UKIPVote19",
          "UKIPVote19",
          "UKIPVote19",
          "UKIPVote19",
          "UKIPVote19",
          "UKIPVote19",
          "UKIPVote19",
          "UKIPVote19",
          "UKIPVote19",
          "UKIPVote19",
          "UKIPVote19",
          "UKIPVote19",
          "UKIPVote19",
          "UKIPVote19",
          "UKIPVote19",
          "UKIPVote19",
          "UKIPVote19",
          "UKIPVote19",
          "UKIPVote19",
          "UKIPVote19",
          "UKIPVote19",
          "UKIPVote19",
          "UKIPVote19",
          "UKIPVote19",
          "UKIPVote19",
          "UKIPVote19",
          "UKIPVote19",
          "UKIPVote19",
          "UKIPVote19",
          "UKIPVote19",
          "UKIPVote19",
          "UKIPVote19",
          "UKIPVote19",
          "UKIPVote19",
          "UKIPVote19",
          "UKIPVote19",
          "UKIPVote19",
          "UKIPVote19",
          "UKIPVote19",
          "UKIPVote19",
          "UKIPVote19",
          "UKIPVote19",
          "UKIPVote19",
          "UKIPVote19",
          "UKIPVote19",
          "UKIPVote19",
          "UKIPVote19",
          "GreenVote19",
          "GreenVote19",
          "GreenVote19",
          "GreenVote19",
          "GreenVote19",
          "GreenVote19",
          "GreenVote19",
          "GreenVote19",
          "GreenVote19",
          "GreenVote19",
          "GreenVote19",
          "GreenVote19",
          "GreenVote19",
          "GreenVote19",
          "GreenVote19",
          "GreenVote19",
          "GreenVote19",
          "GreenVote19",
          "GreenVote19",
          "GreenVote19",
          "GreenVote19",
          "GreenVote19",
          "GreenVote19",
          "GreenVote19",
          "GreenVote19",
          "GreenVote19",
          "GreenVote19",
          "GreenVote19",
          "GreenVote19",
          "GreenVote19",
          "GreenVote19",
          "GreenVote19",
          "GreenVote19",
          "GreenVote19",
          "GreenVote19",
          "GreenVote19",
          "GreenVote19",
          "GreenVote19",
          "GreenVote19",
          "GreenVote19",
          "GreenVote19",
          "GreenVote19",
          "GreenVote19",
          "GreenVote19",
          "GreenVote19",
          "GreenVote19",
          "GreenVote19",
          "GreenVote19",
          "GreenVote19",
          "GreenVote19",
          "GreenVote19",
          "GreenVote19",
          "GreenVote19",
          "GreenVote19",
          "GreenVote19",
          "GreenVote19",
          "GreenVote19",
          "GreenVote19",
          "BrexitVote19",
          "BrexitVote19",
          "BrexitVote19",
          "BrexitVote19",
          "BrexitVote19",
          "BrexitVote19",
          "BrexitVote19",
          "BrexitVote19",
          "BrexitVote19",
          "BrexitVote19",
          "BrexitVote19",
          "BrexitVote19",
          "BrexitVote19",
          "BrexitVote19",
          "BrexitVote19",
          "BrexitVote19",
          "BrexitVote19",
          "BrexitVote19",
          "BrexitVote19",
          "BrexitVote19",
          "BrexitVote19",
          "BrexitVote19",
          "BrexitVote19",
          "BrexitVote19",
          "BrexitVote19",
          "BrexitVote19",
          "BrexitVote19",
          "BrexitVote19",
          "BrexitVote19",
          "BrexitVote19",
          "BrexitVote19",
          "BrexitVote19",
          "BrexitVote19",
          "BrexitVote19",
          "BrexitVote19",
          "BrexitVote19",
          "BrexitVote19",
          "BrexitVote19",
          "BrexitVote19",
          "BrexitVote19",
          "BrexitVote19",
          "BrexitVote19",
          "BrexitVote19",
          "BrexitVote19",
          "BrexitVote19",
          "BrexitVote19",
          "BrexitVote19",
          "BrexitVote19",
          "BrexitVote19",
          "BrexitVote19",
          "BrexitVote19",
          "BrexitVote19",
          "BrexitVote19",
          "BrexitVote19",
          "BrexitVote19",
          "BrexitVote19",
          "BrexitVote19",
          "BrexitVote19"
         ],
         "xaxis": "x",
         "y": [
          29590,
          29973,
          20346,
          38692,
          38443,
          32212,
          34112,
          36308,
          33934,
          30631,
          37770,
          8342,
          38423,
          40307,
          31015,
          32187,
          33971,
          31934,
          31438,
          26917,
          32364,
          28593,
          27510,
          31830,
          28968,
          33712,
          31293,
          30327,
          32651,
          27719,
          32386,
          24952,
          14249,
          13031,
          36304,
          35051,
          29792,
          30627,
          36258,
          35507,
          23397,
          15006,
          22334,
          39864,
          27063,
          39714,
          22574,
          27555,
          25328,
          35253,
          32958,
          33270,
          33842,
          27795,
          26421,
          31778,
          27394,
          32876,
          9178,
          10051,
          20491,
          14028,
          14160,
          13629,
          9439,
          7243,
          12073,
          10824,
          12782,
          25776,
          8430,
          14324,
          7803,
          10492,
          7337,
          10295,
          6736,
          17494,
          10191,
          10930,
          13447,
          11648,
          14405,
          14092,
          13104,
          7228,
          11338,
          9959,
          13003,
          19473,
          23496,
          21787,
          6263,
          12457,
          3895,
          10705,
          14983,
          9312,
          18659,
          27766,
          19754,
          8864,
          14777,
          8305,
          5000,
          13096,
          16766,
          11862,
          12425,
          10373,
          10648,
          16313,
          21988,
          13776,
          16439,
          8794,
          3741,
          1957,
          4608,
          8171,
          7999,
          5435,
          4779,
          7187,
          9195,
          3970,
          null,
          16137,
          4298,
          6881,
          28111,
          20697,
          2969,
          14313,
          2541,
          7432,
          5387,
          1661,
          2397,
          5866,
          6317,
          8596,
          8563,
          6251,
          6561,
          20824,
          9432,
          2439,
          2063,
          null,
          5990,
          7739,
          15397,
          3625,
          8744,
          4166,
          2663,
          4776,
          2334,
          4171,
          2822,
          12120,
          28867,
          5312,
          4132,
          6485,
          8719,
          6702,
          4685,
          1510,
          9323,
          2603,
          6602,
          4584,
          null,
          null,
          null,
          null,
          null,
          null,
          null,
          null,
          null,
          null,
          null,
          null,
          null,
          null,
          null,
          null,
          null,
          null,
          null,
          null,
          null,
          null,
          null,
          null,
          null,
          null,
          null,
          null,
          null,
          null,
          null,
          null,
          null,
          null,
          null,
          null,
          null,
          null,
          null,
          null,
          null,
          null,
          null,
          null,
          null,
          null,
          null,
          null,
          null,
          null,
          null,
          null,
          null,
          null,
          null,
          null,
          null,
          null,
          null,
          null,
          null,
          null,
          null,
          null,
          null,
          null,
          null,
          null,
          null,
          null,
          null,
          null,
          null,
          null,
          null,
          null,
          null,
          null,
          null,
          null,
          null,
          null,
          null,
          null,
          null,
          null,
          null,
          null,
          null,
          null,
          null,
          null,
          null,
          null,
          null,
          null,
          null,
          null,
          null,
          null,
          null,
          null,
          null,
          null,
          null,
          null,
          null,
          null,
          null,
          null,
          null,
          null,
          null,
          null,
          null,
          null,
          null,
          null,
          null,
          null,
          null,
          null,
          null,
          null,
          null,
          null,
          null,
          null,
          null,
          null,
          null,
          null,
          null,
          null,
          null,
          null,
          null,
          null,
          null,
          null,
          null,
          681,
          null,
          null,
          null,
          null,
          null,
          null,
          null,
          null,
          null,
          null,
          null,
          null,
          null,
          null,
          488,
          null,
          null,
          null,
          null,
          null,
          null,
          null,
          null,
          null,
          null,
          null,
          null,
          null,
          null,
          null,
          null,
          null,
          1395,
          null,
          960,
          2478,
          1891,
          2031,
          null,
          1679,
          1412,
          1281,
          9711,
          2164,
          1813,
          3021,
          null,
          null,
          null,
          null,
          1225,
          1530,
          1975,
          1064,
          null,
          1945,
          1581,
          2705,
          2367,
          1466,
          1653,
          null,
          2233,
          1283,
          771,
          995,
          1851,
          null,
          null,
          1645,
          2499,
          1645,
          1078,
          2469,
          728,
          2002,
          null,
          2947,
          1004,
          null,
          1457,
          2650,
          2713,
          3144,
          2262,
          807,
          null,
          2727,
          1618,
          3090,
          null,
          null,
          896,
          null,
          null,
          null,
          null,
          null,
          null,
          null,
          null,
          1041,
          null,
          null,
          null,
          null,
          null,
          null,
          null,
          null,
          null,
          null,
          null,
          null,
          null,
          null,
          null,
          null,
          null,
          null,
          null,
          1432,
          1215,
          1601,
          null,
          null,
          1739,
          null,
          null,
          null,
          null,
          1656,
          2127,
          null,
          null,
          null,
          null,
          null,
          null,
          null,
          null,
          null,
          null,
          null,
          null,
          null,
          null,
          null
         ],
         "yaxis": "y"
        },
        {
         "alignmentgroup": "True",
         "hovertemplate": "region=South West<br>Party=%{x}<br>Total Votes=%{y}<extra></extra>",
         "legendgroup": "South West",
         "marker": {
          "color": "#FECB52",
          "pattern": {
           "shape": ""
          }
         },
         "name": "South West",
         "offsetgroup": "South West",
         "orientation": "v",
         "showlegend": true,
         "textposition": "auto",
         "type": "bar",
         "x": [
          "ConVote19",
          "ConVote19",
          "ConVote19",
          "ConVote19",
          "ConVote19",
          "ConVote19",
          "ConVote19",
          "ConVote19",
          "ConVote19",
          "ConVote19",
          "ConVote19",
          "ConVote19",
          "ConVote19",
          "ConVote19",
          "ConVote19",
          "ConVote19",
          "ConVote19",
          "ConVote19",
          "ConVote19",
          "ConVote19",
          "ConVote19",
          "ConVote19",
          "ConVote19",
          "ConVote19",
          "ConVote19",
          "ConVote19",
          "ConVote19",
          "ConVote19",
          "ConVote19",
          "ConVote19",
          "ConVote19",
          "ConVote19",
          "ConVote19",
          "ConVote19",
          "ConVote19",
          "ConVote19",
          "ConVote19",
          "ConVote19",
          "ConVote19",
          "ConVote19",
          "ConVote19",
          "ConVote19",
          "ConVote19",
          "ConVote19",
          "ConVote19",
          "ConVote19",
          "ConVote19",
          "ConVote19",
          "ConVote19",
          "ConVote19",
          "ConVote19",
          "ConVote19",
          "ConVote19",
          "ConVote19",
          "ConVote19",
          "LabVote19",
          "LabVote19",
          "LabVote19",
          "LabVote19",
          "LabVote19",
          "LabVote19",
          "LabVote19",
          "LabVote19",
          "LabVote19",
          "LabVote19",
          "LabVote19",
          "LabVote19",
          "LabVote19",
          "LabVote19",
          "LabVote19",
          "LabVote19",
          "LabVote19",
          "LabVote19",
          "LabVote19",
          "LabVote19",
          "LabVote19",
          "LabVote19",
          "LabVote19",
          "LabVote19",
          "LabVote19",
          "LabVote19",
          "LabVote19",
          "LabVote19",
          "LabVote19",
          "LabVote19",
          "LabVote19",
          "LabVote19",
          "LabVote19",
          "LabVote19",
          "LabVote19",
          "LabVote19",
          "LabVote19",
          "LabVote19",
          "LabVote19",
          "LabVote19",
          "LabVote19",
          "LabVote19",
          "LabVote19",
          "LabVote19",
          "LabVote19",
          "LabVote19",
          "LabVote19",
          "LabVote19",
          "LabVote19",
          "LabVote19",
          "LabVote19",
          "LabVote19",
          "LabVote19",
          "LabVote19",
          "LabVote19",
          "LDVote19",
          "LDVote19",
          "LDVote19",
          "LDVote19",
          "LDVote19",
          "LDVote19",
          "LDVote19",
          "LDVote19",
          "LDVote19",
          "LDVote19",
          "LDVote19",
          "LDVote19",
          "LDVote19",
          "LDVote19",
          "LDVote19",
          "LDVote19",
          "LDVote19",
          "LDVote19",
          "LDVote19",
          "LDVote19",
          "LDVote19",
          "LDVote19",
          "LDVote19",
          "LDVote19",
          "LDVote19",
          "LDVote19",
          "LDVote19",
          "LDVote19",
          "LDVote19",
          "LDVote19",
          "LDVote19",
          "LDVote19",
          "LDVote19",
          "LDVote19",
          "LDVote19",
          "LDVote19",
          "LDVote19",
          "LDVote19",
          "LDVote19",
          "LDVote19",
          "LDVote19",
          "LDVote19",
          "LDVote19",
          "LDVote19",
          "LDVote19",
          "LDVote19",
          "LDVote19",
          "LDVote19",
          "LDVote19",
          "LDVote19",
          "LDVote19",
          "LDVote19",
          "LDVote19",
          "LDVote19",
          "LDVote19",
          "SNPVote19",
          "SNPVote19",
          "SNPVote19",
          "SNPVote19",
          "SNPVote19",
          "SNPVote19",
          "SNPVote19",
          "SNPVote19",
          "SNPVote19",
          "SNPVote19",
          "SNPVote19",
          "SNPVote19",
          "SNPVote19",
          "SNPVote19",
          "SNPVote19",
          "SNPVote19",
          "SNPVote19",
          "SNPVote19",
          "SNPVote19",
          "SNPVote19",
          "SNPVote19",
          "SNPVote19",
          "SNPVote19",
          "SNPVote19",
          "SNPVote19",
          "SNPVote19",
          "SNPVote19",
          "SNPVote19",
          "SNPVote19",
          "SNPVote19",
          "SNPVote19",
          "SNPVote19",
          "SNPVote19",
          "SNPVote19",
          "SNPVote19",
          "SNPVote19",
          "SNPVote19",
          "SNPVote19",
          "SNPVote19",
          "SNPVote19",
          "SNPVote19",
          "SNPVote19",
          "SNPVote19",
          "SNPVote19",
          "SNPVote19",
          "SNPVote19",
          "SNPVote19",
          "SNPVote19",
          "SNPVote19",
          "SNPVote19",
          "SNPVote19",
          "SNPVote19",
          "SNPVote19",
          "SNPVote19",
          "SNPVote19",
          "PCVote19",
          "PCVote19",
          "PCVote19",
          "PCVote19",
          "PCVote19",
          "PCVote19",
          "PCVote19",
          "PCVote19",
          "PCVote19",
          "PCVote19",
          "PCVote19",
          "PCVote19",
          "PCVote19",
          "PCVote19",
          "PCVote19",
          "PCVote19",
          "PCVote19",
          "PCVote19",
          "PCVote19",
          "PCVote19",
          "PCVote19",
          "PCVote19",
          "PCVote19",
          "PCVote19",
          "PCVote19",
          "PCVote19",
          "PCVote19",
          "PCVote19",
          "PCVote19",
          "PCVote19",
          "PCVote19",
          "PCVote19",
          "PCVote19",
          "PCVote19",
          "PCVote19",
          "PCVote19",
          "PCVote19",
          "PCVote19",
          "PCVote19",
          "PCVote19",
          "PCVote19",
          "PCVote19",
          "PCVote19",
          "PCVote19",
          "PCVote19",
          "PCVote19",
          "PCVote19",
          "PCVote19",
          "PCVote19",
          "PCVote19",
          "PCVote19",
          "PCVote19",
          "PCVote19",
          "PCVote19",
          "PCVote19",
          "UKIPVote19",
          "UKIPVote19",
          "UKIPVote19",
          "UKIPVote19",
          "UKIPVote19",
          "UKIPVote19",
          "UKIPVote19",
          "UKIPVote19",
          "UKIPVote19",
          "UKIPVote19",
          "UKIPVote19",
          "UKIPVote19",
          "UKIPVote19",
          "UKIPVote19",
          "UKIPVote19",
          "UKIPVote19",
          "UKIPVote19",
          "UKIPVote19",
          "UKIPVote19",
          "UKIPVote19",
          "UKIPVote19",
          "UKIPVote19",
          "UKIPVote19",
          "UKIPVote19",
          "UKIPVote19",
          "UKIPVote19",
          "UKIPVote19",
          "UKIPVote19",
          "UKIPVote19",
          "UKIPVote19",
          "UKIPVote19",
          "UKIPVote19",
          "UKIPVote19",
          "UKIPVote19",
          "UKIPVote19",
          "UKIPVote19",
          "UKIPVote19",
          "UKIPVote19",
          "UKIPVote19",
          "UKIPVote19",
          "UKIPVote19",
          "UKIPVote19",
          "UKIPVote19",
          "UKIPVote19",
          "UKIPVote19",
          "UKIPVote19",
          "UKIPVote19",
          "UKIPVote19",
          "UKIPVote19",
          "UKIPVote19",
          "UKIPVote19",
          "UKIPVote19",
          "UKIPVote19",
          "UKIPVote19",
          "UKIPVote19",
          "GreenVote19",
          "GreenVote19",
          "GreenVote19",
          "GreenVote19",
          "GreenVote19",
          "GreenVote19",
          "GreenVote19",
          "GreenVote19",
          "GreenVote19",
          "GreenVote19",
          "GreenVote19",
          "GreenVote19",
          "GreenVote19",
          "GreenVote19",
          "GreenVote19",
          "GreenVote19",
          "GreenVote19",
          "GreenVote19",
          "GreenVote19",
          "GreenVote19",
          "GreenVote19",
          "GreenVote19",
          "GreenVote19",
          "GreenVote19",
          "GreenVote19",
          "GreenVote19",
          "GreenVote19",
          "GreenVote19",
          "GreenVote19",
          "GreenVote19",
          "GreenVote19",
          "GreenVote19",
          "GreenVote19",
          "GreenVote19",
          "GreenVote19",
          "GreenVote19",
          "GreenVote19",
          "GreenVote19",
          "GreenVote19",
          "GreenVote19",
          "GreenVote19",
          "GreenVote19",
          "GreenVote19",
          "GreenVote19",
          "GreenVote19",
          "GreenVote19",
          "GreenVote19",
          "GreenVote19",
          "GreenVote19",
          "GreenVote19",
          "GreenVote19",
          "GreenVote19",
          "GreenVote19",
          "GreenVote19",
          "GreenVote19",
          "BrexitVote19",
          "BrexitVote19",
          "BrexitVote19",
          "BrexitVote19",
          "BrexitVote19",
          "BrexitVote19",
          "BrexitVote19",
          "BrexitVote19",
          "BrexitVote19",
          "BrexitVote19",
          "BrexitVote19",
          "BrexitVote19",
          "BrexitVote19",
          "BrexitVote19",
          "BrexitVote19",
          "BrexitVote19",
          "BrexitVote19",
          "BrexitVote19",
          "BrexitVote19",
          "BrexitVote19",
          "BrexitVote19",
          "BrexitVote19",
          "BrexitVote19",
          "BrexitVote19",
          "BrexitVote19",
          "BrexitVote19",
          "BrexitVote19",
          "BrexitVote19",
          "BrexitVote19",
          "BrexitVote19",
          "BrexitVote19",
          "BrexitVote19",
          "BrexitVote19",
          "BrexitVote19",
          "BrexitVote19",
          "BrexitVote19",
          "BrexitVote19",
          "BrexitVote19",
          "BrexitVote19",
          "BrexitVote19",
          "BrexitVote19",
          "BrexitVote19",
          "BrexitVote19",
          "BrexitVote19",
          "BrexitVote19",
          "BrexitVote19",
          "BrexitVote19",
          "BrexitVote19",
          "BrexitVote19",
          "BrexitVote19",
          "BrexitVote19",
          "BrexitVote19",
          "BrexitVote19",
          "BrexitVote19",
          "BrexitVote19"
         ],
         "xaxis": "x",
         "y": [
          16097,
          24926,
          24550,
          35827,
          16923,
          21638,
          18036,
          8822,
          26764,
          28486,
          30994,
          33894,
          30671,
          31807,
          35484,
          32150,
          32095,
          32577,
          31479,
          33286,
          35904,
          29548,
          35705,
          30024,
          33589,
          19479,
          26293,
          30680,
          29159,
          27712,
          29190,
          26831,
          20704,
          29599,
          31273,
          25365,
          30280,
          32801,
          28360,
          36230,
          31582,
          32584,
          26536,
          34164,
          35728,
          30202,
          35893,
          29863,
          27751,
          27237,
          33336,
          31983,
          32373,
          33038,
          34588,
          6639,
          16120,
          14400,
          11388,
          27717,
          27330,
          27895,
          47028,
          18064,
          2921,
          6399,
          6568,
          4516,
          10836,
          7110,
          7838,
          14374,
          2870,
          5097,
          11856,
          10290,
          3402,
          6737,
          12871,
          5729,
          29882,
          20647,
          14811,
          18882,
          16492,
          9329,
          13934,
          25461,
          10483,
          14747,
          3553,
          9675,
          15265,
          13631,
          8354,
          27742,
          16413,
          19911,
          4715,
          9310,
          4208,
          11654,
          6562,
          8860,
          22676,
          4304,
          14862,
          5699,
          11408,
          3761,
          28419,
          5418,
          4931,
          7805,
          3527,
          4940,
          4227,
          null,
          3504,
          27505,
          19706,
          9277,
          15919,
          8650,
          15270,
          8157,
          8770,
          1771,
          16666,
          6207,
          10912,
          14650,
          11404,
          5432,
          19483,
          null,
          4992,
          null,
          4338,
          3421,
          11689,
          2301,
          2545,
          7819,
          5861,
          21085,
          10544,
          11051,
          12422,
          17017,
          null,
          4408,
          4299,
          22464,
          13318,
          17833,
          8807,
          12114,
          15027,
          7150,
          23345,
          6935,
          14747,
          8015,
          18407,
          null,
          null,
          null,
          null,
          null,
          null,
          null,
          null,
          null,
          null,
          null,
          null,
          null,
          null,
          null,
          null,
          null,
          null,
          null,
          null,
          null,
          null,
          null,
          null,
          null,
          null,
          null,
          null,
          null,
          null,
          null,
          null,
          null,
          null,
          null,
          null,
          null,
          null,
          null,
          null,
          null,
          null,
          null,
          null,
          null,
          null,
          null,
          null,
          null,
          null,
          null,
          null,
          null,
          null,
          null,
          null,
          null,
          null,
          null,
          null,
          null,
          null,
          null,
          null,
          null,
          null,
          null,
          null,
          null,
          null,
          null,
          null,
          null,
          null,
          null,
          null,
          null,
          null,
          null,
          null,
          null,
          null,
          null,
          null,
          null,
          null,
          null,
          null,
          null,
          null,
          null,
          null,
          null,
          null,
          null,
          null,
          null,
          null,
          null,
          null,
          null,
          null,
          null,
          null,
          null,
          null,
          null,
          null,
          null,
          null,
          null,
          null,
          null,
          null,
          null,
          null,
          null,
          null,
          null,
          null,
          null,
          null,
          null,
          null,
          null,
          null,
          null,
          null,
          null,
          null,
          null,
          null,
          null,
          null,
          null,
          259,
          null,
          null,
          null,
          null,
          null,
          null,
          null,
          null,
          null,
          null,
          null,
          null,
          null,
          null,
          null,
          null,
          null,
          null,
          null,
          null,
          968,
          null,
          null,
          null,
          null,
          null,
          null,
          null,
          null,
          null,
          2049,
          2096,
          1877,
          2106,
          1977,
          2713,
          18809,
          1359,
          null,
          null,
          2212,
          null,
          1493,
          3312,
          2809,
          2833,
          711,
          1759,
          2018,
          2077,
          1330,
          2261,
          2246,
          2124,
          4838,
          1563,
          4681,
          1385,
          1200,
          1508,
          1173,
          1557,
          1702,
          1609,
          964,
          2486,
          2938,
          1423,
          3295,
          4954,
          1710,
          null,
          null,
          2784,
          null,
          2291,
          1239,
          null,
          1714,
          null,
          1834,
          1939,
          2434,
          1629,
          642,
          null,
          null,
          null,
          1881,
          null,
          2325,
          869,
          null,
          null,
          null,
          null,
          null,
          null,
          null,
          null,
          null,
          null,
          null,
          null,
          null,
          null,
          null,
          null,
          null,
          1428,
          null,
          null,
          null,
          null,
          null,
          null,
          2909,
          null,
          null,
          null,
          null,
          null,
          null,
          null,
          1085,
          null,
          null,
          null,
          null,
          null,
          null,
          null,
          null,
          null,
          null,
          null,
          null,
          null,
          null
         ],
         "yaxis": "y"
        },
        {
         "alignmentgroup": "True",
         "hovertemplate": "region=North East<br>Party=%{x}<br>Total Votes=%{y}<extra></extra>",
         "legendgroup": "North East",
         "marker": {
          "color": "#636efa",
          "pattern": {
           "shape": ""
          }
         },
         "name": "North East",
         "offsetgroup": "North East",
         "orientation": "v",
         "showlegend": true,
         "textposition": "auto",
         "type": "bar",
         "x": [
          "ConVote19",
          "ConVote19",
          "ConVote19",
          "ConVote19",
          "ConVote19",
          "ConVote19",
          "ConVote19",
          "ConVote19",
          "ConVote19",
          "ConVote19",
          "ConVote19",
          "ConVote19",
          "ConVote19",
          "ConVote19",
          "ConVote19",
          "ConVote19",
          "ConVote19",
          "ConVote19",
          "ConVote19",
          "ConVote19",
          "ConVote19",
          "ConVote19",
          "ConVote19",
          "ConVote19",
          "ConVote19",
          "ConVote19",
          "ConVote19",
          "ConVote19",
          "ConVote19",
          "LabVote19",
          "LabVote19",
          "LabVote19",
          "LabVote19",
          "LabVote19",
          "LabVote19",
          "LabVote19",
          "LabVote19",
          "LabVote19",
          "LabVote19",
          "LabVote19",
          "LabVote19",
          "LabVote19",
          "LabVote19",
          "LabVote19",
          "LabVote19",
          "LabVote19",
          "LabVote19",
          "LabVote19",
          "LabVote19",
          "LabVote19",
          "LabVote19",
          "LabVote19",
          "LabVote19",
          "LabVote19",
          "LabVote19",
          "LabVote19",
          "LabVote19",
          "LabVote19",
          "LDVote19",
          "LDVote19",
          "LDVote19",
          "LDVote19",
          "LDVote19",
          "LDVote19",
          "LDVote19",
          "LDVote19",
          "LDVote19",
          "LDVote19",
          "LDVote19",
          "LDVote19",
          "LDVote19",
          "LDVote19",
          "LDVote19",
          "LDVote19",
          "LDVote19",
          "LDVote19",
          "LDVote19",
          "LDVote19",
          "LDVote19",
          "LDVote19",
          "LDVote19",
          "LDVote19",
          "LDVote19",
          "LDVote19",
          "LDVote19",
          "LDVote19",
          "LDVote19",
          "SNPVote19",
          "SNPVote19",
          "SNPVote19",
          "SNPVote19",
          "SNPVote19",
          "SNPVote19",
          "SNPVote19",
          "SNPVote19",
          "SNPVote19",
          "SNPVote19",
          "SNPVote19",
          "SNPVote19",
          "SNPVote19",
          "SNPVote19",
          "SNPVote19",
          "SNPVote19",
          "SNPVote19",
          "SNPVote19",
          "SNPVote19",
          "SNPVote19",
          "SNPVote19",
          "SNPVote19",
          "SNPVote19",
          "SNPVote19",
          "SNPVote19",
          "SNPVote19",
          "SNPVote19",
          "SNPVote19",
          "SNPVote19",
          "PCVote19",
          "PCVote19",
          "PCVote19",
          "PCVote19",
          "PCVote19",
          "PCVote19",
          "PCVote19",
          "PCVote19",
          "PCVote19",
          "PCVote19",
          "PCVote19",
          "PCVote19",
          "PCVote19",
          "PCVote19",
          "PCVote19",
          "PCVote19",
          "PCVote19",
          "PCVote19",
          "PCVote19",
          "PCVote19",
          "PCVote19",
          "PCVote19",
          "PCVote19",
          "PCVote19",
          "PCVote19",
          "PCVote19",
          "PCVote19",
          "PCVote19",
          "PCVote19",
          "UKIPVote19",
          "UKIPVote19",
          "UKIPVote19",
          "UKIPVote19",
          "UKIPVote19",
          "UKIPVote19",
          "UKIPVote19",
          "UKIPVote19",
          "UKIPVote19",
          "UKIPVote19",
          "UKIPVote19",
          "UKIPVote19",
          "UKIPVote19",
          "UKIPVote19",
          "UKIPVote19",
          "UKIPVote19",
          "UKIPVote19",
          "UKIPVote19",
          "UKIPVote19",
          "UKIPVote19",
          "UKIPVote19",
          "UKIPVote19",
          "UKIPVote19",
          "UKIPVote19",
          "UKIPVote19",
          "UKIPVote19",
          "UKIPVote19",
          "UKIPVote19",
          "UKIPVote19",
          "GreenVote19",
          "GreenVote19",
          "GreenVote19",
          "GreenVote19",
          "GreenVote19",
          "GreenVote19",
          "GreenVote19",
          "GreenVote19",
          "GreenVote19",
          "GreenVote19",
          "GreenVote19",
          "GreenVote19",
          "GreenVote19",
          "GreenVote19",
          "GreenVote19",
          "GreenVote19",
          "GreenVote19",
          "GreenVote19",
          "GreenVote19",
          "GreenVote19",
          "GreenVote19",
          "GreenVote19",
          "GreenVote19",
          "GreenVote19",
          "GreenVote19",
          "GreenVote19",
          "GreenVote19",
          "GreenVote19",
          "GreenVote19",
          "BrexitVote19",
          "BrexitVote19",
          "BrexitVote19",
          "BrexitVote19",
          "BrexitVote19",
          "BrexitVote19",
          "BrexitVote19",
          "BrexitVote19",
          "BrexitVote19",
          "BrexitVote19",
          "BrexitVote19",
          "BrexitVote19",
          "BrexitVote19",
          "BrexitVote19",
          "BrexitVote19",
          "BrexitVote19",
          "BrexitVote19",
          "BrexitVote19",
          "BrexitVote19",
          "BrexitVote19",
          "BrexitVote19",
          "BrexitVote19",
          "BrexitVote19",
          "BrexitVote19",
          "BrexitVote19",
          "BrexitVote19",
          "BrexitVote19",
          "BrexitVote19",
          "BrexitVote19"
         ],
         "xaxis": "x",
         "y": [
          23947,
          24067,
          14263,
          17440,
          20901,
          15506,
          13897,
          19990,
          9142,
          13250,
          11869,
          25152,
          13095,
          11243,
          8812,
          28135,
          9290,
          10586,
          15589,
          18811,
          19609,
          7688,
          16701,
          27764,
          15372,
          22071,
          15490,
          16310,
          12218,
          9112,
          16105,
          19794,
          16728,
          17607,
          20531,
          18639,
          18846,
          15723,
          20450,
          15464,
          14603,
          16210,
          18363,
          17207,
          16509,
          21568,
          26049,
          21354,
          15284,
          15096,
          17273,
          17728,
          22504,
          18336,
          26928,
          25051,
          17124,
          15941,
          7656,
          2133,
          3703,
          2151,
          2097,
          7935,
          2879,
          2831,
          1526,
          2792,
          1696,
          4672,
          2319,
          2360,
          816,
          1953,
          2709,
          4535,
          4357,
          2018,
          1955,
          1514,
          1631,
          2338,
          3025,
          3791,
          3241,
          2539,
          2071,
          null,
          null,
          null,
          null,
          null,
          null,
          null,
          null,
          null,
          null,
          null,
          null,
          null,
          null,
          null,
          null,
          null,
          null,
          null,
          null,
          null,
          null,
          null,
          null,
          null,
          null,
          null,
          null,
          null,
          null,
          null,
          null,
          null,
          null,
          null,
          null,
          null,
          null,
          null,
          null,
          null,
          null,
          null,
          null,
          null,
          null,
          null,
          null,
          null,
          null,
          null,
          null,
          null,
          null,
          null,
          null,
          null,
          null,
          null,
          null,
          null,
          null,
          null,
          null,
          null,
          null,
          null,
          null,
          null,
          null,
          897,
          null,
          null,
          null,
          null,
          null,
          null,
          null,
          null,
          null,
          null,
          null,
          null,
          null,
          null,
          null,
          839,
          1394,
          null,
          1279,
          1146,
          1057,
          1635,
          1126,
          1173,
          null,
          1653,
          null,
          1723,
          1125,
          831,
          546,
          1220,
          1365,
          2195,
          1368,
          491,
          994,
          1303,
          null,
          null,
          1212,
          1281,
          1393,
          1217,
          1005,
          null,
          2500,
          5833,
          3394,
          1544,
          3252,
          4693,
          3193,
          6744,
          null,
          10603,
          null,
          6165,
          4122,
          2168,
          null,
          2542,
          null,
          4331,
          2915,
          3518,
          6446,
          3907,
          2196,
          5047,
          1963,
          5254,
          3141,
          5439
         ],
         "yaxis": "y"
        }
       ],
       "layout": {
        "barmode": "group",
        "legend": {
         "title": {
          "text": "Regions"
         },
         "tracegroupgap": 0
        },
        "template": {
         "data": {
          "bar": [
           {
            "error_x": {
             "color": "#2a3f5f"
            },
            "error_y": {
             "color": "#2a3f5f"
            },
            "marker": {
             "line": {
              "color": "#E5ECF6",
              "width": 0.5
             },
             "pattern": {
              "fillmode": "overlay",
              "size": 10,
              "solidity": 0.2
             }
            },
            "type": "bar"
           }
          ],
          "barpolar": [
           {
            "marker": {
             "line": {
              "color": "#E5ECF6",
              "width": 0.5
             },
             "pattern": {
              "fillmode": "overlay",
              "size": 10,
              "solidity": 0.2
             }
            },
            "type": "barpolar"
           }
          ],
          "carpet": [
           {
            "aaxis": {
             "endlinecolor": "#2a3f5f",
             "gridcolor": "white",
             "linecolor": "white",
             "minorgridcolor": "white",
             "startlinecolor": "#2a3f5f"
            },
            "baxis": {
             "endlinecolor": "#2a3f5f",
             "gridcolor": "white",
             "linecolor": "white",
             "minorgridcolor": "white",
             "startlinecolor": "#2a3f5f"
            },
            "type": "carpet"
           }
          ],
          "choropleth": [
           {
            "colorbar": {
             "outlinewidth": 0,
             "ticks": ""
            },
            "type": "choropleth"
           }
          ],
          "contour": [
           {
            "colorbar": {
             "outlinewidth": 0,
             "ticks": ""
            },
            "colorscale": [
             [
              0,
              "#0d0887"
             ],
             [
              0.1111111111111111,
              "#46039f"
             ],
             [
              0.2222222222222222,
              "#7201a8"
             ],
             [
              0.3333333333333333,
              "#9c179e"
             ],
             [
              0.4444444444444444,
              "#bd3786"
             ],
             [
              0.5555555555555556,
              "#d8576b"
             ],
             [
              0.6666666666666666,
              "#ed7953"
             ],
             [
              0.7777777777777778,
              "#fb9f3a"
             ],
             [
              0.8888888888888888,
              "#fdca26"
             ],
             [
              1,
              "#f0f921"
             ]
            ],
            "type": "contour"
           }
          ],
          "contourcarpet": [
           {
            "colorbar": {
             "outlinewidth": 0,
             "ticks": ""
            },
            "type": "contourcarpet"
           }
          ],
          "heatmap": [
           {
            "colorbar": {
             "outlinewidth": 0,
             "ticks": ""
            },
            "colorscale": [
             [
              0,
              "#0d0887"
             ],
             [
              0.1111111111111111,
              "#46039f"
             ],
             [
              0.2222222222222222,
              "#7201a8"
             ],
             [
              0.3333333333333333,
              "#9c179e"
             ],
             [
              0.4444444444444444,
              "#bd3786"
             ],
             [
              0.5555555555555556,
              "#d8576b"
             ],
             [
              0.6666666666666666,
              "#ed7953"
             ],
             [
              0.7777777777777778,
              "#fb9f3a"
             ],
             [
              0.8888888888888888,
              "#fdca26"
             ],
             [
              1,
              "#f0f921"
             ]
            ],
            "type": "heatmap"
           }
          ],
          "heatmapgl": [
           {
            "colorbar": {
             "outlinewidth": 0,
             "ticks": ""
            },
            "colorscale": [
             [
              0,
              "#0d0887"
             ],
             [
              0.1111111111111111,
              "#46039f"
             ],
             [
              0.2222222222222222,
              "#7201a8"
             ],
             [
              0.3333333333333333,
              "#9c179e"
             ],
             [
              0.4444444444444444,
              "#bd3786"
             ],
             [
              0.5555555555555556,
              "#d8576b"
             ],
             [
              0.6666666666666666,
              "#ed7953"
             ],
             [
              0.7777777777777778,
              "#fb9f3a"
             ],
             [
              0.8888888888888888,
              "#fdca26"
             ],
             [
              1,
              "#f0f921"
             ]
            ],
            "type": "heatmapgl"
           }
          ],
          "histogram": [
           {
            "marker": {
             "pattern": {
              "fillmode": "overlay",
              "size": 10,
              "solidity": 0.2
             }
            },
            "type": "histogram"
           }
          ],
          "histogram2d": [
           {
            "colorbar": {
             "outlinewidth": 0,
             "ticks": ""
            },
            "colorscale": [
             [
              0,
              "#0d0887"
             ],
             [
              0.1111111111111111,
              "#46039f"
             ],
             [
              0.2222222222222222,
              "#7201a8"
             ],
             [
              0.3333333333333333,
              "#9c179e"
             ],
             [
              0.4444444444444444,
              "#bd3786"
             ],
             [
              0.5555555555555556,
              "#d8576b"
             ],
             [
              0.6666666666666666,
              "#ed7953"
             ],
             [
              0.7777777777777778,
              "#fb9f3a"
             ],
             [
              0.8888888888888888,
              "#fdca26"
             ],
             [
              1,
              "#f0f921"
             ]
            ],
            "type": "histogram2d"
           }
          ],
          "histogram2dcontour": [
           {
            "colorbar": {
             "outlinewidth": 0,
             "ticks": ""
            },
            "colorscale": [
             [
              0,
              "#0d0887"
             ],
             [
              0.1111111111111111,
              "#46039f"
             ],
             [
              0.2222222222222222,
              "#7201a8"
             ],
             [
              0.3333333333333333,
              "#9c179e"
             ],
             [
              0.4444444444444444,
              "#bd3786"
             ],
             [
              0.5555555555555556,
              "#d8576b"
             ],
             [
              0.6666666666666666,
              "#ed7953"
             ],
             [
              0.7777777777777778,
              "#fb9f3a"
             ],
             [
              0.8888888888888888,
              "#fdca26"
             ],
             [
              1,
              "#f0f921"
             ]
            ],
            "type": "histogram2dcontour"
           }
          ],
          "mesh3d": [
           {
            "colorbar": {
             "outlinewidth": 0,
             "ticks": ""
            },
            "type": "mesh3d"
           }
          ],
          "parcoords": [
           {
            "line": {
             "colorbar": {
              "outlinewidth": 0,
              "ticks": ""
             }
            },
            "type": "parcoords"
           }
          ],
          "pie": [
           {
            "automargin": true,
            "type": "pie"
           }
          ],
          "scatter": [
           {
            "fillpattern": {
             "fillmode": "overlay",
             "size": 10,
             "solidity": 0.2
            },
            "type": "scatter"
           }
          ],
          "scatter3d": [
           {
            "line": {
             "colorbar": {
              "outlinewidth": 0,
              "ticks": ""
             }
            },
            "marker": {
             "colorbar": {
              "outlinewidth": 0,
              "ticks": ""
             }
            },
            "type": "scatter3d"
           }
          ],
          "scattercarpet": [
           {
            "marker": {
             "colorbar": {
              "outlinewidth": 0,
              "ticks": ""
             }
            },
            "type": "scattercarpet"
           }
          ],
          "scattergeo": [
           {
            "marker": {
             "colorbar": {
              "outlinewidth": 0,
              "ticks": ""
             }
            },
            "type": "scattergeo"
           }
          ],
          "scattergl": [
           {
            "marker": {
             "colorbar": {
              "outlinewidth": 0,
              "ticks": ""
             }
            },
            "type": "scattergl"
           }
          ],
          "scattermapbox": [
           {
            "marker": {
             "colorbar": {
              "outlinewidth": 0,
              "ticks": ""
             }
            },
            "type": "scattermapbox"
           }
          ],
          "scatterpolar": [
           {
            "marker": {
             "colorbar": {
              "outlinewidth": 0,
              "ticks": ""
             }
            },
            "type": "scatterpolar"
           }
          ],
          "scatterpolargl": [
           {
            "marker": {
             "colorbar": {
              "outlinewidth": 0,
              "ticks": ""
             }
            },
            "type": "scatterpolargl"
           }
          ],
          "scatterternary": [
           {
            "marker": {
             "colorbar": {
              "outlinewidth": 0,
              "ticks": ""
             }
            },
            "type": "scatterternary"
           }
          ],
          "surface": [
           {
            "colorbar": {
             "outlinewidth": 0,
             "ticks": ""
            },
            "colorscale": [
             [
              0,
              "#0d0887"
             ],
             [
              0.1111111111111111,
              "#46039f"
             ],
             [
              0.2222222222222222,
              "#7201a8"
             ],
             [
              0.3333333333333333,
              "#9c179e"
             ],
             [
              0.4444444444444444,
              "#bd3786"
             ],
             [
              0.5555555555555556,
              "#d8576b"
             ],
             [
              0.6666666666666666,
              "#ed7953"
             ],
             [
              0.7777777777777778,
              "#fb9f3a"
             ],
             [
              0.8888888888888888,
              "#fdca26"
             ],
             [
              1,
              "#f0f921"
             ]
            ],
            "type": "surface"
           }
          ],
          "table": [
           {
            "cells": {
             "fill": {
              "color": "#EBF0F8"
             },
             "line": {
              "color": "white"
             }
            },
            "header": {
             "fill": {
              "color": "#C8D4E3"
             },
             "line": {
              "color": "white"
             }
            },
            "type": "table"
           }
          ]
         },
         "layout": {
          "annotationdefaults": {
           "arrowcolor": "#2a3f5f",
           "arrowhead": 0,
           "arrowwidth": 1
          },
          "autotypenumbers": "strict",
          "coloraxis": {
           "colorbar": {
            "outlinewidth": 0,
            "ticks": ""
           }
          },
          "colorscale": {
           "diverging": [
            [
             0,
             "#8e0152"
            ],
            [
             0.1,
             "#c51b7d"
            ],
            [
             0.2,
             "#de77ae"
            ],
            [
             0.3,
             "#f1b6da"
            ],
            [
             0.4,
             "#fde0ef"
            ],
            [
             0.5,
             "#f7f7f7"
            ],
            [
             0.6,
             "#e6f5d0"
            ],
            [
             0.7,
             "#b8e186"
            ],
            [
             0.8,
             "#7fbc41"
            ],
            [
             0.9,
             "#4d9221"
            ],
            [
             1,
             "#276419"
            ]
           ],
           "sequential": [
            [
             0,
             "#0d0887"
            ],
            [
             0.1111111111111111,
             "#46039f"
            ],
            [
             0.2222222222222222,
             "#7201a8"
            ],
            [
             0.3333333333333333,
             "#9c179e"
            ],
            [
             0.4444444444444444,
             "#bd3786"
            ],
            [
             0.5555555555555556,
             "#d8576b"
            ],
            [
             0.6666666666666666,
             "#ed7953"
            ],
            [
             0.7777777777777778,
             "#fb9f3a"
            ],
            [
             0.8888888888888888,
             "#fdca26"
            ],
            [
             1,
             "#f0f921"
            ]
           ],
           "sequentialminus": [
            [
             0,
             "#0d0887"
            ],
            [
             0.1111111111111111,
             "#46039f"
            ],
            [
             0.2222222222222222,
             "#7201a8"
            ],
            [
             0.3333333333333333,
             "#9c179e"
            ],
            [
             0.4444444444444444,
             "#bd3786"
            ],
            [
             0.5555555555555556,
             "#d8576b"
            ],
            [
             0.6666666666666666,
             "#ed7953"
            ],
            [
             0.7777777777777778,
             "#fb9f3a"
            ],
            [
             0.8888888888888888,
             "#fdca26"
            ],
            [
             1,
             "#f0f921"
            ]
           ]
          },
          "colorway": [
           "#636efa",
           "#EF553B",
           "#00cc96",
           "#ab63fa",
           "#FFA15A",
           "#19d3f3",
           "#FF6692",
           "#B6E880",
           "#FF97FF",
           "#FECB52"
          ],
          "font": {
           "color": "#2a3f5f"
          },
          "geo": {
           "bgcolor": "white",
           "lakecolor": "white",
           "landcolor": "#E5ECF6",
           "showlakes": true,
           "showland": true,
           "subunitcolor": "white"
          },
          "hoverlabel": {
           "align": "left"
          },
          "hovermode": "closest",
          "mapbox": {
           "style": "light"
          },
          "paper_bgcolor": "white",
          "plot_bgcolor": "#E5ECF6",
          "polar": {
           "angularaxis": {
            "gridcolor": "white",
            "linecolor": "white",
            "ticks": ""
           },
           "bgcolor": "#E5ECF6",
           "radialaxis": {
            "gridcolor": "white",
            "linecolor": "white",
            "ticks": ""
           }
          },
          "scene": {
           "xaxis": {
            "backgroundcolor": "#E5ECF6",
            "gridcolor": "white",
            "gridwidth": 2,
            "linecolor": "white",
            "showbackground": true,
            "ticks": "",
            "zerolinecolor": "white"
           },
           "yaxis": {
            "backgroundcolor": "#E5ECF6",
            "gridcolor": "white",
            "gridwidth": 2,
            "linecolor": "white",
            "showbackground": true,
            "ticks": "",
            "zerolinecolor": "white"
           },
           "zaxis": {
            "backgroundcolor": "#E5ECF6",
            "gridcolor": "white",
            "gridwidth": 2,
            "linecolor": "white",
            "showbackground": true,
            "ticks": "",
            "zerolinecolor": "white"
           }
          },
          "shapedefaults": {
           "line": {
            "color": "#2a3f5f"
           }
          },
          "ternary": {
           "aaxis": {
            "gridcolor": "white",
            "linecolor": "white",
            "ticks": ""
           },
           "baxis": {
            "gridcolor": "white",
            "linecolor": "white",
            "ticks": ""
           },
           "bgcolor": "#E5ECF6",
           "caxis": {
            "gridcolor": "white",
            "linecolor": "white",
            "ticks": ""
           }
          },
          "title": {
           "x": 0.05
          },
          "xaxis": {
           "automargin": true,
           "gridcolor": "white",
           "linecolor": "white",
           "ticks": "",
           "title": {
            "standoff": 15
           },
           "zerolinecolor": "white",
           "zerolinewidth": 2
          },
          "yaxis": {
           "automargin": true,
           "gridcolor": "white",
           "linecolor": "white",
           "ticks": "",
           "title": {
            "standoff": 15
           },
           "zerolinecolor": "white",
           "zerolinewidth": 2
          }
         }
        },
        "title": {
         "text": "Voter Turnout by Party and Region"
        },
        "xaxis": {
         "anchor": "y",
         "categoryorder": "total descending",
         "domain": [
          0,
          1
         ],
         "title": {
          "text": "Political Parties"
         }
        },
        "yaxis": {
         "anchor": "x",
         "domain": [
          0,
          1
         ],
         "title": {
          "text": "Voter Turnout"
         }
        }
       }
      }
     },
     "metadata": {},
     "output_type": "display_data"
    }
   ],
   "source": [
    "fig = px.bar(df_long, x='Party', y='Votes', color='region', barmode='group',\n",
    "             labels={'Votes': 'Total Votes'}, title='Voter Turnout by Party and Region')\n",
    "\n",
    "# Customize the layout\n",
    "fig.update_layout(\n",
    "    xaxis_title=\"Political Parties\",\n",
    "    yaxis_title=\"Voter Turnout\",\n",
    "    legend_title=\"Regions\",\n",
    "    xaxis={'categoryorder':'total descending'}\n",
    ")\n",
    "\n",
    "# Show the plot\n",
    "fig.show()\n"
   ]
  },
  {
   "cell_type": "code",
   "execution_count": 16,
   "metadata": {},
   "outputs": [
    {
     "data": {
      "application/vnd.plotly.v1+json": {
       "config": {
        "plotlyServerURL": "https://plot.ly"
       },
       "data": [
        {
         "name": "c11PopulationDensity %",
         "orientation": "h",
         "type": "bar",
         "x": [
          "c11PopulationDensity"
         ],
         "y": [
          3.7513947260494263
         ]
        },
        {
         "name": "Non-c11PopulationDensity %",
         "orientation": "h",
         "type": "bar",
         "x": [
          "Non-c11PopulationDensity"
         ],
         "y": [
          96.24860527395057
         ]
        },
        {
         "name": "c11Female %",
         "orientation": "h",
         "type": "bar",
         "x": [
          "c11Female"
         ],
         "y": [
          51.23312113468314
         ]
        },
        {
         "name": "Non-c11Female %",
         "orientation": "h",
         "type": "bar",
         "x": [
          "Non-c11Female"
         ],
         "y": [
          48.76687886531686
         ]
        },
        {
         "name": "c11FulltimeStudent %",
         "orientation": "h",
         "type": "bar",
         "x": [
          "c11FulltimeStudent"
         ],
         "y": [
          6.230728117419726
         ]
        },
        {
         "name": "Non-c11FulltimeStudent %",
         "orientation": "h",
         "type": "bar",
         "x": [
          "Non-c11FulltimeStudent"
         ],
         "y": [
          93.76927188258027
         ]
        },
        {
         "name": "c11Retired %",
         "orientation": "h",
         "type": "bar",
         "x": [
          "c11Retired"
         ],
         "y": [
          16.66940755663364
         ]
        },
        {
         "name": "Non-c11Retired %",
         "orientation": "h",
         "type": "bar",
         "x": [
          "Non-c11Retired"
         ],
         "y": [
          83.33059244336636
         ]
        },
        {
         "name": "c11HouseOwned %",
         "orientation": "h",
         "type": "bar",
         "x": [
          "c11HouseOwned"
         ],
         "y": [
          66.83468094788057
         ]
        },
        {
         "name": "Non-c11HouseOwned %",
         "orientation": "h",
         "type": "bar",
         "x": [
          "Non-c11HouseOwned"
         ],
         "y": [
          33.16531905211943
         ]
        },
        {
         "name": "c11HouseholdMarried %",
         "orientation": "h",
         "type": "bar",
         "x": [
          "c11HouseholdMarried"
         ],
         "y": [
          32.63677412580069
         ]
        },
        {
         "name": "Non-c11HouseholdMarried %",
         "orientation": "h",
         "type": "bar",
         "x": [
          "Non-c11HouseholdMarried"
         ],
         "y": [
          67.36322587419932
         ]
        }
       ],
       "layout": {
        "barmode": "overlay",
        "template": {
         "data": {
          "bar": [
           {
            "error_x": {
             "color": "#2a3f5f"
            },
            "error_y": {
             "color": "#2a3f5f"
            },
            "marker": {
             "line": {
              "color": "#E5ECF6",
              "width": 0.5
             },
             "pattern": {
              "fillmode": "overlay",
              "size": 10,
              "solidity": 0.2
             }
            },
            "type": "bar"
           }
          ],
          "barpolar": [
           {
            "marker": {
             "line": {
              "color": "#E5ECF6",
              "width": 0.5
             },
             "pattern": {
              "fillmode": "overlay",
              "size": 10,
              "solidity": 0.2
             }
            },
            "type": "barpolar"
           }
          ],
          "carpet": [
           {
            "aaxis": {
             "endlinecolor": "#2a3f5f",
             "gridcolor": "white",
             "linecolor": "white",
             "minorgridcolor": "white",
             "startlinecolor": "#2a3f5f"
            },
            "baxis": {
             "endlinecolor": "#2a3f5f",
             "gridcolor": "white",
             "linecolor": "white",
             "minorgridcolor": "white",
             "startlinecolor": "#2a3f5f"
            },
            "type": "carpet"
           }
          ],
          "choropleth": [
           {
            "colorbar": {
             "outlinewidth": 0,
             "ticks": ""
            },
            "type": "choropleth"
           }
          ],
          "contour": [
           {
            "colorbar": {
             "outlinewidth": 0,
             "ticks": ""
            },
            "colorscale": [
             [
              0,
              "#0d0887"
             ],
             [
              0.1111111111111111,
              "#46039f"
             ],
             [
              0.2222222222222222,
              "#7201a8"
             ],
             [
              0.3333333333333333,
              "#9c179e"
             ],
             [
              0.4444444444444444,
              "#bd3786"
             ],
             [
              0.5555555555555556,
              "#d8576b"
             ],
             [
              0.6666666666666666,
              "#ed7953"
             ],
             [
              0.7777777777777778,
              "#fb9f3a"
             ],
             [
              0.8888888888888888,
              "#fdca26"
             ],
             [
              1,
              "#f0f921"
             ]
            ],
            "type": "contour"
           }
          ],
          "contourcarpet": [
           {
            "colorbar": {
             "outlinewidth": 0,
             "ticks": ""
            },
            "type": "contourcarpet"
           }
          ],
          "heatmap": [
           {
            "colorbar": {
             "outlinewidth": 0,
             "ticks": ""
            },
            "colorscale": [
             [
              0,
              "#0d0887"
             ],
             [
              0.1111111111111111,
              "#46039f"
             ],
             [
              0.2222222222222222,
              "#7201a8"
             ],
             [
              0.3333333333333333,
              "#9c179e"
             ],
             [
              0.4444444444444444,
              "#bd3786"
             ],
             [
              0.5555555555555556,
              "#d8576b"
             ],
             [
              0.6666666666666666,
              "#ed7953"
             ],
             [
              0.7777777777777778,
              "#fb9f3a"
             ],
             [
              0.8888888888888888,
              "#fdca26"
             ],
             [
              1,
              "#f0f921"
             ]
            ],
            "type": "heatmap"
           }
          ],
          "heatmapgl": [
           {
            "colorbar": {
             "outlinewidth": 0,
             "ticks": ""
            },
            "colorscale": [
             [
              0,
              "#0d0887"
             ],
             [
              0.1111111111111111,
              "#46039f"
             ],
             [
              0.2222222222222222,
              "#7201a8"
             ],
             [
              0.3333333333333333,
              "#9c179e"
             ],
             [
              0.4444444444444444,
              "#bd3786"
             ],
             [
              0.5555555555555556,
              "#d8576b"
             ],
             [
              0.6666666666666666,
              "#ed7953"
             ],
             [
              0.7777777777777778,
              "#fb9f3a"
             ],
             [
              0.8888888888888888,
              "#fdca26"
             ],
             [
              1,
              "#f0f921"
             ]
            ],
            "type": "heatmapgl"
           }
          ],
          "histogram": [
           {
            "marker": {
             "pattern": {
              "fillmode": "overlay",
              "size": 10,
              "solidity": 0.2
             }
            },
            "type": "histogram"
           }
          ],
          "histogram2d": [
           {
            "colorbar": {
             "outlinewidth": 0,
             "ticks": ""
            },
            "colorscale": [
             [
              0,
              "#0d0887"
             ],
             [
              0.1111111111111111,
              "#46039f"
             ],
             [
              0.2222222222222222,
              "#7201a8"
             ],
             [
              0.3333333333333333,
              "#9c179e"
             ],
             [
              0.4444444444444444,
              "#bd3786"
             ],
             [
              0.5555555555555556,
              "#d8576b"
             ],
             [
              0.6666666666666666,
              "#ed7953"
             ],
             [
              0.7777777777777778,
              "#fb9f3a"
             ],
             [
              0.8888888888888888,
              "#fdca26"
             ],
             [
              1,
              "#f0f921"
             ]
            ],
            "type": "histogram2d"
           }
          ],
          "histogram2dcontour": [
           {
            "colorbar": {
             "outlinewidth": 0,
             "ticks": ""
            },
            "colorscale": [
             [
              0,
              "#0d0887"
             ],
             [
              0.1111111111111111,
              "#46039f"
             ],
             [
              0.2222222222222222,
              "#7201a8"
             ],
             [
              0.3333333333333333,
              "#9c179e"
             ],
             [
              0.4444444444444444,
              "#bd3786"
             ],
             [
              0.5555555555555556,
              "#d8576b"
             ],
             [
              0.6666666666666666,
              "#ed7953"
             ],
             [
              0.7777777777777778,
              "#fb9f3a"
             ],
             [
              0.8888888888888888,
              "#fdca26"
             ],
             [
              1,
              "#f0f921"
             ]
            ],
            "type": "histogram2dcontour"
           }
          ],
          "mesh3d": [
           {
            "colorbar": {
             "outlinewidth": 0,
             "ticks": ""
            },
            "type": "mesh3d"
           }
          ],
          "parcoords": [
           {
            "line": {
             "colorbar": {
              "outlinewidth": 0,
              "ticks": ""
             }
            },
            "type": "parcoords"
           }
          ],
          "pie": [
           {
            "automargin": true,
            "type": "pie"
           }
          ],
          "scatter": [
           {
            "fillpattern": {
             "fillmode": "overlay",
             "size": 10,
             "solidity": 0.2
            },
            "type": "scatter"
           }
          ],
          "scatter3d": [
           {
            "line": {
             "colorbar": {
              "outlinewidth": 0,
              "ticks": ""
             }
            },
            "marker": {
             "colorbar": {
              "outlinewidth": 0,
              "ticks": ""
             }
            },
            "type": "scatter3d"
           }
          ],
          "scattercarpet": [
           {
            "marker": {
             "colorbar": {
              "outlinewidth": 0,
              "ticks": ""
             }
            },
            "type": "scattercarpet"
           }
          ],
          "scattergeo": [
           {
            "marker": {
             "colorbar": {
              "outlinewidth": 0,
              "ticks": ""
             }
            },
            "type": "scattergeo"
           }
          ],
          "scattergl": [
           {
            "marker": {
             "colorbar": {
              "outlinewidth": 0,
              "ticks": ""
             }
            },
            "type": "scattergl"
           }
          ],
          "scattermapbox": [
           {
            "marker": {
             "colorbar": {
              "outlinewidth": 0,
              "ticks": ""
             }
            },
            "type": "scattermapbox"
           }
          ],
          "scatterpolar": [
           {
            "marker": {
             "colorbar": {
              "outlinewidth": 0,
              "ticks": ""
             }
            },
            "type": "scatterpolar"
           }
          ],
          "scatterpolargl": [
           {
            "marker": {
             "colorbar": {
              "outlinewidth": 0,
              "ticks": ""
             }
            },
            "type": "scatterpolargl"
           }
          ],
          "scatterternary": [
           {
            "marker": {
             "colorbar": {
              "outlinewidth": 0,
              "ticks": ""
             }
            },
            "type": "scatterternary"
           }
          ],
          "surface": [
           {
            "colorbar": {
             "outlinewidth": 0,
             "ticks": ""
            },
            "colorscale": [
             [
              0,
              "#0d0887"
             ],
             [
              0.1111111111111111,
              "#46039f"
             ],
             [
              0.2222222222222222,
              "#7201a8"
             ],
             [
              0.3333333333333333,
              "#9c179e"
             ],
             [
              0.4444444444444444,
              "#bd3786"
             ],
             [
              0.5555555555555556,
              "#d8576b"
             ],
             [
              0.6666666666666666,
              "#ed7953"
             ],
             [
              0.7777777777777778,
              "#fb9f3a"
             ],
             [
              0.8888888888888888,
              "#fdca26"
             ],
             [
              1,
              "#f0f921"
             ]
            ],
            "type": "surface"
           }
          ],
          "table": [
           {
            "cells": {
             "fill": {
              "color": "#EBF0F8"
             },
             "line": {
              "color": "white"
             }
            },
            "header": {
             "fill": {
              "color": "#C8D4E3"
             },
             "line": {
              "color": "white"
             }
            },
            "type": "table"
           }
          ]
         },
         "layout": {
          "annotationdefaults": {
           "arrowcolor": "#2a3f5f",
           "arrowhead": 0,
           "arrowwidth": 1
          },
          "autotypenumbers": "strict",
          "coloraxis": {
           "colorbar": {
            "outlinewidth": 0,
            "ticks": ""
           }
          },
          "colorscale": {
           "diverging": [
            [
             0,
             "#8e0152"
            ],
            [
             0.1,
             "#c51b7d"
            ],
            [
             0.2,
             "#de77ae"
            ],
            [
             0.3,
             "#f1b6da"
            ],
            [
             0.4,
             "#fde0ef"
            ],
            [
             0.5,
             "#f7f7f7"
            ],
            [
             0.6,
             "#e6f5d0"
            ],
            [
             0.7,
             "#b8e186"
            ],
            [
             0.8,
             "#7fbc41"
            ],
            [
             0.9,
             "#4d9221"
            ],
            [
             1,
             "#276419"
            ]
           ],
           "sequential": [
            [
             0,
             "#0d0887"
            ],
            [
             0.1111111111111111,
             "#46039f"
            ],
            [
             0.2222222222222222,
             "#7201a8"
            ],
            [
             0.3333333333333333,
             "#9c179e"
            ],
            [
             0.4444444444444444,
             "#bd3786"
            ],
            [
             0.5555555555555556,
             "#d8576b"
            ],
            [
             0.6666666666666666,
             "#ed7953"
            ],
            [
             0.7777777777777778,
             "#fb9f3a"
            ],
            [
             0.8888888888888888,
             "#fdca26"
            ],
            [
             1,
             "#f0f921"
            ]
           ],
           "sequentialminus": [
            [
             0,
             "#0d0887"
            ],
            [
             0.1111111111111111,
             "#46039f"
            ],
            [
             0.2222222222222222,
             "#7201a8"
            ],
            [
             0.3333333333333333,
             "#9c179e"
            ],
            [
             0.4444444444444444,
             "#bd3786"
            ],
            [
             0.5555555555555556,
             "#d8576b"
            ],
            [
             0.6666666666666666,
             "#ed7953"
            ],
            [
             0.7777777777777778,
             "#fb9f3a"
            ],
            [
             0.8888888888888888,
             "#fdca26"
            ],
            [
             1,
             "#f0f921"
            ]
           ]
          },
          "colorway": [
           "#636efa",
           "#EF553B",
           "#00cc96",
           "#ab63fa",
           "#FFA15A",
           "#19d3f3",
           "#FF6692",
           "#B6E880",
           "#FF97FF",
           "#FECB52"
          ],
          "font": {
           "color": "#2a3f5f"
          },
          "geo": {
           "bgcolor": "white",
           "lakecolor": "white",
           "landcolor": "#E5ECF6",
           "showlakes": true,
           "showland": true,
           "subunitcolor": "white"
          },
          "hoverlabel": {
           "align": "left"
          },
          "hovermode": "closest",
          "mapbox": {
           "style": "light"
          },
          "paper_bgcolor": "white",
          "plot_bgcolor": "#E5ECF6",
          "polar": {
           "angularaxis": {
            "gridcolor": "white",
            "linecolor": "white",
            "ticks": ""
           },
           "bgcolor": "#E5ECF6",
           "radialaxis": {
            "gridcolor": "white",
            "linecolor": "white",
            "ticks": ""
           }
          },
          "scene": {
           "xaxis": {
            "backgroundcolor": "#E5ECF6",
            "gridcolor": "white",
            "gridwidth": 2,
            "linecolor": "white",
            "showbackground": true,
            "ticks": "",
            "zerolinecolor": "white"
           },
           "yaxis": {
            "backgroundcolor": "#E5ECF6",
            "gridcolor": "white",
            "gridwidth": 2,
            "linecolor": "white",
            "showbackground": true,
            "ticks": "",
            "zerolinecolor": "white"
           },
           "zaxis": {
            "backgroundcolor": "#E5ECF6",
            "gridcolor": "white",
            "gridwidth": 2,
            "linecolor": "white",
            "showbackground": true,
            "ticks": "",
            "zerolinecolor": "white"
           }
          },
          "shapedefaults": {
           "line": {
            "color": "#2a3f5f"
           }
          },
          "ternary": {
           "aaxis": {
            "gridcolor": "white",
            "linecolor": "white",
            "ticks": ""
           },
           "baxis": {
            "gridcolor": "white",
            "linecolor": "white",
            "ticks": ""
           },
           "bgcolor": "#E5ECF6",
           "caxis": {
            "gridcolor": "white",
            "linecolor": "white",
            "ticks": ""
           }
          },
          "title": {
           "x": 0.05
          },
          "xaxis": {
           "automargin": true,
           "gridcolor": "white",
           "linecolor": "white",
           "ticks": "",
           "title": {
            "standoff": 15
           },
           "zerolinecolor": "white",
           "zerolinewidth": 2
          },
          "yaxis": {
           "automargin": true,
           "gridcolor": "white",
           "linecolor": "white",
           "ticks": "",
           "title": {
            "standoff": 15
           },
           "zerolinecolor": "white",
           "zerolinewidth": 2
          }
         }
        },
        "title": {
         "text": "Demographic Profiles for Wales"
        },
        "xaxis": {
         "title": {
          "text": "Demographic Categories"
         }
        },
        "yaxis": {
         "range": [
          0,
          100
         ],
         "title": {
          "text": "Percentage"
         }
        }
       }
      }
     },
     "metadata": {},
     "output_type": "display_data"
    }
   ],
   "source": [
    "import pandas as pd\n",
    "import plotly.graph_objects as go\n",
    "\n",
    "# Load the dataset\n",
    "file_path = '/Users/miriam/Documents/GitHub/dsa_hw4/uk_data_202405051509.csv'\n",
    "df = pd.read_csv(file_path)\n",
    "\n",
    "# Example region to visualize\n",
    "selected_region = 'Wales'  # Replace with a real region name from your dataset\n",
    "\n",
    "# Check if the selected region exists in the data\n",
    "if selected_region not in df['region'].values:\n",
    "    print(f\"No data available for {selected_region}\")\n",
    "else:\n",
    "    # Filter data for the selected region\n",
    "    region_data = df[df['region'] == selected_region].iloc[0]\n",
    "\n",
    "    # Identify the last six columns for demographic data\n",
    "    last_six_columns = df.columns[-6:]\n",
    "\n",
    "    # Create the two-way bar plot\n",
    "    fig = go.Figure()\n",
    "    for col in last_six_columns:\n",
    "        primary_value = region_data[col]\n",
    "        complementary_value = 100 - primary_value  # Assuming the data are percentages\n",
    "\n",
    "        # Adding primary demographic data\n",
    "        fig.add_trace(go.Bar(\n",
    "            x=[col],\n",
    "            y=[primary_value],\n",
    "            name=f'{col} %',\n",
    "            orientation='h'\n",
    "        ))\n",
    "\n",
    "        # Adding complementary demographic data\n",
    "        fig.add_trace(go.Bar(\n",
    "            x=[f'Non-{col}'],\n",
    "            y=[complementary_value],\n",
    "            name=f'Non-{col} %',\n",
    "            orientation='h'\n",
    "        ))\n",
    "\n",
    "    # Update the plot layout\n",
    "    fig.update_layout(\n",
    "        title=f'Demographic Profiles for {selected_region}',\n",
    "        barmode='overlay',  # Use 'group' if you prefer separated bars\n",
    "        xaxis_title='Demographic Categories',\n",
    "        yaxis=dict(title='Percentage', range=[0, 100])\n",
    "    )\n",
    "\n",
    "    # Display the plot\n",
    "    fig.show()\n"
   ]
  },
  {
   "cell_type": "code",
   "execution_count": 19,
   "metadata": {},
   "outputs": [
    {
     "data": {
      "application/vnd.plotly.v1+json": {
       "config": {
        "plotlyServerURL": "https://plot.ly"
       },
       "data": [
        {
         "insidetextanchor": "start",
         "marker": {
          "color": "blue"
         },
         "name": "c11Female",
         "orientation": "h",
         "text": "51.23312113468314%",
         "textposition": "inside",
         "type": "bar",
         "x": [
          51.23312113468314
         ],
         "y": [
          "c11Female"
         ]
        },
        {
         "insidetextanchor": "end",
         "marker": {
          "color": "red"
         },
         "name": "Non-c11Female",
         "orientation": "h",
         "text": "48.76687886531686%",
         "textposition": "inside",
         "type": "bar",
         "x": [
          -48.76687886531686
         ],
         "y": [
          "c11Female"
         ]
        },
        {
         "insidetextanchor": "start",
         "marker": {
          "color": "blue"
         },
         "name": "c11FulltimeStudent",
         "orientation": "h",
         "text": "6.230728117419726%",
         "textposition": "inside",
         "type": "bar",
         "x": [
          6.230728117419726
         ],
         "y": [
          "c11FulltimeStudent"
         ]
        },
        {
         "insidetextanchor": "end",
         "marker": {
          "color": "red"
         },
         "name": "Non-c11FulltimeStudent",
         "orientation": "h",
         "text": "93.76927188258027%",
         "textposition": "inside",
         "type": "bar",
         "x": [
          -93.76927188258027
         ],
         "y": [
          "c11FulltimeStudent"
         ]
        },
        {
         "insidetextanchor": "start",
         "marker": {
          "color": "blue"
         },
         "name": "c11Retired",
         "orientation": "h",
         "text": "16.66940755663364%",
         "textposition": "inside",
         "type": "bar",
         "x": [
          16.66940755663364
         ],
         "y": [
          "c11Retired"
         ]
        },
        {
         "insidetextanchor": "end",
         "marker": {
          "color": "red"
         },
         "name": "Non-c11Retired",
         "orientation": "h",
         "text": "83.33059244336636%",
         "textposition": "inside",
         "type": "bar",
         "x": [
          -83.33059244336636
         ],
         "y": [
          "c11Retired"
         ]
        },
        {
         "insidetextanchor": "start",
         "marker": {
          "color": "blue"
         },
         "name": "c11HouseOwned",
         "orientation": "h",
         "text": "66.83468094788057%",
         "textposition": "inside",
         "type": "bar",
         "x": [
          66.83468094788057
         ],
         "y": [
          "c11HouseOwned"
         ]
        },
        {
         "insidetextanchor": "end",
         "marker": {
          "color": "red"
         },
         "name": "Non-c11HouseOwned",
         "orientation": "h",
         "text": "33.16531905211943%",
         "textposition": "inside",
         "type": "bar",
         "x": [
          -33.16531905211943
         ],
         "y": [
          "c11HouseOwned"
         ]
        },
        {
         "insidetextanchor": "start",
         "marker": {
          "color": "blue"
         },
         "name": "c11HouseholdMarried",
         "orientation": "h",
         "text": "32.63677412580069%",
         "textposition": "inside",
         "type": "bar",
         "x": [
          32.63677412580069
         ],
         "y": [
          "c11HouseholdMarried"
         ]
        },
        {
         "insidetextanchor": "end",
         "marker": {
          "color": "red"
         },
         "name": "Non-c11HouseholdMarried",
         "orientation": "h",
         "text": "67.36322587419932%",
         "textposition": "inside",
         "type": "bar",
         "x": [
          -67.36322587419932
         ],
         "y": [
          "c11HouseholdMarried"
         ]
        }
       ],
       "layout": {
        "barmode": "overlay",
        "template": {
         "data": {
          "bar": [
           {
            "error_x": {
             "color": "#2a3f5f"
            },
            "error_y": {
             "color": "#2a3f5f"
            },
            "marker": {
             "line": {
              "color": "#E5ECF6",
              "width": 0.5
             },
             "pattern": {
              "fillmode": "overlay",
              "size": 10,
              "solidity": 0.2
             }
            },
            "type": "bar"
           }
          ],
          "barpolar": [
           {
            "marker": {
             "line": {
              "color": "#E5ECF6",
              "width": 0.5
             },
             "pattern": {
              "fillmode": "overlay",
              "size": 10,
              "solidity": 0.2
             }
            },
            "type": "barpolar"
           }
          ],
          "carpet": [
           {
            "aaxis": {
             "endlinecolor": "#2a3f5f",
             "gridcolor": "white",
             "linecolor": "white",
             "minorgridcolor": "white",
             "startlinecolor": "#2a3f5f"
            },
            "baxis": {
             "endlinecolor": "#2a3f5f",
             "gridcolor": "white",
             "linecolor": "white",
             "minorgridcolor": "white",
             "startlinecolor": "#2a3f5f"
            },
            "type": "carpet"
           }
          ],
          "choropleth": [
           {
            "colorbar": {
             "outlinewidth": 0,
             "ticks": ""
            },
            "type": "choropleth"
           }
          ],
          "contour": [
           {
            "colorbar": {
             "outlinewidth": 0,
             "ticks": ""
            },
            "colorscale": [
             [
              0,
              "#0d0887"
             ],
             [
              0.1111111111111111,
              "#46039f"
             ],
             [
              0.2222222222222222,
              "#7201a8"
             ],
             [
              0.3333333333333333,
              "#9c179e"
             ],
             [
              0.4444444444444444,
              "#bd3786"
             ],
             [
              0.5555555555555556,
              "#d8576b"
             ],
             [
              0.6666666666666666,
              "#ed7953"
             ],
             [
              0.7777777777777778,
              "#fb9f3a"
             ],
             [
              0.8888888888888888,
              "#fdca26"
             ],
             [
              1,
              "#f0f921"
             ]
            ],
            "type": "contour"
           }
          ],
          "contourcarpet": [
           {
            "colorbar": {
             "outlinewidth": 0,
             "ticks": ""
            },
            "type": "contourcarpet"
           }
          ],
          "heatmap": [
           {
            "colorbar": {
             "outlinewidth": 0,
             "ticks": ""
            },
            "colorscale": [
             [
              0,
              "#0d0887"
             ],
             [
              0.1111111111111111,
              "#46039f"
             ],
             [
              0.2222222222222222,
              "#7201a8"
             ],
             [
              0.3333333333333333,
              "#9c179e"
             ],
             [
              0.4444444444444444,
              "#bd3786"
             ],
             [
              0.5555555555555556,
              "#d8576b"
             ],
             [
              0.6666666666666666,
              "#ed7953"
             ],
             [
              0.7777777777777778,
              "#fb9f3a"
             ],
             [
              0.8888888888888888,
              "#fdca26"
             ],
             [
              1,
              "#f0f921"
             ]
            ],
            "type": "heatmap"
           }
          ],
          "heatmapgl": [
           {
            "colorbar": {
             "outlinewidth": 0,
             "ticks": ""
            },
            "colorscale": [
             [
              0,
              "#0d0887"
             ],
             [
              0.1111111111111111,
              "#46039f"
             ],
             [
              0.2222222222222222,
              "#7201a8"
             ],
             [
              0.3333333333333333,
              "#9c179e"
             ],
             [
              0.4444444444444444,
              "#bd3786"
             ],
             [
              0.5555555555555556,
              "#d8576b"
             ],
             [
              0.6666666666666666,
              "#ed7953"
             ],
             [
              0.7777777777777778,
              "#fb9f3a"
             ],
             [
              0.8888888888888888,
              "#fdca26"
             ],
             [
              1,
              "#f0f921"
             ]
            ],
            "type": "heatmapgl"
           }
          ],
          "histogram": [
           {
            "marker": {
             "pattern": {
              "fillmode": "overlay",
              "size": 10,
              "solidity": 0.2
             }
            },
            "type": "histogram"
           }
          ],
          "histogram2d": [
           {
            "colorbar": {
             "outlinewidth": 0,
             "ticks": ""
            },
            "colorscale": [
             [
              0,
              "#0d0887"
             ],
             [
              0.1111111111111111,
              "#46039f"
             ],
             [
              0.2222222222222222,
              "#7201a8"
             ],
             [
              0.3333333333333333,
              "#9c179e"
             ],
             [
              0.4444444444444444,
              "#bd3786"
             ],
             [
              0.5555555555555556,
              "#d8576b"
             ],
             [
              0.6666666666666666,
              "#ed7953"
             ],
             [
              0.7777777777777778,
              "#fb9f3a"
             ],
             [
              0.8888888888888888,
              "#fdca26"
             ],
             [
              1,
              "#f0f921"
             ]
            ],
            "type": "histogram2d"
           }
          ],
          "histogram2dcontour": [
           {
            "colorbar": {
             "outlinewidth": 0,
             "ticks": ""
            },
            "colorscale": [
             [
              0,
              "#0d0887"
             ],
             [
              0.1111111111111111,
              "#46039f"
             ],
             [
              0.2222222222222222,
              "#7201a8"
             ],
             [
              0.3333333333333333,
              "#9c179e"
             ],
             [
              0.4444444444444444,
              "#bd3786"
             ],
             [
              0.5555555555555556,
              "#d8576b"
             ],
             [
              0.6666666666666666,
              "#ed7953"
             ],
             [
              0.7777777777777778,
              "#fb9f3a"
             ],
             [
              0.8888888888888888,
              "#fdca26"
             ],
             [
              1,
              "#f0f921"
             ]
            ],
            "type": "histogram2dcontour"
           }
          ],
          "mesh3d": [
           {
            "colorbar": {
             "outlinewidth": 0,
             "ticks": ""
            },
            "type": "mesh3d"
           }
          ],
          "parcoords": [
           {
            "line": {
             "colorbar": {
              "outlinewidth": 0,
              "ticks": ""
             }
            },
            "type": "parcoords"
           }
          ],
          "pie": [
           {
            "automargin": true,
            "type": "pie"
           }
          ],
          "scatter": [
           {
            "fillpattern": {
             "fillmode": "overlay",
             "size": 10,
             "solidity": 0.2
            },
            "type": "scatter"
           }
          ],
          "scatter3d": [
           {
            "line": {
             "colorbar": {
              "outlinewidth": 0,
              "ticks": ""
             }
            },
            "marker": {
             "colorbar": {
              "outlinewidth": 0,
              "ticks": ""
             }
            },
            "type": "scatter3d"
           }
          ],
          "scattercarpet": [
           {
            "marker": {
             "colorbar": {
              "outlinewidth": 0,
              "ticks": ""
             }
            },
            "type": "scattercarpet"
           }
          ],
          "scattergeo": [
           {
            "marker": {
             "colorbar": {
              "outlinewidth": 0,
              "ticks": ""
             }
            },
            "type": "scattergeo"
           }
          ],
          "scattergl": [
           {
            "marker": {
             "colorbar": {
              "outlinewidth": 0,
              "ticks": ""
             }
            },
            "type": "scattergl"
           }
          ],
          "scattermapbox": [
           {
            "marker": {
             "colorbar": {
              "outlinewidth": 0,
              "ticks": ""
             }
            },
            "type": "scattermapbox"
           }
          ],
          "scatterpolar": [
           {
            "marker": {
             "colorbar": {
              "outlinewidth": 0,
              "ticks": ""
             }
            },
            "type": "scatterpolar"
           }
          ],
          "scatterpolargl": [
           {
            "marker": {
             "colorbar": {
              "outlinewidth": 0,
              "ticks": ""
             }
            },
            "type": "scatterpolargl"
           }
          ],
          "scatterternary": [
           {
            "marker": {
             "colorbar": {
              "outlinewidth": 0,
              "ticks": ""
             }
            },
            "type": "scatterternary"
           }
          ],
          "surface": [
           {
            "colorbar": {
             "outlinewidth": 0,
             "ticks": ""
            },
            "colorscale": [
             [
              0,
              "#0d0887"
             ],
             [
              0.1111111111111111,
              "#46039f"
             ],
             [
              0.2222222222222222,
              "#7201a8"
             ],
             [
              0.3333333333333333,
              "#9c179e"
             ],
             [
              0.4444444444444444,
              "#bd3786"
             ],
             [
              0.5555555555555556,
              "#d8576b"
             ],
             [
              0.6666666666666666,
              "#ed7953"
             ],
             [
              0.7777777777777778,
              "#fb9f3a"
             ],
             [
              0.8888888888888888,
              "#fdca26"
             ],
             [
              1,
              "#f0f921"
             ]
            ],
            "type": "surface"
           }
          ],
          "table": [
           {
            "cells": {
             "fill": {
              "color": "#EBF0F8"
             },
             "line": {
              "color": "white"
             }
            },
            "header": {
             "fill": {
              "color": "#C8D4E3"
             },
             "line": {
              "color": "white"
             }
            },
            "type": "table"
           }
          ]
         },
         "layout": {
          "annotationdefaults": {
           "arrowcolor": "#2a3f5f",
           "arrowhead": 0,
           "arrowwidth": 1
          },
          "autotypenumbers": "strict",
          "coloraxis": {
           "colorbar": {
            "outlinewidth": 0,
            "ticks": ""
           }
          },
          "colorscale": {
           "diverging": [
            [
             0,
             "#8e0152"
            ],
            [
             0.1,
             "#c51b7d"
            ],
            [
             0.2,
             "#de77ae"
            ],
            [
             0.3,
             "#f1b6da"
            ],
            [
             0.4,
             "#fde0ef"
            ],
            [
             0.5,
             "#f7f7f7"
            ],
            [
             0.6,
             "#e6f5d0"
            ],
            [
             0.7,
             "#b8e186"
            ],
            [
             0.8,
             "#7fbc41"
            ],
            [
             0.9,
             "#4d9221"
            ],
            [
             1,
             "#276419"
            ]
           ],
           "sequential": [
            [
             0,
             "#0d0887"
            ],
            [
             0.1111111111111111,
             "#46039f"
            ],
            [
             0.2222222222222222,
             "#7201a8"
            ],
            [
             0.3333333333333333,
             "#9c179e"
            ],
            [
             0.4444444444444444,
             "#bd3786"
            ],
            [
             0.5555555555555556,
             "#d8576b"
            ],
            [
             0.6666666666666666,
             "#ed7953"
            ],
            [
             0.7777777777777778,
             "#fb9f3a"
            ],
            [
             0.8888888888888888,
             "#fdca26"
            ],
            [
             1,
             "#f0f921"
            ]
           ],
           "sequentialminus": [
            [
             0,
             "#0d0887"
            ],
            [
             0.1111111111111111,
             "#46039f"
            ],
            [
             0.2222222222222222,
             "#7201a8"
            ],
            [
             0.3333333333333333,
             "#9c179e"
            ],
            [
             0.4444444444444444,
             "#bd3786"
            ],
            [
             0.5555555555555556,
             "#d8576b"
            ],
            [
             0.6666666666666666,
             "#ed7953"
            ],
            [
             0.7777777777777778,
             "#fb9f3a"
            ],
            [
             0.8888888888888888,
             "#fdca26"
            ],
            [
             1,
             "#f0f921"
            ]
           ]
          },
          "colorway": [
           "#636efa",
           "#EF553B",
           "#00cc96",
           "#ab63fa",
           "#FFA15A",
           "#19d3f3",
           "#FF6692",
           "#B6E880",
           "#FF97FF",
           "#FECB52"
          ],
          "font": {
           "color": "#2a3f5f"
          },
          "geo": {
           "bgcolor": "white",
           "lakecolor": "white",
           "landcolor": "#E5ECF6",
           "showlakes": true,
           "showland": true,
           "subunitcolor": "white"
          },
          "hoverlabel": {
           "align": "left"
          },
          "hovermode": "closest",
          "mapbox": {
           "style": "light"
          },
          "paper_bgcolor": "white",
          "plot_bgcolor": "#E5ECF6",
          "polar": {
           "angularaxis": {
            "gridcolor": "white",
            "linecolor": "white",
            "ticks": ""
           },
           "bgcolor": "#E5ECF6",
           "radialaxis": {
            "gridcolor": "white",
            "linecolor": "white",
            "ticks": ""
           }
          },
          "scene": {
           "xaxis": {
            "backgroundcolor": "#E5ECF6",
            "gridcolor": "white",
            "gridwidth": 2,
            "linecolor": "white",
            "showbackground": true,
            "ticks": "",
            "zerolinecolor": "white"
           },
           "yaxis": {
            "backgroundcolor": "#E5ECF6",
            "gridcolor": "white",
            "gridwidth": 2,
            "linecolor": "white",
            "showbackground": true,
            "ticks": "",
            "zerolinecolor": "white"
           },
           "zaxis": {
            "backgroundcolor": "#E5ECF6",
            "gridcolor": "white",
            "gridwidth": 2,
            "linecolor": "white",
            "showbackground": true,
            "ticks": "",
            "zerolinecolor": "white"
           }
          },
          "shapedefaults": {
           "line": {
            "color": "#2a3f5f"
           }
          },
          "ternary": {
           "aaxis": {
            "gridcolor": "white",
            "linecolor": "white",
            "ticks": ""
           },
           "baxis": {
            "gridcolor": "white",
            "linecolor": "white",
            "ticks": ""
           },
           "bgcolor": "#E5ECF6",
           "caxis": {
            "gridcolor": "white",
            "linecolor": "white",
            "ticks": ""
           }
          },
          "title": {
           "x": 0.05
          },
          "xaxis": {
           "automargin": true,
           "gridcolor": "white",
           "linecolor": "white",
           "ticks": "",
           "title": {
            "standoff": 15
           },
           "zerolinecolor": "white",
           "zerolinewidth": 2
          },
          "yaxis": {
           "automargin": true,
           "gridcolor": "white",
           "linecolor": "white",
           "ticks": "",
           "title": {
            "standoff": 15
           },
           "zerolinecolor": "white",
           "zerolinewidth": 2
          }
         }
        },
        "title": {
         "text": "Demographic Profile for Wales"
        },
        "xaxis": {
         "range": [
          -100,
          100
         ],
         "ticktext": [
          "100%",
          "50%",
          "0%",
          "50%",
          "100%"
         ],
         "tickvals": [
          -100,
          -50,
          0,
          50,
          100
         ],
         "title": {
          "text": "Percentage"
         }
        },
        "yaxis": {
         "title": {
          "text": "Demographic Categories"
         }
        }
       }
      }
     },
     "metadata": {},
     "output_type": "display_data"
    }
   ],
   "source": [
    "import pandas as pd\n",
    "import plotly.graph_objects as go\n",
    "\n",
    "# Load the dataset\n",
    "file_path = '/Users/miriam/Documents/GitHub/dsa_hw4/uk_data_202405051509.csv'\n",
    "df = pd.read_csv(file_path)\n",
    "\n",
    "# Example region to visualize\n",
    "selected_region = 'Wales'  # Replace with an actual region name from your dataset\n",
    "\n",
    "# Check if the selected region exists in the data\n",
    "if selected_region not in df['region'].values:\n",
    "    print(f\"No data available for {selected_region}\")\n",
    "else:\n",
    "    region_data = df[df['region'] == selected_region].iloc[0]\n",
    "\n",
    "    # Assume the last 6 columns are demographic data\n",
    "    demographic_columns = df.columns[-5:]\n",
    "\n",
    "    # Create a figure\n",
    "    fig = go.Figure()\n",
    "\n",
    "    for col in demographic_columns:\n",
    "        value = region_data[col]\n",
    "        complement = 100 - value  # Calculate the complement for each category\n",
    "\n",
    "        # Adding the demographic data as a positive bar\n",
    "        fig.add_trace(go.Bar(\n",
    "            y=[col],\n",
    "            x=[value],\n",
    "            orientation='h',\n",
    "            name=col,\n",
    "            text=str(value) + '%',  # Optionally add % sign\n",
    "            textposition='inside',\n",
    "            insidetextanchor='start',  # Text inside at start of the bar\n",
    "            marker=dict(color='blue')\n",
    "        ))\n",
    "\n",
    "        # Adding the complementary demographic data as a negative bar\n",
    "        fig.add_trace(go.Bar(\n",
    "            y=[col],\n",
    "            x=[-complement],\n",
    "            orientation='h',\n",
    "            name='Non-' + col,\n",
    "            text=str(complement) + '%',  # Optionally add % sign\n",
    "            textposition='inside',\n",
    "            insidetextanchor='end',  # Text inside at end of the bar\n",
    "            marker=dict(color='red')\n",
    "        ))\n",
    "\n",
    "    # Update the layout to suit the population pyramid style\n",
    "    fig.update_layout(\n",
    "        title=f'Demographic Profile for {selected_region}',\n",
    "        barmode='overlay',  # Overlaid bars to show both directions from the center\n",
    "        xaxis=dict(\n",
    "            title='Percentage',\n",
    "            range=[-100, 100],  # Set the range from -100 to 100 for symmetry\n",
    "            tickvals=[-100, -50, 0, 50, 100],\n",
    "            ticktext=['100%', '50%', '0%', '50%', '100%']  # Customize tick marks to show positive numbers\n",
    "        ),\n",
    "        yaxis=dict(title='Demographic Categories')\n",
    "    )\n",
    "\n",
    "    # Display the plot\n",
    "    fig.show()\n"
   ]
  }
 ],
 "metadata": {
  "kernelspec": {
   "display_name": "dsa",
   "language": "python",
   "name": "python3"
  },
  "language_info": {
   "codemirror_mode": {
    "name": "ipython",
    "version": 3
   },
   "file_extension": ".py",
   "mimetype": "text/x-python",
   "name": "python",
   "nbconvert_exporter": "python",
   "pygments_lexer": "ipython3",
   "version": "3.11.7"
  }
 },
 "nbformat": 4,
 "nbformat_minor": 2
}
